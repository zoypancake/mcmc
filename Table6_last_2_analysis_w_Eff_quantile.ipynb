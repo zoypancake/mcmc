{
 "cells": [
  {
   "cell_type": "code",
   "execution_count": 1,
   "metadata": {},
   "outputs": [
    {
     "data": {
      "text/html": [
       "<style>.container { width:100% !important; }</style>"
      ],
      "text/plain": [
       "<IPython.core.display.HTML object>"
      ]
     },
     "metadata": {},
     "output_type": "display_data"
    }
   ],
   "source": [
    "from IPython.core.display import display, HTML\n",
    "display(HTML(\"<style>.container { width:100% !important; }</style>\"))"
   ]
  },
  {
   "cell_type": "code",
   "execution_count": 2,
   "metadata": {},
   "outputs": [],
   "source": [
    "from tools import *\n",
    "import matplotlib.pyplot as plt\n",
    "import numpy as np\n",
    "import scipy.stats\n",
    "from scipy.stats import multivariate_normal\n",
    "from scipy.misc import derivative\n",
    "from scipy.linalg import fractional_matrix_power\n",
    "from scipy.stats import wishart\n",
    "from IPython.display import Latex\n",
    "import sys\n",
    "import time"
   ]
  },
  {
   "cell_type": "code",
   "execution_count": 3,
   "metadata": {},
   "outputs": [],
   "source": [
    "def Eff_quantile (Y,p):\n",
    "    rho0=0; n = len(Y); \n",
    "#     quantile = scipy.stats.norm.ppf(percent,loc=mu,scale=std)\n",
    "    quantile = np.quantile(Y,p)\n",
    "    x = np.where(Y<=quantile,1,0);Tint=np.var(x);\n",
    "    for irho in range(1,(n-10)):\n",
    "        rho = np.cov(x[0:n-irho], x[irho:n])[0,1]\n",
    "        if ((irho>10) & (rho+rho0<0)):\n",
    "            break;\n",
    "        Tint += rho*2;\n",
    "        rho0 = rho;\n",
    "#         print('lag:',irho,'|',rho,'sum',':')\n",
    "    return (p*(1-p)/Tint);"
   ]
  },
  {
   "cell_type": "code",
   "execution_count": 4,
   "metadata": {},
   "outputs": [],
   "source": [
    "def logtargetpdf(x, target, mu=0, sigma=1):\n",
    "    lnp = 0.0\n",
    "    if (target == 'Exp'):\n",
    "            lnp = -(x-mu)/sigma if (x>=mu) else -500\n",
    "    elif (target == 'Folded_Gaussian'):\n",
    "            lnp = -(x-mu)**2/(2*sigma**2) if (x>=mu) else -500\n",
    "    elif (target == 'N01_T2'):\n",
    "            lnp = -(x-mu)**2/(2*sigma**2)\n",
    "    elif (target == 'N01_Logistic'):\n",
    "            lnp = -(x-mu)**2/(2*sigma**2)\n",
    "    return (lnp)\n",
    "\n",
    "def transform_x(x,transform,mu=0,sigma=1):\n",
    "    y = 0.0\n",
    "    x = (x-mu)/sigma\n",
    "    if (transform == 'Exp(1)_CDF'):\n",
    "        y = np.exp(-x)\n",
    "    elif (transform == 't2_CDF'):\n",
    "        y = 1/2+x/np.sqrt(8+4*x**2)\n",
    "    elif (transform == 'logistic_CDF'):\n",
    "        y = 1/(1+np.exp(-x))\n",
    "    return y\n",
    "\n",
    "def transform_inverse(y,transform,mu=0,sigma=1):\n",
    "    x = 0.0\n",
    "    if (transform == 'Exp(1)_CDF'):\n",
    "        x = -np.log(y)\n",
    "    elif (transform == 't2_CDF'):\n",
    "        x = (2*y-1)/np.sqrt(2*y*(1-y))\n",
    "    elif (transform == 'logistic_CDF'):\n",
    "        x = -np.log(1/y-1)\n",
    "    x = x * sigma + mu\n",
    "    return x\n",
    "\n",
    "def log_proposal_ratio(x,transform,burnin_off,kernel,mu=0,sigma=1):\n",
    "    ratio = 0.0\n",
    "    if ('Trans' in kernel)&burnin_off:\n",
    "        x = (x-mu)/sigma\n",
    "        if (transform == 'Exp(1)_CDF'):\n",
    "            ratio = -x\n",
    "        elif (transform == 't2_CDF'):\n",
    "            ratio = -3/2*np.log(2+x**2) - np.log(sigma)\n",
    "        elif (transform == 'logistic_CDF'):\n",
    "            ratio = -x -np.log(sigma) - 2*np.log(1+np.exp(-x))\n",
    "    return ratio"
   ]
  },
  {
   "cell_type": "code",
   "execution_count": 6,
   "metadata": {
    "collapsed": true
   },
   "outputs": [
    {
     "data": {
      "text/latex": [
       "Target:N01_T2 | Kernel:Uniform | $\\sigma$:0.4 | eff:0.0024 | $P_{jump}$:0.9655 | Exx2:0.1518 | $\\rho_1$:0.9952 | $\\rho_2$:0.9905 | $E_{0.05}$:0.0053 | $E_{0.25}$:0.0039 | $E_{0.50}$:0.0036 | Time:55.21"
      ],
      "text/plain": [
       "<IPython.core.display.Latex object>"
      ]
     },
     "metadata": {},
     "output_type": "display_data"
    },
    {
     "data": {
      "text/latex": [
       "Target:N01_T2 | Kernel:Uniform | $\\sigma$:1.2 | eff:0.0193 | $P_{jump}$:0.897 | Exx2:1.2198 | $\\rho_1$:0.9618 | $\\rho_2$:0.9253 | $E_{0.05}$:0.0379 | $E_{0.25}$:0.03 | $E_{0.50}$:0.0296 | Time:13.52"
      ],
      "text/plain": [
       "<IPython.core.display.Latex object>"
      ]
     },
     "metadata": {},
     "output_type": "display_data"
    },
    {
     "data": {
      "text/latex": [
       "Target:N01_T2 | Kernel:Uniform | $\\sigma$:2.0 | eff:0.0472 | $P_{jump}$:0.8297 | Exx2:2.9875 | $\\rho_1$:0.9063 | $\\rho_2$:0.8221 | $E_{0.05}$:0.0865 | $E_{0.25}$:0.0747 | $E_{0.50}$:0.0756 | Time:10.89"
      ],
      "text/plain": [
       "<IPython.core.display.Latex object>"
      ]
     },
     "metadata": {},
     "output_type": "display_data"
    },
    {
     "data": {
      "text/latex": [
       "Target:N01_T2 | Kernel:Uniform | $\\sigma$:2.8 | eff:0.0813 | $P_{jump}$:0.7649 | Exx2:5.1076 | $\\rho_1$:0.8406 | $\\rho_2$:0.7092 | $E_{0.05}$:0.1372 | $E_{0.25}$:0.1272 | $E_{0.50}$:0.1319 | Time:9.39"
      ],
      "text/plain": [
       "<IPython.core.display.Latex object>"
      ]
     },
     "metadata": {},
     "output_type": "display_data"
    },
    {
     "data": {
      "text/latex": [
       "Target:N01_T2 | Kernel:Uniform | $\\sigma$:3.2 | eff:0.1025 | $P_{jump}$:0.7343 | Exx2:6.2209 | $\\rho_1$:0.8049 | $\\rho_2$:0.6522 | $E_{0.05}$:0.1644 | $E_{0.25}$:0.1576 | $E_{0.50}$:0.1656 | Time:8.73"
      ],
      "text/plain": [
       "<IPython.core.display.Latex object>"
      ]
     },
     "metadata": {},
     "output_type": "display_data"
    },
    {
     "data": {
      "text/latex": [
       "Target:N01_T2 | Kernel:Uniform | $\\sigma$:3.6 | eff:0.1211 | $P_{jump}$:0.7038 | Exx2:7.3117 | $\\rho_1$:0.771 | $\\rho_2$:0.6 | $E_{0.05}$:0.1858 | $E_{0.25}$:0.186 | $E_{0.50}$:0.1943 | Time:9.03"
      ],
      "text/plain": [
       "<IPython.core.display.Latex object>"
      ]
     },
     "metadata": {},
     "output_type": "display_data"
    },
    {
     "data": {
      "text/latex": [
       "Target:N01_T2 | Kernel:Uniform | $\\sigma$:4.0 | eff:0.1416 | $P_{jump}$:0.6748 | Exx2:8.3636 | $\\rho_1$:0.7388 | $\\rho_2$:0.5534 | $E_{0.05}$:0.204 | $E_{0.25}$:0.214 | $E_{0.50}$:0.2246 | Time:8.56"
      ],
      "text/plain": [
       "<IPython.core.display.Latex object>"
      ]
     },
     "metadata": {},
     "output_type": "display_data"
    },
    {
     "data": {
      "text/latex": [
       "Target:N01_T2 | Kernel:Uniform | $\\sigma$:4.4 | eff:0.1563 | $P_{jump}$:0.6454 | Exx2:9.3323 | $\\rho_1$:0.7087 | $\\rho_2$:0.5115 | $E_{0.05}$:0.2227 | $E_{0.25}$:0.2341 | $E_{0.50}$:0.2429 | Time:8.47"
      ],
      "text/plain": [
       "<IPython.core.display.Latex object>"
      ]
     },
     "metadata": {},
     "output_type": "display_data"
    },
    {
     "data": {
      "text/latex": [
       "Target:N01_T2 | Kernel:Uniform | $\\sigma$:5.2 | eff:0.1955 | $P_{jump}$:0.5928 | Exx2:11.0897 | $\\rho_1$:0.653 | $\\rho_2$:0.4369 | $E_{0.05}$:0.2455 | $E_{0.25}$:0.2693 | $E_{0.50}$:0.2795 | Time:8.06"
      ],
      "text/plain": [
       "<IPython.core.display.Latex object>"
      ]
     },
     "metadata": {},
     "output_type": "display_data"
    },
    {
     "data": {
      "text/latex": [
       "Target:N01_T2 | Kernel:Uniform | $\\sigma$:6.0 | eff:0.2247 | $P_{jump}$:0.5441 | Exx2:12.4332 | $\\rho_1$:0.6113 | $\\rho_2$:0.3829 | $E_{0.05}$:0.263 | $E_{0.25}$:0.2892 | $E_{0.50}$:0.2916 | Time:8.55"
      ],
      "text/plain": [
       "<IPython.core.display.Latex object>"
      ]
     },
     "metadata": {},
     "output_type": "display_data"
    },
    {
     "data": {
      "text/latex": [
       "Target:N01_T2 | Kernel:Uniform | $\\sigma$:6.8 | eff:0.2567 | $P_{jump}$:0.4991 | Exx2:13.3791 | $\\rho_1$:0.5809 | $\\rho_2$:0.3439 | $E_{0.05}$:0.2817 | $E_{0.25}$:0.295 | $E_{0.50}$:0.291 | Time:7.34"
      ],
      "text/plain": [
       "<IPython.core.display.Latex object>"
      ]
     },
     "metadata": {},
     "output_type": "display_data"
    },
    {
     "data": {
      "text/latex": [
       "Target:N01_T2 | Kernel:Uniform | $\\sigma$:7.2 | eff:0.2612 | $P_{jump}$:0.4788 | Exx2:13.6849 | $\\rho_1$:0.5724 | $\\rho_2$:0.3342 | $E_{0.05}$:0.2835 | $E_{0.25}$:0.2851 | $E_{0.50}$:0.2792 | Time:7.35"
      ],
      "text/plain": [
       "<IPython.core.display.Latex object>"
      ]
     },
     "metadata": {},
     "output_type": "display_data"
    },
    {
     "data": {
      "text/latex": [
       "Target:N01_T2 | Kernel:Uniform | $\\sigma$:7.6 | eff:0.268 | $P_{jump}$:0.4594 | Exx2:13.922 | $\\rho_1$:0.5642 | $\\rho_2$:0.324 | $E_{0.05}$:0.2905 | $E_{0.25}$:0.2789 | $E_{0.50}$:0.2677 | Time:7.75"
      ],
      "text/plain": [
       "<IPython.core.display.Latex object>"
      ]
     },
     "metadata": {},
     "output_type": "display_data"
    },
    {
     "data": {
      "text/latex": [
       "Target:N01_T2 | Kernel:Uniform | $\\sigma$:8.0 | eff:0.2755 | $P_{jump}$:0.4408 | Exx2:14.04 | $\\rho_1$:0.5593 | $\\rho_2$:0.3174 | $E_{0.05}$:0.2957 | $E_{0.25}$:0.2761 | $E_{0.50}$:0.2591 | Time:7.39"
      ],
      "text/plain": [
       "<IPython.core.display.Latex object>"
      ]
     },
     "metadata": {},
     "output_type": "display_data"
    },
    {
     "data": {
      "text/latex": [
       "Target:N01_T2 | Kernel:Uniform | $\\sigma$:8.4 | eff:0.2759 | $P_{jump}$:0.4231 | Exx2:14.0912 | $\\rho_1$:0.5574 | $\\rho_2$:0.3156 | $E_{0.05}$:0.2932 | $E_{0.25}$:0.2674 | $E_{0.50}$:0.2508 | Time:7.41"
      ],
      "text/plain": [
       "<IPython.core.display.Latex object>"
      ]
     },
     "metadata": {},
     "output_type": "display_data"
    },
    {
     "data": {
      "text/latex": [
       "Target:N01_T2 | Kernel:Uniform | $\\sigma$:8.8 | eff:0.2809 | $P_{jump}$:0.4076 | Exx2:14.1477 | $\\rho_1$:0.559 | $\\rho_2$:0.3153 | $E_{0.05}$:0.2976 | $E_{0.25}$:0.2527 | $E_{0.50}$:0.2442 | Time:7.73"
      ],
      "text/plain": [
       "<IPython.core.display.Latex object>"
      ]
     },
     "metadata": {},
     "output_type": "display_data"
    },
    {
     "data": {
      "text/latex": [
       "Target:N01_T2 | Kernel:Uniform | $\\sigma$:9.2 | eff:0.274 | $P_{jump}$:0.3918 | Exx2:14.1 | $\\rho_1$:0.5594 | $\\rho_2$:0.316 | $E_{0.05}$:0.2911 | $E_{0.25}$:0.2372 | $E_{0.50}$:0.2268 | Time:8.17"
      ],
      "text/plain": [
       "<IPython.core.display.Latex object>"
      ]
     },
     "metadata": {},
     "output_type": "display_data"
    },
    {
     "data": {
      "text/latex": [
       "Target:N01_T2 | Kernel:Uniform | $\\sigma$:9.6 | eff:0.2686 | $P_{jump}$:0.3768 | Exx2:13.9417 | $\\rho_1$:0.5639 | $\\rho_2$:0.3198 | $E_{0.05}$:0.2898 | $E_{0.25}$:0.236 | $E_{0.50}$:0.2175 | Time:8.5"
      ],
      "text/plain": [
       "<IPython.core.display.Latex object>"
      ]
     },
     "metadata": {},
     "output_type": "display_data"
    },
    {
     "data": {
      "text/latex": [
       "Target:N01_T2 | Kernel:Uniform | $\\sigma$:10.0 | eff:0.2637 | $P_{jump}$:0.3626 | Exx2:13.7264 | $\\rho_1$:0.5702 | $\\rho_2$:0.3276 | $E_{0.05}$:0.2816 | $E_{0.25}$:0.2218 | $E_{0.50}$:0.2098 | Time:7.98"
      ],
      "text/plain": [
       "<IPython.core.display.Latex object>"
      ]
     },
     "metadata": {},
     "output_type": "display_data"
    },
    {
     "data": {
      "text/latex": [
       "Target:N01_T2 | Kernel:Uniform | $\\sigma$:10.4 | eff:0.2549 | $P_{jump}$:0.3498 | Exx2:13.5218 | $\\rho_1$:0.5774 | $\\rho_2$:0.3368 | $E_{0.05}$:0.2769 | $E_{0.25}$:0.213 | $E_{0.50}$:0.1992 | Time:8.02"
      ],
      "text/plain": [
       "<IPython.core.display.Latex object>"
      ]
     },
     "metadata": {},
     "output_type": "display_data"
    },
    {
     "data": {
      "text/latex": [
       "Target:N01_T2 | Kernel:Uniform | $\\sigma$:11.2 | eff:0.2421 | $P_{jump}$:0.3267 | Exx2:13.0663 | $\\rho_1$:0.5926 | $\\rho_2$:0.3557 | $E_{0.05}$:0.2607 | $E_{0.25}$:0.1912 | $E_{0.50}$:0.1847 | Time:8.11"
      ],
      "text/plain": [
       "<IPython.core.display.Latex object>"
      ]
     },
     "metadata": {},
     "output_type": "display_data"
    },
    {
     "data": {
      "text/latex": [
       "Target:N01_T2 | Kernel:Uniform | $\\sigma$:12.0 | eff:0.2337 | $P_{jump}$:0.3057 | Exx2:12.5572 | $\\rho_1$:0.608 | $\\rho_2$:0.3755 | $E_{0.05}$:0.2506 | $E_{0.25}$:0.1846 | $E_{0.50}$:0.1699 | Time:8.44"
      ],
      "text/plain": [
       "<IPython.core.display.Latex object>"
      ]
     },
     "metadata": {},
     "output_type": "display_data"
    },
    {
     "data": {
      "text/latex": [
       "Target:N01_T2 | Kernel:Uniform | $\\sigma$:12.8 | eff:0.2126 | $P_{jump}$:0.2864 | Exx2:11.8767 | $\\rho_1$:0.6292 | $\\rho_2$:0.4011 | $E_{0.05}$:0.2295 | $E_{0.25}$:0.1724 | $E_{0.50}$:0.1559 | Time:8.28"
      ],
      "text/plain": [
       "<IPython.core.display.Latex object>"
      ]
     },
     "metadata": {},
     "output_type": "display_data"
    },
    {
     "data": {
      "text/latex": [
       "Target:N01_T2 | Kernel:Uniform | $\\sigma$:14.0 | eff:0.1957 | $P_{jump}$:0.2627 | Exx2:11.1188 | $\\rho_1$:0.6537 | $\\rho_2$:0.4332 | $E_{0.05}$:0.2026 | $E_{0.25}$:0.1544 | $E_{0.50}$:0.1433 | Time:8.65"
      ],
      "text/plain": [
       "<IPython.core.display.Latex object>"
      ]
     },
     "metadata": {},
     "output_type": "display_data"
    },
    {
     "data": {
      "text/latex": [
       "Target:N01_T2 | Kernel:Uniform | $\\sigma$:16.0 | eff:0.1694 | $P_{jump}$:0.2297 | Exx2:9.8067 | $\\rho_1$:0.6938 | $\\rho_2$:0.4877 | $E_{0.05}$:0.1791 | $E_{0.25}$:0.1308 | $E_{0.50}$:0.1239 | Time:8.77"
      ],
      "text/plain": [
       "<IPython.core.display.Latex object>"
      ]
     },
     "metadata": {},
     "output_type": "display_data"
    },
    {
     "data": {
      "text/latex": [
       "Target:N01_T2 | Kernel:Uniform | $\\sigma$:18.0 | eff:0.1442 | $P_{jump}$:0.2046 | Exx2:8.7425 | $\\rho_1$:0.7286 | $\\rho_2$:0.5349 | $E_{0.05}$:0.1527 | $E_{0.25}$:0.1153 | $E_{0.50}$:0.1064 | Time:8.77"
      ],
      "text/plain": [
       "<IPython.core.display.Latex object>"
      ]
     },
     "metadata": {},
     "output_type": "display_data"
    },
    {
     "data": {
      "text/latex": [
       "Target:N01_T2 | Kernel:Uniform | $\\sigma$:20.0 | eff:0.1271 | $P_{jump}$:0.1831 | Exx2:7.7921 | $\\rho_1$:0.7555 | $\\rho_2$:0.5754 | $E_{0.05}$:0.1359 | $E_{0.25}$:0.1022 | $E_{0.50}$:0.0951 | Time:9.49"
      ],
      "text/plain": [
       "<IPython.core.display.Latex object>"
      ]
     },
     "metadata": {},
     "output_type": "display_data"
    },
    {
     "data": {
      "text/latex": [
       "Target:N01_T2 | Kernel:Uniform | $\\sigma$:24.0 | eff:0.1067 | $P_{jump}$:0.1532 | Exx2:6.5472 | $\\rho_1$:0.796 | $\\rho_2$:0.635 | $E_{0.05}$:0.1125 | $E_{0.25}$:0.0843 | $E_{0.50}$:0.079 | Time:9.72"
      ],
      "text/plain": [
       "<IPython.core.display.Latex object>"
      ]
     },
     "metadata": {},
     "output_type": "display_data"
    },
    {
     "data": {
      "text/latex": [
       "Target:N01_T2 | Kernel:Uniform | $\\sigma$:28.0 | eff:0.0873 | $P_{jump}$:0.1312 | Exx2:5.6174 | $\\rho_1$:0.8252 | $\\rho_2$:0.6836 | $E_{0.05}$:0.0908 | $E_{0.25}$:0.0717 | $E_{0.50}$:0.0672 | Time:9.6"
      ],
      "text/plain": [
       "<IPython.core.display.Latex object>"
      ]
     },
     "metadata": {},
     "output_type": "display_data"
    },
    {
     "data": {
      "text/latex": [
       "Target:N01_T2 | Kernel:Uniform | $\\sigma$:32.0 | eff:0.0772 | $P_{jump}$:0.1148 | Exx2:4.9034 | $\\rho_1$:0.8475 | $\\rho_2$:0.7195 | $E_{0.05}$:0.08 | $E_{0.25}$:0.0616 | $E_{0.50}$:0.0587 | Time:10.53"
      ],
      "text/plain": [
       "<IPython.core.display.Latex object>"
      ]
     },
     "metadata": {},
     "output_type": "display_data"
    },
    {
     "data": {
      "text/latex": [
       "Target:N01_T2 | Kernel:TransUniform | $\\sigma$:0.1 | eff:0.0364 | $P_{jump}$:0.8905 | Exx2:3.123 | $\\rho_1$:0.9027 | $\\rho_2$:0.8265 | $E_{0.05}$:0.1478 | $E_{0.25}$:0.0551 | $E_{0.50}$:0.0405 | Time:20.28"
      ],
      "text/plain": [
       "<IPython.core.display.Latex object>"
      ]
     },
     "metadata": {},
     "output_type": "display_data"
    },
    {
     "data": {
      "text/latex": [
       "Target:N01_T2 | Kernel:TransUniform | $\\sigma$:0.3 | eff:0.2682 | $P_{jump}$:0.8346 | Exx2:14.1779 | $\\rho_1$:0.5565 | $\\rho_2$:0.3262 | $E_{0.05}$:0.6159 | $E_{0.25}$:0.3432 | $E_{0.50}$:0.3185 | Time:15.61"
      ],
      "text/plain": [
       "<IPython.core.display.Latex object>"
      ]
     },
     "metadata": {},
     "output_type": "display_data"
    },
    {
     "data": {
      "text/latex": [
       "Target:N01_T2 | Kernel:TransUniform | $\\sigma$:0.5 | eff:0.5932 | $P_{jump}$:0.8232 | Exx2:24.2224 | $\\rho_1$:0.244 | $\\rho_2$:0.0692 | $E_{0.05}$:0.8083 | $E_{0.25}$:0.6166 | $E_{0.50}$:0.54 | Time:15.59"
      ],
      "text/plain": [
       "<IPython.core.display.Latex object>"
      ]
     },
     "metadata": {},
     "output_type": "display_data"
    },
    {
     "data": {
      "text/latex": [
       "Target:N01_T2 | Kernel:TransUniform | $\\sigma$:0.7 | eff:0.8812 | $P_{jump}$:0.8409 | Exx2:29.9534 | $\\rho_1$:0.0599 | $\\rho_2$:0.0063 | $E_{0.05}$:0.7317 | $E_{0.25}$:0.746 | $E_{0.50}$:0.9041 | Time:16.61"
      ],
      "text/plain": [
       "<IPython.core.display.Latex object>"
      ]
     },
     "metadata": {},
     "output_type": "display_data"
    },
    {
     "data": {
      "text/latex": [
       "Target:N01_T2 | Kernel:TransUniform | $\\sigma$:0.8 | eff:0.9558 | $P_{jump}$:0.8356 | Exx2:31.3524 | $\\rho_1$:0.0198 | $\\rho_2$:0.0005 | $E_{0.05}$:0.7565 | $E_{0.25}$:0.7728 | $E_{0.50}$:0.8839 | Time:16.8"
      ],
      "text/plain": [
       "<IPython.core.display.Latex object>"
      ]
     },
     "metadata": {},
     "output_type": "display_data"
    },
    {
     "data": {
      "text/latex": [
       "Target:N01_T2 | Kernel:TransUniform | $\\sigma$:0.9 | eff:0.9751 | $P_{jump}$:0.8318 | Exx2:31.5754 | $\\rho_1$:0.0141 | $\\rho_2$:0.0003 | $E_{0.05}$:0.7904 | $E_{0.25}$:0.8383 | $E_{0.50}$:0.8472 | Time:17.15"
      ],
      "text/plain": [
       "<IPython.core.display.Latex object>"
      ]
     },
     "metadata": {},
     "output_type": "display_data"
    },
    {
     "data": {
      "text/latex": [
       "Target:N01_T2 | Kernel:TransUniform | $\\sigma$:1.0 | eff:0.9111 | $P_{jump}$:0.8292 | Exx2:30.3719 | $\\rho_1$:0.0485 | $\\rho_2$:0.0039 | $E_{0.05}$:0.8261 | $E_{0.25}$:0.8014 | $E_{0.50}$:0.842 | Time:16.81"
      ],
      "text/plain": [
       "<IPython.core.display.Latex object>"
      ]
     },
     "metadata": {},
     "output_type": "display_data"
    },
    {
     "data": {
      "text/latex": [
       "Target:N01_T2 | Kernel:TransUniform | $\\sigma$:1.1 | eff:0.7948 | $P_{jump}$:0.8267 | Exx2:28.4728 | $\\rho_1$:0.1108 | $\\rho_2$:0.0132 | $E_{0.05}$:0.7962 | $E_{0.25}$:0.7492 | $E_{0.50}$:0.7598 | Time:17.39"
      ],
      "text/plain": [
       "<IPython.core.display.Latex object>"
      ]
     },
     "metadata": {},
     "output_type": "display_data"
    },
    {
     "data": {
      "text/latex": [
       "Target:N01_T2 | Kernel:TransUniform | $\\sigma$:1.3 | eff:0.6278 | $P_{jump}$:0.8342 | Exx2:24.6658 | $\\rho_1$:0.2277 | $\\rho_2$:0.0529 | $E_{0.05}$:0.7055 | $E_{0.25}$:0.6321 | $E_{0.50}$:0.6244 | Time:17.65"
      ],
      "text/plain": [
       "<IPython.core.display.Latex object>"
      ]
     },
     "metadata": {},
     "output_type": "display_data"
    },
    {
     "data": {
      "text/latex": [
       "Target:N01_T2 | Kernel:TransUniform | $\\sigma$:1.5 | eff:0.6273 | $P_{jump}$:0.8318 | Exx2:24.9266 | $\\rho_1$:0.2228 | $\\rho_2$:0.0509 | $E_{0.05}$:0.7438 | $E_{0.25}$:0.6405 | $E_{0.50}$:0.6264 | Time:16.71"
      ],
      "text/plain": [
       "<IPython.core.display.Latex object>"
      ]
     },
     "metadata": {},
     "output_type": "display_data"
    },
    {
     "data": {
      "text/latex": [
       "Target:N01_T2 | Kernel:TransUniform | $\\sigma$:1.7 | eff:0.7067 | $P_{jump}$:0.8271 | Exx2:26.6458 | $\\rho_1$:0.1695 | $\\rho_2$:0.0305 | $E_{0.05}$:0.746 | $E_{0.25}$:0.6927 | $E_{0.50}$:0.6788 | Time:17.06"
      ],
      "text/plain": [
       "<IPython.core.display.Latex object>"
      ]
     },
     "metadata": {},
     "output_type": "display_data"
    },
    {
     "data": {
      "text/latex": [
       "Target:N01_T2 | Kernel:TransUniform | $\\sigma$:1.8 | eff:0.7748 | $P_{jump}$:0.8333 | Exx2:27.9581 | $\\rho_1$:0.1283 | $\\rho_2$:0.0156 | $E_{0.05}$:0.7395 | $E_{0.25}$:0.7155 | $E_{0.50}$:0.7609 | Time:16.73"
      ],
      "text/plain": [
       "<IPython.core.display.Latex object>"
      ]
     },
     "metadata": {},
     "output_type": "display_data"
    },
    {
     "data": {
      "text/latex": [
       "Target:N01_T2 | Kernel:TransUniform | $\\sigma$:1.9 | eff:0.8059 | $P_{jump}$:0.8311 | Exx2:28.5555 | $\\rho_1$:0.1103 | $\\rho_2$:0.0106 | $E_{0.05}$:0.7437 | $E_{0.25}$:0.7243 | $E_{0.50}$:0.7779 | Time:16.75"
      ],
      "text/plain": [
       "<IPython.core.display.Latex object>"
      ]
     },
     "metadata": {},
     "output_type": "display_data"
    },
    {
     "data": {
      "text/latex": [
       "Target:N01_T2 | Kernel:TransUniform | $\\sigma$:2.0 | eff:0.8244 | $P_{jump}$:0.8296 | Exx2:28.8825 | $\\rho_1$:0.0963 | $\\rho_2$:0.0079 | $E_{0.05}$:0.749 | $E_{0.25}$:0.7365 | $E_{0.50}$:0.7615 | Time:16.79"
      ],
      "text/plain": [
       "<IPython.core.display.Latex object>"
      ]
     },
     "metadata": {},
     "output_type": "display_data"
    },
    {
     "data": {
      "text/latex": [
       "Target:N01_T2 | Kernel:TransUniform | $\\sigma$:2.1 | eff:0.8224 | $P_{jump}$:0.8308 | Exx2:28.8165 | $\\rho_1$:0.0956 | $\\rho_2$:0.0088 | $E_{0.05}$:0.7832 | $E_{0.25}$:0.759 | $E_{0.50}$:0.7734 | Time:16.47"
      ],
      "text/plain": [
       "<IPython.core.display.Latex object>"
      ]
     },
     "metadata": {},
     "output_type": "display_data"
    },
    {
     "data": {
      "text/latex": [
       "Target:N01_T2 | Kernel:TransUniform | $\\sigma$:2.2 | eff:0.7871 | $P_{jump}$:0.8281 | Exx2:28.2265 | $\\rho_1$:0.1163 | $\\rho_2$:0.0163 | $E_{0.05}$:0.7974 | $E_{0.25}$:0.7298 | $E_{0.50}$:0.7557 | Time:16.22"
      ],
      "text/plain": [
       "<IPython.core.display.Latex object>"
      ]
     },
     "metadata": {},
     "output_type": "display_data"
    },
    {
     "data": {
      "text/latex": [
       "Target:N01_T2 | Kernel:TransUniform | $\\sigma$:2.3 | eff:0.7217 | $P_{jump}$:0.8295 | Exx2:27.0979 | $\\rho_1$:0.1497 | $\\rho_2$:0.0238 | $E_{0.05}$:0.7671 | $E_{0.25}$:0.707 | $E_{0.50}$:0.7072 | Time:16.8"
      ],
      "text/plain": [
       "<IPython.core.display.Latex object>"
      ]
     },
     "metadata": {},
     "output_type": "display_data"
    },
    {
     "data": {
      "text/latex": [
       "Target:N01_T2 | Kernel:TransUniform | $\\sigma$:2.4 | eff:0.6859 | $P_{jump}$:0.8322 | Exx2:26.2052 | $\\rho_1$:0.1825 | $\\rho_2$:0.0346 | $E_{0.05}$:0.7174 | $E_{0.25}$:0.6662 | $E_{0.50}$:0.6669 | Time:16.44"
      ],
      "text/plain": [
       "<IPython.core.display.Latex object>"
      ]
     },
     "metadata": {},
     "output_type": "display_data"
    },
    {
     "data": {
      "text/latex": [
       "Target:N01_T2 | Kernel:TransUniform | $\\sigma$:2.5 | eff:0.6579 | $P_{jump}$:0.8309 | Exx2:25.6224 | $\\rho_1$:0.1997 | $\\rho_2$:0.0423 | $E_{0.05}$:0.7382 | $E_{0.25}$:0.6478 | $E_{0.50}$:0.6571 | Time:16.82"
      ],
      "text/plain": [
       "<IPython.core.display.Latex object>"
      ]
     },
     "metadata": {},
     "output_type": "display_data"
    },
    {
     "data": {
      "text/latex": [
       "Target:N01_T2 | Kernel:TransUniform | $\\sigma$:2.6 | eff:0.6627 | $P_{jump}$:0.8304 | Exx2:25.5299 | $\\rho_1$:0.201 | $\\rho_2$:0.0427 | $E_{0.05}$:0.7437 | $E_{0.25}$:0.6548 | $E_{0.50}$:0.6627 | Time:16.24"
      ],
      "text/plain": [
       "<IPython.core.display.Latex object>"
      ]
     },
     "metadata": {},
     "output_type": "display_data"
    },
    {
     "data": {
      "text/latex": [
       "Target:N01_T2 | Kernel:TransUniform | $\\sigma$:2.8 | eff:0.703 | $P_{jump}$:0.8265 | Exx2:26.5756 | $\\rho_1$:0.172 | $\\rho_2$:0.0316 | $E_{0.05}$:0.7488 | $E_{0.25}$:0.6879 | $E_{0.50}$:0.6634 | Time:16.98"
      ],
      "text/plain": [
       "<IPython.core.display.Latex object>"
      ]
     },
     "metadata": {},
     "output_type": "display_data"
    },
    {
     "data": {
      "text/latex": [
       "Target:N01_T2 | Kernel:TransUniform | $\\sigma$:3.0 | eff:0.766 | $P_{jump}$:0.8313 | Exx2:27.6653 | $\\rho_1$:0.1333 | $\\rho_2$:0.0189 | $E_{0.05}$:0.7458 | $E_{0.25}$:0.7111 | $E_{0.50}$:0.7512 | Time:16.7"
      ],
      "text/plain": [
       "<IPython.core.display.Latex object>"
      ]
     },
     "metadata": {},
     "output_type": "display_data"
    },
    {
     "data": {
      "text/latex": [
       "Target:N01_T2 | Kernel:TransUniform | $\\sigma$:3.2 | eff:0.7922 | $P_{jump}$:0.8307 | Exx2:28.3915 | $\\rho_1$:0.1138 | $\\rho_2$:0.0148 | $E_{0.05}$:0.7578 | $E_{0.25}$:0.7328 | $E_{0.50}$:0.7505 | Time:16.5"
      ],
      "text/plain": [
       "<IPython.core.display.Latex object>"
      ]
     },
     "metadata": {},
     "output_type": "display_data"
    },
    {
     "data": {
      "text/latex": [
       "Target:N01_T2 | Kernel:TransUniform | $\\sigma$:3.5 | eff:0.7066 | $P_{jump}$:0.8301 | Exx2:26.7708 | $\\rho_1$:0.1623 | $\\rho_2$:0.0269 | $E_{0.05}$:0.7512 | $E_{0.25}$:0.6778 | $E_{0.50}$:0.6828 | Time:16.61"
      ],
      "text/plain": [
       "<IPython.core.display.Latex object>"
      ]
     },
     "metadata": {},
     "output_type": "display_data"
    },
    {
     "data": {
      "text/latex": [
       "Target:N01_T2 | Kernel:TransUniform | $\\sigma$:4.0 | eff:0.7172 | $P_{jump}$:0.8281 | Exx2:26.8446 | $\\rho_1$:0.1607 | $\\rho_2$:0.0283 | $E_{0.05}$:0.7556 | $E_{0.25}$:0.6865 | $E_{0.50}$:0.6935 | Time:16.6"
      ],
      "text/plain": [
       "<IPython.core.display.Latex object>"
      ]
     },
     "metadata": {},
     "output_type": "display_data"
    },
    {
     "data": {
      "text/latex": [
       "Target:N01_T2 | Kernel:TransUniform | $\\sigma$:4.5 | eff:0.7592 | $P_{jump}$:0.8284 | Exx2:27.7164 | $\\rho_1$:0.1335 | $\\rho_2$:0.0201 | $E_{0.05}$:0.7601 | $E_{0.25}$:0.7171 | $E_{0.50}$:0.7329 | Time:16.58"
      ],
      "text/plain": [
       "<IPython.core.display.Latex object>"
      ]
     },
     "metadata": {},
     "output_type": "display_data"
    },
    {
     "data": {
      "text/latex": [
       "Target:N01_T2 | Kernel:TransUniform | $\\sigma$:5.0 | eff:0.7039 | $P_{jump}$:0.8299 | Exx2:26.4253 | $\\rho_1$:0.1727 | $\\rho_2$:0.0316 | $E_{0.05}$:0.7545 | $E_{0.25}$:0.6923 | $E_{0.50}$:0.6817 | Time:16.73"
      ],
      "text/plain": [
       "<IPython.core.display.Latex object>"
      ]
     },
     "metadata": {},
     "output_type": "display_data"
    },
    {
     "data": {
      "text/latex": [
       "Target:N01_T2 | Kernel:TransUniform | $\\sigma$:6.0 | eff:0.7064 | $P_{jump}$:0.8304 | Exx2:26.5047 | $\\rho_1$:0.1729 | $\\rho_2$:0.0306 | $E_{0.05}$:0.7402 | $E_{0.25}$:0.6787 | $E_{0.50}$:0.6955 | Time:16.26"
      ],
      "text/plain": [
       "<IPython.core.display.Latex object>"
      ]
     },
     "metadata": {},
     "output_type": "display_data"
    },
    {
     "data": {
      "text/latex": [
       "Target:N01_T2 | Kernel:TransUniform | $\\sigma$:7.0 | eff:0.7224 | $P_{jump}$:0.8309 | Exx2:26.7907 | $\\rho_1$:0.1601 | $\\rho_2$:0.0264 | $E_{0.05}$:0.7533 | $E_{0.25}$:0.6931 | $E_{0.50}$:0.6962 | Time:16.7"
      ],
      "text/plain": [
       "<IPython.core.display.Latex object>"
      ]
     },
     "metadata": {},
     "output_type": "display_data"
    },
    {
     "data": {
      "text/latex": [
       "Target:N01_T2 | Kernel:TransUniform | $\\sigma$:8.0 | eff:0.7479 | $P_{jump}$:0.8289 | Exx2:27.3447 | $\\rho_1$:0.1453 | $\\rho_2$:0.0223 | $E_{0.05}$:0.7659 | $E_{0.25}$:0.703 | $E_{0.50}$:0.716 | Time:16.48"
      ],
      "text/plain": [
       "<IPython.core.display.Latex object>"
      ]
     },
     "metadata": {},
     "output_type": "display_data"
    },
    {
     "data": {
      "text/latex": [
       "Target:N01_T2 | Kernel:TransBactrian | $\\sigma$:0.1 | eff:0.0451 | $P_{jump}$:0.8648 | Exx2:3.4871 | $\\rho_1$:0.8914 | $\\rho_2$:0.8045 | $E_{0.05}$:0.156 | $E_{0.25}$:0.0631 | $E_{0.50}$:0.0533 | Time:19.8"
      ],
      "text/plain": [
       "<IPython.core.display.Latex object>"
      ]
     },
     "metadata": {},
     "output_type": "display_data"
    },
    {
     "data": {
      "text/latex": [
       "Target:N01_T2 | Kernel:TransBactrian | $\\sigma$:0.3 | eff:0.317 | $P_{jump}$:0.7754 | Exx2:15.8006 | $\\rho_1$:0.5061 | $\\rho_2$:0.2701 | $E_{0.05}$:0.6962 | $E_{0.25}$:0.3942 | $E_{0.50}$:0.3964 | Time:15.24"
      ],
      "text/plain": [
       "<IPython.core.display.Latex object>"
      ]
     },
     "metadata": {},
     "output_type": "display_data"
    },
    {
     "data": {
      "text/latex": [
       "Target:N01_T2 | Kernel:TransBactrian | $\\sigma$:0.5 | eff:0.7789 | $P_{jump}$:0.7971 | Exx2:28.2715 | $\\rho_1$:0.1158 | $\\rho_2$:0.019 | $E_{0.05}$:1.0095 | $E_{0.25}$:0.8245 | $E_{0.50}$:0.6309 | Time:16.05"
      ],
      "text/plain": [
       "<IPython.core.display.Latex object>"
      ]
     },
     "metadata": {},
     "output_type": "display_data"
    },
    {
     "data": {
      "text/latex": [
       "Target:N01_T2 | Kernel:TransBactrian | $\\sigma$:0.7 | eff:1.274 | $P_{jump}$:0.8152 | Exx2:35.8599 | $\\rho_1$:-0.1234 | $\\rho_2$:0.0157 | $E_{0.05}$:0.8865 | $E_{0.25}$:0.9868 | $E_{0.50}$:0.9146 | Time:16.09"
      ],
      "text/plain": [
       "<IPython.core.display.Latex object>"
      ]
     },
     "metadata": {},
     "output_type": "display_data"
    },
    {
     "data": {
      "text/latex": [
       "Target:N01_T2 | Kernel:TransBactrian | $\\sigma$:0.8 | eff:1.4534 | $P_{jump}$:0.8259 | Exx2:38.113 | $\\rho_1$:-0.1909 | $\\rho_2$:0.0377 | $E_{0.05}$:0.8054 | $E_{0.25}$:1.0001 | $E_{0.50}$:1.1814 | Time:16.3"
      ],
      "text/plain": [
       "<IPython.core.display.Latex object>"
      ]
     },
     "metadata": {},
     "output_type": "display_data"
    },
    {
     "data": {
      "text/latex": [
       "Target:N01_T2 | Kernel:TransBactrian | $\\sigma$:0.9 | eff:1.5731 | $P_{jump}$:0.8323 | Exx2:39.4091 | $\\rho_1$:-0.2272 | $\\rho_2$:0.0573 | $E_{0.05}$:0.7588 | $E_{0.25}$:0.958 | $E_{0.50}$:1.3295 | Time:16.12"
      ],
      "text/plain": [
       "<IPython.core.display.Latex object>"
      ]
     },
     "metadata": {},
     "output_type": "display_data"
    },
    {
     "data": {
      "text/latex": [
       "Target:N01_T2 | Kernel:TransBactrian | $\\sigma$:1.0 | eff:1.5728 | $P_{jump}$:0.8328 | Exx2:39.335 | $\\rho_1$:-0.2281 | $\\rho_2$:0.0575 | $E_{0.05}$:0.7657 | $E_{0.25}$:0.9586 | $E_{0.50}$:1.3462 | Time:16.43"
      ],
      "text/plain": [
       "<IPython.core.display.Latex object>"
      ]
     },
     "metadata": {},
     "output_type": "display_data"
    },
    {
     "data": {
      "text/latex": [
       "Target:N01_T2 | Kernel:TransBactrian | $\\sigma$:1.1 | eff:1.4701 | $P_{jump}$:0.8291 | Exx2:38.039 | $\\rho_1$:-0.1915 | $\\rho_2$:0.0386 | $E_{0.05}$:0.7693 | $E_{0.25}$:0.9643 | $E_{0.50}$:1.2296 | Time:16.58"
      ],
      "text/plain": [
       "<IPython.core.display.Latex object>"
      ]
     },
     "metadata": {},
     "output_type": "display_data"
    },
    {
     "data": {
      "text/latex": [
       "Target:N01_T2 | Kernel:TransBactrian | $\\sigma$:1.3 | eff:1.1165 | $P_{jump}$:0.8237 | Exx2:33.7911 | $\\rho_1$:-0.0576 | $\\rho_2$:0.0041 | $E_{0.05}$:0.8003 | $E_{0.25}$:0.8748 | $E_{0.50}$:0.9832 | Time:16.6"
      ],
      "text/plain": [
       "<IPython.core.display.Latex object>"
      ]
     },
     "metadata": {},
     "output_type": "display_data"
    },
    {
     "data": {
      "text/latex": [
       "Target:N01_T2 | Kernel:TransBactrian | $\\sigma$:1.5 | eff:0.8105 | $P_{jump}$:0.8257 | Exx2:28.8028 | $\\rho_1$:0.1019 | $\\rho_2$:0.0113 | $E_{0.05}$:0.7777 | $E_{0.25}$:0.7415 | $E_{0.50}$:0.7584 | Time:16.61"
      ],
      "text/plain": [
       "<IPython.core.display.Latex object>"
      ]
     },
     "metadata": {},
     "output_type": "display_data"
    },
    {
     "data": {
      "text/latex": [
       "Target:N01_T2 | Kernel:TransBactrian | $\\sigma$:1.7 | eff:0.6428 | $P_{jump}$:0.8267 | Exx2:25.2699 | $\\rho_1$:0.2134 | $\\rho_2$:0.0468 | $E_{0.05}$:0.7243 | $E_{0.25}$:0.6401 | $E_{0.50}$:0.6361 | Time:16.78"
      ],
      "text/plain": [
       "<IPython.core.display.Latex object>"
      ]
     },
     "metadata": {},
     "output_type": "display_data"
    },
    {
     "data": {
      "text/latex": [
       "Target:N01_T2 | Kernel:TransBactrian | $\\sigma$:1.8 | eff:0.6085 | $P_{jump}$:0.8273 | Exx2:24.4224 | $\\rho_1$:0.2381 | $\\rho_2$:0.0601 | $E_{0.05}$:0.7286 | $E_{0.25}$:0.6288 | $E_{0.50}$:0.6049 | Time:16.59"
      ],
      "text/plain": [
       "<IPython.core.display.Latex object>"
      ]
     },
     "metadata": {},
     "output_type": "display_data"
    },
    {
     "data": {
      "text/latex": [
       "Target:N01_T2 | Kernel:TransBactrian | $\\sigma$:1.9 | eff:0.5947 | $P_{jump}$:0.8289 | Exx2:24.0505 | $\\rho_1$:0.2472 | $\\rho_2$:0.0648 | $E_{0.05}$:0.7223 | $E_{0.25}$:0.6144 | $E_{0.50}$:0.5923 | Time:16.5"
      ],
      "text/plain": [
       "<IPython.core.display.Latex object>"
      ]
     },
     "metadata": {},
     "output_type": "display_data"
    },
    {
     "data": {
      "text/latex": [
       "Target:N01_T2 | Kernel:TransBactrian | $\\sigma$:2.0 | eff:0.5957 | $P_{jump}$:0.8273 | Exx2:24.1731 | $\\rho_1$:0.2455 | $\\rho_2$:0.0624 | $E_{0.05}$:0.7245 | $E_{0.25}$:0.6211 | $E_{0.50}$:0.5905 | Time:16.5"
      ],
      "text/plain": [
       "<IPython.core.display.Latex object>"
      ]
     },
     "metadata": {},
     "output_type": "display_data"
    },
    {
     "data": {
      "text/latex": [
       "Target:N01_T2 | Kernel:TransBactrian | $\\sigma$:2.1 | eff:0.6194 | $P_{jump}$:0.8299 | Exx2:24.615 | $\\rho_1$:0.2315 | $\\rho_2$:0.0569 | $E_{0.05}$:0.7254 | $E_{0.25}$:0.6365 | $E_{0.50}$:0.6144 | Time:16.53"
      ],
      "text/plain": [
       "<IPython.core.display.Latex object>"
      ]
     },
     "metadata": {},
     "output_type": "display_data"
    },
    {
     "data": {
      "text/latex": [
       "Target:N01_T2 | Kernel:TransBactrian | $\\sigma$:2.2 | eff:0.6437 | $P_{jump}$:0.8278 | Exx2:25.1398 | $\\rho_1$:0.215 | $\\rho_2$:0.0493 | $E_{0.05}$:0.7258 | $E_{0.25}$:0.647 | $E_{0.50}$:0.6337 | Time:16.53"
      ],
      "text/plain": [
       "<IPython.core.display.Latex object>"
      ]
     },
     "metadata": {},
     "output_type": "display_data"
    },
    {
     "data": {
      "text/latex": [
       "Target:N01_T2 | Kernel:TransBactrian | $\\sigma$:2.3 | eff:0.664 | $P_{jump}$:0.8264 | Exx2:25.6461 | $\\rho_1$:0.1976 | $\\rho_2$:0.041 | $E_{0.05}$:0.7395 | $E_{0.25}$:0.6582 | $E_{0.50}$:0.6459 | Time:16.27"
      ],
      "text/plain": [
       "<IPython.core.display.Latex object>"
      ]
     },
     "metadata": {},
     "output_type": "display_data"
    },
    {
     "data": {
      "text/latex": [
       "Target:N01_T2 | Kernel:TransBactrian | $\\sigma$:2.4 | eff:0.6985 | $P_{jump}$:0.8287 | Exx2:26.1892 | $\\rho_1$:0.1804 | $\\rho_2$:0.0339 | $E_{0.05}$:0.7453 | $E_{0.25}$:0.6797 | $E_{0.50}$:0.6765 | Time:16.95"
      ],
      "text/plain": [
       "<IPython.core.display.Latex object>"
      ]
     },
     "metadata": {},
     "output_type": "display_data"
    },
    {
     "data": {
      "text/latex": [
       "Target:N01_T2 | Kernel:TransBactrian | $\\sigma$:2.5 | eff:0.7179 | $P_{jump}$:0.8284 | Exx2:26.7065 | $\\rho_1$:0.1645 | $\\rho_2$:0.0289 | $E_{0.05}$:0.7488 | $E_{0.25}$:0.691 | $E_{0.50}$:0.6949 | Time:16.82"
      ],
      "text/plain": [
       "<IPython.core.display.Latex object>"
      ]
     },
     "metadata": {},
     "output_type": "display_data"
    },
    {
     "data": {
      "text/latex": [
       "Target:N01_T2 | Kernel:TransBactrian | $\\sigma$:2.6 | eff:0.7243 | $P_{jump}$:0.8281 | Exx2:26.9925 | $\\rho_1$:0.1555 | $\\rho_2$:0.0257 | $E_{0.05}$:0.755 | $E_{0.25}$:0.6869 | $E_{0.50}$:0.6977 | Time:16.68"
      ],
      "text/plain": [
       "<IPython.core.display.Latex object>"
      ]
     },
     "metadata": {},
     "output_type": "display_data"
    },
    {
     "data": {
      "text/latex": [
       "Target:N01_T2 | Kernel:TransBactrian | $\\sigma$:2.8 | eff:0.7381 | $P_{jump}$:0.8291 | Exx2:27.4111 | $\\rho_1$:0.1458 | $\\rho_2$:0.0245 | $E_{0.05}$:0.7478 | $E_{0.25}$:0.6992 | $E_{0.50}$:0.706 | Time:16.7"
      ],
      "text/plain": [
       "<IPython.core.display.Latex object>"
      ]
     },
     "metadata": {},
     "output_type": "display_data"
    },
    {
     "data": {
      "text/latex": [
       "Target:N01_T2 | Kernel:TransBactrian | $\\sigma$:3.0 | eff:0.7441 | $P_{jump}$:0.8296 | Exx2:27.3294 | $\\rho_1$:0.1452 | $\\rho_2$:0.0232 | $E_{0.05}$:0.7538 | $E_{0.25}$:0.7048 | $E_{0.50}$:0.7106 | Time:16.42"
      ],
      "text/plain": [
       "<IPython.core.display.Latex object>"
      ]
     },
     "metadata": {},
     "output_type": "display_data"
    },
    {
     "data": {
      "text/latex": [
       "Target:N01_T2 | Kernel:TransBactrian | $\\sigma$:3.2 | eff:0.7388 | $P_{jump}$:0.8287 | Exx2:27.1652 | $\\rho_1$:0.1493 | $\\rho_2$:0.024 | $E_{0.05}$:0.7541 | $E_{0.25}$:0.7057 | $E_{0.50}$:0.7049 | Time:16.51"
      ],
      "text/plain": [
       "<IPython.core.display.Latex object>"
      ]
     },
     "metadata": {},
     "output_type": "display_data"
    },
    {
     "data": {
      "text/latex": [
       "Target:N01_T2 | Kernel:TransBactrian | $\\sigma$:3.5 | eff:0.7301 | $P_{jump}$:0.8304 | Exx2:27.1358 | $\\rho_1$:0.1529 | $\\rho_2$:0.026 | $E_{0.05}$:0.7606 | $E_{0.25}$:0.6947 | $E_{0.50}$:0.7099 | Time:16.82"
      ],
      "text/plain": [
       "<IPython.core.display.Latex object>"
      ]
     },
     "metadata": {},
     "output_type": "display_data"
    },
    {
     "data": {
      "text/latex": [
       "Target:N01_T2 | Kernel:TransBactrian | $\\sigma$:4.0 | eff:0.7297 | $P_{jump}$:0.8294 | Exx2:27.0928 | $\\rho_1$:0.1536 | $\\rho_2$:0.0251 | $E_{0.05}$:0.7487 | $E_{0.25}$:0.7029 | $E_{0.50}$:0.7065 | Time:17.36"
      ],
      "text/plain": [
       "<IPython.core.display.Latex object>"
      ]
     },
     "metadata": {},
     "output_type": "display_data"
    },
    {
     "data": {
      "text/latex": [
       "Target:N01_T2 | Kernel:TransBactrian | $\\sigma$:4.5 | eff:0.7143 | $P_{jump}$:0.8292 | Exx2:27.1379 | $\\rho_1$:0.1549 | $\\rho_2$:0.0241 | $E_{0.05}$:0.7338 | $E_{0.25}$:0.6962 | $E_{0.50}$:0.6942 | Time:16.53"
      ],
      "text/plain": [
       "<IPython.core.display.Latex object>"
      ]
     },
     "metadata": {},
     "output_type": "display_data"
    },
    {
     "data": {
      "text/latex": [
       "Target:N01_T2 | Kernel:TransBactrian | $\\sigma$:5.0 | eff:0.7341 | $P_{jump}$:0.828 | Exx2:27.0492 | $\\rho_1$:0.1534 | $\\rho_2$:0.0233 | $E_{0.05}$:0.7552 | $E_{0.25}$:0.6957 | $E_{0.50}$:0.711 | Time:16.58"
      ],
      "text/plain": [
       "<IPython.core.display.Latex object>"
      ]
     },
     "metadata": {},
     "output_type": "display_data"
    },
    {
     "data": {
      "text/latex": [
       "Target:N01_T2 | Kernel:TransBactrian | $\\sigma$:6.0 | eff:0.732 | $P_{jump}$:0.8291 | Exx2:27.0296 | $\\rho_1$:0.1529 | $\\rho_2$:0.0265 | $E_{0.05}$:0.7453 | $E_{0.25}$:0.7035 | $E_{0.50}$:0.7057 | Time:16.46"
      ],
      "text/plain": [
       "<IPython.core.display.Latex object>"
      ]
     },
     "metadata": {},
     "output_type": "display_data"
    },
    {
     "data": {
      "text/latex": [
       "Target:N01_T2 | Kernel:TransBactrian | $\\sigma$:7.0 | eff:0.7324 | $P_{jump}$:0.8286 | Exx2:27.0747 | $\\rho_1$:0.1528 | $\\rho_2$:0.0242 | $E_{0.05}$:0.7468 | $E_{0.25}$:0.7066 | $E_{0.50}$:0.708 | Time:16.53"
      ],
      "text/plain": [
       "<IPython.core.display.Latex object>"
      ]
     },
     "metadata": {},
     "output_type": "display_data"
    },
    {
     "data": {
      "text/latex": [
       "Target:N01_T2 | Kernel:TransBactrian | $\\sigma$:8.0 | eff:0.7292 | $P_{jump}$:0.8297 | Exx2:27.1146 | $\\rho_1$:0.1521 | $\\rho_2$:0.0235 | $E_{0.05}$:0.7509 | $E_{0.25}$:0.6901 | $E_{0.50}$:0.7065 | Time:16.79"
      ],
      "text/plain": [
       "<IPython.core.display.Latex object>"
      ]
     },
     "metadata": {},
     "output_type": "display_data"
    },
    {
     "data": {
      "text/latex": [
       "Target:N01_T2 | Kernel:TransStrawHat | $\\sigma$:0.1 | eff:0.0395 | $P_{jump}$:0.8686 | Exx2:3.4293 | $\\rho_1$:0.8932 | $\\rho_2$:0.8131 | $E_{0.05}$:0.1492 | $E_{0.25}$:0.0571 | $E_{0.50}$:0.0448 | Time:19.86"
      ],
      "text/plain": [
       "<IPython.core.display.Latex object>"
      ]
     },
     "metadata": {},
     "output_type": "display_data"
    },
    {
     "data": {
      "text/latex": [
       "Target:N01_T2 | Kernel:TransStrawHat | $\\sigma$:0.3 | eff:0.3091 | $P_{jump}$:0.7868 | Exx2:15.9767 | $\\rho_1$:0.5015 | $\\rho_2$:0.274 | $E_{0.05}$:0.7544 | $E_{0.25}$:0.3682 | $E_{0.50}$:0.3929 | Time:15.3"
      ],
      "text/plain": [
       "<IPython.core.display.Latex object>"
      ]
     },
     "metadata": {},
     "output_type": "display_data"
    },
    {
     "data": {
      "text/latex": [
       "Target:N01_T2 | Kernel:TransStrawHat | $\\sigma$:0.5 | eff:0.8292 | $P_{jump}$:0.7947 | Exx2:29.6744 | $\\rho_1$:0.0753 | $\\rho_2$:0.0168 | $E_{0.05}$:1.0119 | $E_{0.25}$:0.9363 | $E_{0.50}$:0.5672 | Time:15.88"
      ],
      "text/plain": [
       "<IPython.core.display.Latex object>"
      ]
     },
     "metadata": {},
     "output_type": "display_data"
    },
    {
     "data": {
      "text/latex": [
       "Target:N01_T2 | Kernel:TransStrawHat | $\\sigma$:0.7 | eff:1.2849 | $P_{jump}$:0.809 | Exx2:36.1103 | $\\rho_1$:-0.1273 | $\\rho_2$:0.0173 | $E_{0.05}$:0.8573 | $E_{0.25}$:0.9488 | $E_{0.50}$:0.928 | Time:16.35"
      ],
      "text/plain": [
       "<IPython.core.display.Latex object>"
      ]
     },
     "metadata": {},
     "output_type": "display_data"
    },
    {
     "data": {
      "text/latex": [
       "Target:N01_T2 | Kernel:TransStrawHat | $\\sigma$:0.8 | eff:1.687 | $P_{jump}$:0.8458 | Exx2:40.3813 | $\\rho_1$:-0.2637 | $\\rho_2$:0.077 | $E_{0.05}$:0.747 | $E_{0.25}$:0.9504 | $E_{0.50}$:1.5499 | Time:16.32"
      ],
      "text/plain": [
       "<IPython.core.display.Latex object>"
      ]
     },
     "metadata": {},
     "output_type": "display_data"
    },
    {
     "data": {
      "text/latex": [
       "Target:N01_T2 | Kernel:TransStrawHat | $\\sigma$:0.9 | eff:1.6763 | $P_{jump}$:0.8483 | Exx2:40.7671 | $\\rho_1$:-0.2722 | $\\rho_2$:0.0946 | $E_{0.05}$:0.6766 | $E_{0.25}$:0.8894 | $E_{0.50}$:1.7442 | Time:16.59"
      ],
      "text/plain": [
       "<IPython.core.display.Latex object>"
      ]
     },
     "metadata": {},
     "output_type": "display_data"
    },
    {
     "data": {
      "text/latex": [
       "Target:N01_T2 | Kernel:TransStrawHat | $\\sigma$:1.0 | eff:1.7296 | $P_{jump}$:0.8383 | Exx2:41.016 | $\\rho_1$:-0.2782 | $\\rho_2$:0.0884 | $E_{0.05}$:0.7112 | $E_{0.25}$:0.873 | $E_{0.50}$:1.5523 | Time:16.3"
      ],
      "text/plain": [
       "<IPython.core.display.Latex object>"
      ]
     },
     "metadata": {},
     "output_type": "display_data"
    },
    {
     "data": {
      "text/latex": [
       "Target:N01_T2 | Kernel:TransStrawHat | $\\sigma$:1.1 | eff:1.6649 | $P_{jump}$:0.8313 | Exx2:40.1675 | $\\rho_1$:-0.2544 | $\\rho_2$:0.0674 | $E_{0.05}$:0.7818 | $E_{0.25}$:1.028 | $E_{0.50}$:1.2317 | Time:16.47"
      ],
      "text/plain": [
       "<IPython.core.display.Latex object>"
      ]
     },
     "metadata": {},
     "output_type": "display_data"
    },
    {
     "data": {
      "text/latex": [
       "Target:N01_T2 | Kernel:TransStrawHat | $\\sigma$:1.3 | eff:1.1661 | $P_{jump}$:0.8192 | Exx2:34.7191 | $\\rho_1$:-0.0849 | $\\rho_2$:0.0099 | $E_{0.05}$:0.9058 | $E_{0.25}$:0.9289 | $E_{0.50}$:0.9967 | Time:16.65"
      ],
      "text/plain": [
       "<IPython.core.display.Latex object>"
      ]
     },
     "metadata": {},
     "output_type": "display_data"
    },
    {
     "data": {
      "text/latex": [
       "Target:N01_T2 | Kernel:TransStrawHat | $\\sigma$:1.5 | eff:0.6727 | $P_{jump}$:0.8315 | Exx2:25.9434 | $\\rho_1$:0.1879 | $\\rho_2$:0.0392 | $E_{0.05}$:0.7314 | $E_{0.25}$:0.6585 | $E_{0.50}$:0.6508 | Time:16.7"
      ],
      "text/plain": [
       "<IPython.core.display.Latex object>"
      ]
     },
     "metadata": {},
     "output_type": "display_data"
    },
    {
     "data": {
      "text/latex": [
       "Target:N01_T2 | Kernel:TransStrawHat | $\\sigma$:1.7 | eff:0.4614 | $P_{jump}$:0.834 | Exx2:20.3125 | $\\rho_1$:0.3641 | $\\rho_2$:0.1375 | $E_{0.05}$:0.6532 | $E_{0.25}$:0.5181 | $E_{0.50}$:0.4856 | Time:16.63"
      ],
      "text/plain": [
       "<IPython.core.display.Latex object>"
      ]
     },
     "metadata": {},
     "output_type": "display_data"
    },
    {
     "data": {
      "text/latex": [
       "Target:N01_T2 | Kernel:TransStrawHat | $\\sigma$:1.8 | eff:0.4379 | $P_{jump}$:0.8306 | Exx2:19.6895 | $\\rho_1$:0.3846 | $\\rho_2$:0.1539 | $E_{0.05}$:0.6764 | $E_{0.25}$:0.4959 | $E_{0.50}$:0.4805 | Time:16.53"
      ],
      "text/plain": [
       "<IPython.core.display.Latex object>"
      ]
     },
     "metadata": {},
     "output_type": "display_data"
    },
    {
     "data": {
      "text/latex": [
       "Target:N01_T2 | Kernel:TransStrawHat | $\\sigma$:1.9 | eff:0.4682 | $P_{jump}$:0.8269 | Exx2:20.3933 | $\\rho_1$:0.3607 | $\\rho_2$:0.1354 | $E_{0.05}$:0.694 | $E_{0.25}$:0.5309 | $E_{0.50}$:0.4993 | Time:16.56"
      ],
      "text/plain": [
       "<IPython.core.display.Latex object>"
      ]
     },
     "metadata": {},
     "output_type": "display_data"
    },
    {
     "data": {
      "text/latex": [
       "Target:N01_T2 | Kernel:TransStrawHat | $\\sigma$:2.0 | eff:0.5151 | $P_{jump}$:0.8253 | Exx2:21.934 | $\\rho_1$:0.3135 | $\\rho_2$:0.1041 | $E_{0.05}$:0.7221 | $E_{0.25}$:0.5817 | $E_{0.50}$:0.503 | Time:16.81"
      ],
      "text/plain": [
       "<IPython.core.display.Latex object>"
      ]
     },
     "metadata": {},
     "output_type": "display_data"
    },
    {
     "data": {
      "text/latex": [
       "Target:N01_T2 | Kernel:TransStrawHat | $\\sigma$:2.1 | eff:0.5764 | $P_{jump}$:0.8239 | Exx2:23.6646 | $\\rho_1$:0.2603 | $\\rho_2$:0.0757 | $E_{0.05}$:0.7745 | $E_{0.25}$:0.6123 | $E_{0.50}$:0.5425 | Time:16.66"
      ],
      "text/plain": [
       "<IPython.core.display.Latex object>"
      ]
     },
     "metadata": {},
     "output_type": "display_data"
    },
    {
     "data": {
      "text/latex": [
       "Target:N01_T2 | Kernel:TransStrawHat | $\\sigma$:2.2 | eff:0.6615 | $P_{jump}$:0.8275 | Exx2:25.5476 | $\\rho_1$:0.2029 | $\\rho_2$:0.0432 | $E_{0.05}$:0.7385 | $E_{0.25}$:0.6665 | $E_{0.50}$:0.6425 | Time:16.54"
      ],
      "text/plain": [
       "<IPython.core.display.Latex object>"
      ]
     },
     "metadata": {},
     "output_type": "display_data"
    },
    {
     "data": {
      "text/latex": [
       "Target:N01_T2 | Kernel:TransStrawHat | $\\sigma$:2.3 | eff:0.7707 | $P_{jump}$:0.836 | Exx2:27.9452 | $\\rho_1$:0.1275 | $\\rho_2$:0.0182 | $E_{0.05}$:0.7382 | $E_{0.25}$:0.722 | $E_{0.50}$:0.7727 | Time:16.72"
      ],
      "text/plain": [
       "<IPython.core.display.Latex object>"
      ]
     },
     "metadata": {},
     "output_type": "display_data"
    },
    {
     "data": {
      "text/latex": [
       "Target:N01_T2 | Kernel:TransStrawHat | $\\sigma$:2.4 | eff:0.8481 | $P_{jump}$:0.8348 | Exx2:29.3367 | $\\rho_1$:0.0826 | $\\rho_2$:0.0078 | $E_{0.05}$:0.727 | $E_{0.25}$:0.7316 | $E_{0.50}$:0.8466 | Time:16.61"
      ],
      "text/plain": [
       "<IPython.core.display.Latex object>"
      ]
     },
     "metadata": {},
     "output_type": "display_data"
    },
    {
     "data": {
      "text/latex": [
       "Target:N01_T2 | Kernel:TransStrawHat | $\\sigma$:2.5 | eff:0.9112 | $P_{jump}$:0.8305 | Exx2:30.5238 | $\\rho_1$:0.0455 | $\\rho_2$:0.0028 | $E_{0.05}$:0.7621 | $E_{0.25}$:0.7649 | $E_{0.50}$:0.8466 | Time:16.35"
      ],
      "text/plain": [
       "<IPython.core.display.Latex object>"
      ]
     },
     "metadata": {},
     "output_type": "display_data"
    },
    {
     "data": {
      "text/latex": [
       "Target:N01_T2 | Kernel:TransStrawHat | $\\sigma$:2.6 | eff:0.9473 | $P_{jump}$:0.8302 | Exx2:31.4048 | $\\rho_1$:0.0194 | $\\rho_2$:0.0031 | $E_{0.05}$:0.7809 | $E_{0.25}$:0.8291 | $E_{0.50}$:0.8305 | Time:16.34"
      ],
      "text/plain": [
       "<IPython.core.display.Latex object>"
      ]
     },
     "metadata": {},
     "output_type": "display_data"
    },
    {
     "data": {
      "text/latex": [
       "Target:N01_T2 | Kernel:TransStrawHat | $\\sigma$:2.8 | eff:0.8943 | $P_{jump}$:0.8256 | Exx2:30.2583 | $\\rho_1$:0.0525 | $\\rho_2$:0.0034 | $E_{0.05}$:0.8234 | $E_{0.25}$:0.8076 | $E_{0.50}$:0.8358 | Time:16.6"
      ],
      "text/plain": [
       "<IPython.core.display.Latex object>"
      ]
     },
     "metadata": {},
     "output_type": "display_data"
    },
    {
     "data": {
      "text/latex": [
       "Target:N01_T2 | Kernel:TransStrawHat | $\\sigma$:3.0 | eff:0.7315 | $P_{jump}$:0.8334 | Exx2:27.0689 | $\\rho_1$:0.1528 | $\\rho_2$:0.0225 | $E_{0.05}$:0.7325 | $E_{0.25}$:0.6865 | $E_{0.50}$:0.7089 | Time:16.86"
      ],
      "text/plain": [
       "<IPython.core.display.Latex object>"
      ]
     },
     "metadata": {},
     "output_type": "display_data"
    },
    {
     "data": {
      "text/latex": [
       "Target:N01_T2 | Kernel:TransStrawHat | $\\sigma$:3.2 | eff:0.6225 | $P_{jump}$:0.8323 | Exx2:24.7044 | $\\rho_1$:0.2295 | $\\rho_2$:0.0574 | $E_{0.05}$:0.7017 | $E_{0.25}$:0.6203 | $E_{0.50}$:0.6225 | Time:16.84"
      ],
      "text/plain": [
       "<IPython.core.display.Latex object>"
      ]
     },
     "metadata": {},
     "output_type": "display_data"
    },
    {
     "data": {
      "text/latex": [
       "Target:N01_T2 | Kernel:TransStrawHat | $\\sigma$:3.5 | eff:0.6471 | $P_{jump}$:0.8265 | Exx2:25.2524 | $\\rho_1$:0.2105 | $\\rho_2$:0.0478 | $E_{0.05}$:0.7592 | $E_{0.25}$:0.67 | $E_{0.50}$:0.617 | Time:16.61"
      ],
      "text/plain": [
       "<IPython.core.display.Latex object>"
      ]
     },
     "metadata": {},
     "output_type": "display_data"
    },
    {
     "data": {
      "text/latex": [
       "Target:N01_T2 | Kernel:TransStrawHat | $\\sigma$:4.0 | eff:0.802 | $P_{jump}$:0.8299 | Exx2:28.7322 | $\\rho_1$:0.1013 | $\\rho_2$:0.0124 | $E_{0.05}$:0.7469 | $E_{0.25}$:0.728 | $E_{0.50}$:0.7618 | Time:16.7"
      ],
      "text/plain": [
       "<IPython.core.display.Latex object>"
      ]
     },
     "metadata": {},
     "output_type": "display_data"
    },
    {
     "data": {
      "text/latex": [
       "Target:N01_T2 | Kernel:TransStrawHat | $\\sigma$:4.5 | eff:0.7041 | $P_{jump}$:0.833 | Exx2:26.4763 | $\\rho_1$:0.1717 | $\\rho_2$:0.0306 | $E_{0.05}$:0.7329 | $E_{0.25}$:0.6828 | $E_{0.50}$:0.683 | Time:16.69"
      ],
      "text/plain": [
       "<IPython.core.display.Latex object>"
      ]
     },
     "metadata": {},
     "output_type": "display_data"
    },
    {
     "data": {
      "text/latex": [
       "Target:N01_T2 | Kernel:TransStrawHat | $\\sigma$:5.0 | eff:0.6791 | $P_{jump}$:0.8279 | Exx2:26.2036 | $\\rho_1$:0.1811 | $\\rho_2$:0.0356 | $E_{0.05}$:0.7595 | $E_{0.25}$:0.6812 | $E_{0.50}$:0.6468 | Time:16.6"
      ],
      "text/plain": [
       "<IPython.core.display.Latex object>"
      ]
     },
     "metadata": {},
     "output_type": "display_data"
    },
    {
     "data": {
      "text/latex": [
       "Target:N01_T2 | Kernel:TransStrawHat | $\\sigma$:6.0 | eff:0.6825 | $P_{jump}$:0.8329 | Exx2:26.3462 | $\\rho_1$:0.1777 | $\\rho_2$:0.0316 | $E_{0.05}$:0.7373 | $E_{0.25}$:0.6786 | $E_{0.50}$:0.6704 | Time:16.48"
      ],
      "text/plain": [
       "<IPython.core.display.Latex object>"
      ]
     },
     "metadata": {},
     "output_type": "display_data"
    },
    {
     "data": {
      "text/latex": [
       "Target:N01_T2 | Kernel:TransStrawHat | $\\sigma$:7.0 | eff:0.8067 | $P_{jump}$:0.8312 | Exx2:28.6452 | $\\rho_1$:0.1068 | $\\rho_2$:0.0132 | $E_{0.05}$:0.76 | $E_{0.25}$:0.7345 | $E_{0.50}$:0.7548 | Time:16.49"
      ],
      "text/plain": [
       "<IPython.core.display.Latex object>"
      ]
     },
     "metadata": {},
     "output_type": "display_data"
    },
    {
     "data": {
      "text/latex": [
       "Target:N01_T2 | Kernel:TransStrawHat | $\\sigma$:8.0 | eff:0.6979 | $P_{jump}$:0.8287 | Exx2:26.439 | $\\rho_1$:0.1742 | $\\rho_2$:0.0336 | $E_{0.05}$:0.7572 | $E_{0.25}$:0.6898 | $E_{0.50}$:0.671 | Time:16.71"
      ],
      "text/plain": [
       "<IPython.core.display.Latex object>"
      ]
     },
     "metadata": {},
     "output_type": "display_data"
    },
    {
     "data": {
      "text/latex": [
       "Target:N01_Logistic | Kernel:Uniform | $\\sigma$:0.4 | eff:0.0021 | $P_{jump}$:0.9652 | Exx2:0.1516 | $\\rho_1$:0.9953 | $\\rho_2$:0.9907 | $E_{0.05}$:0.0044 | $E_{0.25}$:0.0039 | $E_{0.50}$:0.0037 | Time:89.81"
      ],
      "text/plain": [
       "<IPython.core.display.Latex object>"
      ]
     },
     "metadata": {},
     "output_type": "display_data"
    },
    {
     "data": {
      "text/latex": [
       "Target:N01_Logistic | Kernel:Uniform | $\\sigma$:1.2 | eff:0.0183 | $P_{jump}$:0.8969 | Exx2:1.2177 | $\\rho_1$:0.9623 | $\\rho_2$:0.9261 | $E_{0.05}$:0.0385 | $E_{0.25}$:0.0305 | $E_{0.50}$:0.0278 | Time:19.63"
      ],
      "text/plain": [
       "<IPython.core.display.Latex object>"
      ]
     },
     "metadata": {},
     "output_type": "display_data"
    },
    {
     "data": {
      "text/latex": [
       "Target:N01_Logistic | Kernel:Uniform | $\\sigma$:2.0 | eff:0.0465 | $P_{jump}$:0.8299 | Exx2:2.9831 | $\\rho_1$:0.9064 | $\\rho_2$:0.8224 | $E_{0.05}$:0.0841 | $E_{0.25}$:0.074 | $E_{0.50}$:0.0737 | Time:13.14"
      ],
      "text/plain": [
       "<IPython.core.display.Latex object>"
      ]
     },
     "metadata": {},
     "output_type": "display_data"
    },
    {
     "data": {
      "text/latex": [
       "Target:N01_Logistic | Kernel:Uniform | $\\sigma$:2.8 | eff:0.0826 | $P_{jump}$:0.7658 | Exx2:5.1079 | $\\rho_1$:0.8403 | $\\rho_2$:0.7092 | $E_{0.05}$:0.1393 | $E_{0.25}$:0.1293 | $E_{0.50}$:0.1318 | Time:8.87"
      ],
      "text/plain": [
       "<IPython.core.display.Latex object>"
      ]
     },
     "metadata": {},
     "output_type": "display_data"
    },
    {
     "data": {
      "text/latex": [
       "Target:N01_Logistic | Kernel:Uniform | $\\sigma$:3.2 | eff:0.1024 | $P_{jump}$:0.7346 | Exx2:6.2083 | $\\rho_1$:0.8053 | $\\rho_2$:0.6532 | $E_{0.05}$:0.1638 | $E_{0.25}$:0.1591 | $E_{0.50}$:0.1633 | Time:8.69"
      ],
      "text/plain": [
       "<IPython.core.display.Latex object>"
      ]
     },
     "metadata": {},
     "output_type": "display_data"
    },
    {
     "data": {
      "text/latex": [
       "Target:N01_Logistic | Kernel:Uniform | $\\sigma$:3.6 | eff:0.1196 | $P_{jump}$:0.7036 | Exx2:7.2828 | $\\rho_1$:0.7724 | $\\rho_2$:0.6022 | $E_{0.05}$:0.186 | $E_{0.25}$:0.1859 | $E_{0.50}$:0.1915 | Time:8.89"
      ],
      "text/plain": [
       "<IPython.core.display.Latex object>"
      ]
     },
     "metadata": {},
     "output_type": "display_data"
    },
    {
     "data": {
      "text/latex": [
       "Target:N01_Logistic | Kernel:Uniform | $\\sigma$:4.0 | eff:0.1375 | $P_{jump}$:0.6747 | Exx2:8.3382 | $\\rho_1$:0.7397 | $\\rho_2$:0.5551 | $E_{0.05}$:0.1973 | $E_{0.25}$:0.2055 | $E_{0.50}$:0.2202 | Time:8.88"
      ],
      "text/plain": [
       "<IPython.core.display.Latex object>"
      ]
     },
     "metadata": {},
     "output_type": "display_data"
    },
    {
     "data": {
      "text/latex": [
       "Target:N01_Logistic | Kernel:Uniform | $\\sigma$:4.4 | eff:0.1553 | $P_{jump}$:0.6472 | Exx2:9.337 | $\\rho_1$:0.7071 | $\\rho_2$:0.51 | $E_{0.05}$:0.2192 | $E_{0.25}$:0.2292 | $E_{0.50}$:0.242 | Time:8.52"
      ],
      "text/plain": [
       "<IPython.core.display.Latex object>"
      ]
     },
     "metadata": {},
     "output_type": "display_data"
    },
    {
     "data": {
      "text/latex": [
       "Target:N01_Logistic | Kernel:Uniform | $\\sigma$:5.2 | eff:0.1926 | $P_{jump}$:0.5936 | Exx2:11.0785 | $\\rho_1$:0.6538 | $\\rho_2$:0.4385 | $E_{0.05}$:0.2439 | $E_{0.25}$:0.2633 | $E_{0.50}$:0.2776 | Time:8.13"
      ],
      "text/plain": [
       "<IPython.core.display.Latex object>"
      ]
     },
     "metadata": {},
     "output_type": "display_data"
    },
    {
     "data": {
      "text/latex": [
       "Target:N01_Logistic | Kernel:Uniform | $\\sigma$:6.0 | eff:0.2282 | $P_{jump}$:0.5442 | Exx2:12.3957 | $\\rho_1$:0.6115 | $\\rho_2$:0.3841 | $E_{0.05}$:0.2595 | $E_{0.25}$:0.2919 | $E_{0.50}$:0.2956 | Time:7.6"
      ],
      "text/plain": [
       "<IPython.core.display.Latex object>"
      ]
     },
     "metadata": {},
     "output_type": "display_data"
    },
    {
     "data": {
      "text/latex": [
       "Target:N01_Logistic | Kernel:Uniform | $\\sigma$:6.8 | eff:0.2519 | $P_{jump}$:0.5001 | Exx2:13.3168 | $\\rho_1$:0.5821 | $\\rho_2$:0.3459 | $E_{0.05}$:0.2786 | $E_{0.25}$:0.2903 | $E_{0.50}$:0.2848 | Time:7.79"
      ],
      "text/plain": [
       "<IPython.core.display.Latex object>"
      ]
     },
     "metadata": {},
     "output_type": "display_data"
    },
    {
     "data": {
      "text/latex": [
       "Target:N01_Logistic | Kernel:Uniform | $\\sigma$:7.2 | eff:0.261 | $P_{jump}$:0.4798 | Exx2:13.677 | $\\rho_1$:0.5738 | $\\rho_2$:0.3355 | $E_{0.05}$:0.2845 | $E_{0.25}$:0.282 | $E_{0.50}$:0.2805 | Time:7.92"
      ],
      "text/plain": [
       "<IPython.core.display.Latex object>"
      ]
     },
     "metadata": {},
     "output_type": "display_data"
    },
    {
     "data": {
      "text/latex": [
       "Target:N01_Logistic | Kernel:Uniform | $\\sigma$:7.6 | eff:0.2693 | $P_{jump}$:0.4602 | Exx2:13.9025 | $\\rho_1$:0.5649 | $\\rho_2$:0.3252 | $E_{0.05}$:0.2836 | $E_{0.25}$:0.2836 | $E_{0.50}$:0.2719 | Time:7.77"
      ],
      "text/plain": [
       "<IPython.core.display.Latex object>"
      ]
     },
     "metadata": {},
     "output_type": "display_data"
    },
    {
     "data": {
      "text/latex": [
       "Target:N01_Logistic | Kernel:Uniform | $\\sigma$:8.0 | eff:0.2675 | $P_{jump}$:0.4414 | Exx2:13.9986 | $\\rho_1$:0.5604 | $\\rho_2$:0.3179 | $E_{0.05}$:0.2932 | $E_{0.25}$:0.2734 | $E_{0.50}$:0.2622 | Time:7.95"
      ],
      "text/plain": [
       "<IPython.core.display.Latex object>"
      ]
     },
     "metadata": {},
     "output_type": "display_data"
    },
    {
     "data": {
      "text/latex": [
       "Target:N01_Logistic | Kernel:Uniform | $\\sigma$:8.4 | eff:0.2761 | $P_{jump}$:0.4241 | Exx2:14.099 | $\\rho_1$:0.5604 | $\\rho_2$:0.3174 | $E_{0.05}$:0.2915 | $E_{0.25}$:0.2638 | $E_{0.50}$:0.254 | Time:7.75"
      ],
      "text/plain": [
       "<IPython.core.display.Latex object>"
      ]
     },
     "metadata": {},
     "output_type": "display_data"
    },
    {
     "data": {
      "text/latex": [
       "Target:N01_Logistic | Kernel:Uniform | $\\sigma$:8.8 | eff:0.2768 | $P_{jump}$:0.4079 | Exx2:14.0528 | $\\rho_1$:0.5594 | $\\rho_2$:0.3166 | $E_{0.05}$:0.2944 | $E_{0.25}$:0.2556 | $E_{0.50}$:0.2374 | Time:7.99"
      ],
      "text/plain": [
       "<IPython.core.display.Latex object>"
      ]
     },
     "metadata": {},
     "output_type": "display_data"
    },
    {
     "data": {
      "text/latex": [
       "Target:N01_Logistic | Kernel:Uniform | $\\sigma$:9.2 | eff:0.2764 | $P_{jump}$:0.3925 | Exx2:14.0492 | $\\rho_1$:0.5614 | $\\rho_2$:0.3184 | $E_{0.05}$:0.2937 | $E_{0.25}$:0.2462 | $E_{0.50}$:0.2295 | Time:7.54"
      ],
      "text/plain": [
       "<IPython.core.display.Latex object>"
      ]
     },
     "metadata": {},
     "output_type": "display_data"
    },
    {
     "data": {
      "text/latex": [
       "Target:N01_Logistic | Kernel:Uniform | $\\sigma$:9.6 | eff:0.2729 | $P_{jump}$:0.3778 | Exx2:13.907 | $\\rho_1$:0.5658 | $\\rho_2$:0.3241 | $E_{0.05}$:0.2897 | $E_{0.25}$:0.2375 | $E_{0.50}$:0.2179 | Time:7.87"
      ],
      "text/plain": [
       "<IPython.core.display.Latex object>"
      ]
     },
     "metadata": {},
     "output_type": "display_data"
    },
    {
     "data": {
      "text/latex": [
       "Target:N01_Logistic | Kernel:Uniform | $\\sigma$:10.0 | eff:0.2652 | $P_{jump}$:0.3641 | Exx2:13.7039 | $\\rho_1$:0.5713 | $\\rho_2$:0.3289 | $E_{0.05}$:0.2816 | $E_{0.25}$:0.2222 | $E_{0.50}$:0.2079 | Time:8.12"
      ],
      "text/plain": [
       "<IPython.core.display.Latex object>"
      ]
     },
     "metadata": {},
     "output_type": "display_data"
    },
    {
     "data": {
      "text/latex": [
       "Target:N01_Logistic | Kernel:Uniform | $\\sigma$:10.4 | eff:0.2607 | $P_{jump}$:0.3508 | Exx2:13.4501 | $\\rho_1$:0.5773 | $\\rho_2$:0.3373 | $E_{0.05}$:0.2819 | $E_{0.25}$:0.2156 | $E_{0.50}$:0.2033 | Time:7.84"
      ],
      "text/plain": [
       "<IPython.core.display.Latex object>"
      ]
     },
     "metadata": {},
     "output_type": "display_data"
    },
    {
     "data": {
      "text/latex": [
       "Target:N01_Logistic | Kernel:Uniform | $\\sigma$:11.2 | eff:0.2447 | $P_{jump}$:0.328 | Exx2:13.1207 | $\\rho_1$:0.5911 | $\\rho_2$:0.3542 | $E_{0.05}$:0.262 | $E_{0.25}$:0.1982 | $E_{0.50}$:0.186 | Time:7.74"
      ],
      "text/plain": [
       "<IPython.core.display.Latex object>"
      ]
     },
     "metadata": {},
     "output_type": "display_data"
    },
    {
     "data": {
      "text/latex": [
       "Target:N01_Logistic | Kernel:Uniform | $\\sigma$:12.0 | eff:0.2281 | $P_{jump}$:0.3061 | Exx2:12.4725 | $\\rho_1$:0.6106 | $\\rho_2$:0.3784 | $E_{0.05}$:0.2387 | $E_{0.25}$:0.1833 | $E_{0.50}$:0.1707 | Time:8.47"
      ],
      "text/plain": [
       "<IPython.core.display.Latex object>"
      ]
     },
     "metadata": {},
     "output_type": "display_data"
    },
    {
     "data": {
      "text/latex": [
       "Target:N01_Logistic | Kernel:Uniform | $\\sigma$:12.8 | eff:0.2182 | $P_{jump}$:0.2876 | Exx2:11.9512 | $\\rho_1$:0.627 | $\\rho_2$:0.3976 | $E_{0.05}$:0.2283 | $E_{0.25}$:0.1716 | $E_{0.50}$:0.1581 | Time:8.24"
      ],
      "text/plain": [
       "<IPython.core.display.Latex object>"
      ]
     },
     "metadata": {},
     "output_type": "display_data"
    },
    {
     "data": {
      "text/latex": [
       "Target:N01_Logistic | Kernel:Uniform | $\\sigma$:14.0 | eff:0.1976 | $P_{jump}$:0.2636 | Exx2:11.1218 | $\\rho_1$:0.6524 | $\\rho_2$:0.4308 | $E_{0.05}$:0.2077 | $E_{0.25}$:0.1548 | $E_{0.50}$:0.1441 | Time:8.23"
      ],
      "text/plain": [
       "<IPython.core.display.Latex object>"
      ]
     },
     "metadata": {},
     "output_type": "display_data"
    },
    {
     "data": {
      "text/latex": [
       "Target:N01_Logistic | Kernel:Uniform | $\\sigma$:16.0 | eff:0.1654 | $P_{jump}$:0.2301 | Exx2:9.7688 | $\\rho_1$:0.6942 | $\\rho_2$:0.4877 | $E_{0.05}$:0.1741 | $E_{0.25}$:0.1299 | $E_{0.50}$:0.1227 | Time:9.19"
      ],
      "text/plain": [
       "<IPython.core.display.Latex object>"
      ]
     },
     "metadata": {},
     "output_type": "display_data"
    },
    {
     "data": {
      "text/latex": [
       "Target:N01_Logistic | Kernel:Uniform | $\\sigma$:18.0 | eff:0.1504 | $P_{jump}$:0.2053 | Exx2:8.7189 | $\\rho_1$:0.7264 | $\\rho_2$:0.5312 | $E_{0.05}$:0.1554 | $E_{0.25}$:0.1176 | $E_{0.50}$:0.1084 | Time:9.01"
      ],
      "text/plain": [
       "<IPython.core.display.Latex object>"
      ]
     },
     "metadata": {},
     "output_type": "display_data"
    },
    {
     "data": {
      "text/latex": [
       "Target:N01_Logistic | Kernel:Uniform | $\\sigma$:20.0 | eff:0.1321 | $P_{jump}$:0.1842 | Exx2:7.8394 | $\\rho_1$:0.7536 | $\\rho_2$:0.573 | $E_{0.05}$:0.1391 | $E_{0.25}$:0.1037 | $E_{0.50}$:0.096 | Time:8.89"
      ],
      "text/plain": [
       "<IPython.core.display.Latex object>"
      ]
     },
     "metadata": {},
     "output_type": "display_data"
    },
    {
     "data": {
      "text/latex": [
       "Target:N01_Logistic | Kernel:Uniform | $\\sigma$:24.0 | eff:0.1056 | $P_{jump}$:0.154 | Exx2:6.5273 | $\\rho_1$:0.7959 | $\\rho_2$:0.637 | $E_{0.05}$:0.1097 | $E_{0.25}$:0.0841 | $E_{0.50}$:0.0798 | Time:9.35"
      ],
      "text/plain": [
       "<IPython.core.display.Latex object>"
      ]
     },
     "metadata": {},
     "output_type": "display_data"
    },
    {
     "data": {
      "text/latex": [
       "Target:N01_Logistic | Kernel:Uniform | $\\sigma$:28.0 | eff:0.0915 | $P_{jump}$:0.1321 | Exx2:5.6263 | $\\rho_1$:0.8233 | $\\rho_2$:0.6801 | $E_{0.05}$:0.0959 | $E_{0.25}$:0.072 | $E_{0.50}$:0.0676 | Time:10.05"
      ],
      "text/plain": [
       "<IPython.core.display.Latex object>"
      ]
     },
     "metadata": {},
     "output_type": "display_data"
    },
    {
     "data": {
      "text/latex": [
       "Target:N01_Logistic | Kernel:Uniform | $\\sigma$:32.0 | eff:0.0751 | $P_{jump}$:0.1156 | Exx2:4.8804 | $\\rho_1$:0.8471 | $\\rho_2$:0.7183 | $E_{0.05}$:0.0803 | $E_{0.25}$:0.0609 | $E_{0.50}$:0.0578 | Time:11.61"
      ],
      "text/plain": [
       "<IPython.core.display.Latex object>"
      ]
     },
     "metadata": {},
     "output_type": "display_data"
    },
    {
     "data": {
      "text/latex": [
       "Target:N01_Logistic | Kernel:TransUniform | $\\sigma$:0.1 | eff:0.0416 | $P_{jump}$:0.8879 | Exx2:2.9652 | $\\rho_1$:0.9067 | $\\rho_2$:0.8273 | $E_{0.05}$:0.1352 | $E_{0.25}$:0.0611 | $E_{0.50}$:0.0517 | Time:20.51"
      ],
      "text/plain": [
       "<IPython.core.display.Latex object>"
      ]
     },
     "metadata": {},
     "output_type": "display_data"
    },
    {
     "data": {
      "text/latex": [
       "Target:N01_Logistic | Kernel:TransUniform | $\\sigma$:0.3 | eff:0.2912 | $P_{jump}$:0.6928 | Exx2:14.6843 | $\\rho_1$:0.5402 | $\\rho_2$:0.2946 | $E_{0.05}$:0.5148 | $E_{0.25}$:0.343 | $E_{0.50}$:0.3476 | Time:16.08"
      ],
      "text/plain": [
       "<IPython.core.display.Latex object>"
      ]
     },
     "metadata": {},
     "output_type": "display_data"
    },
    {
     "data": {
      "text/latex": [
       "Target:N01_Logistic | Kernel:TransUniform | $\\sigma$:0.5 | eff:0.505 | $P_{jump}$:0.6714 | Exx2:21.9877 | $\\rho_1$:0.3133 | $\\rho_2$:0.1125 | $E_{0.05}$:0.6906 | $E_{0.25}$:0.4883 | $E_{0.50}$:0.3815 | Time:16.48"
      ],
      "text/plain": [
       "<IPython.core.display.Latex object>"
      ]
     },
     "metadata": {},
     "output_type": "display_data"
    },
    {
     "data": {
      "text/latex": [
       "Target:N01_Logistic | Kernel:TransUniform | $\\sigma$:0.7 | eff:0.8016 | $P_{jump}$:0.7289 | Exx2:28.7394 | $\\rho_1$:0.1057 | $\\rho_2$:0.0151 | $E_{0.05}$:0.6313 | $E_{0.25}$:0.5969 | $E_{0.50}$:0.6746 | Time:16.53"
      ],
      "text/plain": [
       "<IPython.core.display.Latex object>"
      ]
     },
     "metadata": {},
     "output_type": "display_data"
    },
    {
     "data": {
      "text/latex": [
       "Target:N01_Logistic | Kernel:TransUniform | $\\sigma$:0.8 | eff:0.818 | $P_{jump}$:0.7172 | Exx2:29.3655 | $\\rho_1$:0.0863 | $\\rho_2$:0.0136 | $E_{0.05}$:0.6662 | $E_{0.25}$:0.6194 | $E_{0.50}$:0.6233 | Time:16.33"
      ],
      "text/plain": [
       "<IPython.core.display.Latex object>"
      ]
     },
     "metadata": {},
     "output_type": "display_data"
    },
    {
     "data": {
      "text/latex": [
       "Target:N01_Logistic | Kernel:TransUniform | $\\sigma$:0.9 | eff:0.8049 | $P_{jump}$:0.6916 | Exx2:29.1233 | $\\rho_1$:0.0923 | $\\rho_2$:0.0191 | $E_{0.05}$:0.7018 | $E_{0.25}$:0.606 | $E_{0.50}$:0.5599 | Time:16.64"
      ],
      "text/plain": [
       "<IPython.core.display.Latex object>"
      ]
     },
     "metadata": {},
     "output_type": "display_data"
    },
    {
     "data": {
      "text/latex": [
       "Target:N01_Logistic | Kernel:TransUniform | $\\sigma$:1.0 | eff:0.7885 | $P_{jump}$:0.6864 | Exx2:28.5058 | $\\rho_1$:0.11 | $\\rho_2$:0.0187 | $E_{0.05}$:0.7433 | $E_{0.25}$:0.6067 | $E_{0.50}$:0.5755 | Time:16.62"
      ],
      "text/plain": [
       "<IPython.core.display.Latex object>"
      ]
     },
     "metadata": {},
     "output_type": "display_data"
    },
    {
     "data": {
      "text/latex": [
       "Target:N01_Logistic | Kernel:TransUniform | $\\sigma$:1.1 | eff:0.7151 | $P_{jump}$:0.6959 | Exx2:26.891 | $\\rho_1$:0.1612 | $\\rho_2$:0.0319 | $E_{0.05}$:0.7045 | $E_{0.25}$:0.6012 | $E_{0.50}$:0.5753 | Time:16.71"
      ],
      "text/plain": [
       "<IPython.core.display.Latex object>"
      ]
     },
     "metadata": {},
     "output_type": "display_data"
    },
    {
     "data": {
      "text/latex": [
       "Target:N01_Logistic | Kernel:TransUniform | $\\sigma$:1.3 | eff:0.5436 | $P_{jump}$:0.7089 | Exx2:23.0048 | $\\rho_1$:0.2785 | $\\rho_2$:0.0828 | $E_{0.05}$:0.614 | $E_{0.25}$:0.5053 | $E_{0.50}$:0.4791 | Time:16.88"
      ],
      "text/plain": [
       "<IPython.core.display.Latex object>"
      ]
     },
     "metadata": {},
     "output_type": "display_data"
    },
    {
     "data": {
      "text/latex": [
       "Target:N01_Logistic | Kernel:TransUniform | $\\sigma$:1.5 | eff:0.5674 | $P_{jump}$:0.6943 | Exx2:23.3374 | $\\rho_1$:0.2687 | $\\rho_2$:0.0773 | $E_{0.05}$:0.6564 | $E_{0.25}$:0.5197 | $E_{0.50}$:0.4865 | Time:16.78"
      ],
      "text/plain": [
       "<IPython.core.display.Latex object>"
      ]
     },
     "metadata": {},
     "output_type": "display_data"
    },
    {
     "data": {
      "text/latex": [
       "Target:N01_Logistic | Kernel:TransUniform | $\\sigma$:1.7 | eff:0.6202 | $P_{jump}$:0.6971 | Exx2:24.8815 | $\\rho_1$:0.2237 | $\\rho_2$:0.0567 | $E_{0.05}$:0.6697 | $E_{0.25}$:0.5499 | $E_{0.50}$:0.4906 | Time:16.9"
      ],
      "text/plain": [
       "<IPython.core.display.Latex object>"
      ]
     },
     "metadata": {},
     "output_type": "display_data"
    },
    {
     "data": {
      "text/latex": [
       "Target:N01_Logistic | Kernel:TransUniform | $\\sigma$:1.8 | eff:0.6864 | $P_{jump}$:0.7043 | Exx2:26.1242 | $\\rho_1$:0.1827 | $\\rho_2$:0.0377 | $E_{0.05}$:0.6534 | $E_{0.25}$:0.5647 | $E_{0.50}$:0.5688 | Time:16.63"
      ],
      "text/plain": [
       "<IPython.core.display.Latex object>"
      ]
     },
     "metadata": {},
     "output_type": "display_data"
    },
    {
     "data": {
      "text/latex": [
       "Target:N01_Logistic | Kernel:TransUniform | $\\sigma$:1.9 | eff:0.7126 | $P_{jump}$:0.7085 | Exx2:26.6933 | $\\rho_1$:0.1638 | $\\rho_2$:0.0313 | $E_{0.05}$:0.6568 | $E_{0.25}$:0.5788 | $E_{0.50}$:0.5781 | Time:16.78"
      ],
      "text/plain": [
       "<IPython.core.display.Latex object>"
      ]
     },
     "metadata": {},
     "output_type": "display_data"
    },
    {
     "data": {
      "text/latex": [
       "Target:N01_Logistic | Kernel:TransUniform | $\\sigma$:2.0 | eff:0.7216 | $P_{jump}$:0.7027 | Exx2:27.0037 | $\\rho_1$:0.1557 | $\\rho_2$:0.0307 | $E_{0.05}$:0.6819 | $E_{0.25}$:0.5774 | $E_{0.50}$:0.5597 | Time:16.71"
      ],
      "text/plain": [
       "<IPython.core.display.Latex object>"
      ]
     },
     "metadata": {},
     "output_type": "display_data"
    },
    {
     "data": {
      "text/latex": [
       "Target:N01_Logistic | Kernel:TransUniform | $\\sigma$:2.1 | eff:0.7126 | $P_{jump}$:0.694 | Exx2:26.8891 | $\\rho_1$:0.1587 | $\\rho_2$:0.0315 | $E_{0.05}$:0.6988 | $E_{0.25}$:0.578 | $E_{0.50}$:0.5453 | Time:16.82"
      ],
      "text/plain": [
       "<IPython.core.display.Latex object>"
      ]
     },
     "metadata": {},
     "output_type": "display_data"
    },
    {
     "data": {
      "text/latex": [
       "Target:N01_Logistic | Kernel:TransUniform | $\\sigma$:2.2 | eff:0.6962 | $P_{jump}$:0.6938 | Exx2:26.5102 | $\\rho_1$:0.1706 | $\\rho_2$:0.0356 | $E_{0.05}$:0.6975 | $E_{0.25}$:0.5839 | $E_{0.50}$:0.5556 | Time:17.16"
      ],
      "text/plain": [
       "<IPython.core.display.Latex object>"
      ]
     },
     "metadata": {},
     "output_type": "display_data"
    },
    {
     "data": {
      "text/latex": [
       "Target:N01_Logistic | Kernel:TransUniform | $\\sigma$:2.3 | eff:0.651 | $P_{jump}$:0.6971 | Exx2:25.4829 | $\\rho_1$:0.2035 | $\\rho_2$:0.0469 | $E_{0.05}$:0.6602 | $E_{0.25}$:0.5475 | $E_{0.50}$:0.5319 | Time:17.49"
      ],
      "text/plain": [
       "<IPython.core.display.Latex object>"
      ]
     },
     "metadata": {},
     "output_type": "display_data"
    },
    {
     "data": {
      "text/latex": [
       "Target:N01_Logistic | Kernel:TransUniform | $\\sigma$:2.4 | eff:0.6176 | $P_{jump}$:0.7059 | Exx2:24.5094 | $\\rho_1$:0.2321 | $\\rho_2$:0.0607 | $E_{0.05}$:0.643 | $E_{0.25}$:0.5383 | $E_{0.50}$:0.5158 | Time:16.89"
      ],
      "text/plain": [
       "<IPython.core.display.Latex object>"
      ]
     },
     "metadata": {},
     "output_type": "display_data"
    },
    {
     "data": {
      "text/latex": [
       "Target:N01_Logistic | Kernel:TransUniform | $\\sigma$:2.5 | eff:0.6021 | $P_{jump}$:0.7074 | Exx2:24.132 | $\\rho_1$:0.2461 | $\\rho_2$:0.0652 | $E_{0.05}$:0.6429 | $E_{0.25}$:0.541 | $E_{0.50}$:0.5188 | Time:16.84"
      ],
      "text/plain": [
       "<IPython.core.display.Latex object>"
      ]
     },
     "metadata": {},
     "output_type": "display_data"
    },
    {
     "data": {
      "text/latex": [
       "Target:N01_Logistic | Kernel:TransUniform | $\\sigma$:2.6 | eff:0.5978 | $P_{jump}$:0.7001 | Exx2:24.1333 | $\\rho_1$:0.2457 | $\\rho_2$:0.0653 | $E_{0.05}$:0.6566 | $E_{0.25}$:0.5316 | $E_{0.50}$:0.5136 | Time:17.08"
      ],
      "text/plain": [
       "<IPython.core.display.Latex object>"
      ]
     },
     "metadata": {},
     "output_type": "display_data"
    },
    {
     "data": {
      "text/latex": [
       "Target:N01_Logistic | Kernel:TransUniform | $\\sigma$:2.8 | eff:0.6139 | $P_{jump}$:0.6925 | Exx2:24.7355 | $\\rho_1$:0.2288 | $\\rho_2$:0.0587 | $E_{0.05}$:0.6697 | $E_{0.25}$:0.5436 | $E_{0.50}$:0.5007 | Time:17.08"
      ],
      "text/plain": [
       "<IPython.core.display.Latex object>"
      ]
     },
     "metadata": {},
     "output_type": "display_data"
    },
    {
     "data": {
      "text/latex": [
       "Target:N01_Logistic | Kernel:TransUniform | $\\sigma$:3.0 | eff:0.6748 | $P_{jump}$:0.7027 | Exx2:26.0477 | $\\rho_1$:0.1864 | $\\rho_2$:0.0417 | $E_{0.05}$:0.6593 | $E_{0.25}$:0.5602 | $E_{0.50}$:0.5548 | Time:16.81"
      ],
      "text/plain": [
       "<IPython.core.display.Latex object>"
      ]
     },
     "metadata": {},
     "output_type": "display_data"
    },
    {
     "data": {
      "text/latex": [
       "Target:N01_Logistic | Kernel:TransUniform | $\\sigma$:3.2 | eff:0.6875 | $P_{jump}$:0.6997 | Exx2:26.596 | $\\rho_1$:0.1714 | $\\rho_2$:0.0368 | $E_{0.05}$:0.6763 | $E_{0.25}$:0.5683 | $E_{0.50}$:0.5464 | Time:17.36"
      ],
      "text/plain": [
       "<IPython.core.display.Latex object>"
      ]
     },
     "metadata": {},
     "output_type": "display_data"
    },
    {
     "data": {
      "text/latex": [
       "Target:N01_Logistic | Kernel:TransUniform | $\\sigma$:3.5 | eff:0.6329 | $P_{jump}$:0.6994 | Exx2:25.0491 | $\\rho_1$:0.2156 | $\\rho_2$:0.0531 | $E_{0.05}$:0.6491 | $E_{0.25}$:0.544 | $E_{0.50}$:0.5146 | Time:17.15"
      ],
      "text/plain": [
       "<IPython.core.display.Latex object>"
      ]
     },
     "metadata": {},
     "output_type": "display_data"
    },
    {
     "data": {
      "text/latex": [
       "Target:N01_Logistic | Kernel:TransUniform | $\\sigma$:4.0 | eff:0.6328 | $P_{jump}$:0.7006 | Exx2:25.1689 | $\\rho_1$:0.2138 | $\\rho_2$:0.0508 | $E_{0.05}$:0.6682 | $E_{0.25}$:0.5501 | $E_{0.50}$:0.5182 | Time:16.79"
      ],
      "text/plain": [
       "<IPython.core.display.Latex object>"
      ]
     },
     "metadata": {},
     "output_type": "display_data"
    },
    {
     "data": {
      "text/latex": [
       "Target:N01_Logistic | Kernel:TransUniform | $\\sigma$:4.5 | eff:0.6726 | $P_{jump}$:0.6956 | Exx2:25.9982 | $\\rho_1$:0.1904 | $\\rho_2$:0.0412 | $E_{0.05}$:0.6777 | $E_{0.25}$:0.564 | $E_{0.50}$:0.5363 | Time:17.04"
      ],
      "text/plain": [
       "<IPython.core.display.Latex object>"
      ]
     },
     "metadata": {},
     "output_type": "display_data"
    },
    {
     "data": {
      "text/latex": [
       "Target:N01_Logistic | Kernel:TransUniform | $\\sigma$:5.0 | eff:0.6308 | $P_{jump}$:0.6939 | Exx2:24.8172 | $\\rho_1$:0.2235 | $\\rho_2$:0.0558 | $E_{0.05}$:0.654 | $E_{0.25}$:0.5425 | $E_{0.50}$:0.5149 | Time:17.15"
      ],
      "text/plain": [
       "<IPython.core.display.Latex object>"
      ]
     },
     "metadata": {},
     "output_type": "display_data"
    },
    {
     "data": {
      "text/latex": [
       "Target:N01_Logistic | Kernel:TransUniform | $\\sigma$:6.0 | eff:0.6246 | $P_{jump}$:0.7023 | Exx2:24.8723 | $\\rho_1$:0.2236 | $\\rho_2$:0.0562 | $E_{0.05}$:0.6578 | $E_{0.25}$:0.5458 | $E_{0.50}$:0.5247 | Time:17.13"
      ],
      "text/plain": [
       "<IPython.core.display.Latex object>"
      ]
     },
     "metadata": {},
     "output_type": "display_data"
    },
    {
     "data": {
      "text/latex": [
       "Target:N01_Logistic | Kernel:TransUniform | $\\sigma$:7.0 | eff:0.6452 | $P_{jump}$:0.7059 | Exx2:25.3606 | $\\rho_1$:0.2096 | $\\rho_2$:0.0509 | $E_{0.05}$:0.6594 | $E_{0.25}$:0.5519 | $E_{0.50}$:0.5302 | Time:17.15"
      ],
      "text/plain": [
       "<IPython.core.display.Latex object>"
      ]
     },
     "metadata": {},
     "output_type": "display_data"
    },
    {
     "data": {
      "text/latex": [
       "Target:N01_Logistic | Kernel:TransUniform | $\\sigma$:8.0 | eff:0.6664 | $P_{jump}$:0.6994 | Exx2:25.773 | $\\rho_1$:0.1951 | $\\rho_2$:0.0431 | $E_{0.05}$:0.675 | $E_{0.25}$:0.5637 | $E_{0.50}$:0.5355 | Time:16.89"
      ],
      "text/plain": [
       "<IPython.core.display.Latex object>"
      ]
     },
     "metadata": {},
     "output_type": "display_data"
    },
    {
     "data": {
      "text/latex": [
       "Target:N01_Logistic | Kernel:TransBactrian | $\\sigma$:0.1 | eff:0.057 | $P_{jump}$:0.8331 | Exx2:3.6367 | $\\rho_1$:0.8871 | $\\rho_2$:0.7889 | $E_{0.05}$:0.1583 | $E_{0.25}$:0.0865 | $E_{0.50}$:0.0754 | Time:20.1"
      ],
      "text/plain": [
       "<IPython.core.display.Latex object>"
      ]
     },
     "metadata": {},
     "output_type": "display_data"
    },
    {
     "data": {
      "text/latex": [
       "Target:N01_Logistic | Kernel:TransBactrian | $\\sigma$:0.3 | eff:0.3402 | $P_{jump}$:0.6358 | Exx2:16.4626 | $\\rho_1$:0.4845 | $\\rho_2$:0.2415 | $E_{0.05}$:0.5821 | $E_{0.25}$:0.4088 | $E_{0.50}$:0.4326 | Time:15.89"
      ],
      "text/plain": [
       "<IPython.core.display.Latex object>"
      ]
     },
     "metadata": {},
     "output_type": "display_data"
    },
    {
     "data": {
      "text/latex": [
       "Target:N01_Logistic | Kernel:TransBactrian | $\\sigma$:0.5 | eff:0.6381 | $P_{jump}$:0.5804 | Exx2:25.9097 | $\\rho_1$:0.1875 | $\\rho_2$:0.0553 | $E_{0.05}$:0.945 | $E_{0.25}$:0.5072 | $E_{0.50}$:0.3483 | Time:16.36"
      ],
      "text/plain": [
       "<IPython.core.display.Latex object>"
      ]
     },
     "metadata": {},
     "output_type": "display_data"
    },
    {
     "data": {
      "text/latex": [
       "Target:N01_Logistic | Kernel:TransBactrian | $\\sigma$:0.7 | eff:0.9606 | $P_{jump}$:0.6503 | Exx2:32.2468 | $\\rho_1$:-0.0081 | $\\rho_2$:0.0205 | $E_{0.05}$:0.8307 | $E_{0.25}$:0.6542 | $E_{0.50}$:0.5124 | Time:16.48"
      ],
      "text/plain": [
       "<IPython.core.display.Latex object>"
      ]
     },
     "metadata": {},
     "output_type": "display_data"
    },
    {
     "data": {
      "text/latex": [
       "Target:N01_Logistic | Kernel:TransBactrian | $\\sigma$:0.8 | eff:1.1795 | $P_{jump}$:0.6966 | Exx2:35.016 | $\\rho_1$:-0.0958 | $\\rho_2$:0.0175 | $E_{0.05}$:0.7348 | $E_{0.25}$:0.703 | $E_{0.50}$:0.7023 | Time:16.93"
      ],
      "text/plain": [
       "<IPython.core.display.Latex object>"
      ]
     },
     "metadata": {},
     "output_type": "display_data"
    },
    {
     "data": {
      "text/latex": [
       "Target:N01_Logistic | Kernel:TransBactrian | $\\sigma$:0.9 | eff:1.3032 | $P_{jump}$:0.7191 | Exx2:36.6301 | $\\rho_1$:-0.1386 | $\\rho_2$:0.0232 | $E_{0.05}$:0.6877 | $E_{0.25}$:0.7262 | $E_{0.50}$:0.8312 | Time:17.11"
      ],
      "text/plain": [
       "<IPython.core.display.Latex object>"
      ]
     },
     "metadata": {},
     "output_type": "display_data"
    },
    {
     "data": {
      "text/latex": [
       "Target:N01_Logistic | Kernel:TransBactrian | $\\sigma$:1.0 | eff:1.3165 | $P_{jump}$:0.7219 | Exx2:36.5042 | $\\rho_1$:-0.1427 | $\\rho_2$:0.0243 | $E_{0.05}$:0.6847 | $E_{0.25}$:0.7308 | $E_{0.50}$:0.8408 | Time:16.84"
      ],
      "text/plain": [
       "<IPython.core.display.Latex object>"
      ]
     },
     "metadata": {},
     "output_type": "display_data"
    },
    {
     "data": {
      "text/latex": [
       "Target:N01_Logistic | Kernel:TransBactrian | $\\sigma$:1.1 | eff:1.2278 | $P_{jump}$:0.7136 | Exx2:35.5212 | $\\rho_1$:-0.1119 | $\\rho_2$:0.0183 | $E_{0.05}$:0.6884 | $E_{0.25}$:0.688 | $E_{0.50}$:0.7812 | Time:17.09"
      ],
      "text/plain": [
       "<IPython.core.display.Latex object>"
      ]
     },
     "metadata": {},
     "output_type": "display_data"
    },
    {
     "data": {
      "text/latex": [
       "Target:N01_Logistic | Kernel:TransBactrian | $\\sigma$:1.3 | eff:0.9515 | $P_{jump}$:0.6931 | Exx2:31.3292 | $\\rho_1$:0.0208 | $\\rho_2$:0.0082 | $E_{0.05}$:0.7177 | $E_{0.25}$:0.6447 | $E_{0.50}$:0.6465 | Time:17.17"
      ],
      "text/plain": [
       "<IPython.core.display.Latex object>"
      ]
     },
     "metadata": {},
     "output_type": "display_data"
    },
    {
     "data": {
      "text/latex": [
       "Target:N01_Logistic | Kernel:TransBactrian | $\\sigma$:1.5 | eff:0.714 | $P_{jump}$:0.6953 | Exx2:26.9302 | $\\rho_1$:0.1594 | $\\rho_2$:0.0331 | $E_{0.05}$:0.6789 | $E_{0.25}$:0.5813 | $E_{0.50}$:0.5564 | Time:16.82"
      ],
      "text/plain": [
       "<IPython.core.display.Latex object>"
      ]
     },
     "metadata": {},
     "output_type": "display_data"
    },
    {
     "data": {
      "text/latex": [
       "Target:N01_Logistic | Kernel:TransBactrian | $\\sigma$:1.7 | eff:0.5804 | $P_{jump}$:0.6971 | Exx2:23.6609 | $\\rho_1$:0.2595 | $\\rho_2$:0.0725 | $E_{0.05}$:0.6521 | $E_{0.25}$:0.5271 | $E_{0.50}$:0.4966 | Time:17.58"
      ],
      "text/plain": [
       "<IPython.core.display.Latex object>"
      ]
     },
     "metadata": {},
     "output_type": "display_data"
    },
    {
     "data": {
      "text/latex": [
       "Target:N01_Logistic | Kernel:TransBactrian | $\\sigma$:1.8 | eff:0.5408 | $P_{jump}$:0.6979 | Exx2:22.9511 | $\\rho_1$:0.2832 | $\\rho_2$:0.0852 | $E_{0.05}$:0.6403 | $E_{0.25}$:0.5034 | $E_{0.50}$:0.4718 | Time:17.05"
      ],
      "text/plain": [
       "<IPython.core.display.Latex object>"
      ]
     },
     "metadata": {},
     "output_type": "display_data"
    },
    {
     "data": {
      "text/latex": [
       "Target:N01_Logistic | Kernel:TransBactrian | $\\sigma$:1.9 | eff:0.5365 | $P_{jump}$:0.702 | Exx2:22.7061 | $\\rho_1$:0.2906 | $\\rho_2$:0.0896 | $E_{0.05}$:0.6254 | $E_{0.25}$:0.5041 | $E_{0.50}$:0.4709 | Time:17.46"
      ],
      "text/plain": [
       "<IPython.core.display.Latex object>"
      ]
     },
     "metadata": {},
     "output_type": "display_data"
    },
    {
     "data": {
      "text/latex": [
       "Target:N01_Logistic | Kernel:TransBactrian | $\\sigma$:2.0 | eff:0.5443 | $P_{jump}$:0.6962 | Exx2:22.6936 | $\\rho_1$:0.2917 | $\\rho_2$:0.0909 | $E_{0.05}$:0.6357 | $E_{0.25}$:0.5053 | $E_{0.50}$:0.471 | Time:17.28"
      ],
      "text/plain": [
       "<IPython.core.display.Latex object>"
      ]
     },
     "metadata": {},
     "output_type": "display_data"
    },
    {
     "data": {
      "text/latex": [
       "Target:N01_Logistic | Kernel:TransBactrian | $\\sigma$:2.1 | eff:0.5547 | $P_{jump}$:0.6958 | Exx2:23.0745 | $\\rho_1$:0.2795 | $\\rho_2$:0.0837 | $E_{0.05}$:0.6357 | $E_{0.25}$:0.5022 | $E_{0.50}$:0.482 | Time:17.54"
      ],
      "text/plain": [
       "<IPython.core.display.Latex object>"
      ]
     },
     "metadata": {},
     "output_type": "display_data"
    },
    {
     "data": {
      "text/latex": [
       "Target:N01_Logistic | Kernel:TransBactrian | $\\sigma$:2.2 | eff:0.5704 | $P_{jump}$:0.6977 | Exx2:23.5632 | $\\rho_1$:0.2639 | $\\rho_2$:0.076 | $E_{0.05}$:0.645 | $E_{0.25}$:0.5209 | $E_{0.50}$:0.4888 | Time:17.15"
      ],
      "text/plain": [
       "<IPython.core.display.Latex object>"
      ]
     },
     "metadata": {},
     "output_type": "display_data"
    },
    {
     "data": {
      "text/latex": [
       "Target:N01_Logistic | Kernel:TransBactrian | $\\sigma$:2.3 | eff:0.5882 | $P_{jump}$:0.6928 | Exx2:23.9555 | $\\rho_1$:0.2508 | $\\rho_2$:0.07 | $E_{0.05}$:0.645 | $E_{0.25}$:0.5259 | $E_{0.50}$:0.4977 | Time:16.95"
      ],
      "text/plain": [
       "<IPython.core.display.Latex object>"
      ]
     },
     "metadata": {},
     "output_type": "display_data"
    },
    {
     "data": {
      "text/latex": [
       "Target:N01_Logistic | Kernel:TransBactrian | $\\sigma$:2.4 | eff:0.6073 | $P_{jump}$:0.6956 | Exx2:24.421 | $\\rho_1$:0.2339 | $\\rho_2$:0.06 | $E_{0.05}$:0.6436 | $E_{0.25}$:0.5327 | $E_{0.50}$:0.5072 | Time:17.27"
      ],
      "text/plain": [
       "<IPython.core.display.Latex object>"
      ]
     },
     "metadata": {},
     "output_type": "display_data"
    },
    {
     "data": {
      "text/latex": [
       "Target:N01_Logistic | Kernel:TransBactrian | $\\sigma$:2.5 | eff:0.6334 | $P_{jump}$:0.6946 | Exx2:24.9697 | $\\rho_1$:0.2209 | $\\rho_2$:0.0549 | $E_{0.05}$:0.6565 | $E_{0.25}$:0.5478 | $E_{0.50}$:0.5206 | Time:17.11"
      ],
      "text/plain": [
       "<IPython.core.display.Latex object>"
      ]
     },
     "metadata": {},
     "output_type": "display_data"
    },
    {
     "data": {
      "text/latex": [
       "Target:N01_Logistic | Kernel:TransBactrian | $\\sigma$:2.6 | eff:0.6401 | $P_{jump}$:0.6981 | Exx2:25.2404 | $\\rho_1$:0.21 | $\\rho_2$:0.0511 | $E_{0.05}$:0.6579 | $E_{0.25}$:0.5523 | $E_{0.50}$:0.5242 | Time:16.86"
      ],
      "text/plain": [
       "<IPython.core.display.Latex object>"
      ]
     },
     "metadata": {},
     "output_type": "display_data"
    },
    {
     "data": {
      "text/latex": [
       "Target:N01_Logistic | Kernel:TransBactrian | $\\sigma$:2.8 | eff:0.6491 | $P_{jump}$:0.6972 | Exx2:25.5442 | $\\rho_1$:0.2007 | $\\rho_2$:0.046 | $E_{0.05}$:0.6691 | $E_{0.25}$:0.5526 | $E_{0.50}$:0.5259 | Time:17.08"
      ],
      "text/plain": [
       "<IPython.core.display.Latex object>"
      ]
     },
     "metadata": {},
     "output_type": "display_data"
    },
    {
     "data": {
      "text/latex": [
       "Target:N01_Logistic | Kernel:TransBactrian | $\\sigma$:3.0 | eff:0.6527 | $P_{jump}$:0.6977 | Exx2:25.6313 | $\\rho_1$:0.2 | $\\rho_2$:0.0436 | $E_{0.05}$:0.678 | $E_{0.25}$:0.5551 | $E_{0.50}$:0.5297 | Time:16.88"
      ],
      "text/plain": [
       "<IPython.core.display.Latex object>"
      ]
     },
     "metadata": {},
     "output_type": "display_data"
    },
    {
     "data": {
      "text/latex": [
       "Target:N01_Logistic | Kernel:TransBactrian | $\\sigma$:3.2 | eff:0.659 | $P_{jump}$:0.6983 | Exx2:25.4869 | $\\rho_1$:0.2007 | $\\rho_2$:0.0441 | $E_{0.05}$:0.6738 | $E_{0.25}$:0.5638 | $E_{0.50}$:0.5332 | Time:17.03"
      ],
      "text/plain": [
       "<IPython.core.display.Latex object>"
      ]
     },
     "metadata": {},
     "output_type": "display_data"
    },
    {
     "data": {
      "text/latex": [
       "Target:N01_Logistic | Kernel:TransBactrian | $\\sigma$:3.5 | eff:0.6391 | $P_{jump}$:0.6994 | Exx2:25.4633 | $\\rho_1$:0.2056 | $\\rho_2$:0.0488 | $E_{0.05}$:0.6587 | $E_{0.25}$:0.548 | $E_{0.50}$:0.5276 | Time:17.0"
      ],
      "text/plain": [
       "<IPython.core.display.Latex object>"
      ]
     },
     "metadata": {},
     "output_type": "display_data"
    },
    {
     "data": {
      "text/latex": [
       "Target:N01_Logistic | Kernel:TransBactrian | $\\sigma$:4.0 | eff:0.6439 | $P_{jump}$:0.6965 | Exx2:25.3444 | $\\rho_1$:0.2077 | $\\rho_2$:0.0487 | $E_{0.05}$:0.6641 | $E_{0.25}$:0.5505 | $E_{0.50}$:0.526 | Time:16.92"
      ],
      "text/plain": [
       "<IPython.core.display.Latex object>"
      ]
     },
     "metadata": {},
     "output_type": "display_data"
    },
    {
     "data": {
      "text/latex": [
       "Target:N01_Logistic | Kernel:TransBactrian | $\\sigma$:4.5 | eff:0.6435 | $P_{jump}$:0.6978 | Exx2:25.3217 | $\\rho_1$:0.2088 | $\\rho_2$:0.0495 | $E_{0.05}$:0.6725 | $E_{0.25}$:0.5599 | $E_{0.50}$:0.5264 | Time:17.06"
      ],
      "text/plain": [
       "<IPython.core.display.Latex object>"
      ]
     },
     "metadata": {},
     "output_type": "display_data"
    },
    {
     "data": {
      "text/latex": [
       "Target:N01_Logistic | Kernel:TransBactrian | $\\sigma$:5.0 | eff:0.6406 | $P_{jump}$:0.6967 | Exx2:25.2587 | $\\rho_1$:0.209 | $\\rho_2$:0.0496 | $E_{0.05}$:0.6554 | $E_{0.25}$:0.5513 | $E_{0.50}$:0.5262 | Time:17.14"
      ],
      "text/plain": [
       "<IPython.core.display.Latex object>"
      ]
     },
     "metadata": {},
     "output_type": "display_data"
    },
    {
     "data": {
      "text/latex": [
       "Target:N01_Logistic | Kernel:TransBactrian | $\\sigma$:6.0 | eff:0.6429 | $P_{jump}$:0.6978 | Exx2:25.3799 | $\\rho_1$:0.2072 | $\\rho_2$:0.0484 | $E_{0.05}$:0.6588 | $E_{0.25}$:0.551 | $E_{0.50}$:0.5293 | Time:17.29"
      ],
      "text/plain": [
       "<IPython.core.display.Latex object>"
      ]
     },
     "metadata": {},
     "output_type": "display_data"
    },
    {
     "data": {
      "text/latex": [
       "Target:N01_Logistic | Kernel:TransBactrian | $\\sigma$:7.0 | eff:0.6463 | $P_{jump}$:0.7 | Exx2:25.322 | $\\rho_1$:0.2081 | $\\rho_2$:0.0485 | $E_{0.05}$:0.6691 | $E_{0.25}$:0.5492 | $E_{0.50}$:0.5312 | Time:16.98"
      ],
      "text/plain": [
       "<IPython.core.display.Latex object>"
      ]
     },
     "metadata": {},
     "output_type": "display_data"
    },
    {
     "data": {
      "text/latex": [
       "Target:N01_Logistic | Kernel:TransBactrian | $\\sigma$:8.0 | eff:0.6473 | $P_{jump}$:0.699 | Exx2:25.3272 | $\\rho_1$:0.2065 | $\\rho_2$:0.0498 | $E_{0.05}$:0.6678 | $E_{0.25}$:0.5576 | $E_{0.50}$:0.5311 | Time:17.22"
      ],
      "text/plain": [
       "<IPython.core.display.Latex object>"
      ]
     },
     "metadata": {},
     "output_type": "display_data"
    },
    {
     "data": {
      "text/latex": [
       "Target:N01_Logistic | Kernel:TransStrawHat | $\\sigma$:0.1 | eff:0.0546 | $P_{jump}$:0.8391 | Exx2:3.5345 | $\\rho_1$:0.8891 | $\\rho_2$:0.7938 | $E_{0.05}$:0.1583 | $E_{0.25}$:0.0809 | $E_{0.50}$:0.0714 | Time:19.12"
      ],
      "text/plain": [
       "<IPython.core.display.Latex object>"
      ]
     },
     "metadata": {},
     "output_type": "display_data"
    },
    {
     "data": {
      "text/latex": [
       "Target:N01_Logistic | Kernel:TransStrawHat | $\\sigma$:0.3 | eff:0.3485 | $P_{jump}$:0.6155 | Exx2:17.1736 | $\\rho_1$:0.4638 | $\\rho_2$:0.2273 | $E_{0.05}$:0.5878 | $E_{0.25}$:0.4029 | $E_{0.50}$:0.451 | Time:16.15"
      ],
      "text/plain": [
       "<IPython.core.display.Latex object>"
      ]
     },
     "metadata": {},
     "output_type": "display_data"
    },
    {
     "data": {
      "text/latex": [
       "Target:N01_Logistic | Kernel:TransStrawHat | $\\sigma$:0.5 | eff:0.6199 | $P_{jump}$:0.5689 | Exx2:26.9335 | $\\rho_1$:0.1594 | $\\rho_2$:0.0668 | $E_{0.05}$:1.0065 | $E_{0.25}$:0.4737 | $E_{0.50}$:0.2912 | Time:16.6"
      ],
      "text/plain": [
       "<IPython.core.display.Latex object>"
      ]
     },
     "metadata": {},
     "output_type": "display_data"
    },
    {
     "data": {
      "text/latex": [
       "Target:N01_Logistic | Kernel:TransStrawHat | $\\sigma$:0.7 | eff:0.9946 | $P_{jump}$:0.6693 | Exx2:32.67 | $\\rho_1$:-0.0237 | $\\rho_2$:0.0194 | $E_{0.05}$:0.7754 | $E_{0.25}$:0.6834 | $E_{0.50}$:0.5281 | Time:16.49"
      ],
      "text/plain": [
       "<IPython.core.display.Latex object>"
      ]
     },
     "metadata": {},
     "output_type": "display_data"
    },
    {
     "data": {
      "text/latex": [
       "Target:N01_Logistic | Kernel:TransStrawHat | $\\sigma$:0.8 | eff:1.4657 | $P_{jump}$:0.7386 | Exx2:38.044 | $\\rho_1$:-0.1896 | $\\rho_2$:0.0368 | $E_{0.05}$:0.6766 | $E_{0.25}$:0.7297 | $E_{0.50}$:0.9932 | Time:16.49"
      ],
      "text/plain": [
       "<IPython.core.display.Latex object>"
      ]
     },
     "metadata": {},
     "output_type": "display_data"
    },
    {
     "data": {
      "text/latex": [
       "Target:N01_Logistic | Kernel:TransStrawHat | $\\sigma$:0.9 | eff:1.5363 | $P_{jump}$:0.7602 | Exx2:38.7145 | $\\rho_1$:-0.21 | $\\rho_2$:0.0456 | $E_{0.05}$:0.5836 | $E_{0.25}$:0.7131 | $E_{0.50}$:1.1331 | Time:16.9"
      ],
      "text/plain": [
       "<IPython.core.display.Latex object>"
      ]
     },
     "metadata": {},
     "output_type": "display_data"
    },
    {
     "data": {
      "text/latex": [
       "Target:N01_Logistic | Kernel:TransStrawHat | $\\sigma$:1.0 | eff:1.4301 | $P_{jump}$:0.7402 | Exx2:37.8128 | $\\rho_1$:-0.1815 | $\\rho_2$:0.04 | $E_{0.05}$:0.6277 | $E_{0.25}$:0.7594 | $E_{0.50}$:0.9373 | Time:16.93"
      ],
      "text/plain": [
       "<IPython.core.display.Latex object>"
      ]
     },
     "metadata": {},
     "output_type": "display_data"
    },
    {
     "data": {
      "text/latex": [
       "Target:N01_Logistic | Kernel:TransStrawHat | $\\sigma$:1.1 | eff:1.2959 | $P_{jump}$:0.7082 | Exx2:36.5581 | $\\rho_1$:-0.1457 | $\\rho_2$:0.0335 | $E_{0.05}$:0.7191 | $E_{0.25}$:0.7222 | $E_{0.50}$:0.7238 | Time:16.99"
      ],
      "text/plain": [
       "<IPython.core.display.Latex object>"
      ]
     },
     "metadata": {},
     "output_type": "display_data"
    },
    {
     "data": {
      "text/latex": [
       "Target:N01_Logistic | Kernel:TransStrawHat | $\\sigma$:1.3 | eff:0.9729 | $P_{jump}$:0.6575 | Exx2:31.9787 | $\\rho_1$:0.0016 | $\\rho_2$:0.008 | $E_{0.05}$:0.8263 | $E_{0.25}$:0.6634 | $E_{0.50}$:0.5971 | Time:17.14"
      ],
      "text/plain": [
       "<IPython.core.display.Latex object>"
      ]
     },
     "metadata": {},
     "output_type": "display_data"
    },
    {
     "data": {
      "text/latex": [
       "Target:N01_Logistic | Kernel:TransStrawHat | $\\sigma$:1.5 | eff:0.5996 | $P_{jump}$:0.6981 | Exx2:24.3799 | $\\rho_1$:0.2388 | $\\rho_2$:0.0648 | $E_{0.05}$:0.6427 | $E_{0.25}$:0.519 | $E_{0.50}$:0.4897 | Time:17.04"
      ],
      "text/plain": [
       "<IPython.core.display.Latex object>"
      ]
     },
     "metadata": {},
     "output_type": "display_data"
    },
    {
     "data": {
      "text/latex": [
       "Target:N01_Logistic | Kernel:TransStrawHat | $\\sigma$:1.7 | eff:0.4278 | $P_{jump}$:0.7201 | Exx2:19.3522 | $\\rho_1$:0.3946 | $\\rho_2$:0.1589 | $E_{0.05}$:0.539 | $E_{0.25}$:0.4482 | $E_{0.50}$:0.4255 | Time:17.1"
      ],
      "text/plain": [
       "<IPython.core.display.Latex object>"
      ]
     },
     "metadata": {},
     "output_type": "display_data"
    },
    {
     "data": {
      "text/latex": [
       "Target:N01_Logistic | Kernel:TransStrawHat | $\\sigma$:1.8 | eff:0.4155 | $P_{jump}$:0.7065 | Exx2:18.9958 | $\\rho_1$:0.4048 | $\\rho_2$:0.1653 | $E_{0.05}$:0.5733 | $E_{0.25}$:0.4423 | $E_{0.50}$:0.4267 | Time:17.21"
      ],
      "text/plain": [
       "<IPython.core.display.Latex object>"
      ]
     },
     "metadata": {},
     "output_type": "display_data"
    },
    {
     "data": {
      "text/latex": [
       "Target:N01_Logistic | Kernel:TransStrawHat | $\\sigma$:1.9 | eff:0.4372 | $P_{jump}$:0.6918 | Exx2:19.6377 | $\\rho_1$:0.3865 | $\\rho_2$:0.152 | $E_{0.05}$:0.6015 | $E_{0.25}$:0.4431 | $E_{0.50}$:0.4197 | Time:17.22"
      ],
      "text/plain": [
       "<IPython.core.display.Latex object>"
      ]
     },
     "metadata": {},
     "output_type": "display_data"
    },
    {
     "data": {
      "text/latex": [
       "Target:N01_Logistic | Kernel:TransStrawHat | $\\sigma$:2.0 | eff:0.4625 | $P_{jump}$:0.6804 | Exx2:20.6086 | $\\rho_1$:0.3549 | $\\rho_2$:0.1356 | $E_{0.05}$:0.6511 | $E_{0.25}$:0.4616 | $E_{0.50}$:0.3962 | Time:16.87"
      ],
      "text/plain": [
       "<IPython.core.display.Latex object>"
      ]
     },
     "metadata": {},
     "output_type": "display_data"
    },
    {
     "data": {
      "text/latex": [
       "Target:N01_Logistic | Kernel:TransStrawHat | $\\sigma$:2.1 | eff:0.4984 | $P_{jump}$:0.6776 | Exx2:21.6583 | $\\rho_1$:0.3199 | $\\rho_2$:0.1138 | $E_{0.05}$:0.6556 | $E_{0.25}$:0.4832 | $E_{0.50}$:0.4088 | Time:16.97"
      ],
      "text/plain": [
       "<IPython.core.display.Latex object>"
      ]
     },
     "metadata": {},
     "output_type": "display_data"
    },
    {
     "data": {
      "text/latex": [
       "Target:N01_Logistic | Kernel:TransStrawHat | $\\sigma$:2.2 | eff:0.5828 | $P_{jump}$:0.6921 | Exx2:23.8124 | $\\rho_1$:0.2557 | $\\rho_2$:0.0722 | $E_{0.05}$:0.6603 | $E_{0.25}$:0.5211 | $E_{0.50}$:0.4885 | Time:16.85"
      ],
      "text/plain": [
       "<IPython.core.display.Latex object>"
      ]
     },
     "metadata": {},
     "output_type": "display_data"
    },
    {
     "data": {
      "text/latex": [
       "Target:N01_Logistic | Kernel:TransStrawHat | $\\sigma$:2.3 | eff:0.6968 | $P_{jump}$:0.7111 | Exx2:26.4969 | $\\rho_1$:0.1716 | $\\rho_2$:0.0327 | $E_{0.05}$:0.6446 | $E_{0.25}$:0.5635 | $E_{0.50}$:0.5979 | Time:17.1"
      ],
      "text/plain": [
       "<IPython.core.display.Latex object>"
      ]
     },
     "metadata": {},
     "output_type": "display_data"
    },
    {
     "data": {
      "text/latex": [
       "Target:N01_Logistic | Kernel:TransStrawHat | $\\sigma$:2.4 | eff:0.7393 | $P_{jump}$:0.7125 | Exx2:27.613 | $\\rho_1$:0.1379 | $\\rho_2$:0.0223 | $E_{0.05}$:0.6409 | $E_{0.25}$:0.5818 | $E_{0.50}$:0.6215 | Time:17.15"
      ],
      "text/plain": [
       "<IPython.core.display.Latex object>"
      ]
     },
     "metadata": {},
     "output_type": "display_data"
    },
    {
     "data": {
      "text/latex": [
       "Target:N01_Logistic | Kernel:TransStrawHat | $\\sigma$:2.5 | eff:0.7676 | $P_{jump}$:0.7058 | Exx2:28.3934 | $\\rho_1$:0.1128 | $\\rho_2$:0.0194 | $E_{0.05}$:0.6658 | $E_{0.25}$:0.6035 | $E_{0.50}$:0.5949 | Time:17.17"
      ],
      "text/plain": [
       "<IPython.core.display.Latex object>"
      ]
     },
     "metadata": {},
     "output_type": "display_data"
    },
    {
     "data": {
      "text/latex": [
       "Target:N01_Logistic | Kernel:TransStrawHat | $\\sigma$:2.6 | eff:0.7962 | $P_{jump}$:0.6959 | Exx2:28.8629 | $\\rho_1$:0.0973 | $\\rho_2$:0.0188 | $E_{0.05}$:0.7085 | $E_{0.25}$:0.6084 | $E_{0.50}$:0.5638 | Time:17.08"
      ],
      "text/plain": [
       "<IPython.core.display.Latex object>"
      ]
     },
     "metadata": {},
     "output_type": "display_data"
    },
    {
     "data": {
      "text/latex": [
       "Target:N01_Logistic | Kernel:TransStrawHat | $\\sigma$:2.8 | eff:0.7858 | $P_{jump}$:0.6829 | Exx2:28.4066 | $\\rho_1$:0.1127 | $\\rho_2$:0.0192 | $E_{0.05}$:0.724 | $E_{0.25}$:0.6136 | $E_{0.50}$:0.584 | Time:17.04"
      ],
      "text/plain": [
       "<IPython.core.display.Latex object>"
      ]
     },
     "metadata": {},
     "output_type": "display_data"
    },
    {
     "data": {
      "text/latex": [
       "Target:N01_Logistic | Kernel:TransStrawHat | $\\sigma$:3.0 | eff:0.6457 | $P_{jump}$:0.705 | Exx2:25.3714 | $\\rho_1$:0.2071 | $\\rho_2$:0.0485 | $E_{0.05}$:0.6382 | $E_{0.25}$:0.5429 | $E_{0.50}$:0.5285 | Time:16.94"
      ],
      "text/plain": [
       "<IPython.core.display.Latex object>"
      ]
     },
     "metadata": {},
     "output_type": "display_data"
    },
    {
     "data": {
      "text/latex": [
       "Target:N01_Logistic | Kernel:TransStrawHat | $\\sigma$:3.2 | eff:0.5653 | $P_{jump}$:0.7109 | Exx2:23.3781 | $\\rho_1$:0.2734 | $\\rho_2$:0.0806 | $E_{0.05}$:0.607 | $E_{0.25}$:0.5218 | $E_{0.50}$:0.5028 | Time:16.99"
      ],
      "text/plain": [
       "<IPython.core.display.Latex object>"
      ]
     },
     "metadata": {},
     "output_type": "display_data"
    },
    {
     "data": {
      "text/latex": [
       "Target:N01_Logistic | Kernel:TransStrawHat | $\\sigma$:3.5 | eff:0.5711 | $P_{jump}$:0.6858 | Exx2:23.5584 | $\\rho_1$:0.2629 | $\\rho_2$:0.0773 | $E_{0.05}$:0.6746 | $E_{0.25}$:0.5236 | $E_{0.50}$:0.4647 | Time:16.98"
      ],
      "text/plain": [
       "<IPython.core.display.Latex object>"
      ]
     },
     "metadata": {},
     "output_type": "display_data"
    },
    {
     "data": {
      "text/latex": [
       "Target:N01_Logistic | Kernel:TransStrawHat | $\\sigma$:4.0 | eff:0.7083 | $P_{jump}$:0.7053 | Exx2:26.8443 | $\\rho_1$:0.1598 | $\\rho_2$:0.033 | $E_{0.05}$:0.6562 | $E_{0.25}$:0.58 | $E_{0.50}$:0.5581 | Time:16.86"
      ],
      "text/plain": [
       "<IPython.core.display.Latex object>"
      ]
     },
     "metadata": {},
     "output_type": "display_data"
    },
    {
     "data": {
      "text/latex": [
       "Target:N01_Logistic | Kernel:TransStrawHat | $\\sigma$:4.5 | eff:0.6274 | $P_{jump}$:0.7042 | Exx2:24.8543 | $\\rho_1$:0.2248 | $\\rho_2$:0.0565 | $E_{0.05}$:0.6308 | $E_{0.25}$:0.5383 | $E_{0.50}$:0.5206 | Time:17.19"
      ],
      "text/plain": [
       "<IPython.core.display.Latex object>"
      ]
     },
     "metadata": {},
     "output_type": "display_data"
    },
    {
     "data": {
      "text/latex": [
       "Target:N01_Logistic | Kernel:TransStrawHat | $\\sigma$:5.0 | eff:0.6058 | $P_{jump}$:0.691 | Exx2:24.4743 | $\\rho_1$:0.236 | $\\rho_2$:0.0629 | $E_{0.05}$:0.6738 | $E_{0.25}$:0.541 | $E_{0.50}$:0.4906 | Time:17.1"
      ],
      "text/plain": [
       "<IPython.core.display.Latex object>"
      ]
     },
     "metadata": {},
     "output_type": "display_data"
    },
    {
     "data": {
      "text/latex": [
       "Target:N01_Logistic | Kernel:TransStrawHat | $\\sigma$:6.0 | eff:0.6181 | $P_{jump}$:0.7058 | Exx2:24.6092 | $\\rho_1$:0.2309 | $\\rho_2$:0.0599 | $E_{0.05}$:0.6486 | $E_{0.25}$:0.5371 | $E_{0.50}$:0.5111 | Time:17.19"
      ],
      "text/plain": [
       "<IPython.core.display.Latex object>"
      ]
     },
     "metadata": {},
     "output_type": "display_data"
    },
    {
     "data": {
      "text/latex": [
       "Target:N01_Logistic | Kernel:TransStrawHat | $\\sigma$:7.0 | eff:0.7017 | $P_{jump}$:0.7007 | Exx2:26.642 | $\\rho_1$:0.1669 | $\\rho_2$:0.0342 | $E_{0.05}$:0.6665 | $E_{0.25}$:0.5788 | $E_{0.50}$:0.5538 | Time:17.09"
      ],
      "text/plain": [
       "<IPython.core.display.Latex object>"
      ]
     },
     "metadata": {},
     "output_type": "display_data"
    },
    {
     "data": {
      "text/latex": [
       "Target:N01_Logistic | Kernel:TransStrawHat | $\\sigma$:8.0 | eff:0.6135 | $P_{jump}$:0.6954 | Exx2:24.5533 | $\\rho_1$:0.2308 | $\\rho_2$:0.0604 | $E_{0.05}$:0.6718 | $E_{0.25}$:0.5348 | $E_{0.50}$:0.5 | Time:17.3"
      ],
      "text/plain": [
       "<IPython.core.display.Latex object>"
      ]
     },
     "metadata": {},
     "output_type": "display_data"
    },
    {
     "name": "stdout",
     "output_type": "stream",
     "text": [
      "总共用时: 3695.462614\n"
     ]
    }
   ],
   "source": [
    "#MCMC sampling implementation\n",
    "# np.random.seed(121)\n",
    "begin_total = time.time()\n",
    "nround = int(10e5)\n",
    "burnin = int(2*10e4)\n",
    "size = len(range(-burnin,nround))\n",
    "sigmaset_baseline = np.array([0.1, 0.3, 0.5, 0.7, 0.8, 0.9, 1, 1.1, 1.3, 1.5, 1.7,\n",
    "                    1.8, 1.9, 2, 2.1, 2.2, 2.3, 2.4, 2.5, 2.6, 2.8,\n",
    "                    3.0, 3.2, 3.5, 4, 4.5, 5, 6, 7, 8])\n",
    "kernelset = ['Uniform','TransUniform','TransBactrian','TransStrawHat']\n",
    "targetset = {'N01_T2':'t2_CDF', 'N01_Logistic':'logistic_CDF'}\n",
    "# kernelset = ['Uniform']\n",
    "# targetset = {'N01_T2':'t2_CDF'}\n",
    "\n",
    "target_result = {}\n",
    "mu=3;std=4\n",
    "for target,transform in targetset.items():\n",
    "    eff_kernel = {}; Pjump_kernel = {}; Exx2_kernel = {}; Rho_kernel={}; Sample_kernel={}; Quantile_kernel={}\n",
    "    for kernel in kernelset:\n",
    "        Eff = []; Pjump = []; Exx2=[]; Rho=[]; Sample=[]; Quantile=[]\n",
    "        if 'Uniform' in kernel:\n",
    "            random_result = np.random.uniform(low=-np.sqrt(3), high=np.sqrt(3), size=size)\n",
    "        elif 'Bactrian' in kernel:\n",
    "            random_result = random_bactrian(size = size)\n",
    "        elif 'StrawHat' in kernel:\n",
    "            random_result = random_strawhat(size=size)\n",
    "        sigmaset = sigmaset_baseline if 'Trans' in kernel else sigmaset_baseline*std            \n",
    "        for sigma in sigmaset:\n",
    "            begin_loop = time.time()\n",
    "            exx2 = 0; accept = 0; burn_in_result = []\n",
    "            x = np.random.uniform(low=mu,high=mu+1)\n",
    "            result = np.zeros(nround)\n",
    "            logpdf_old = logtargetpdf(x,target,mu=mu,sigma=std) - log_proposal_ratio(x,transform,True,kernel,mu=mu,sigma=std)\n",
    "            mu_hat, sigma_hat = mu,std\n",
    "            burnin_off=False\n",
    "            for j in range(-burnin,nround):\n",
    "                if (j==0):\n",
    "                    accept = 0; burnin_off = True\n",
    "                    mu_hat, sigma_hat = np.mean(burn_in_result), np.std(burn_in_result)\n",
    "                y = x if (not(('Trans' in kernel)&burnin_off)) else transform_x(x,transform,mu=mu_hat,sigma=sigma_hat)\n",
    "                ynew = y + random_result[j+burnin] * sigma\n",
    "                if ((('Trans' in kernel)&burnin_off) & (not (0 <= ynew <= 1))):\n",
    "                    ynew = reflect(ynew, xL=0, xU=1)\n",
    "                xnew = ynew if (not(('Trans' in kernel)&burnin_off)) else transform_inverse(ynew,transform,mu=mu_hat,sigma=sigma_hat)\n",
    "                logpdf_new = logtargetpdf(xnew,target,mu=mu,sigma=std) - log_proposal_ratio(xnew,transform,burnin_off,kernel,mu=mu_hat,sigma=sigma_hat)\n",
    "                pi_dif = logpdf_new - logpdf_old\n",
    "                if ((pi_dif>0) | (np.exp(pi_dif)>np.random.random())):\n",
    "                    x = xnew\n",
    "                    logpdf_old = logpdf_new\n",
    "                    accept += 1\n",
    "                \n",
    "                if (j<0):\n",
    "                    burn_in_result.append(x)\n",
    "                else:\n",
    "                    result[j] = x\n",
    "                    \n",
    "            eff = Eff_IntegratedCorrelationTime(result)\n",
    "            rho = [rho_k(result,i) for i in range(1,11)]\n",
    "            exx2 = sum(np.square(result[1:] - result[:-1]))\n",
    "            quantile = [Eff_quantile(result,i) for i in [0.05,0.25,0.5,0.75,0.95]]\n",
    "            Eff.append(eff)\n",
    "            Pjump.append(accept/nround)\n",
    "            Exx2.append(exx2/nround)\n",
    "            Rho.append(rho)\n",
    "            Sample.append(result.copy())\n",
    "            Quantile.append(quantile)\n",
    "            display(Latex('Target:{} | Kernel:{} | $\\sigma$:{} | eff:{} | $P_{{jump}}$:{} | Exx2:{} | $\\\\rho_1$:{} | $\\\\rho_2$:{} | $E_{{0.05}}$:{} | $E_{{0.25}}$:{} | $E_{{0.50}}$:{} | Time:{}'.format(\n",
    "                    target,kernel,sigma,round(eff,4),round(accept/nround,4),round(exx2/nround,4),round(rho[0],4),round(rho[1],4),\n",
    "                    round(quantile[0],4),round(quantile[1],4),round(quantile[2],4),round((time.time()-begin_loop),2))))\n",
    "        eff_kernel[kernel] = Eff\n",
    "        Pjump_kernel[kernel] = Pjump\n",
    "        Exx2_kernel[kernel] = Exx2\n",
    "        Rho_kernel[kernel] = Rho\n",
    "        Sample_kernel[kernel] = Sample\n",
    "        Quantile_kernel[kernel] = Quantile\n",
    "    target_result[target] = [eff_kernel,Pjump_kernel,Exx2_kernel,Rho_kernel,Sample_kernel,Quantile_kernel]\n",
    "print('总共用时: %f'% (time.time()-begin_total))"
   ]
  },
  {
   "cell_type": "code",
   "execution_count": 7,
   "metadata": {},
   "outputs": [
    {
     "name": "stdout",
     "output_type": "stream",
     "text": [
      "Kernel                    Sigma    Eff      Pjump    Exx2     rho1     rho2     E_5%     E_25%    E_50%   \n",
      "                                       N01_T2\n",
      "Uniform                   2.2      0.281    0.408    14.148   0.559    0.315    0.298    0.253    0.244   \n",
      "TransUniform              0.9      0.975    0.832    31.575   0.014    0.0      0.79     0.838    0.847   \n",
      "TransBactrian             0.9      1.573    0.832    39.409   -0.227   0.057    0.759    0.958    1.329   \n",
      "TransStrawHat             1.0      1.73     0.838    41.016   -0.278   0.088    0.711    0.873    1.552   \n",
      "                                       N01_Logistic\n",
      "Uniform                   2.2      0.277    0.408    14.053   0.559    0.317    0.294    0.256    0.237   \n",
      "TransUniform              0.8      0.818    0.717    29.366   0.086    0.014    0.666    0.619    0.623   \n",
      "TransBactrian             1.0      1.316    0.722    36.504   -0.143   0.024    0.685    0.731    0.841   \n",
      "TransStrawHat             0.9      1.536    0.76     38.714   -0.21    0.046    0.584    0.713    1.133   \n"
     ]
    }
   ],
   "source": [
    "name = ['Kernel' ,'Sigma', 'Eff', 'Pjump', 'Exx2', 'rho1', 'rho2', 'E_5%', 'E_25%', 'E_50%']\n",
    "print('{:<25} {:<8} {:<8} {:<8} {:<8} {:<8} {:<8} {:<8} {:<8} {:<8}'.format(*name))\n",
    "\n",
    "for target in targetset:\n",
    "    kernel_info = {}\n",
    "    print('                                      ',target)\n",
    "    for kernel in kernelset:\n",
    "        index = [np.argmax(target_result[target][0][i]) for i in kernelset]\n",
    "        index_need = index[np.where(np.array(kernelset)==kernel)[0][0]]\n",
    "        info = [target_result[target][i][kernel][index_need] for i in range(len(target_result[target]))]\n",
    "        rho1 = info[3][0]; rho2 = info[3][1]\n",
    "        E05 = info[5][0]; E25 = info[5][1]; E50 = info[5][2]\n",
    "#         kernel_info[kernel] = np.round(np.concatenate([[sigmaset[index_need]],info[0:3],[rho1,rho2]]),3)\n",
    "        kernel_info[kernel] = np.round(np.concatenate([[sigmaset[index_need]],info[0:3],[rho1,rho2],[E05,E25,E50]]),3)\n",
    "        kernel_info[kernel] = kernel_info[kernel].tolist()\n",
    "        kernel_info[kernel].insert(0,kernel)\n",
    "        print('{:<25} {:<8} {:<8} {:<8} {:<8} {:<8} {:<8} {:<8} {:<8} {:<8}'.format(*kernel_info[kernel]))"
   ]
  }
 ],
 "metadata": {
  "kernelspec": {
   "display_name": "Python 3",
   "language": "python",
   "name": "python3"
  },
  "language_info": {
   "codemirror_mode": {
    "name": "ipython",
    "version": 3
   },
   "file_extension": ".py",
   "mimetype": "text/x-python",
   "name": "python",
   "nbconvert_exporter": "python",
   "pygments_lexer": "ipython3",
   "version": "3.6.8"
  }
 },
 "nbformat": 4,
 "nbformat_minor": 2
}
