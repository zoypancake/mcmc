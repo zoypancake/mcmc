{
 "cells": [
  {
   "cell_type": "code",
   "execution_count": 2,
   "metadata": {},
   "outputs": [
    {
     "data": {
      "text/html": [
       "<style>.container { width:80% !important; }</style>"
      ],
      "text/plain": [
       "<IPython.core.display.HTML object>"
      ]
     },
     "metadata": {},
     "output_type": "display_data"
    }
   ],
   "source": [
    "from IPython.core.display import display, HTML\n",
    "display(HTML(\"<style>.container { width:80% !important; }</style>\"))"
   ]
  },
  {
   "cell_type": "code",
   "execution_count": 3,
   "metadata": {},
   "outputs": [],
   "source": [
    "from tools import *\n",
    "import matplotlib.pyplot as plt\n",
    "import numpy as np\n",
    "import scipy.stats\n",
    "from scipy.stats import multivariate_normal\n",
    "from scipy.misc import derivative\n",
    "from scipy.linalg import fractional_matrix_power\n",
    "from scipy.stats import wishart\n",
    "from IPython.display import Latex\n",
    "import sys\n",
    "import time"
   ]
  },
  {
   "cell_type": "code",
   "execution_count": 4,
   "metadata": {},
   "outputs": [],
   "source": [
    "def logtargetpdf(x, target, kernel):\n",
    "    lnp = 0.0\n",
    "    if (target == 'Exp'):\n",
    "            lnp = -x if (x>=0) else -500\n",
    "    elif (target == 'Folded_Gaussian'):\n",
    "            lnp = -x*x/2 if (x>=0) else -500\n",
    "    elif (target == 'N01_T2'):\n",
    "            lnp = -x*x/2\n",
    "    elif (target == 'N01_Logistic'):\n",
    "            lnp = -x*x/2\n",
    "    return (lnp)\n",
    "\n",
    "def transform_x(x,transform):\n",
    "    y = 0.0\n",
    "    if (transform == 'Exp(1)_CDF'):\n",
    "        y = np.exp(-x)\n",
    "    elif (transform == 't(2)_CDF'):\n",
    "        y = 1 - 1/2 * (1+np.sqrt(1-2/(np.square(x)+2))) if x<0 else 1/2 * (1+np.sqrt(1-2/(np.square(x)+2)))\n",
    "    elif (transform == 'logistic_CDF'):\n",
    "        y = 1/(1+np.exp(-x))\n",
    "    return y\n",
    "\n",
    "def transform_inverse(x,transform):\n",
    "    y = 0.0\n",
    "    if (transform == 'Exp(1)_CDF'):\n",
    "        y = -np.log(x)\n",
    "    elif (transform == 't(2)_CDF'):\n",
    "        y = np.sqrt(2/(1-np.square(2*x-1))-2) * (-1 if x<0.5 else 1)\n",
    "    elif (transform == 'logistic_CDF'):\n",
    "        y = -np.log(1/x-1)\n",
    "    return y\n",
    "\n",
    "def log_proposal_ratio(x,transform,kernel):\n",
    "    ratio = 0.0\n",
    "    if 'Trans' in kernel:\n",
    "        if (transform == 'Exp(1)_CDF'):\n",
    "            ratio = -x\n",
    "        elif (transform == 't(2)_CDF'):\n",
    "            ratio = -3/2*np.log(1+x**2/2)\n",
    "        elif (transform == 'logistic_CDF'):\n",
    "            ratio = -x - 2*np.log(1+np.exp(-x))\n",
    "    return ratio"
   ]
  },
  {
   "cell_type": "code",
   "execution_count": 5,
   "metadata": {
    "collapsed": true
   },
   "outputs": [
    {
     "data": {
      "text/latex": [
       "Target:Exp | Kernel:Uniform | $\\sigma$:0.1 | eff:0.0012 | $P_{jump}$:0.9581 | Exx2:0.009 | $\\rho_1$:0.9959 | $\\rho_2$:0.9919 | $E_{0.05}$:0.0426 | $E_{0.25}$:0.0076 | $E_{0.50}$:0.0035 | Time:156.0"
      ],
      "text/plain": [
       "<IPython.core.display.Latex object>"
      ]
     },
     "metadata": {},
     "output_type": "display_data"
    },
    {
     "data": {
      "text/latex": [
       "Target:Exp | Kernel:Uniform | $\\sigma$:0.3 | eff:0.0086 | $P_{jump}$:0.8808 | Exx2:0.0655 | $\\rho_1$:0.9691 | $\\rho_2$:0.9419 | $E_{0.05}$:0.2824 | $E_{0.25}$:0.071 | $E_{0.50}$:0.0315 | Time:35.74"
      ],
      "text/plain": [
       "<IPython.core.display.Latex object>"
      ]
     },
     "metadata": {},
     "output_type": "display_data"
    },
    {
     "data": {
      "text/latex": [
       "Target:Exp | Kernel:Uniform | $\\sigma$:0.5 | eff:0.0223 | $P_{jump}$:0.8119 | Exx2:0.1477 | $\\rho_1$:0.9282 | $\\rho_2$:0.8694 | $E_{0.05}$:0.3813 | $E_{0.25}$:0.1598 | $E_{0.50}$:0.0724 | Time:21.5"
      ],
      "text/plain": [
       "<IPython.core.display.Latex object>"
      ]
     },
     "metadata": {},
     "output_type": "display_data"
    },
    {
     "data": {
      "text/latex": [
       "Target:Exp | Kernel:Uniform | $\\sigma$:0.7 | eff:0.0416 | $P_{jump}$:0.7495 | Exx2:0.2351 | $\\rho_1$:0.8818 | $\\rho_2$:0.7899 | $E_{0.05}$:0.3725 | $E_{0.25}$:0.2377 | $E_{0.50}$:0.132 | Time:14.93"
      ],
      "text/plain": [
       "<IPython.core.display.Latex object>"
      ]
     },
     "metadata": {},
     "output_type": "display_data"
    },
    {
     "data": {
      "text/latex": [
       "Target:Exp | Kernel:Uniform | $\\sigma$:0.8 | eff:0.0489 | $P_{jump}$:0.7215 | Exx2:0.2787 | $\\rho_1$:0.8627 | $\\rho_2$:0.7586 | $E_{0.05}$:0.3512 | $E_{0.25}$:0.2527 | $E_{0.50}$:0.1533 | Time:14.9"
      ],
      "text/plain": [
       "<IPython.core.display.Latex object>"
      ]
     },
     "metadata": {},
     "output_type": "display_data"
    },
    {
     "data": {
      "text/latex": [
       "Target:Exp | Kernel:Uniform | $\\sigma$:0.9 | eff:0.0532 | $P_{jump}$:0.6945 | Exx2:0.32 | $\\rho_1$:0.8459 | $\\rho_2$:0.7309 | $E_{0.05}$:0.3239 | $E_{0.25}$:0.2725 | $E_{0.50}$:0.1749 | Time:14.25"
      ],
      "text/plain": [
       "<IPython.core.display.Latex object>"
      ]
     },
     "metadata": {},
     "output_type": "display_data"
    },
    {
     "data": {
      "text/latex": [
       "Target:Exp | Kernel:Uniform | $\\sigma$:1 | eff:0.0719 | $P_{jump}$:0.6687 | Exx2:0.3578 | $\\rho_1$:0.8205 | $\\rho_2$:0.6892 | $E_{0.05}$:0.3081 | $E_{0.25}$:0.2687 | $E_{0.50}$:0.2052 | Time:11.05"
      ],
      "text/plain": [
       "<IPython.core.display.Latex object>"
      ]
     },
     "metadata": {},
     "output_type": "display_data"
    },
    {
     "data": {
      "text/latex": [
       "Target:Exp | Kernel:Uniform | $\\sigma$:1.1 | eff:0.0797 | $P_{jump}$:0.6447 | Exx2:0.3927 | $\\rho_1$:0.8032 | $\\rho_2$:0.6609 | $E_{0.05}$:0.2855 | $E_{0.25}$:0.2622 | $E_{0.50}$:0.2207 | Time:12.09"
      ],
      "text/plain": [
       "<IPython.core.display.Latex object>"
      ]
     },
     "metadata": {},
     "output_type": "display_data"
    },
    {
     "data": {
      "text/latex": [
       "Target:Exp | Kernel:Uniform | $\\sigma$:1.3 | eff:0.1012 | $P_{jump}$:0.599 | Exx2:0.4519 | $\\rho_1$:0.7734 | $\\rho_2$:0.6129 | $E_{0.05}$:0.25 | $E_{0.25}$:0.2524 | $E_{0.50}$:0.2465 | Time:10.79"
      ],
      "text/plain": [
       "<IPython.core.display.Latex object>"
      ]
     },
     "metadata": {},
     "output_type": "display_data"
    },
    {
     "data": {
      "text/latex": [
       "Target:Exp | Kernel:Uniform | $\\sigma$:1.5 | eff:0.1088 | $P_{jump}$:0.5602 | Exx2:0.5015 | $\\rho_1$:0.7555 | $\\rho_2$:0.5844 | $E_{0.05}$:0.2244 | $E_{0.25}$:0.2332 | $E_{0.50}$:0.2381 | Time:11.07"
      ],
      "text/plain": [
       "<IPython.core.display.Latex object>"
      ]
     },
     "metadata": {},
     "output_type": "display_data"
    },
    {
     "data": {
      "text/latex": [
       "Target:Exp | Kernel:Uniform | $\\sigma$:1.7 | eff:0.1307 | $P_{jump}$:0.5236 | Exx2:0.5375 | $\\rho_1$:0.7312 | $\\rho_2$:0.5467 | $E_{0.05}$:0.1957 | $E_{0.25}$:0.2121 | $E_{0.50}$:0.2329 | Time:10.24"
      ],
      "text/plain": [
       "<IPython.core.display.Latex object>"
      ]
     },
     "metadata": {},
     "output_type": "display_data"
    },
    {
     "data": {
      "text/latex": [
       "Target:Exp | Kernel:Uniform | $\\sigma$:1.8 | eff:0.1409 | $P_{jump}$:0.5071 | Exx2:0.5552 | $\\rho_1$:0.7245 | $\\rho_2$:0.5345 | $E_{0.05}$:0.187 | $E_{0.25}$:0.2043 | $E_{0.50}$:0.2258 | Time:10.33"
      ],
      "text/plain": [
       "<IPython.core.display.Latex object>"
      ]
     },
     "metadata": {},
     "output_type": "display_data"
    },
    {
     "data": {
      "text/latex": [
       "Target:Exp | Kernel:Uniform | $\\sigma$:1.9 | eff:0.1495 | $P_{jump}$:0.4899 | Exx2:0.5599 | $\\rho_1$:0.7191 | $\\rho_2$:0.5263 | $E_{0.05}$:0.1747 | $E_{0.25}$:0.196 | $E_{0.50}$:0.2215 | Time:9.17"
      ],
      "text/plain": [
       "<IPython.core.display.Latex object>"
      ]
     },
     "metadata": {},
     "output_type": "display_data"
    },
    {
     "data": {
      "text/latex": [
       "Target:Exp | Kernel:Uniform | $\\sigma$:2 | eff:0.1474 | $P_{jump}$:0.4762 | Exx2:0.5753 | $\\rho_1$:0.7147 | $\\rho_2$:0.5205 | $E_{0.05}$:0.1656 | $E_{0.25}$:0.1865 | $E_{0.50}$:0.2144 | Time:10.66"
      ],
      "text/plain": [
       "<IPython.core.display.Latex object>"
      ]
     },
     "metadata": {},
     "output_type": "display_data"
    },
    {
     "data": {
      "text/latex": [
       "Target:Exp | Kernel:Uniform | $\\sigma$:2.1 | eff:0.1527 | $P_{jump}$:0.4602 | Exx2:0.5752 | $\\rho_1$:0.7124 | $\\rho_2$:0.5155 | $E_{0.05}$:0.1612 | $E_{0.25}$:0.1719 | $E_{0.50}$:0.2041 | Time:10.94"
      ],
      "text/plain": [
       "<IPython.core.display.Latex object>"
      ]
     },
     "metadata": {},
     "output_type": "display_data"
    },
    {
     "data": {
      "text/latex": [
       "Target:Exp | Kernel:Uniform | $\\sigma$:2.2 | eff:0.1562 | $P_{jump}$:0.4467 | Exx2:0.5828 | $\\rho_1$:0.709 | $\\rho_2$:0.5118 | $E_{0.05}$:0.1478 | $E_{0.25}$:0.1707 | $E_{0.50}$:0.1975 | Time:9.66"
      ],
      "text/plain": [
       "<IPython.core.display.Latex object>"
      ]
     },
     "metadata": {},
     "output_type": "display_data"
    },
    {
     "data": {
      "text/latex": [
       "Target:Exp | Kernel:Uniform | $\\sigma$:2.3 | eff:0.1602 | $P_{jump}$:0.4333 | Exx2:0.5857 | $\\rho_1$:0.7048 | $\\rho_2$:0.504 | $E_{0.05}$:0.1448 | $E_{0.25}$:0.1625 | $E_{0.50}$:0.1888 | Time:10.67"
      ],
      "text/plain": [
       "<IPython.core.display.Latex object>"
      ]
     },
     "metadata": {},
     "output_type": "display_data"
    },
    {
     "data": {
      "text/latex": [
       "Target:Exp | Kernel:Uniform | $\\sigma$:2.4 | eff:0.1588 | $P_{jump}$:0.4203 | Exx2:0.5866 | $\\rho_1$:0.7072 | $\\rho_2$:0.5071 | $E_{0.05}$:0.1405 | $E_{0.25}$:0.1554 | $E_{0.50}$:0.1834 | Time:9.62"
      ],
      "text/plain": [
       "<IPython.core.display.Latex object>"
      ]
     },
     "metadata": {},
     "output_type": "display_data"
    },
    {
     "data": {
      "text/latex": [
       "Target:Exp | Kernel:Uniform | $\\sigma$:2.5 | eff:0.1593 | $P_{jump}$:0.4082 | Exx2:0.5872 | $\\rho_1$:0.7066 | $\\rho_2$:0.507 | $E_{0.05}$:0.1327 | $E_{0.25}$:0.1465 | $E_{0.50}$:0.1766 | Time:9.79"
      ],
      "text/plain": [
       "<IPython.core.display.Latex object>"
      ]
     },
     "metadata": {},
     "output_type": "display_data"
    },
    {
     "data": {
      "text/latex": [
       "Target:Exp | Kernel:Uniform | $\\sigma$:2.6 | eff:0.1582 | $P_{jump}$:0.398 | Exx2:0.5888 | $\\rho_1$:0.7084 | $\\rho_2$:0.5081 | $E_{0.05}$:0.1287 | $E_{0.25}$:0.1441 | $E_{0.50}$:0.1708 | Time:10.11"
      ],
      "text/plain": [
       "<IPython.core.display.Latex object>"
      ]
     },
     "metadata": {},
     "output_type": "display_data"
    },
    {
     "data": {
      "text/latex": [
       "Target:Exp | Kernel:Uniform | $\\sigma$:2.8 | eff:0.1564 | $P_{jump}$:0.3766 | Exx2:0.5809 | $\\rho_1$:0.708 | $\\rho_2$:0.5082 | $E_{0.05}$:0.1164 | $E_{0.25}$:0.1328 | $E_{0.50}$:0.1561 | Time:10.55"
      ],
      "text/plain": [
       "<IPython.core.display.Latex object>"
      ]
     },
     "metadata": {},
     "output_type": "display_data"
    },
    {
     "data": {
      "text/latex": [
       "Target:Exp | Kernel:Uniform | $\\sigma$:3.0 | eff:0.1558 | $P_{jump}$:0.3565 | Exx2:0.5783 | $\\rho_1$:0.7119 | $\\rho_2$:0.5129 | $E_{0.05}$:0.1088 | $E_{0.25}$:0.1234 | $E_{0.50}$:0.1474 | Time:10.58"
      ],
      "text/plain": [
       "<IPython.core.display.Latex object>"
      ]
     },
     "metadata": {},
     "output_type": "display_data"
    },
    {
     "data": {
      "text/latex": [
       "Target:Exp | Kernel:Uniform | $\\sigma$:3.2 | eff:0.1519 | $P_{jump}$:0.3389 | Exx2:0.5696 | $\\rho_1$:0.7181 | $\\rho_2$:0.5216 | $E_{0.05}$:0.0968 | $E_{0.25}$:0.1138 | $E_{0.50}$:0.1385 | Time:11.03"
      ],
      "text/plain": [
       "<IPython.core.display.Latex object>"
      ]
     },
     "metadata": {},
     "output_type": "display_data"
    },
    {
     "data": {
      "text/latex": [
       "Target:Exp | Kernel:Uniform | $\\sigma$:3.5 | eff:0.1428 | $P_{jump}$:0.314 | Exx2:0.5443 | $\\rho_1$:0.7282 | $\\rho_2$:0.5373 | $E_{0.05}$:0.0932 | $E_{0.25}$:0.1041 | $E_{0.50}$:0.1237 | Time:10.11"
      ],
      "text/plain": [
       "<IPython.core.display.Latex object>"
      ]
     },
     "metadata": {},
     "output_type": "display_data"
    },
    {
     "data": {
      "text/latex": [
       "Target:Exp | Kernel:Uniform | $\\sigma$:4 | eff:0.1283 | $P_{jump}$:0.2791 | Exx2:0.5078 | $\\rho_1$:0.7457 | $\\rho_2$:0.5625 | $E_{0.05}$:0.0806 | $E_{0.25}$:0.0897 | $E_{0.50}$:0.1061 | Time:12.04"
      ],
      "text/plain": [
       "<IPython.core.display.Latex object>"
      ]
     },
     "metadata": {},
     "output_type": "display_data"
    },
    {
     "data": {
      "text/latex": [
       "Target:Exp | Kernel:Uniform | $\\sigma$:4.5 | eff:0.1163 | $P_{jump}$:0.2522 | Exx2:0.4743 | $\\rho_1$:0.7633 | $\\rho_2$:0.5907 | $E_{0.05}$:0.0711 | $E_{0.25}$:0.0791 | $E_{0.50}$:0.095 | Time:11.79"
      ],
      "text/plain": [
       "<IPython.core.display.Latex object>"
      ]
     },
     "metadata": {},
     "output_type": "display_data"
    },
    {
     "data": {
      "text/latex": [
       "Target:Exp | Kernel:Uniform | $\\sigma$:5 | eff:0.1047 | $P_{jump}$:0.2281 | Exx2:0.4374 | $\\rho_1$:0.7819 | $\\rho_2$:0.619 | $E_{0.05}$:0.0629 | $E_{0.25}$:0.0708 | $E_{0.50}$:0.0846 | Time:11.63"
      ],
      "text/plain": [
       "<IPython.core.display.Latex object>"
      ]
     },
     "metadata": {},
     "output_type": "display_data"
    },
    {
     "data": {
      "text/latex": [
       "Target:Exp | Kernel:Uniform | $\\sigma$:6 | eff:0.0877 | $P_{jump}$:0.191 | Exx2:0.3726 | $\\rho_1$:0.8125 | $\\rho_2$:0.6665 | $E_{0.05}$:0.0513 | $E_{0.25}$:0.0572 | $E_{0.50}$:0.07 | Time:12.32"
      ],
      "text/plain": [
       "<IPython.core.display.Latex object>"
      ]
     },
     "metadata": {},
     "output_type": "display_data"
    },
    {
     "data": {
      "text/latex": [
       "Target:Exp | Kernel:Uniform | $\\sigma$:7 | eff:0.0736 | $P_{jump}$:0.1648 | Exx2:0.3271 | $\\rho_1$:0.8372 | $\\rho_2$:0.7072 | $E_{0.05}$:0.0448 | $E_{0.25}$:0.0497 | $E_{0.50}$:0.0593 | Time:14.82"
      ],
      "text/plain": [
       "<IPython.core.display.Latex object>"
      ]
     },
     "metadata": {},
     "output_type": "display_data"
    },
    {
     "data": {
      "text/latex": [
       "Target:Exp | Kernel:Uniform | $\\sigma$:8 | eff:0.064 | $P_{jump}$:0.144 | Exx2:0.2872 | $\\rho_1$:0.8557 | $\\rho_2$:0.7377 | $E_{0.05}$:0.0383 | $E_{0.25}$:0.0435 | $E_{0.50}$:0.0519 | Time:14.86"
      ],
      "text/plain": [
       "<IPython.core.display.Latex object>"
      ]
     },
     "metadata": {},
     "output_type": "display_data"
    },
    {
     "data": {
      "text/latex": [
       "Target:Exp | Kernel:TransUniform | $\\sigma$:0.1 | eff:0.035 | $P_{jump}$:1.0 | Exx2:0.4054 | $\\rho_1$:0.7946 | $\\rho_2$:0.7285 | $E_{0.05}$:0.1638 | $E_{0.25}$:0.0421 | $E_{0.50}$:0.0314 | Time:23.54"
      ],
      "text/plain": [
       "<IPython.core.display.Latex object>"
      ]
     },
     "metadata": {},
     "output_type": "display_data"
    },
    {
     "data": {
      "text/latex": [
       "Target:Exp | Kernel:TransUniform | $\\sigma$:0.3 | eff:0.3158 | $P_{jump}$:1.0 | Exx2:1.1696 | $\\rho_1$:0.4133 | $\\rho_2$:0.262 | $E_{0.05}$:0.7546 | $E_{0.25}$:0.3744 | $E_{0.50}$:0.2831 | Time:12.34"
      ],
      "text/plain": [
       "<IPython.core.display.Latex object>"
      ]
     },
     "metadata": {},
     "output_type": "display_data"
    },
    {
     "data": {
      "text/latex": [
       "Target:Exp | Kernel:TransUniform | $\\sigma$:0.5 | eff:0.8047 | $P_{jump}$:1.0 | Exx2:1.8022 | $\\rho_1$:0.0985 | $\\rho_2$:0.0186 | $E_{0.05}$:0.9656 | $E_{0.25}$:0.8733 | $E_{0.50}$:0.7618 | Time:12.2"
      ],
      "text/plain": [
       "<IPython.core.display.Latex object>"
      ]
     },
     "metadata": {},
     "output_type": "display_data"
    },
    {
     "data": {
      "text/latex": [
       "Target:Exp | Kernel:TransUniform | $\\sigma$:0.7 | eff:1.2003 | $P_{jump}$:1.0 | Exx2:2.2029 | $\\rho_1$:-0.1043 | $\\rho_2$:0.0213 | $E_{0.05}$:0.9985 | $E_{0.25}$:1.0978 | $E_{0.50}$:1.3112 | Time:12.65"
      ],
      "text/plain": [
       "<IPython.core.display.Latex object>"
      ]
     },
     "metadata": {},
     "output_type": "display_data"
    },
    {
     "data": {
      "text/latex": [
       "Target:Exp | Kernel:TransUniform | $\\sigma$:0.8 | eff:1.3056 | $P_{jump}$:1.0 | Exx2:2.2763 | $\\rho_1$:-0.1429 | $\\rho_2$:0.034 | $E_{0.05}$:1.0188 | $E_{0.25}$:1.1691 | $E_{0.50}$:1.3967 | Time:12.86"
      ],
      "text/plain": [
       "<IPython.core.display.Latex object>"
      ]
     },
     "metadata": {},
     "output_type": "display_data"
    },
    {
     "data": {
      "text/latex": [
       "Target:Exp | Kernel:TransUniform | $\\sigma$:0.9 | eff:1.2815 | $P_{jump}$:1.0 | Exx2:2.285 | $\\rho_1$:-0.1388 | $\\rho_2$:0.0295 | $E_{0.05}$:1.0206 | $E_{0.25}$:1.2374 | $E_{0.50}$:1.3527 | Time:12.95"
      ],
      "text/plain": [
       "<IPython.core.display.Latex object>"
      ]
     },
     "metadata": {},
     "output_type": "display_data"
    },
    {
     "data": {
      "text/latex": [
       "Target:Exp | Kernel:TransUniform | $\\sigma$:1 | eff:1.2037 | $P_{jump}$:1.0 | Exx2:2.2181 | $\\rho_1$:-0.1057 | $\\rho_2$:0.0143 | $E_{0.05}$:1.0349 | $E_{0.25}$:1.2024 | $E_{0.50}$:1.2474 | Time:13.1"
      ],
      "text/plain": [
       "<IPython.core.display.Latex object>"
      ]
     },
     "metadata": {},
     "output_type": "display_data"
    },
    {
     "data": {
      "text/latex": [
       "Target:Exp | Kernel:TransUniform | $\\sigma$:1.1 | eff:1.0934 | $P_{jump}$:1.0 | Exx2:2.0978 | $\\rho_1$:-0.0442 | $\\rho_2$:0.0022 | $E_{0.05}$:1.0558 | $E_{0.25}$:1.0835 | $E_{0.50}$:1.0909 | Time:12.86"
      ],
      "text/plain": [
       "<IPython.core.display.Latex object>"
      ]
     },
     "metadata": {},
     "output_type": "display_data"
    },
    {
     "data": {
      "text/latex": [
       "Target:Exp | Kernel:TransUniform | $\\sigma$:1.3 | eff:0.8622 | $P_{jump}$:1.0 | Exx2:1.8403 | $\\rho_1$:0.0774 | $\\rho_2$:0.007 | $E_{0.05}$:0.9581 | $E_{0.25}$:0.8676 | $E_{0.50}$:0.8465 | Time:13.14"
      ],
      "text/plain": [
       "<IPython.core.display.Latex object>"
      ]
     },
     "metadata": {},
     "output_type": "display_data"
    },
    {
     "data": {
      "text/latex": [
       "Target:Exp | Kernel:TransUniform | $\\sigma$:1.5 | eff:0.8591 | $P_{jump}$:1.0 | Exx2:1.8448 | $\\rho_1$:0.0772 | $\\rho_2$:0.0101 | $E_{0.05}$:0.9842 | $E_{0.25}$:0.8965 | $E_{0.50}$:0.8313 | Time:13.12"
      ],
      "text/plain": [
       "<IPython.core.display.Latex object>"
      ]
     },
     "metadata": {},
     "output_type": "display_data"
    },
    {
     "data": {
      "text/latex": [
       "Target:Exp | Kernel:TransUniform | $\\sigma$:1.7 | eff:0.9759 | $P_{jump}$:1.0 | Exx2:1.975 | $\\rho_1$:0.0113 | $\\rho_2$:-0.0005 | $E_{0.05}$:0.9803 | $E_{0.25}$:0.9838 | $E_{0.50}$:0.9653 | Time:13.25"
      ],
      "text/plain": [
       "<IPython.core.display.Latex object>"
      ]
     },
     "metadata": {},
     "output_type": "display_data"
    },
    {
     "data": {
      "text/latex": [
       "Target:Exp | Kernel:TransUniform | $\\sigma$:1.8 | eff:1.0389 | $P_{jump}$:1.0 | Exx2:2.0361 | $\\rho_1$:-0.0226 | $\\rho_2$:0.0001 | $E_{0.05}$:1.0022 | $E_{0.25}$:1.027 | $E_{0.50}$:1.0607 | Time:13.18"
      ],
      "text/plain": [
       "<IPython.core.display.Latex object>"
      ]
     },
     "metadata": {},
     "output_type": "display_data"
    },
    {
     "data": {
      "text/latex": [
       "Target:Exp | Kernel:TransUniform | $\\sigma$:1.9 | eff:1.1049 | $P_{jump}$:1.0 | Exx2:2.1009 | $\\rho_1$:-0.0489 | $\\rho_2$:0.0032 | $E_{0.05}$:1.0066 | $E_{0.25}$:1.0558 | $E_{0.50}$:1.1272 | Time:13.12"
      ],
      "text/plain": [
       "<IPython.core.display.Latex object>"
      ]
     },
     "metadata": {},
     "output_type": "display_data"
    },
    {
     "data": {
      "text/latex": [
       "Target:Exp | Kernel:TransUniform | $\\sigma$:2 | eff:1.1067 | $P_{jump}$:1.0 | Exx2:2.123 | $\\rho_1$:-0.0597 | $\\rho_2$:0.0055 | $E_{0.05}$:1.0043 | $E_{0.25}$:1.0882 | $E_{0.50}$:1.1412 | Time:13.46"
      ],
      "text/plain": [
       "<IPython.core.display.Latex object>"
      ]
     },
     "metadata": {},
     "output_type": "display_data"
    },
    {
     "data": {
      "text/latex": [
       "Target:Exp | Kernel:TransUniform | $\\sigma$:2.1 | eff:1.1174 | $P_{jump}$:1.0 | Exx2:2.1129 | $\\rho_1$:-0.0563 | $\\rho_2$:0.0047 | $E_{0.05}$:1.0125 | $E_{0.25}$:1.1003 | $E_{0.50}$:1.1398 | Time:13.36"
      ],
      "text/plain": [
       "<IPython.core.display.Latex object>"
      ]
     },
     "metadata": {},
     "output_type": "display_data"
    },
    {
     "data": {
      "text/latex": [
       "Target:Exp | Kernel:TransUniform | $\\sigma$:2.2 | eff:1.0798 | $P_{jump}$:1.0 | Exx2:2.0773 | $\\rho_1$:-0.0369 | $\\rho_2$:0.0009 | $E_{0.05}$:1.0199 | $E_{0.25}$:1.0701 | $E_{0.50}$:1.068 | Time:13.36"
      ],
      "text/plain": [
       "<IPython.core.display.Latex object>"
      ]
     },
     "metadata": {},
     "output_type": "display_data"
    },
    {
     "data": {
      "text/latex": [
       "Target:Exp | Kernel:TransUniform | $\\sigma$:2.3 | eff:1.0144 | $P_{jump}$:1.0 | Exx2:2.0145 | $\\rho_1$:-0.0035 | $\\rho_2$:-0.0013 | $E_{0.05}$:1.0081 | $E_{0.25}$:1.0034 | $E_{0.50}$:1.0135 | Time:13.5"
      ],
      "text/plain": [
       "<IPython.core.display.Latex object>"
      ]
     },
     "metadata": {},
     "output_type": "display_data"
    },
    {
     "data": {
      "text/latex": [
       "Target:Exp | Kernel:TransUniform | $\\sigma$:2.4 | eff:0.9455 | $P_{jump}$:1.0 | Exx2:1.9324 | $\\rho_1$:0.0328 | $\\rho_2$:0.0014 | $E_{0.05}$:0.9782 | $E_{0.25}$:0.9391 | $E_{0.50}$:0.9376 | Time:13.1"
      ],
      "text/plain": [
       "<IPython.core.display.Latex object>"
      ]
     },
     "metadata": {},
     "output_type": "display_data"
    },
    {
     "data": {
      "text/latex": [
       "Target:Exp | Kernel:TransUniform | $\\sigma$:2.5 | eff:0.9085 | $P_{jump}$:1.0 | Exx2:1.9066 | $\\rho_1$:0.0473 | $\\rho_2$:0.0039 | $E_{0.05}$:0.9847 | $E_{0.25}$:0.9185 | $E_{0.50}$:0.9005 | Time:13.1"
      ],
      "text/plain": [
       "<IPython.core.display.Latex object>"
      ]
     },
     "metadata": {},
     "output_type": "display_data"
    },
    {
     "data": {
      "text/latex": [
       "Target:Exp | Kernel:TransUniform | $\\sigma$:2.6 | eff:0.9031 | $P_{jump}$:1.0 | Exx2:1.9052 | $\\rho_1$:0.0488 | $\\rho_2$:0.0044 | $E_{0.05}$:0.989 | $E_{0.25}$:0.9201 | $E_{0.50}$:0.892 | Time:13.29"
      ],
      "text/plain": [
       "<IPython.core.display.Latex object>"
      ]
     },
     "metadata": {},
     "output_type": "display_data"
    },
    {
     "data": {
      "text/latex": [
       "Target:Exp | Kernel:TransUniform | $\\sigma$:2.8 | eff:0.9674 | $P_{jump}$:1.0 | Exx2:1.9698 | $\\rho_1$:0.0177 | $\\rho_2$:0.0012 | $E_{0.05}$:0.9851 | $E_{0.25}$:0.9795 | $E_{0.50}$:0.9406 | Time:13.31"
      ],
      "text/plain": [
       "<IPython.core.display.Latex object>"
      ]
     },
     "metadata": {},
     "output_type": "display_data"
    },
    {
     "data": {
      "text/latex": [
       "Target:Exp | Kernel:TransUniform | $\\sigma$:3.0 | eff:1.0463 | $P_{jump}$:1.0 | Exx2:2.0435 | $\\rho_1$:-0.0246 | $\\rho_2$:0.0007 | $E_{0.05}$:0.9945 | $E_{0.25}$:1.016 | $E_{0.50}$:1.0565 | Time:13.45"
      ],
      "text/plain": [
       "<IPython.core.display.Latex object>"
      ]
     },
     "metadata": {},
     "output_type": "display_data"
    },
    {
     "data": {
      "text/latex": [
       "Target:Exp | Kernel:TransUniform | $\\sigma$:3.2 | eff:1.0762 | $P_{jump}$:1.0 | Exx2:2.0809 | $\\rho_1$:-0.04 | $\\rho_2$:0.0014 | $E_{0.05}$:1.0028 | $E_{0.25}$:1.0661 | $E_{0.50}$:1.0882 | Time:13.42"
      ],
      "text/plain": [
       "<IPython.core.display.Latex object>"
      ]
     },
     "metadata": {},
     "output_type": "display_data"
    },
    {
     "data": {
      "text/latex": [
       "Target:Exp | Kernel:TransUniform | $\\sigma$:3.5 | eff:0.9623 | $P_{jump}$:1.0 | Exx2:1.9711 | $\\rho_1$:0.0101 | $\\rho_2$:0.0012 | $E_{0.05}$:0.9949 | $E_{0.25}$:0.9703 | $E_{0.50}$:0.9736 | Time:13.66"
      ],
      "text/plain": [
       "<IPython.core.display.Latex object>"
      ]
     },
     "metadata": {},
     "output_type": "display_data"
    },
    {
     "data": {
      "text/latex": [
       "Target:Exp | Kernel:TransUniform | $\\sigma$:4 | eff:0.9901 | $P_{jump}$:1.0 | Exx2:1.992 | $\\rho_1$:0.0051 | $\\rho_2$:0.0004 | $E_{0.05}$:0.9995 | $E_{0.25}$:0.9883 | $E_{0.50}$:0.9815 | Time:13.47"
      ],
      "text/plain": [
       "<IPython.core.display.Latex object>"
      ]
     },
     "metadata": {},
     "output_type": "display_data"
    },
    {
     "data": {
      "text/latex": [
       "Target:Exp | Kernel:TransUniform | $\\sigma$:4.5 | eff:1.0418 | $P_{jump}$:1.0 | Exx2:2.0528 | $\\rho_1$:-0.0203 | $\\rho_2$:-0.0009 | $E_{0.05}$:1.0164 | $E_{0.25}$:1.0392 | $E_{0.50}$:1.0483 | Time:13.47"
      ],
      "text/plain": [
       "<IPython.core.display.Latex object>"
      ]
     },
     "metadata": {},
     "output_type": "display_data"
    },
    {
     "data": {
      "text/latex": [
       "Target:Exp | Kernel:TransUniform | $\\sigma$:5 | eff:0.9597 | $P_{jump}$:1.0 | Exx2:1.9524 | $\\rho_1$:0.0205 | $\\rho_2$:0.0011 | $E_{0.05}$:0.9814 | $E_{0.25}$:0.9738 | $E_{0.50}$:0.953 | Time:13.69"
      ],
      "text/plain": [
       "<IPython.core.display.Latex object>"
      ]
     },
     "metadata": {},
     "output_type": "display_data"
    },
    {
     "data": {
      "text/latex": [
       "Target:Exp | Kernel:TransUniform | $\\sigma$:6 | eff:0.953 | $P_{jump}$:1.0 | Exx2:1.9627 | $\\rho_1$:0.0202 | $\\rho_2$:0.0003 | $E_{0.05}$:0.9955 | $E_{0.25}$:0.958 | $E_{0.50}$:0.9427 | Time:13.75"
      ],
      "text/plain": [
       "<IPython.core.display.Latex object>"
      ]
     },
     "metadata": {},
     "output_type": "display_data"
    },
    {
     "data": {
      "text/latex": [
       "Target:Exp | Kernel:TransUniform | $\\sigma$:7 | eff:0.9847 | $P_{jump}$:1.0 | Exx2:1.9764 | $\\rho_1$:0.0089 | $\\rho_2$:0.0023 | $E_{0.05}$:0.9892 | $E_{0.25}$:0.9948 | $E_{0.50}$:0.9817 | Time:13.69"
      ],
      "text/plain": [
       "<IPython.core.display.Latex object>"
      ]
     },
     "metadata": {},
     "output_type": "display_data"
    },
    {
     "data": {
      "text/latex": [
       "Target:Exp | Kernel:TransUniform | $\\sigma$:8 | eff:1.0204 | $P_{jump}$:1.0 | Exx2:2.0163 | $\\rho_1$:-0.0089 | $\\rho_2$:0.0009 | $E_{0.05}$:1.0127 | $E_{0.25}$:1.016 | $E_{0.50}$:1.0172 | Time:13.77"
      ],
      "text/plain": [
       "<IPython.core.display.Latex object>"
      ]
     },
     "metadata": {},
     "output_type": "display_data"
    },
    {
     "data": {
      "text/latex": [
       "Target:Exp | Kernel:TransBactrian | $\\sigma$:0.1 | eff:0.0337 | $P_{jump}$:1.0 | Exx2:0.4735 | $\\rho_1$:0.7675 | $\\rho_2$:0.7312 | $E_{0.05}$:0.1564 | $E_{0.25}$:0.0387 | $E_{0.50}$:0.0296 | Time:25.33"
      ],
      "text/plain": [
       "<IPython.core.display.Latex object>"
      ]
     },
     "metadata": {},
     "output_type": "display_data"
    },
    {
     "data": {
      "text/latex": [
       "Target:Exp | Kernel:TransBactrian | $\\sigma$:0.3 | eff:0.3354 | $P_{jump}$:1.0 | Exx2:1.3086 | $\\rho_1$:0.3474 | $\\rho_2$:0.2813 | $E_{0.05}$:0.8406 | $E_{0.25}$:0.3959 | $E_{0.50}$:0.2968 | Time:12.46"
      ],
      "text/plain": [
       "<IPython.core.display.Latex object>"
      ]
     },
     "metadata": {},
     "output_type": "display_data"
    },
    {
     "data": {
      "text/latex": [
       "Target:Exp | Kernel:TransBactrian | $\\sigma$:0.5 | eff:0.9815 | $P_{jump}$:1.0 | Exx2:2.0236 | $\\rho_1$:-0.0151 | $\\rho_2$:0.0423 | $E_{0.05}$:1.0422 | $E_{0.25}$:1.1543 | $E_{0.50}$:0.9039 | Time:12.48"
      ],
      "text/plain": [
       "<IPython.core.display.Latex object>"
      ]
     },
     "metadata": {},
     "output_type": "display_data"
    },
    {
     "data": {
      "text/latex": [
       "Target:Exp | Kernel:TransBactrian | $\\sigma$:0.7 | eff:1.6763 | $P_{jump}$:1.0 | Exx2:2.586 | $\\rho_1$:-0.2857 | $\\rho_2$:0.1106 | $E_{0.05}$:1.0771 | $E_{0.25}$:1.5969 | $E_{0.50}$:1.7537 | Time:12.92"
      ],
      "text/plain": [
       "<IPython.core.display.Latex object>"
      ]
     },
     "metadata": {},
     "output_type": "display_data"
    },
    {
     "data": {
      "text/latex": [
       "Target:Exp | Kernel:TransBactrian | $\\sigma$:0.8 | eff:1.8849 | $P_{jump}$:1.0 | Exx2:2.747 | $\\rho_1$:-0.368 | $\\rho_2$:0.1989 | $E_{0.05}$:1.0703 | $E_{0.25}$:1.5782 | $E_{0.50}$:2.2733 | Time:12.6"
      ],
      "text/plain": [
       "<IPython.core.display.Latex object>"
      ]
     },
     "metadata": {},
     "output_type": "display_data"
    },
    {
     "data": {
      "text/latex": [
       "Target:Exp | Kernel:TransBactrian | $\\sigma$:0.9 | eff:1.9996 | $P_{jump}$:1.0 | Exx2:2.8245 | $\\rho_1$:-0.4099 | $\\rho_2$:0.2585 | $E_{0.05}$:1.0441 | $E_{0.25}$:1.4953 | $E_{0.50}$:2.6519 | Time:13.2"
      ],
      "text/plain": [
       "<IPython.core.display.Latex object>"
      ]
     },
     "metadata": {},
     "output_type": "display_data"
    },
    {
     "data": {
      "text/latex": [
       "Target:Exp | Kernel:TransBactrian | $\\sigma$:1 | eff:1.9955 | $P_{jump}$:1.0 | Exx2:2.8131 | $\\rho_1$:-0.4103 | $\\rho_2$:0.2595 | $E_{0.05}$:1.0431 | $E_{0.25}$:1.4771 | $E_{0.50}$:2.6476 | Time:13.34"
      ],
      "text/plain": [
       "<IPython.core.display.Latex object>"
      ]
     },
     "metadata": {},
     "output_type": "display_data"
    },
    {
     "data": {
      "text/latex": [
       "Target:Exp | Kernel:TransBactrian | $\\sigma$:1.1 | eff:1.8916 | $P_{jump}$:1.0 | Exx2:2.7561 | $\\rho_1$:-0.3744 | $\\rho_2$:0.2123 | $E_{0.05}$:1.0633 | $E_{0.25}$:1.4865 | $E_{0.50}$:2.3481 | Time:13.5"
      ],
      "text/plain": [
       "<IPython.core.display.Latex object>"
      ]
     },
     "metadata": {},
     "output_type": "display_data"
    },
    {
     "data": {
      "text/latex": [
       "Target:Exp | Kernel:TransBactrian | $\\sigma$:1.3 | eff:1.5186 | $P_{jump}$:1.0 | Exx2:2.4533 | $\\rho_1$:-0.2266 | $\\rho_2$:0.0738 | $E_{0.05}$:1.0449 | $E_{0.25}$:1.3549 | $E_{0.50}$:1.6462 | Time:13.35"
      ],
      "text/plain": [
       "<IPython.core.display.Latex object>"
      ]
     },
     "metadata": {},
     "output_type": "display_data"
    },
    {
     "data": {
      "text/latex": [
       "Target:Exp | Kernel:TransBactrian | $\\sigma$:1.5 | eff:1.1066 | $P_{jump}$:1.0 | Exx2:2.1197 | $\\rho_1$:-0.0564 | $\\rho_2$:0.0056 | $E_{0.05}$:1.012 | $E_{0.25}$:1.1028 | $E_{0.50}$:1.128 | Time:13.5"
      ],
      "text/plain": [
       "<IPython.core.display.Latex object>"
      ]
     },
     "metadata": {},
     "output_type": "display_data"
    },
    {
     "data": {
      "text/latex": [
       "Target:Exp | Kernel:TransBactrian | $\\sigma$:1.7 | eff:0.8794 | $P_{jump}$:1.0 | Exx2:1.8848 | $\\rho_1$:0.0595 | $\\rho_2$:0.0043 | $E_{0.05}$:0.9823 | $E_{0.25}$:0.9044 | $E_{0.50}$:0.8552 | Time:13.38"
      ],
      "text/plain": [
       "<IPython.core.display.Latex object>"
      ]
     },
     "metadata": {},
     "output_type": "display_data"
    },
    {
     "data": {
      "text/latex": [
       "Target:Exp | Kernel:TransBactrian | $\\sigma$:1.8 | eff:0.8316 | $P_{jump}$:1.0 | Exx2:1.8146 | $\\rho_1$:0.0903 | $\\rho_2$:0.0106 | $E_{0.05}$:0.9782 | $E_{0.25}$:0.8615 | $E_{0.50}$:0.8012 | Time:13.56"
      ],
      "text/plain": [
       "<IPython.core.display.Latex object>"
      ]
     },
     "metadata": {},
     "output_type": "display_data"
    },
    {
     "data": {
      "text/latex": [
       "Target:Exp | Kernel:TransBactrian | $\\sigma$:1.9 | eff:0.8108 | $P_{jump}$:1.0 | Exx2:1.7937 | $\\rho_1$:0.1006 | $\\rho_2$:0.0152 | $E_{0.05}$:0.9704 | $E_{0.25}$:0.8432 | $E_{0.50}$:0.7853 | Time:13.5"
      ],
      "text/plain": [
       "<IPython.core.display.Latex object>"
      ]
     },
     "metadata": {},
     "output_type": "display_data"
    },
    {
     "data": {
      "text/latex": [
       "Target:Exp | Kernel:TransBactrian | $\\sigma$:2 | eff:0.8125 | $P_{jump}$:1.0 | Exx2:1.8122 | $\\rho_1$:0.0959 | $\\rho_2$:0.0149 | $E_{0.05}$:0.9673 | $E_{0.25}$:0.8524 | $E_{0.50}$:0.7882 | Time:13.77"
      ],
      "text/plain": [
       "<IPython.core.display.Latex object>"
      ]
     },
     "metadata": {},
     "output_type": "display_data"
    },
    {
     "data": {
      "text/latex": [
       "Target:Exp | Kernel:TransBactrian | $\\sigma$:2.1 | eff:0.8465 | $P_{jump}$:1.0 | Exx2:1.8498 | $\\rho_1$:0.0831 | $\\rho_2$:0.0097 | $E_{0.05}$:0.9729 | $E_{0.25}$:0.879 | $E_{0.50}$:0.824 | Time:13.91"
      ],
      "text/plain": [
       "<IPython.core.display.Latex object>"
      ]
     },
     "metadata": {},
     "output_type": "display_data"
    },
    {
     "data": {
      "text/latex": [
       "Target:Exp | Kernel:TransBactrian | $\\sigma$:2.2 | eff:0.878 | $P_{jump}$:1.0 | Exx2:1.871 | $\\rho_1$:0.0658 | $\\rho_2$:0.005 | $E_{0.05}$:0.971 | $E_{0.25}$:0.9022 | $E_{0.50}$:0.8603 | Time:13.75"
      ],
      "text/plain": [
       "<IPython.core.display.Latex object>"
      ]
     },
     "metadata": {},
     "output_type": "display_data"
    },
    {
     "data": {
      "text/latex": [
       "Target:Exp | Kernel:TransBactrian | $\\sigma$:2.3 | eff:0.9136 | $P_{jump}$:1.0 | Exx2:1.9039 | $\\rho_1$:0.0467 | $\\rho_2$:0.0029 | $E_{0.05}$:0.985 | $E_{0.25}$:0.9338 | $E_{0.50}$:0.8955 | Time:13.64"
      ],
      "text/plain": [
       "<IPython.core.display.Latex object>"
      ]
     },
     "metadata": {},
     "output_type": "display_data"
    },
    {
     "data": {
      "text/latex": [
       "Target:Exp | Kernel:TransBactrian | $\\sigma$:2.4 | eff:0.9504 | $P_{jump}$:1.0 | Exx2:1.9559 | $\\rho_1$:0.0261 | $\\rho_2$:-0.0008 | $E_{0.05}$:0.9851 | $E_{0.25}$:0.9579 | $E_{0.50}$:0.9333 | Time:13.42"
      ],
      "text/plain": [
       "<IPython.core.display.Latex object>"
      ]
     },
     "metadata": {},
     "output_type": "display_data"
    },
    {
     "data": {
      "text/latex": [
       "Target:Exp | Kernel:TransBactrian | $\\sigma$:2.5 | eff:0.9706 | $P_{jump}$:1.0 | Exx2:1.9743 | $\\rho_1$:0.0127 | $\\rho_2$:0.0004 | $E_{0.05}$:0.9851 | $E_{0.25}$:0.9699 | $E_{0.50}$:0.969 | Time:13.78"
      ],
      "text/plain": [
       "<IPython.core.display.Latex object>"
      ]
     },
     "metadata": {},
     "output_type": "display_data"
    },
    {
     "data": {
      "text/latex": [
       "Target:Exp | Kernel:TransBactrian | $\\sigma$:2.6 | eff:0.9931 | $P_{jump}$:1.0 | Exx2:1.9995 | $\\rho_1$:0.0033 | $\\rho_2$:-0.0018 | $E_{0.05}$:1.0 | $E_{0.25}$:0.9945 | $E_{0.50}$:0.9872 | Time:13.75"
      ],
      "text/plain": [
       "<IPython.core.display.Latex object>"
      ]
     },
     "metadata": {},
     "output_type": "display_data"
    },
    {
     "data": {
      "text/latex": [
       "Target:Exp | Kernel:TransBactrian | $\\sigma$:2.8 | eff:1.005 | $P_{jump}$:1.0 | Exx2:2.0237 | $\\rho_1$:-0.0076 | $\\rho_2$:0.0004 | $E_{0.05}$:0.995 | $E_{0.25}$:1.0099 | $E_{0.50}$:1.0235 | Time:14.0"
      ],
      "text/plain": [
       "<IPython.core.display.Latex object>"
      ]
     },
     "metadata": {},
     "output_type": "display_data"
    },
    {
     "data": {
      "text/latex": [
       "Target:Exp | Kernel:TransBactrian | $\\sigma$:3.0 | eff:1.0066 | $P_{jump}$:1.0 | Exx2:2.0158 | $\\rho_1$:-0.0079 | $\\rho_2$:0.0009 | $E_{0.05}$:1.0141 | $E_{0.25}$:1.0097 | $E_{0.50}$:1.0094 | Time:13.73"
      ],
      "text/plain": [
       "<IPython.core.display.Latex object>"
      ]
     },
     "metadata": {},
     "output_type": "display_data"
    },
    {
     "data": {
      "text/latex": [
       "Target:Exp | Kernel:TransBactrian | $\\sigma$:3.2 | eff:1.012 | $P_{jump}$:1.0 | Exx2:2.005 | $\\rho_1$:-0.0039 | $\\rho_2$:-0.0024 | $E_{0.05}$:0.9916 | $E_{0.25}$:1.0008 | $E_{0.50}$:1.0066 | Time:13.92"
      ],
      "text/plain": [
       "<IPython.core.display.Latex object>"
      ]
     },
     "metadata": {},
     "output_type": "display_data"
    },
    {
     "data": {
      "text/latex": [
       "Target:Exp | Kernel:TransBactrian | $\\sigma$:3.5 | eff:1.0034 | $P_{jump}$:1.0 | Exx2:1.9958 | $\\rho_1$:-0.0001 | $\\rho_2$:-0.0005 | $E_{0.05}$:0.9943 | $E_{0.25}$:1.0045 | $E_{0.50}$:0.9952 | Time:13.7"
      ],
      "text/plain": [
       "<IPython.core.display.Latex object>"
      ]
     },
     "metadata": {},
     "output_type": "display_data"
    },
    {
     "data": {
      "text/latex": [
       "Target:Exp | Kernel:TransBactrian | $\\sigma$:4 | eff:1.0063 | $P_{jump}$:1.0 | Exx2:1.9902 | $\\rho_1$:0.0002 | $\\rho_2$:-0.0001 | $E_{0.05}$:1.0027 | $E_{0.25}$:1.0007 | $E_{0.50}$:1.0006 | Time:13.77"
      ],
      "text/plain": [
       "<IPython.core.display.Latex object>"
      ]
     },
     "metadata": {},
     "output_type": "display_data"
    },
    {
     "data": {
      "text/latex": [
       "Target:Exp | Kernel:TransBactrian | $\\sigma$:4.5 | eff:0.9832 | $P_{jump}$:1.0 | Exx2:1.9969 | $\\rho_1$:0.0011 | $\\rho_2$:0.0013 | $E_{0.05}$:0.9967 | $E_{0.25}$:0.9944 | $E_{0.50}$:0.9968 | Time:13.75"
      ],
      "text/plain": [
       "<IPython.core.display.Latex object>"
      ]
     },
     "metadata": {},
     "output_type": "display_data"
    },
    {
     "data": {
      "text/latex": [
       "Target:Exp | Kernel:TransBactrian | $\\sigma$:5 | eff:0.9921 | $P_{jump}$:1.0 | Exx2:2.0004 | $\\rho_1$:-0.0001 | $\\rho_2$:-0.0006 | $E_{0.05}$:1.015 | $E_{0.25}$:0.9874 | $E_{0.50}$:1.003 | Time:14.01"
      ],
      "text/plain": [
       "<IPython.core.display.Latex object>"
      ]
     },
     "metadata": {},
     "output_type": "display_data"
    },
    {
     "data": {
      "text/latex": [
       "Target:Exp | Kernel:TransBactrian | $\\sigma$:6 | eff:1.0041 | $P_{jump}$:1.0 | Exx2:2.0104 | $\\rho_1$:-0.0009 | $\\rho_2$:0.0002 | $E_{0.05}$:1.0012 | $E_{0.25}$:1.006 | $E_{0.50}$:1.003 | Time:13.86"
      ],
      "text/plain": [
       "<IPython.core.display.Latex object>"
      ]
     },
     "metadata": {},
     "output_type": "display_data"
    },
    {
     "data": {
      "text/latex": [
       "Target:Exp | Kernel:TransBactrian | $\\sigma$:7 | eff:0.9881 | $P_{jump}$:1.0 | Exx2:2.0105 | $\\rho_1$:0.0002 | $\\rho_2$:0.0016 | $E_{0.05}$:0.9983 | $E_{0.25}$:1.0059 | $E_{0.50}$:1.0048 | Time:13.94"
      ],
      "text/plain": [
       "<IPython.core.display.Latex object>"
      ]
     },
     "metadata": {},
     "output_type": "display_data"
    },
    {
     "data": {
      "text/latex": [
       "Target:Exp | Kernel:TransBactrian | $\\sigma$:8 | eff:0.9969 | $P_{jump}$:1.0 | Exx2:2.0152 | $\\rho_1$:-0.0015 | $\\rho_2$:-0.0003 | $E_{0.05}$:0.9905 | $E_{0.25}$:1.0 | $E_{0.50}$:0.9978 | Time:14.15"
      ],
      "text/plain": [
       "<IPython.core.display.Latex object>"
      ]
     },
     "metadata": {},
     "output_type": "display_data"
    },
    {
     "data": {
      "text/latex": [
       "Target:Exp | Kernel:TransStrawHat | $\\sigma$:0.1 | eff:0.0348 | $P_{jump}$:1.0 | Exx2:0.4758 | $\\rho_1$:0.7647 | $\\rho_2$:0.7338 | $E_{0.05}$:0.1611 | $E_{0.25}$:0.0393 | $E_{0.50}$:0.0296 | Time:26.53"
      ],
      "text/plain": [
       "<IPython.core.display.Latex object>"
      ]
     },
     "metadata": {},
     "output_type": "display_data"
    },
    {
     "data": {
      "text/latex": [
       "Target:Exp | Kernel:TransStrawHat | $\\sigma$:0.3 | eff:0.3369 | $P_{jump}$:1.0 | Exx2:1.335 | $\\rho_1$:0.3345 | $\\rho_2$:0.2912 | $E_{0.05}$:0.8198 | $E_{0.25}$:0.4068 | $E_{0.50}$:0.3013 | Time:13.39"
      ],
      "text/plain": [
       "<IPython.core.display.Latex object>"
      ]
     },
     "metadata": {},
     "output_type": "display_data"
    },
    {
     "data": {
      "text/latex": [
       "Target:Exp | Kernel:TransStrawHat | $\\sigma$:0.5 | eff:1.0001 | $P_{jump}$:1.0 | Exx2:2.0854 | $\\rho_1$:-0.0376 | $\\rho_2$:0.0551 | $E_{0.05}$:1.0232 | $E_{0.25}$:1.2213 | $E_{0.50}$:0.9322 | Time:12.65"
      ],
      "text/plain": [
       "<IPython.core.display.Latex object>"
      ]
     },
     "metadata": {},
     "output_type": "display_data"
    },
    {
     "data": {
      "text/latex": [
       "Target:Exp | Kernel:TransStrawHat | $\\sigma$:0.7 | eff:1.7749 | $P_{jump}$:1.0 | Exx2:2.6558 | $\\rho_1$:-0.3256 | $\\rho_2$:0.1539 | $E_{0.05}$:1.0647 | $E_{0.25}$:1.5941 | $E_{0.50}$:1.8581 | Time:13.01"
      ],
      "text/plain": [
       "<IPython.core.display.Latex object>"
      ]
     },
     "metadata": {},
     "output_type": "display_data"
    },
    {
     "data": {
      "text/latex": [
       "Target:Exp | Kernel:TransStrawHat | $\\sigma$:0.8 | eff:1.9916 | $P_{jump}$:1.0 | Exx2:2.8448 | $\\rho_1$:-0.4231 | $\\rho_2$:0.2801 | $E_{0.05}$:1.0453 | $E_{0.25}$:1.4197 | $E_{0.50}$:2.8982 | Time:13.39"
      ],
      "text/plain": [
       "<IPython.core.display.Latex object>"
      ]
     },
     "metadata": {},
     "output_type": "display_data"
    },
    {
     "data": {
      "text/latex": [
       "Target:Exp | Kernel:TransStrawHat | $\\sigma$:0.9 | eff:2.0162 | $P_{jump}$:1.0 | Exx2:2.9486 | $\\rho_1$:-0.47 | $\\rho_2$:0.3654 | $E_{0.05}$:0.9987 | $E_{0.25}$:1.2597 | $E_{0.50}$:3.5118 | Time:13.23"
      ],
      "text/plain": [
       "<IPython.core.display.Latex object>"
      ]
     },
     "metadata": {},
     "output_type": "display_data"
    },
    {
     "data": {
      "text/latex": [
       "Target:Exp | Kernel:TransStrawHat | $\\sigma$:1 | eff:2.0785 | $P_{jump}$:1.0 | Exx2:2.9522 | $\\rho_1$:-0.4695 | $\\rho_2$:0.3608 | $E_{0.05}$:1.0196 | $E_{0.25}$:1.3716 | $E_{0.50}$:3.2079 | Time:13.39"
      ],
      "text/plain": [
       "<IPython.core.display.Latex object>"
      ]
     },
     "metadata": {},
     "output_type": "display_data"
    },
    {
     "data": {
      "text/latex": [
       "Target:Exp | Kernel:TransStrawHat | $\\sigma$:1.1 | eff:2.0634 | $P_{jump}$:1.0 | Exx2:2.8469 | $\\rho_1$:-0.4286 | $\\rho_2$:0.2808 | $E_{0.05}$:1.0402 | $E_{0.25}$:1.5692 | $E_{0.50}$:2.5784 | Time:13.44"
      ],
      "text/plain": [
       "<IPython.core.display.Latex object>"
      ]
     },
     "metadata": {},
     "output_type": "display_data"
    },
    {
     "data": {
      "text/latex": [
       "Target:Exp | Kernel:TransStrawHat | $\\sigma$:1.3 | eff:1.603 | $P_{jump}$:1.0 | Exx2:2.4826 | $\\rho_1$:-0.244 | $\\rho_2$:0.0755 | $E_{0.05}$:1.0919 | $E_{0.25}$:1.5439 | $E_{0.50}$:1.6546 | Time:13.84"
      ],
      "text/plain": [
       "<IPython.core.display.Latex object>"
      ]
     },
     "metadata": {},
     "output_type": "display_data"
    },
    {
     "data": {
      "text/latex": [
       "Target:Exp | Kernel:TransStrawHat | $\\sigma$:1.5 | eff:0.9237 | $P_{jump}$:1.0 | Exx2:1.9226 | $\\rho_1$:0.0398 | $\\rho_2$:0.0014 | $E_{0.05}$:0.9666 | $E_{0.25}$:0.9385 | $E_{0.50}$:0.9055 | Time:13.57"
      ],
      "text/plain": [
       "<IPython.core.display.Latex object>"
      ]
     },
     "metadata": {},
     "output_type": "display_data"
    },
    {
     "data": {
      "text/latex": [
       "Target:Exp | Kernel:TransStrawHat | $\\sigma$:1.7 | eff:0.6168 | $P_{jump}$:1.0 | Exx2:1.5616 | $\\rho_1$:0.2165 | $\\rho_2$:0.0631 | $E_{0.05}$:0.8963 | $E_{0.25}$:0.6549 | $E_{0.50}$:0.5926 | Time:13.91"
      ],
      "text/plain": [
       "<IPython.core.display.Latex object>"
      ]
     },
     "metadata": {},
     "output_type": "display_data"
    },
    {
     "data": {
      "text/latex": [
       "Target:Exp | Kernel:TransStrawHat | $\\sigma$:1.8 | eff:0.5841 | $P_{jump}$:1.0 | Exx2:1.5291 | $\\rho_1$:0.2349 | $\\rho_2$:0.0798 | $E_{0.05}$:0.8919 | $E_{0.25}$:0.6351 | $E_{0.50}$:0.5558 | Time:13.84"
      ],
      "text/plain": [
       "<IPython.core.display.Latex object>"
      ]
     },
     "metadata": {},
     "output_type": "display_data"
    },
    {
     "data": {
      "text/latex": [
       "Target:Exp | Kernel:TransStrawHat | $\\sigma$:1.9 | eff:0.6121 | $P_{jump}$:1.0 | Exx2:1.5678 | $\\rho_1$:0.2182 | $\\rho_2$:0.0734 | $E_{0.05}$:0.9213 | $E_{0.25}$:0.6758 | $E_{0.50}$:0.5702 | Time:13.76"
      ],
      "text/plain": [
       "<IPython.core.display.Latex object>"
      ]
     },
     "metadata": {},
     "output_type": "display_data"
    },
    {
     "data": {
      "text/latex": [
       "Target:Exp | Kernel:TransStrawHat | $\\sigma$:2 | eff:0.6671 | $P_{jump}$:1.0 | Exx2:1.655 | $\\rho_1$:0.1767 | $\\rho_2$:0.0508 | $E_{0.05}$:0.934 | $E_{0.25}$:0.7445 | $E_{0.50}$:0.6322 | Time:13.69"
      ],
      "text/plain": [
       "<IPython.core.display.Latex object>"
      ]
     },
     "metadata": {},
     "output_type": "display_data"
    },
    {
     "data": {
      "text/latex": [
       "Target:Exp | Kernel:TransStrawHat | $\\sigma$:2.1 | eff:0.7834 | $P_{jump}$:1.0 | Exx2:1.7799 | $\\rho_1$:0.1141 | $\\rho_2$:0.0205 | $E_{0.05}$:0.9557 | $E_{0.25}$:0.8383 | $E_{0.50}$:0.7398 | Time:13.92"
      ],
      "text/plain": [
       "<IPython.core.display.Latex object>"
      ]
     },
     "metadata": {},
     "output_type": "display_data"
    },
    {
     "data": {
      "text/latex": [
       "Target:Exp | Kernel:TransStrawHat | $\\sigma$:2.2 | eff:0.9153 | $P_{jump}$:1.0 | Exx2:1.9239 | $\\rho_1$:0.0434 | $\\rho_2$:0.0056 | $E_{0.05}$:0.987 | $E_{0.25}$:0.9323 | $E_{0.50}$:0.8907 | Time:13.76"
      ],
      "text/plain": [
       "<IPython.core.display.Latex object>"
      ]
     },
     "metadata": {},
     "output_type": "display_data"
    },
    {
     "data": {
      "text/latex": [
       "Target:Exp | Kernel:TransStrawHat | $\\sigma$:2.3 | eff:1.0459 | $P_{jump}$:1.0 | Exx2:2.0438 | $\\rho_1$:-0.0232 | $\\rho_2$:0.002 | $E_{0.05}$:0.9815 | $E_{0.25}$:1.0123 | $E_{0.50}$:1.0743 | Time:13.75"
      ],
      "text/plain": [
       "<IPython.core.display.Latex object>"
      ]
     },
     "metadata": {},
     "output_type": "display_data"
    },
    {
     "data": {
      "text/latex": [
       "Target:Exp | Kernel:TransStrawHat | $\\sigma$:2.4 | eff:1.1599 | $P_{jump}$:1.0 | Exx2:2.1539 | $\\rho_1$:-0.078 | $\\rho_2$:0.0105 | $E_{0.05}$:0.9974 | $E_{0.25}$:1.0749 | $E_{0.50}$:1.2215 | Time:13.8"
      ],
      "text/plain": [
       "<IPython.core.display.Latex object>"
      ]
     },
     "metadata": {},
     "output_type": "display_data"
    },
    {
     "data": {
      "text/latex": [
       "Target:Exp | Kernel:TransStrawHat | $\\sigma$:2.5 | eff:1.2485 | $P_{jump}$:1.0 | Exx2:2.2291 | $\\rho_1$:-0.1165 | $\\rho_2$:0.0219 | $E_{0.05}$:1.0176 | $E_{0.25}$:1.1487 | $E_{0.50}$:1.322 | Time:13.81"
      ],
      "text/plain": [
       "<IPython.core.display.Latex object>"
      ]
     },
     "metadata": {},
     "output_type": "display_data"
    },
    {
     "data": {
      "text/latex": [
       "Target:Exp | Kernel:TransStrawHat | $\\sigma$:2.6 | eff:1.2809 | $P_{jump}$:1.0 | Exx2:2.2653 | $\\rho_1$:-0.1341 | $\\rho_2$:0.0274 | $E_{0.05}$:1.0418 | $E_{0.25}$:1.2172 | $E_{0.50}$:1.3511 | Time:13.61"
      ],
      "text/plain": [
       "<IPython.core.display.Latex object>"
      ]
     },
     "metadata": {},
     "output_type": "display_data"
    },
    {
     "data": {
      "text/latex": [
       "Target:Exp | Kernel:TransStrawHat | $\\sigma$:2.8 | eff:1.2236 | $P_{jump}$:1.0 | Exx2:2.2142 | $\\rho_1$:-0.1069 | $\\rho_2$:0.0138 | $E_{0.05}$:1.0431 | $E_{0.25}$:1.2139 | $E_{0.50}$:1.2487 | Time:13.45"
      ],
      "text/plain": [
       "<IPython.core.display.Latex object>"
      ]
     },
     "metadata": {},
     "output_type": "display_data"
    },
    {
     "data": {
      "text/latex": [
       "Target:Exp | Kernel:TransStrawHat | $\\sigma$:3.0 | eff:0.9931 | $P_{jump}$:1.0 | Exx2:1.9984 | $\\rho_1$:0.0003 | $\\rho_2$:-0.0001 | $E_{0.05}$:0.9685 | $E_{0.25}$:0.9916 | $E_{0.50}$:1.0091 | Time:13.76"
      ],
      "text/plain": [
       "<IPython.core.display.Latex object>"
      ]
     },
     "metadata": {},
     "output_type": "display_data"
    },
    {
     "data": {
      "text/latex": [
       "Target:Exp | Kernel:TransStrawHat | $\\sigma$:3.2 | eff:0.8498 | $P_{jump}$:1.0 | Exx2:1.8382 | $\\rho_1$:0.0781 | $\\rho_2$:0.0066 | $E_{0.05}$:0.9687 | $E_{0.25}$:0.8587 | $E_{0.50}$:0.8411 | Time:13.97"
      ],
      "text/plain": [
       "<IPython.core.display.Latex object>"
      ]
     },
     "metadata": {},
     "output_type": "display_data"
    },
    {
     "data": {
      "text/latex": [
       "Target:Exp | Kernel:TransStrawHat | $\\sigma$:3.5 | eff:0.8718 | $P_{jump}$:1.0 | Exx2:1.8643 | $\\rho_1$:0.0665 | $\\rho_2$:0.008 | $E_{0.05}$:0.9842 | $E_{0.25}$:0.9143 | $E_{0.50}$:0.8389 | Time:13.7"
      ],
      "text/plain": [
       "<IPython.core.display.Latex object>"
      ]
     },
     "metadata": {},
     "output_type": "display_data"
    },
    {
     "data": {
      "text/latex": [
       "Target:Exp | Kernel:TransStrawHat | $\\sigma$:4 | eff:1.1191 | $P_{jump}$:1.0 | Exx2:2.1112 | $\\rho_1$:-0.0583 | $\\rho_2$:0.0076 | $E_{0.05}$:1.0017 | $E_{0.25}$:1.0708 | $E_{0.50}$:1.16 | Time:13.86"
      ],
      "text/plain": [
       "<IPython.core.display.Latex object>"
      ]
     },
     "metadata": {},
     "output_type": "display_data"
    },
    {
     "data": {
      "text/latex": [
       "Target:Exp | Kernel:TransStrawHat | $\\sigma$:4.5 | eff:0.955 | $P_{jump}$:1.0 | Exx2:1.9586 | $\\rho_1$:0.022 | $\\rho_2$:0.0028 | $E_{0.05}$:0.9626 | $E_{0.25}$:0.9564 | $E_{0.50}$:0.9587 | Time:13.87"
      ],
      "text/plain": [
       "<IPython.core.display.Latex object>"
      ]
     },
     "metadata": {},
     "output_type": "display_data"
    },
    {
     "data": {
      "text/latex": [
       "Target:Exp | Kernel:TransStrawHat | $\\sigma$:5 | eff:0.9394 | $P_{jump}$:1.0 | Exx2:1.9307 | $\\rho_1$:0.0339 | $\\rho_2$:0.0014 | $E_{0.05}$:1.0034 | $E_{0.25}$:0.9509 | $E_{0.50}$:0.9091 | Time:14.1"
      ],
      "text/plain": [
       "<IPython.core.display.Latex object>"
      ]
     },
     "metadata": {},
     "output_type": "display_data"
    },
    {
     "data": {
      "text/latex": [
       "Target:Exp | Kernel:TransStrawHat | $\\sigma$:6 | eff:0.9368 | $P_{jump}$:1.0 | Exx2:1.9384 | $\\rho_1$:0.0279 | $\\rho_2$:0.0011 | $E_{0.05}$:0.9719 | $E_{0.25}$:0.9513 | $E_{0.50}$:0.9488 | Time:13.7"
      ],
      "text/plain": [
       "<IPython.core.display.Latex object>"
      ]
     },
     "metadata": {},
     "output_type": "display_data"
    },
    {
     "data": {
      "text/latex": [
       "Target:Exp | Kernel:TransStrawHat | $\\sigma$:7 | eff:1.1002 | $P_{jump}$:1.0 | Exx2:2.0965 | $\\rho_1$:-0.0472 | $\\rho_2$:0.0028 | $E_{0.05}$:1.0054 | $E_{0.25}$:1.0757 | $E_{0.50}$:1.1114 | Time:13.94"
      ],
      "text/plain": [
       "<IPython.core.display.Latex object>"
      ]
     },
     "metadata": {},
     "output_type": "display_data"
    },
    {
     "data": {
      "text/latex": [
       "Target:Exp | Kernel:TransStrawHat | $\\sigma$:8 | eff:0.9508 | $P_{jump}$:1.0 | Exx2:1.9581 | $\\rho_1$:0.0249 | $\\rho_2$:0.0006 | $E_{0.05}$:0.9902 | $E_{0.25}$:0.9644 | $E_{0.50}$:0.9272 | Time:13.97"
      ],
      "text/plain": [
       "<IPython.core.display.Latex object>"
      ]
     },
     "metadata": {},
     "output_type": "display_data"
    },
    {
     "data": {
      "text/latex": [
       "Target:Folded_Gaussian | Kernel:Uniform | $\\sigma$:0.1 | eff:0.0043 | $P_{jump}$:0.965 | Exx2:0.0091 | $\\rho_1$:0.9876 | $\\rho_2$:0.9758 | $E_{0.05}$:0.0714 | $E_{0.25}$:0.0151 | $E_{0.50}$:0.0075 | Time:101.39"
      ],
      "text/plain": [
       "<IPython.core.display.Latex object>"
      ]
     },
     "metadata": {},
     "output_type": "display_data"
    },
    {
     "data": {
      "text/latex": [
       "Target:Folded_Gaussian | Kernel:Uniform | $\\sigma$:0.3 | eff:0.0384 | $P_{jump}$:0.8964 | Exx2:0.0671 | $\\rho_1$:0.9094 | $\\rho_2$:0.8347 | $E_{0.05}$:0.4421 | $E_{0.25}$:0.1294 | $E_{0.50}$:0.0703 | Time:16.31"
      ],
      "text/plain": [
       "<IPython.core.display.Latex object>"
      ]
     },
     "metadata": {},
     "output_type": "display_data"
    },
    {
     "data": {
      "text/latex": [
       "Target:Folded_Gaussian | Kernel:Uniform | $\\sigma$:0.5 | eff:0.0894 | $P_{jump}$:0.8295 | Exx2:0.1482 | $\\rho_1$:0.7968 | $\\rho_2$:0.6555 | $E_{0.05}$:0.6379 | $E_{0.25}$:0.3039 | $E_{0.50}$:0.1658 | Time:11.02"
      ],
      "text/plain": [
       "<IPython.core.display.Latex object>"
      ]
     },
     "metadata": {},
     "output_type": "display_data"
    },
    {
     "data": {
      "text/latex": [
       "Target:Folded_Gaussian | Kernel:Uniform | $\\sigma$:0.7 | eff:0.147 | $P_{jump}$:0.7651 | Exx2:0.2249 | $\\rho_1$:0.6911 | $\\rho_2$:0.5067 | $E_{0.05}$:0.6035 | $E_{0.25}$:0.4306 | $E_{0.50}$:0.2688 | Time:10.54"
      ],
      "text/plain": [
       "<IPython.core.display.Latex object>"
      ]
     },
     "metadata": {},
     "output_type": "display_data"
    },
    {
     "data": {
      "text/latex": [
       "Target:Folded_Gaussian | Kernel:Uniform | $\\sigma$:0.8 | eff:0.175 | $P_{jump}$:0.7338 | Exx2:0.2575 | $\\rho_1$:0.6471 | $\\rho_2$:0.4487 | $E_{0.05}$:0.5773 | $E_{0.25}$:0.4557 | $E_{0.50}$:0.3161 | Time:10.9"
      ],
      "text/plain": [
       "<IPython.core.display.Latex object>"
      ]
     },
     "metadata": {},
     "output_type": "display_data"
    },
    {
     "data": {
      "text/latex": [
       "Target:Folded_Gaussian | Kernel:Uniform | $\\sigma$:0.9 | eff:0.2013 | $P_{jump}$:0.7037 | Exx2:0.2831 | $\\rho_1$:0.6132 | $\\rho_2$:0.4039 | $E_{0.05}$:0.5382 | $E_{0.25}$:0.4644 | $E_{0.50}$:0.3561 | Time:9.73"
      ],
      "text/plain": [
       "<IPython.core.display.Latex object>"
      ]
     },
     "metadata": {},
     "output_type": "display_data"
    },
    {
     "data": {
      "text/latex": [
       "Target:Folded_Gaussian | Kernel:Uniform | $\\sigma$:1 | eff:0.2205 | $P_{jump}$:0.6744 | Exx2:0.3025 | $\\rho_1$:0.5836 | $\\rho_2$:0.3652 | $E_{0.05}$:0.4902 | $E_{0.25}$:0.4526 | $E_{0.50}$:0.3761 | Time:10.2"
      ],
      "text/plain": [
       "<IPython.core.display.Latex object>"
      ]
     },
     "metadata": {},
     "output_type": "display_data"
    },
    {
     "data": {
      "text/latex": [
       "Target:Folded_Gaussian | Kernel:Uniform | $\\sigma$:1.1 | eff:0.2486 | $P_{jump}$:0.6462 | Exx2:0.3162 | $\\rho_1$:0.5632 | $\\rho_2$:0.3362 | $E_{0.05}$:0.438 | $E_{0.25}$:0.4238 | $E_{0.50}$:0.3901 | Time:9.72"
      ],
      "text/plain": [
       "<IPython.core.display.Latex object>"
      ]
     },
     "metadata": {},
     "output_type": "display_data"
    },
    {
     "data": {
      "text/latex": [
       "Target:Folded_Gaussian | Kernel:Uniform | $\\sigma$:1.3 | eff:0.2718 | $P_{jump}$:0.5926 | Exx2:0.3299 | $\\rho_1$:0.5441 | $\\rho_2$:0.3056 | $E_{0.05}$:0.3687 | $E_{0.25}$:0.3682 | $E_{0.50}$:0.3667 | Time:9.62"
      ],
      "text/plain": [
       "<IPython.core.display.Latex object>"
      ]
     },
     "metadata": {},
     "output_type": "display_data"
    },
    {
     "data": {
      "text/latex": [
       "Target:Folded_Gaussian | Kernel:Uniform | $\\sigma$:1.5 | eff:0.2774 | $P_{jump}$:0.5434 | Exx2:0.3258 | $\\rho_1$:0.5505 | $\\rho_2$:0.3086 | $E_{0.05}$:0.3149 | $E_{0.25}$:0.3179 | $E_{0.50}$:0.3287 | Time:9.53"
      ],
      "text/plain": [
       "<IPython.core.display.Latex object>"
      ]
     },
     "metadata": {},
     "output_type": "display_data"
    },
    {
     "data": {
      "text/latex": [
       "Target:Folded_Gaussian | Kernel:Uniform | $\\sigma$:1.7 | eff:0.2681 | $P_{jump}$:0.4994 | Exx2:0.3136 | $\\rho_1$:0.5682 | $\\rho_2$:0.3255 | $E_{0.05}$:0.2685 | $E_{0.25}$:0.2721 | $E_{0.50}$:0.2865 | Time:9.51"
      ],
      "text/plain": [
       "<IPython.core.display.Latex object>"
      ]
     },
     "metadata": {},
     "output_type": "display_data"
    },
    {
     "data": {
      "text/latex": [
       "Target:Folded_Gaussian | Kernel:Uniform | $\\sigma$:1.8 | eff:0.2634 | $P_{jump}$:0.4789 | Exx2:0.3061 | $\\rho_1$:0.5785 | $\\rho_2$:0.3365 | $E_{0.05}$:0.2467 | $E_{0.25}$:0.2549 | $E_{0.50}$:0.2719 | Time:9.34"
      ],
      "text/plain": [
       "<IPython.core.display.Latex object>"
      ]
     },
     "metadata": {},
     "output_type": "display_data"
    },
    {
     "data": {
      "text/latex": [
       "Target:Folded_Gaussian | Kernel:Uniform | $\\sigma$:1.9 | eff:0.2515 | $P_{jump}$:0.4593 | Exx2:0.2982 | $\\rho_1$:0.592 | $\\rho_2$:0.3517 | $E_{0.05}$:0.2363 | $E_{0.25}$:0.2412 | $E_{0.50}$:0.2571 | Time:9.43"
      ],
      "text/plain": [
       "<IPython.core.display.Latex object>"
      ]
     },
     "metadata": {},
     "output_type": "display_data"
    },
    {
     "data": {
      "text/latex": [
       "Target:Folded_Gaussian | Kernel:Uniform | $\\sigma$:2 | eff:0.2449 | $P_{jump}$:0.4415 | Exx2:0.2881 | $\\rho_1$:0.6026 | $\\rho_2$:0.363 | $E_{0.05}$:0.2231 | $E_{0.25}$:0.2268 | $E_{0.50}$:0.2385 | Time:10.2"
      ],
      "text/plain": [
       "<IPython.core.display.Latex object>"
      ]
     },
     "metadata": {},
     "output_type": "display_data"
    },
    {
     "data": {
      "text/latex": [
       "Target:Folded_Gaussian | Kernel:Uniform | $\\sigma$:2.1 | eff:0.2298 | $P_{jump}$:0.4236 | Exx2:0.2785 | $\\rho_1$:0.6174 | $\\rho_2$:0.3819 | $E_{0.05}$:0.2048 | $E_{0.25}$:0.21 | $E_{0.50}$:0.2249 | Time:10.53"
      ],
      "text/plain": [
       "<IPython.core.display.Latex object>"
      ]
     },
     "metadata": {},
     "output_type": "display_data"
    },
    {
     "data": {
      "text/latex": [
       "Target:Folded_Gaussian | Kernel:Uniform | $\\sigma$:2.2 | eff:0.2212 | $P_{jump}$:0.4072 | Exx2:0.2673 | $\\rho_1$:0.6309 | $\\rho_2$:0.3991 | $E_{0.05}$:0.1938 | $E_{0.25}$:0.2005 | $E_{0.50}$:0.2081 | Time:10.58"
      ],
      "text/plain": [
       "<IPython.core.display.Latex object>"
      ]
     },
     "metadata": {},
     "output_type": "display_data"
    },
    {
     "data": {
      "text/latex": [
       "Target:Folded_Gaussian | Kernel:Uniform | $\\sigma$:2.3 | eff:0.2101 | $P_{jump}$:0.3922 | Exx2:0.2587 | $\\rho_1$:0.6437 | $\\rho_2$:0.4169 | $E_{0.05}$:0.1844 | $E_{0.25}$:0.1895 | $E_{0.50}$:0.2017 | Time:10.08"
      ],
      "text/plain": [
       "<IPython.core.display.Latex object>"
      ]
     },
     "metadata": {},
     "output_type": "display_data"
    },
    {
     "data": {
      "text/latex": [
       "Target:Folded_Gaussian | Kernel:Uniform | $\\sigma$:2.4 | eff:0.1989 | $P_{jump}$:0.3767 | Exx2:0.2492 | $\\rho_1$:0.6571 | $\\rho_2$:0.434 | $E_{0.05}$:0.1736 | $E_{0.25}$:0.1818 | $E_{0.50}$:0.1911 | Time:11.16"
      ],
      "text/plain": [
       "<IPython.core.display.Latex object>"
      ]
     },
     "metadata": {},
     "output_type": "display_data"
    },
    {
     "data": {
      "text/latex": [
       "Target:Folded_Gaussian | Kernel:Uniform | $\\sigma$:2.5 | eff:0.1956 | $P_{jump}$:0.3635 | Exx2:0.2414 | $\\rho_1$:0.6677 | $\\rho_2$:0.4483 | $E_{0.05}$:0.1722 | $E_{0.25}$:0.1733 | $E_{0.50}$:0.1846 | Time:9.62"
      ],
      "text/plain": [
       "<IPython.core.display.Latex object>"
      ]
     },
     "metadata": {},
     "output_type": "display_data"
    },
    {
     "data": {
      "text/latex": [
       "Target:Folded_Gaussian | Kernel:Uniform | $\\sigma$:2.6 | eff:0.1849 | $P_{jump}$:0.3504 | Exx2:0.2322 | $\\rho_1$:0.6786 | $\\rho_2$:0.4636 | $E_{0.05}$:0.161 | $E_{0.25}$:0.1639 | $E_{0.50}$:0.1755 | Time:10.41"
      ],
      "text/plain": [
       "<IPython.core.display.Latex object>"
      ]
     },
     "metadata": {},
     "output_type": "display_data"
    },
    {
     "data": {
      "text/latex": [
       "Target:Folded_Gaussian | Kernel:Uniform | $\\sigma$:2.8 | eff:0.1704 | $P_{jump}$:0.3277 | Exx2:0.2186 | $\\rho_1$:0.7013 | $\\rho_2$:0.4941 | $E_{0.05}$:0.1479 | $E_{0.25}$:0.1528 | $E_{0.50}$:0.1614 | Time:9.93"
      ],
      "text/plain": [
       "<IPython.core.display.Latex object>"
      ]
     },
     "metadata": {},
     "output_type": "display_data"
    },
    {
     "data": {
      "text/latex": [
       "Target:Folded_Gaussian | Kernel:Uniform | $\\sigma$:3.0 | eff:0.1518 | $P_{jump}$:0.306 | Exx2:0.2045 | $\\rho_1$:0.7199 | $\\rho_2$:0.5213 | $E_{0.05}$:0.1378 | $E_{0.25}$:0.1383 | $E_{0.50}$:0.1472 | Time:11.38"
      ],
      "text/plain": [
       "<IPython.core.display.Latex object>"
      ]
     },
     "metadata": {},
     "output_type": "display_data"
    },
    {
     "data": {
      "text/latex": [
       "Target:Folded_Gaussian | Kernel:Uniform | $\\sigma$:3.2 | eff:0.1419 | $P_{jump}$:0.2874 | Exx2:0.1913 | $\\rho_1$:0.7383 | $\\rho_2$:0.5475 | $E_{0.05}$:0.127 | $E_{0.25}$:0.1284 | $E_{0.50}$:0.1354 | Time:11.32"
      ],
      "text/plain": [
       "<IPython.core.display.Latex object>"
      ]
     },
     "metadata": {},
     "output_type": "display_data"
    },
    {
     "data": {
      "text/latex": [
       "Target:Folded_Gaussian | Kernel:Uniform | $\\sigma$:3.5 | eff:0.1303 | $P_{jump}$:0.2633 | Exx2:0.1747 | $\\rho_1$:0.7605 | $\\rho_2$:0.5802 | $E_{0.05}$:0.1106 | $E_{0.25}$:0.1168 | $E_{0.50}$:0.1229 | Time:11.84"
      ],
      "text/plain": [
       "<IPython.core.display.Latex object>"
      ]
     },
     "metadata": {},
     "output_type": "display_data"
    },
    {
     "data": {
      "text/latex": [
       "Target:Folded_Gaussian | Kernel:Uniform | $\\sigma$:4 | eff:0.1159 | $P_{jump}$:0.2299 | Exx2:0.1536 | $\\rho_1$:0.7885 | $\\rho_2$:0.6231 | $E_{0.05}$:0.0998 | $E_{0.25}$:0.1007 | $E_{0.50}$:0.1085 | Time:11.16"
      ],
      "text/plain": [
       "<IPython.core.display.Latex object>"
      ]
     },
     "metadata": {},
     "output_type": "display_data"
    },
    {
     "data": {
      "text/latex": [
       "Target:Folded_Gaussian | Kernel:Uniform | $\\sigma$:4.5 | eff:0.0999 | $P_{jump}$:0.2046 | Exx2:0.1367 | $\\rho_1$:0.8128 | $\\rho_2$:0.6628 | $E_{0.05}$:0.0861 | $E_{0.25}$:0.0888 | $E_{0.50}$:0.0953 | Time:12.21"
      ],
      "text/plain": [
       "<IPython.core.display.Latex object>"
      ]
     },
     "metadata": {},
     "output_type": "display_data"
    },
    {
     "data": {
      "text/latex": [
       "Target:Folded_Gaussian | Kernel:Uniform | $\\sigma$:5 | eff:0.0873 | $P_{jump}$:0.1846 | Exx2:0.1226 | $\\rho_1$:0.8314 | $\\rho_2$:0.6928 | $E_{0.05}$:0.0773 | $E_{0.25}$:0.0795 | $E_{0.50}$:0.0831 | Time:12.66"
      ],
      "text/plain": [
       "<IPython.core.display.Latex object>"
      ]
     },
     "metadata": {},
     "output_type": "display_data"
    },
    {
     "data": {
      "text/latex": [
       "Target:Folded_Gaussian | Kernel:Uniform | $\\sigma$:6 | eff:0.0715 | $P_{jump}$:0.154 | Exx2:0.1018 | $\\rho_1$:0.8606 | $\\rho_2$:0.7414 | $E_{0.05}$:0.0634 | $E_{0.25}$:0.0648 | $E_{0.50}$:0.0683 | Time:14.54"
      ],
      "text/plain": [
       "<IPython.core.display.Latex object>"
      ]
     },
     "metadata": {},
     "output_type": "display_data"
    },
    {
     "data": {
      "text/latex": [
       "Target:Folded_Gaussian | Kernel:Uniform | $\\sigma$:7 | eff:0.062 | $P_{jump}$:0.1318 | Exx2:0.0884 | $\\rho_1$:0.8796 | $\\rho_2$:0.7739 | $E_{0.05}$:0.0554 | $E_{0.25}$:0.0516 | $E_{0.50}$:0.0583 | Time:17.22"
      ],
      "text/plain": [
       "<IPython.core.display.Latex object>"
      ]
     },
     "metadata": {},
     "output_type": "display_data"
    },
    {
     "data": {
      "text/latex": [
       "Target:Folded_Gaussian | Kernel:Uniform | $\\sigma$:8 | eff:0.0542 | $P_{jump}$:0.1157 | Exx2:0.0779 | $\\rho_1$:0.8937 | $\\rho_2$:0.7989 | $E_{0.05}$:0.0475 | $E_{0.25}$:0.0485 | $E_{0.50}$:0.0504 | Time:16.87"
      ],
      "text/plain": [
       "<IPython.core.display.Latex object>"
      ]
     },
     "metadata": {},
     "output_type": "display_data"
    },
    {
     "data": {
      "text/latex": [
       "Target:Folded_Gaussian | Kernel:TransUniform | $\\sigma$:0.1 | eff:0.0383 | $P_{jump}$:0.9263 | Exx2:0.0693 | $\\rho_1$:0.9048 | $\\rho_2$:0.8263 | $E_{0.05}$:0.1607 | $E_{0.25}$:0.0487 | $E_{0.50}$:0.0427 | Time:19.01"
      ],
      "text/plain": [
       "<IPython.core.display.Latex object>"
      ]
     },
     "metadata": {},
     "output_type": "display_data"
    },
    {
     "data": {
      "text/latex": [
       "Target:Folded_Gaussian | Kernel:TransUniform | $\\sigma$:0.3 | eff:0.2721 | $P_{jump}$:0.8425 | Exx2:0.3262 | $\\rho_1$:0.5509 | $\\rho_2$:0.318 | $E_{0.05}$:0.74 | $E_{0.25}$:0.3735 | $E_{0.50}$:0.3092 | Time:13.24"
      ],
      "text/plain": [
       "<IPython.core.display.Latex object>"
      ]
     },
     "metadata": {},
     "output_type": "display_data"
    },
    {
     "data": {
      "text/latex": [
       "Target:Folded_Gaussian | Kernel:TransUniform | $\\sigma$:0.5 | eff:0.6333 | $P_{jump}$:0.8312 | Exx2:0.57 | $\\rho_1$:0.2168 | $\\rho_2$:0.0524 | $E_{0.05}$:0.9351 | $E_{0.25}$:0.7084 | $E_{0.50}$:0.5439 | Time:12.84"
      ],
      "text/plain": [
       "<IPython.core.display.Latex object>"
      ]
     },
     "metadata": {},
     "output_type": "display_data"
    },
    {
     "data": {
      "text/latex": [
       "Target:Folded_Gaussian | Kernel:TransUniform | $\\sigma$:0.7 | eff:0.9964 | $P_{jump}$:0.843 | Exx2:0.7256 | $\\rho_1$:0.0015 | $\\rho_2$:0.0012 | $E_{0.05}$:0.7389 | $E_{0.25}$:0.7344 | $E_{0.50}$:0.8628 | Time:13.39"
      ],
      "text/plain": [
       "<IPython.core.display.Latex object>"
      ]
     },
     "metadata": {},
     "output_type": "display_data"
    },
    {
     "data": {
      "text/latex": [
       "Target:Folded_Gaussian | Kernel:TransUniform | $\\sigma$:0.8 | eff:1.0596 | $P_{jump}$:0.8388 | Exx2:0.7527 | $\\rho_1$:-0.0366 | $\\rho_2$:0.0031 | $E_{0.05}$:0.7889 | $E_{0.25}$:0.7892 | $E_{0.50}$:0.8496 | Time:13.02"
      ],
      "text/plain": [
       "<IPython.core.display.Latex object>"
      ]
     },
     "metadata": {},
     "output_type": "display_data"
    },
    {
     "data": {
      "text/latex": [
       "Target:Folded_Gaussian | Kernel:TransUniform | $\\sigma$:0.9 | eff:1.0625 | $P_{jump}$:0.8328 | Exx2:0.7504 | $\\rho_1$:-0.0332 | $\\rho_2$:0.0041 | $E_{0.05}$:0.8099 | $E_{0.25}$:0.8707 | $E_{0.50}$:0.8204 | Time:13.18"
      ],
      "text/plain": [
       "<IPython.core.display.Latex object>"
      ]
     },
     "metadata": {},
     "output_type": "display_data"
    },
    {
     "data": {
      "text/latex": [
       "Target:Folded_Gaussian | Kernel:TransUniform | $\\sigma$:1 | eff:0.9878 | $P_{jump}$:0.8287 | Exx2:0.7229 | $\\rho_1$:0.0044 | $\\rho_2$:0.0026 | $E_{0.05}$:0.8425 | $E_{0.25}$:0.8659 | $E_{0.50}$:0.7995 | Time:13.38"
      ],
      "text/plain": [
       "<IPython.core.display.Latex object>"
      ]
     },
     "metadata": {},
     "output_type": "display_data"
    },
    {
     "data": {
      "text/latex": [
       "Target:Folded_Gaussian | Kernel:TransUniform | $\\sigma$:1.1 | eff:0.8614 | $P_{jump}$:0.831 | Exx2:0.6763 | $\\rho_1$:0.0706 | $\\rho_2$:0.0075 | $E_{0.05}$:0.8753 | $E_{0.25}$:0.7903 | $E_{0.50}$:0.7425 | Time:13.27"
      ],
      "text/plain": [
       "<IPython.core.display.Latex object>"
      ]
     },
     "metadata": {},
     "output_type": "display_data"
    },
    {
     "data": {
      "text/latex": [
       "Target:Folded_Gaussian | Kernel:TransUniform | $\\sigma$:1.3 | eff:0.6741 | $P_{jump}$:0.8438 | Exx2:0.5872 | $\\rho_1$:0.1933 | $\\rho_2$:0.0404 | $E_{0.05}$:0.7941 | $E_{0.25}$:0.6535 | $E_{0.50}$:0.6205 | Time:13.37"
      ],
      "text/plain": [
       "<IPython.core.display.Latex object>"
      ]
     },
     "metadata": {},
     "output_type": "display_data"
    },
    {
     "data": {
      "text/latex": [
       "Target:Folded_Gaussian | Kernel:TransUniform | $\\sigma$:1.5 | eff:0.6695 | $P_{jump}$:0.8366 | Exx2:0.5845 | $\\rho_1$:0.1961 | $\\rho_2$:0.0416 | $E_{0.05}$:0.8279 | $E_{0.25}$:0.6909 | $E_{0.50}$:0.6192 | Time:13.58"
      ],
      "text/plain": [
       "<IPython.core.display.Latex object>"
      ]
     },
     "metadata": {},
     "output_type": "display_data"
    },
    {
     "data": {
      "text/latex": [
       "Target:Folded_Gaussian | Kernel:TransUniform | $\\sigma$:1.7 | eff:0.7778 | $P_{jump}$:0.8367 | Exx2:0.6365 | $\\rho_1$:0.1243 | $\\rho_2$:0.0177 | $E_{0.05}$:0.8384 | $E_{0.25}$:0.7381 | $E_{0.50}$:0.6671 | Time:13.11"
      ],
      "text/plain": [
       "<IPython.core.display.Latex object>"
      ]
     },
     "metadata": {},
     "output_type": "display_data"
    },
    {
     "data": {
      "text/latex": [
       "Target:Folded_Gaussian | Kernel:TransUniform | $\\sigma$:1.8 | eff:0.8363 | $P_{jump}$:0.839 | Exx2:0.6624 | $\\rho_1$:0.0868 | $\\rho_2$:0.0076 | $E_{0.05}$:0.7892 | $E_{0.25}$:0.7429 | $E_{0.50}$:0.739 | Time:13.41"
      ],
      "text/plain": [
       "<IPython.core.display.Latex object>"
      ]
     },
     "metadata": {},
     "output_type": "display_data"
    },
    {
     "data": {
      "text/latex": [
       "Target:Folded_Gaussian | Kernel:TransUniform | $\\sigma$:1.9 | eff:0.8779 | $P_{jump}$:0.8393 | Exx2:0.6841 | $\\rho_1$:0.0617 | $\\rho_2$:0.0053 | $E_{0.05}$:0.7914 | $E_{0.25}$:0.7413 | $E_{0.50}$:0.7582 | Time:13.83"
      ],
      "text/plain": [
       "<IPython.core.display.Latex object>"
      ]
     },
     "metadata": {},
     "output_type": "display_data"
    },
    {
     "data": {
      "text/latex": [
       "Target:Folded_Gaussian | Kernel:TransUniform | $\\sigma$:2 | eff:0.9 | $P_{jump}$:0.8375 | Exx2:0.6922 | $\\rho_1$:0.0481 | $\\rho_2$:0.0028 | $E_{0.05}$:0.8104 | $E_{0.25}$:0.7808 | $E_{0.50}$:0.7483 | Time:13.87"
      ],
      "text/plain": [
       "<IPython.core.display.Latex object>"
      ]
     },
     "metadata": {},
     "output_type": "display_data"
    },
    {
     "data": {
      "text/latex": [
       "Target:Folded_Gaussian | Kernel:TransUniform | $\\sigma$:2.1 | eff:0.8849 | $P_{jump}$:0.8342 | Exx2:0.688 | $\\rho_1$:0.0539 | $\\rho_2$:0.0042 | $E_{0.05}$:0.8254 | $E_{0.25}$:0.796 | $E_{0.50}$:0.7502 | Time:13.84"
      ],
      "text/plain": [
       "<IPython.core.display.Latex object>"
      ]
     },
     "metadata": {},
     "output_type": "display_data"
    },
    {
     "data": {
      "text/latex": [
       "Target:Folded_Gaussian | Kernel:TransUniform | $\\sigma$:2.2 | eff:0.8607 | $P_{jump}$:0.8328 | Exx2:0.669 | $\\rho_1$:0.0766 | $\\rho_2$:0.0072 | $E_{0.05}$:0.8402 | $E_{0.25}$:0.7894 | $E_{0.50}$:0.7351 | Time:13.64"
      ],
      "text/plain": [
       "<IPython.core.display.Latex object>"
      ]
     },
     "metadata": {},
     "output_type": "display_data"
    },
    {
     "data": {
      "text/latex": [
       "Target:Folded_Gaussian | Kernel:TransUniform | $\\sigma$:2.3 | eff:0.8 | $P_{jump}$:0.8368 | Exx2:0.6473 | $\\rho_1$:0.1109 | $\\rho_2$:0.0154 | $E_{0.05}$:0.8223 | $E_{0.25}$:0.7417 | $E_{0.50}$:0.6964 | Time:14.58"
      ],
      "text/plain": [
       "<IPython.core.display.Latex object>"
      ]
     },
     "metadata": {},
     "output_type": "display_data"
    },
    {
     "data": {
      "text/latex": [
       "Target:Folded_Gaussian | Kernel:TransUniform | $\\sigma$:2.4 | eff:0.738 | $P_{jump}$:0.8407 | Exx2:0.6213 | $\\rho_1$:0.1433 | $\\rho_2$:0.0238 | $E_{0.05}$:0.8053 | $E_{0.25}$:0.7095 | $E_{0.50}$:0.6618 | Time:13.65"
      ],
      "text/plain": [
       "<IPython.core.display.Latex object>"
      ]
     },
     "metadata": {},
     "output_type": "display_data"
    },
    {
     "data": {
      "text/latex": [
       "Target:Folded_Gaussian | Kernel:TransUniform | $\\sigma$:2.5 | eff:0.7206 | $P_{jump}$:0.8401 | Exx2:0.6082 | $\\rho_1$:0.1626 | $\\rho_2$:0.0276 | $E_{0.05}$:0.8121 | $E_{0.25}$:0.687 | $E_{0.50}$:0.6487 | Time:13.54"
      ],
      "text/plain": [
       "<IPython.core.display.Latex object>"
      ]
     },
     "metadata": {},
     "output_type": "display_data"
    },
    {
     "data": {
      "text/latex": [
       "Target:Folded_Gaussian | Kernel:TransUniform | $\\sigma$:2.6 | eff:0.7091 | $P_{jump}$:0.8378 | Exx2:0.6072 | $\\rho_1$:0.1662 | $\\rho_2$:0.0303 | $E_{0.05}$:0.8183 | $E_{0.25}$:0.6927 | $E_{0.50}$:0.6447 | Time:13.78"
      ],
      "text/plain": [
       "<IPython.core.display.Latex object>"
      ]
     },
     "metadata": {},
     "output_type": "display_data"
    },
    {
     "data": {
      "text/latex": [
       "Target:Folded_Gaussian | Kernel:TransUniform | $\\sigma$:2.8 | eff:0.7538 | $P_{jump}$:0.8359 | Exx2:0.629 | $\\rho_1$:0.1349 | $\\rho_2$:0.0207 | $E_{0.05}$:0.849 | $E_{0.25}$:0.7255 | $E_{0.50}$:0.6612 | Time:13.7"
      ],
      "text/plain": [
       "<IPython.core.display.Latex object>"
      ]
     },
     "metadata": {},
     "output_type": "display_data"
    },
    {
     "data": {
      "text/latex": [
       "Target:Folded_Gaussian | Kernel:TransUniform | $\\sigma$:3.0 | eff:0.8321 | $P_{jump}$:0.8384 | Exx2:0.6639 | $\\rho_1$:0.0877 | $\\rho_2$:0.0086 | $E_{0.05}$:0.7991 | $E_{0.25}$:0.7411 | $E_{0.50}$:0.7313 | Time:13.69"
      ],
      "text/plain": [
       "<IPython.core.display.Latex object>"
      ]
     },
     "metadata": {},
     "output_type": "display_data"
    },
    {
     "data": {
      "text/latex": [
       "Target:Folded_Gaussian | Kernel:TransUniform | $\\sigma$:3.2 | eff:0.8574 | $P_{jump}$:0.8366 | Exx2:0.6753 | $\\rho_1$:0.0708 | $\\rho_2$:0.0057 | $E_{0.05}$:0.818 | $E_{0.25}$:0.7678 | $E_{0.50}$:0.7306 | Time:13.83"
      ],
      "text/plain": [
       "<IPython.core.display.Latex object>"
      ]
     },
     "metadata": {},
     "output_type": "display_data"
    },
    {
     "data": {
      "text/latex": [
       "Target:Folded_Gaussian | Kernel:TransUniform | $\\sigma$:3.5 | eff:0.7818 | $P_{jump}$:0.8388 | Exx2:0.639 | $\\rho_1$:0.1211 | $\\rho_2$:0.0164 | $E_{0.05}$:0.8187 | $E_{0.25}$:0.7254 | $E_{0.50}$:0.6827 | Time:14.04"
      ],
      "text/plain": [
       "<IPython.core.display.Latex object>"
      ]
     },
     "metadata": {},
     "output_type": "display_data"
    },
    {
     "data": {
      "text/latex": [
       "Target:Folded_Gaussian | Kernel:TransUniform | $\\sigma$:4 | eff:0.7765 | $P_{jump}$:0.8373 | Exx2:0.6398 | $\\rho_1$:0.1206 | $\\rho_2$:0.0166 | $E_{0.05}$:0.8449 | $E_{0.25}$:0.7335 | $E_{0.50}$:0.6832 | Time:13.71"
      ],
      "text/plain": [
       "<IPython.core.display.Latex object>"
      ]
     },
     "metadata": {},
     "output_type": "display_data"
    },
    {
     "data": {
      "text/latex": [
       "Target:Folded_Gaussian | Kernel:TransUniform | $\\sigma$:4.5 | eff:0.8271 | $P_{jump}$:0.8347 | Exx2:0.6601 | $\\rho_1$:0.0947 | $\\rho_2$:0.0116 | $E_{0.05}$:0.8236 | $E_{0.25}$:0.764 | $E_{0.50}$:0.7166 | Time:13.55"
      ],
      "text/plain": [
       "<IPython.core.display.Latex object>"
      ]
     },
     "metadata": {},
     "output_type": "display_data"
    },
    {
     "data": {
      "text/latex": [
       "Target:Folded_Gaussian | Kernel:TransUniform | $\\sigma$:5 | eff:0.7553 | $P_{jump}$:0.8369 | Exx2:0.6263 | $\\rho_1$:0.1353 | $\\rho_2$:0.0199 | $E_{0.05}$:0.8248 | $E_{0.25}$:0.7269 | $E_{0.50}$:0.6693 | Time:14.03"
      ],
      "text/plain": [
       "<IPython.core.display.Latex object>"
      ]
     },
     "metadata": {},
     "output_type": "display_data"
    },
    {
     "data": {
      "text/latex": [
       "Target:Folded_Gaussian | Kernel:TransUniform | $\\sigma$:6 | eff:0.7449 | $P_{jump}$:0.8376 | Exx2:0.6269 | $\\rho_1$:0.1362 | $\\rho_2$:0.0205 | $E_{0.05}$:0.8231 | $E_{0.25}$:0.7104 | $E_{0.50}$:0.6671 | Time:14.11"
      ],
      "text/plain": [
       "<IPython.core.display.Latex object>"
      ]
     },
     "metadata": {},
     "output_type": "display_data"
    },
    {
     "data": {
      "text/latex": [
       "Target:Folded_Gaussian | Kernel:TransUniform | $\\sigma$:7 | eff:0.7817 | $P_{jump}$:0.8385 | Exx2:0.6361 | $\\rho_1$:0.1223 | $\\rho_2$:0.0182 | $E_{0.05}$:0.816 | $E_{0.25}$:0.7291 | $E_{0.50}$:0.6863 | Time:14.25"
      ],
      "text/plain": [
       "<IPython.core.display.Latex object>"
      ]
     },
     "metadata": {},
     "output_type": "display_data"
    },
    {
     "data": {
      "text/latex": [
       "Target:Folded_Gaussian | Kernel:TransUniform | $\\sigma$:8 | eff:0.8053 | $P_{jump}$:0.8362 | Exx2:0.6492 | $\\rho_1$:0.1044 | $\\rho_2$:0.0131 | $E_{0.05}$:0.8325 | $E_{0.25}$:0.7537 | $E_{0.50}$:0.6915 | Time:14.31"
      ],
      "text/plain": [
       "<IPython.core.display.Latex object>"
      ]
     },
     "metadata": {},
     "output_type": "display_data"
    },
    {
     "data": {
      "text/latex": [
       "Target:Folded_Gaussian | Kernel:TransBactrian | $\\sigma$:0.1 | eff:0.0373 | $P_{jump}$:0.9166 | Exx2:0.0747 | $\\rho_1$:0.8983 | $\\rho_2$:0.8168 | $E_{0.05}$:0.1578 | $E_{0.25}$:0.0457 | $E_{0.50}$:0.0414 | Time:24.46"
      ],
      "text/plain": [
       "<IPython.core.display.Latex object>"
      ]
     },
     "metadata": {},
     "output_type": "display_data"
    },
    {
     "data": {
      "text/latex": [
       "Target:Folded_Gaussian | Kernel:TransBactrian | $\\sigma$:0.3 | eff:0.3024 | $P_{jump}$:0.8167 | Exx2:0.3576 | $\\rho_1$:0.5075 | $\\rho_2$:0.2822 | $E_{0.05}$:0.8617 | $E_{0.25}$:0.4067 | $E_{0.50}$:0.3511 | Time:12.83"
      ],
      "text/plain": [
       "<IPython.core.display.Latex object>"
      ]
     },
     "metadata": {},
     "output_type": "display_data"
    },
    {
     "data": {
      "text/latex": [
       "Target:Folded_Gaussian | Kernel:TransBactrian | $\\sigma$:0.5 | eff:0.7778 | $P_{jump}$:0.796 | Exx2:0.6449 | $\\rho_1$:0.1137 | $\\rho_2$:0.0215 | $E_{0.05}$:1.0322 | $E_{0.25}$:1.0092 | $E_{0.50}$:0.609 | Time:13.23"
      ],
      "text/plain": [
       "<IPython.core.display.Latex object>"
      ]
     },
     "metadata": {},
     "output_type": "display_data"
    },
    {
     "data": {
      "text/latex": [
       "Target:Folded_Gaussian | Kernel:TransBactrian | $\\sigma$:0.7 | eff:1.4328 | $P_{jump}$:0.8186 | Exx2:0.8587 | $\\rho_1$:-0.1843 | $\\rho_2$:0.0385 | $E_{0.05}$:0.8863 | $E_{0.25}$:1.0746 | $E_{0.50}$:0.8993 | Time:13.28"
      ],
      "text/plain": [
       "<IPython.core.display.Latex object>"
      ]
     },
     "metadata": {},
     "output_type": "display_data"
    },
    {
     "data": {
      "text/latex": [
       "Target:Folded_Gaussian | Kernel:TransBactrian | $\\sigma$:0.8 | eff:1.7506 | $P_{jump}$:0.8302 | Exx2:0.9271 | $\\rho_1$:-0.2767 | $\\rho_2$:0.081 | $E_{0.05}$:0.7546 | $E_{0.25}$:0.9852 | $E_{0.50}$:1.134 | Time:13.89"
      ],
      "text/plain": [
       "<IPython.core.display.Latex object>"
      ]
     },
     "metadata": {},
     "output_type": "display_data"
    },
    {
     "data": {
      "text/latex": [
       "Target:Folded_Gaussian | Kernel:TransBactrian | $\\sigma$:0.9 | eff:1.9164 | $P_{jump}$:0.8363 | Exx2:0.9591 | $\\rho_1$:-0.3224 | $\\rho_2$:0.1105 | $E_{0.05}$:0.6897 | $E_{0.25}$:0.8984 | $E_{0.50}$:1.2756 | Time:13.7"
      ],
      "text/plain": [
       "<IPython.core.display.Latex object>"
      ]
     },
     "metadata": {},
     "output_type": "display_data"
    },
    {
     "data": {
      "text/latex": [
       "Target:Folded_Gaussian | Kernel:TransBactrian | $\\sigma$:1 | eff:1.9216 | $P_{jump}$:0.8368 | Exx2:0.96 | $\\rho_1$:-0.3238 | $\\rho_2$:0.1124 | $E_{0.05}$:0.6942 | $E_{0.25}$:0.8944 | $E_{0.50}$:1.2676 | Time:13.43"
      ],
      "text/plain": [
       "<IPython.core.display.Latex object>"
      ]
     },
     "metadata": {},
     "output_type": "display_data"
    },
    {
     "data": {
      "text/latex": [
       "Target:Folded_Gaussian | Kernel:TransBactrian | $\\sigma$:1.1 | eff:1.774 | $P_{jump}$:0.8347 | Exx2:0.931 | $\\rho_1$:-0.2852 | $\\rho_2$:0.0871 | $E_{0.05}$:0.7199 | $E_{0.25}$:0.9015 | $E_{0.50}$:1.2028 | Time:13.76"
      ],
      "text/plain": [
       "<IPython.core.display.Latex object>"
      ]
     },
     "metadata": {},
     "output_type": "display_data"
    },
    {
     "data": {
      "text/latex": [
       "Target:Folded_Gaussian | Kernel:TransBactrian | $\\sigma$:1.3 | eff:1.2727 | $P_{jump}$:0.8329 | Exx2:0.8197 | $\\rho_1$:-0.1273 | $\\rho_2$:0.0198 | $E_{0.05}$:0.7902 | $E_{0.25}$:0.8767 | $E_{0.50}$:0.9584 | Time:14.09"
      ],
      "text/plain": [
       "<IPython.core.display.Latex object>"
      ]
     },
     "metadata": {},
     "output_type": "display_data"
    },
    {
     "data": {
      "text/latex": [
       "Target:Folded_Gaussian | Kernel:TransBactrian | $\\sigma$:1.5 | eff:0.8956 | $P_{jump}$:0.8348 | Exx2:0.6867 | $\\rho_1$:0.0546 | $\\rho_2$:0.0047 | $E_{0.05}$:0.812 | $E_{0.25}$:0.7904 | $E_{0.50}$:0.7514 | Time:13.84"
      ],
      "text/plain": [
       "<IPython.core.display.Latex object>"
      ]
     },
     "metadata": {},
     "output_type": "display_data"
    },
    {
     "data": {
      "text/latex": [
       "Target:Folded_Gaussian | Kernel:TransBactrian | $\\sigma$:1.7 | eff:0.6926 | $P_{jump}$:0.8382 | Exx2:0.5978 | $\\rho_1$:0.1764 | $\\rho_2$:0.0338 | $E_{0.05}$:0.8238 | $E_{0.25}$:0.692 | $E_{0.50}$:0.6295 | Time:14.13"
      ],
      "text/plain": [
       "<IPython.core.display.Latex object>"
      ]
     },
     "metadata": {},
     "output_type": "display_data"
    },
    {
     "data": {
      "text/latex": [
       "Target:Folded_Gaussian | Kernel:TransBactrian | $\\sigma$:1.8 | eff:0.6542 | $P_{jump}$:0.8396 | Exx2:0.5759 | $\\rho_1$:0.2061 | $\\rho_2$:0.0453 | $E_{0.05}$:0.8297 | $E_{0.25}$:0.6734 | $E_{0.50}$:0.5942 | Time:14.2"
      ],
      "text/plain": [
       "<IPython.core.display.Latex object>"
      ]
     },
     "metadata": {},
     "output_type": "display_data"
    },
    {
     "data": {
      "text/latex": [
       "Target:Folded_Gaussian | Kernel:TransBactrian | $\\sigma$:1.9 | eff:0.6373 | $P_{jump}$:0.8388 | Exx2:0.5664 | $\\rho_1$:0.2207 | $\\rho_2$:0.0509 | $E_{0.05}$:0.8232 | $E_{0.25}$:0.6651 | $E_{0.50}$:0.5893 | Time:14.18"
      ],
      "text/plain": [
       "<IPython.core.display.Latex object>"
      ]
     },
     "metadata": {},
     "output_type": "display_data"
    },
    {
     "data": {
      "text/latex": [
       "Target:Folded_Gaussian | Kernel:TransBactrian | $\\sigma$:2 | eff:0.6408 | $P_{jump}$:0.8398 | Exx2:0.5725 | $\\rho_1$:0.2146 | $\\rho_2$:0.0498 | $E_{0.05}$:0.8296 | $E_{0.25}$:0.6585 | $E_{0.50}$:0.5959 | Time:14.2"
      ],
      "text/plain": [
       "<IPython.core.display.Latex object>"
      ]
     },
     "metadata": {},
     "output_type": "display_data"
    },
    {
     "data": {
      "text/latex": [
       "Target:Folded_Gaussian | Kernel:TransBactrian | $\\sigma$:2.1 | eff:0.6492 | $P_{jump}$:0.8393 | Exx2:0.5806 | $\\rho_1$:0.2018 | $\\rho_2$:0.0447 | $E_{0.05}$:0.8335 | $E_{0.25}$:0.6639 | $E_{0.50}$:0.6085 | Time:13.71"
      ],
      "text/plain": [
       "<IPython.core.display.Latex object>"
      ]
     },
     "metadata": {},
     "output_type": "display_data"
    },
    {
     "data": {
      "text/latex": [
       "Target:Folded_Gaussian | Kernel:TransBactrian | $\\sigma$:2.2 | eff:0.6918 | $P_{jump}$:0.8382 | Exx2:0.594 | $\\rho_1$:0.1819 | $\\rho_2$:0.0367 | $E_{0.05}$:0.8165 | $E_{0.25}$:0.6809 | $E_{0.50}$:0.6265 | Time:14.04"
      ],
      "text/plain": [
       "<IPython.core.display.Latex object>"
      ]
     },
     "metadata": {},
     "output_type": "display_data"
    },
    {
     "data": {
      "text/latex": [
       "Target:Folded_Gaussian | Kernel:TransBactrian | $\\sigma$:2.3 | eff:0.7197 | $P_{jump}$:0.8386 | Exx2:0.6102 | $\\rho_1$:0.1622 | $\\rho_2$:0.0287 | $E_{0.05}$:0.8178 | $E_{0.25}$:0.6999 | $E_{0.50}$:0.6435 | Time:14.08"
      ],
      "text/plain": [
       "<IPython.core.display.Latex object>"
      ]
     },
     "metadata": {},
     "output_type": "display_data"
    },
    {
     "data": {
      "text/latex": [
       "Target:Folded_Gaussian | Kernel:TransBactrian | $\\sigma$:2.4 | eff:0.7553 | $P_{jump}$:0.8377 | Exx2:0.6258 | $\\rho_1$:0.1396 | $\\rho_2$:0.0208 | $E_{0.05}$:0.8272 | $E_{0.25}$:0.7209 | $E_{0.50}$:0.6673 | Time:14.34"
      ],
      "text/plain": [
       "<IPython.core.display.Latex object>"
      ]
     },
     "metadata": {},
     "output_type": "display_data"
    },
    {
     "data": {
      "text/latex": [
       "Target:Folded_Gaussian | Kernel:TransBactrian | $\\sigma$:2.5 | eff:0.7719 | $P_{jump}$:0.838 | Exx2:0.6349 | $\\rho_1$:0.1253 | $\\rho_2$:0.0165 | $E_{0.05}$:0.8197 | $E_{0.25}$:0.7279 | $E_{0.50}$:0.677 | Time:14.17"
      ],
      "text/plain": [
       "<IPython.core.display.Latex object>"
      ]
     },
     "metadata": {},
     "output_type": "display_data"
    },
    {
     "data": {
      "text/latex": [
       "Target:Folded_Gaussian | Kernel:TransBactrian | $\\sigma$:2.6 | eff:0.7876 | $P_{jump}$:0.837 | Exx2:0.6424 | $\\rho_1$:0.1146 | $\\rho_2$:0.0132 | $E_{0.05}$:0.8076 | $E_{0.25}$:0.7384 | $E_{0.50}$:0.6949 | Time:14.26"
      ],
      "text/plain": [
       "<IPython.core.display.Latex object>"
      ]
     },
     "metadata": {},
     "output_type": "display_data"
    },
    {
     "data": {
      "text/latex": [
       "Target:Folded_Gaussian | Kernel:TransBactrian | $\\sigma$:2.8 | eff:0.7988 | $P_{jump}$:0.8368 | Exx2:0.6509 | $\\rho_1$:0.1039 | $\\rho_2$:0.0136 | $E_{0.05}$:0.8329 | $E_{0.25}$:0.7395 | $E_{0.50}$:0.7012 | Time:14.34"
      ],
      "text/plain": [
       "<IPython.core.display.Latex object>"
      ]
     },
     "metadata": {},
     "output_type": "display_data"
    },
    {
     "data": {
      "text/latex": [
       "Target:Folded_Gaussian | Kernel:TransBactrian | $\\sigma$:3.0 | eff:0.8036 | $P_{jump}$:0.8372 | Exx2:0.6512 | $\\rho_1$:0.1036 | $\\rho_2$:0.013 | $E_{0.05}$:0.8284 | $E_{0.25}$:0.7314 | $E_{0.50}$:0.696 | Time:14.88"
      ],
      "text/plain": [
       "<IPython.core.display.Latex object>"
      ]
     },
     "metadata": {},
     "output_type": "display_data"
    },
    {
     "data": {
      "text/latex": [
       "Target:Folded_Gaussian | Kernel:TransBactrian | $\\sigma$:3.2 | eff:0.7931 | $P_{jump}$:0.8367 | Exx2:0.6481 | $\\rho_1$:0.1073 | $\\rho_2$:0.013 | $E_{0.05}$:0.8267 | $E_{0.25}$:0.7459 | $E_{0.50}$:0.6987 | Time:14.29"
      ],
      "text/plain": [
       "<IPython.core.display.Latex object>"
      ]
     },
     "metadata": {},
     "output_type": "display_data"
    },
    {
     "data": {
      "text/latex": [
       "Target:Folded_Gaussian | Kernel:TransBactrian | $\\sigma$:3.5 | eff:0.7989 | $P_{jump}$:0.8372 | Exx2:0.6434 | $\\rho_1$:0.1113 | $\\rho_2$:0.0141 | $E_{0.05}$:0.8249 | $E_{0.25}$:0.7359 | $E_{0.50}$:0.6948 | Time:13.95"
      ],
      "text/plain": [
       "<IPython.core.display.Latex object>"
      ]
     },
     "metadata": {},
     "output_type": "display_data"
    },
    {
     "data": {
      "text/latex": [
       "Target:Folded_Gaussian | Kernel:TransBactrian | $\\sigma$:4 | eff:0.7892 | $P_{jump}$:0.8374 | Exx2:0.6443 | $\\rho_1$:0.1129 | $\\rho_2$:0.0165 | $E_{0.05}$:0.8283 | $E_{0.25}$:0.7401 | $E_{0.50}$:0.6978 | Time:14.12"
      ],
      "text/plain": [
       "<IPython.core.display.Latex object>"
      ]
     },
     "metadata": {},
     "output_type": "display_data"
    },
    {
     "data": {
      "text/latex": [
       "Target:Folded_Gaussian | Kernel:TransBactrian | $\\sigma$:4.5 | eff:0.7752 | $P_{jump}$:0.8371 | Exx2:0.6439 | $\\rho_1$:0.114 | $\\rho_2$:0.0134 | $E_{0.05}$:0.8176 | $E_{0.25}$:0.7312 | $E_{0.50}$:0.6874 | Time:14.76"
      ],
      "text/plain": [
       "<IPython.core.display.Latex object>"
      ]
     },
     "metadata": {},
     "output_type": "display_data"
    },
    {
     "data": {
      "text/latex": [
       "Target:Folded_Gaussian | Kernel:TransBactrian | $\\sigma$:5 | eff:0.7908 | $P_{jump}$:0.8376 | Exx2:0.6426 | $\\rho_1$:0.1137 | $\\rho_2$:0.0137 | $E_{0.05}$:0.8148 | $E_{0.25}$:0.7309 | $E_{0.50}$:0.7009 | Time:14.28"
      ],
      "text/plain": [
       "<IPython.core.display.Latex object>"
      ]
     },
     "metadata": {},
     "output_type": "display_data"
    },
    {
     "data": {
      "text/latex": [
       "Target:Folded_Gaussian | Kernel:TransBactrian | $\\sigma$:6 | eff:0.7975 | $P_{jump}$:0.8376 | Exx2:0.6459 | $\\rho_1$:0.1128 | $\\rho_2$:0.0145 | $E_{0.05}$:0.8181 | $E_{0.25}$:0.7331 | $E_{0.50}$:0.699 | Time:14.38"
      ],
      "text/plain": [
       "<IPython.core.display.Latex object>"
      ]
     },
     "metadata": {},
     "output_type": "display_data"
    },
    {
     "data": {
      "text/latex": [
       "Target:Folded_Gaussian | Kernel:TransBactrian | $\\sigma$:7 | eff:0.794 | $P_{jump}$:0.8377 | Exx2:0.6445 | $\\rho_1$:0.1121 | $\\rho_2$:0.016 | $E_{0.05}$:0.8251 | $E_{0.25}$:0.7365 | $E_{0.50}$:0.6948 | Time:14.26"
      ],
      "text/plain": [
       "<IPython.core.display.Latex object>"
      ]
     },
     "metadata": {},
     "output_type": "display_data"
    },
    {
     "data": {
      "text/latex": [
       "Target:Folded_Gaussian | Kernel:TransBactrian | $\\sigma$:8 | eff:0.7805 | $P_{jump}$:0.8373 | Exx2:0.6438 | $\\rho_1$:0.1126 | $\\rho_2$:0.0145 | $E_{0.05}$:0.823 | $E_{0.25}$:0.7377 | $E_{0.50}$:0.6894 | Time:14.46"
      ],
      "text/plain": [
       "<IPython.core.display.Latex object>"
      ]
     },
     "metadata": {},
     "output_type": "display_data"
    },
    {
     "data": {
      "text/latex": [
       "Target:Folded_Gaussian | Kernel:TransStrawHat | $\\sigma$:0.1 | eff:0.0379 | $P_{jump}$:0.9152 | Exx2:0.0758 | $\\rho_1$:0.8969 | $\\rho_2$:0.815 | $E_{0.05}$:0.1613 | $E_{0.25}$:0.0468 | $E_{0.50}$:0.0416 | Time:23.67"
      ],
      "text/plain": [
       "<IPython.core.display.Latex object>"
      ]
     },
     "metadata": {},
     "output_type": "display_data"
    },
    {
     "data": {
      "text/latex": [
       "Target:Folded_Gaussian | Kernel:TransStrawHat | $\\sigma$:0.3 | eff:0.3075 | $P_{jump}$:0.8125 | Exx2:0.3656 | $\\rho_1$:0.4967 | $\\rho_2$:0.2738 | $E_{0.05}$:0.8452 | $E_{0.25}$:0.4222 | $E_{0.50}$:0.3674 | Time:12.8"
      ],
      "text/plain": [
       "<IPython.core.display.Latex object>"
      ]
     },
     "metadata": {},
     "output_type": "display_data"
    },
    {
     "data": {
      "text/latex": [
       "Target:Folded_Gaussian | Kernel:TransStrawHat | $\\sigma$:0.5 | eff:0.8007 | $P_{jump}$:0.7914 | Exx2:0.6617 | $\\rho_1$:0.0906 | $\\rho_2$:0.0204 | $E_{0.05}$:1.0226 | $E_{0.25}$:1.1307 | $E_{0.50}$:0.5692 | Time:13.16"
      ],
      "text/plain": [
       "<IPython.core.display.Latex object>"
      ]
     },
     "metadata": {},
     "output_type": "display_data"
    },
    {
     "data": {
      "text/latex": [
       "Target:Folded_Gaussian | Kernel:TransStrawHat | $\\sigma$:0.7 | eff:1.5513 | $P_{jump}$:0.8227 | Exx2:0.8921 | $\\rho_1$:-0.2302 | $\\rho_2$:0.0603 | $E_{0.05}$:0.916 | $E_{0.25}$:1.0278 | $E_{0.50}$:0.902 | Time:13.6"
      ],
      "text/plain": [
       "<IPython.core.display.Latex object>"
      ]
     },
     "metadata": {},
     "output_type": "display_data"
    },
    {
     "data": {
      "text/latex": [
       "Target:Folded_Gaussian | Kernel:TransStrawHat | $\\sigma$:0.8 | eff:1.9488 | $P_{jump}$:0.8399 | Exx2:0.9689 | $\\rho_1$:-0.3363 | $\\rho_2$:0.1246 | $E_{0.05}$:0.6133 | $E_{0.25}$:0.8478 | $E_{0.50}$:1.407 | Time:13.99"
      ],
      "text/plain": [
       "<IPython.core.display.Latex object>"
      ]
     },
     "metadata": {},
     "output_type": "display_data"
    },
    {
     "data": {
      "text/latex": [
       "Target:Folded_Gaussian | Kernel:TransStrawHat | $\\sigma$:0.9 | eff:2.2107 | $P_{jump}$:0.8464 | Exx2:1.0134 | $\\rho_1$:-0.3911 | $\\rho_2$:0.1641 | $E_{0.05}$:0.5837 | $E_{0.25}$:0.7252 | $E_{0.50}$:1.5533 | Time:13.83"
      ],
      "text/plain": [
       "<IPython.core.display.Latex object>"
      ]
     },
     "metadata": {},
     "output_type": "display_data"
    },
    {
     "data": {
      "text/latex": [
       "Target:Folded_Gaussian | Kernel:TransStrawHat | $\\sigma$:1 | eff:2.1937 | $P_{jump}$:0.8427 | Exx2:1.0129 | $\\rho_1$:-0.3894 | $\\rho_2$:0.1604 | $E_{0.05}$:0.6356 | $E_{0.25}$:0.7912 | $E_{0.50}$:1.4069 | Time:14.14"
      ],
      "text/plain": [
       "<IPython.core.display.Latex object>"
      ]
     },
     "metadata": {},
     "output_type": "display_data"
    },
    {
     "data": {
      "text/latex": [
       "Target:Folded_Gaussian | Kernel:TransStrawHat | $\\sigma$:1.1 | eff:1.9887 | $P_{jump}$:0.8329 | Exx2:0.9768 | $\\rho_1$:-0.3419 | $\\rho_2$:0.1252 | $E_{0.05}$:0.7214 | $E_{0.25}$:0.9639 | $E_{0.50}$:1.1589 | Time:13.9"
      ],
      "text/plain": [
       "<IPython.core.display.Latex object>"
      ]
     },
     "metadata": {},
     "output_type": "display_data"
    },
    {
     "data": {
      "text/latex": [
       "Target:Folded_Gaussian | Kernel:TransStrawHat | $\\sigma$:1.3 | eff:1.3202 | $P_{jump}$:0.8181 | Exx2:0.8263 | $\\rho_1$:-0.1385 | $\\rho_2$:0.0226 | $E_{0.05}$:0.8697 | $E_{0.25}$:1.0368 | $E_{0.50}$:0.9521 | Time:14.18"
      ],
      "text/plain": [
       "<IPython.core.display.Latex object>"
      ]
     },
     "metadata": {},
     "output_type": "display_data"
    },
    {
     "data": {
      "text/latex": [
       "Target:Folded_Gaussian | Kernel:TransStrawHat | $\\sigma$:1.5 | eff:0.7371 | $P_{jump}$:0.8393 | Exx2:0.6166 | $\\rho_1$:0.1531 | $\\rho_2$:0.025 | $E_{0.05}$:0.8044 | $E_{0.25}$:0.7104 | $E_{0.50}$:0.6475 | Time:14.26"
      ],
      "text/plain": [
       "<IPython.core.display.Latex object>"
      ]
     },
     "metadata": {},
     "output_type": "display_data"
    },
    {
     "data": {
      "text/latex": [
       "Target:Folded_Gaussian | Kernel:TransStrawHat | $\\sigma$:1.7 | eff:0.4832 | $P_{jump}$:0.8508 | Exx2:0.4804 | $\\rho_1$:0.3382 | $\\rho_2$:0.1185 | $E_{0.05}$:0.7772 | $E_{0.25}$:0.5285 | $E_{0.50}$:0.4802 | Time:14.58"
      ],
      "text/plain": [
       "<IPython.core.display.Latex object>"
      ]
     },
     "metadata": {},
     "output_type": "display_data"
    },
    {
     "data": {
      "text/latex": [
       "Target:Folded_Gaussian | Kernel:TransStrawHat | $\\sigma$:1.8 | eff:0.4628 | $P_{jump}$:0.8455 | Exx2:0.4639 | $\\rho_1$:0.3614 | $\\rho_2$:0.1356 | $E_{0.05}$:0.7982 | $E_{0.25}$:0.5216 | $E_{0.50}$:0.4744 | Time:14.26"
      ],
      "text/plain": [
       "<IPython.core.display.Latex object>"
      ]
     },
     "metadata": {},
     "output_type": "display_data"
    },
    {
     "data": {
      "text/latex": [
       "Target:Folded_Gaussian | Kernel:TransStrawHat | $\\sigma$:1.9 | eff:0.4802 | $P_{jump}$:0.8397 | Exx2:0.4751 | $\\rho_1$:0.3463 | $\\rho_2$:0.1245 | $E_{0.05}$:0.8263 | $E_{0.25}$:0.572 | $E_{0.50}$:0.4815 | Time:14.19"
      ],
      "text/plain": [
       "<IPython.core.display.Latex object>"
      ]
     },
     "metadata": {},
     "output_type": "display_data"
    },
    {
     "data": {
      "text/latex": [
       "Target:Folded_Gaussian | Kernel:TransStrawHat | $\\sigma$:2 | eff:0.5292 | $P_{jump}$:0.8358 | Exx2:0.5113 | $\\rho_1$:0.2998 | $\\rho_2$:0.0944 | $E_{0.05}$:0.8568 | $E_{0.25}$:0.6323 | $E_{0.50}$:0.5018 | Time:14.24"
      ],
      "text/plain": [
       "<IPython.core.display.Latex object>"
      ]
     },
     "metadata": {},
     "output_type": "display_data"
    },
    {
     "data": {
      "text/latex": [
       "Target:Folded_Gaussian | Kernel:TransStrawHat | $\\sigma$:2.1 | eff:0.6121 | $P_{jump}$:0.8347 | Exx2:0.5536 | $\\rho_1$:0.236 | $\\rho_2$:0.0621 | $E_{0.05}$:0.8899 | $E_{0.25}$:0.6835 | $E_{0.50}$:0.5459 | Time:14.06"
      ],
      "text/plain": [
       "<IPython.core.display.Latex object>"
      ]
     },
     "metadata": {},
     "output_type": "display_data"
    },
    {
     "data": {
      "text/latex": [
       "Target:Folded_Gaussian | Kernel:TransStrawHat | $\\sigma$:2.2 | eff:0.724 | $P_{jump}$:0.8371 | Exx2:0.6114 | $\\rho_1$:0.1592 | $\\rho_2$:0.0283 | $E_{0.05}$:0.8428 | $E_{0.25}$:0.7166 | $E_{0.50}$:0.6398 | Time:14.08"
      ],
      "text/plain": [
       "<IPython.core.display.Latex object>"
      ]
     },
     "metadata": {},
     "output_type": "display_data"
    },
    {
     "data": {
      "text/latex": [
       "Target:Folded_Gaussian | Kernel:TransStrawHat | $\\sigma$:2.3 | eff:0.8308 | $P_{jump}$:0.8396 | Exx2:0.6634 | $\\rho_1$:0.0869 | $\\rho_2$:0.0083 | $E_{0.05}$:0.7557 | $E_{0.25}$:0.7263 | $E_{0.50}$:0.7423 | Time:14.34"
      ],
      "text/plain": [
       "<IPython.core.display.Latex object>"
      ]
     },
     "metadata": {},
     "output_type": "display_data"
    },
    {
     "data": {
      "text/latex": [
       "Target:Folded_Gaussian | Kernel:TransStrawHat | $\\sigma$:2.4 | eff:0.9352 | $P_{jump}$:0.8406 | Exx2:0.7053 | $\\rho_1$:0.0284 | $\\rho_2$:0.0011 | $E_{0.05}$:0.7681 | $E_{0.25}$:0.7441 | $E_{0.50}$:0.8134 | Time:14.27"
      ],
      "text/plain": [
       "<IPython.core.display.Latex object>"
      ]
     },
     "metadata": {},
     "output_type": "display_data"
    },
    {
     "data": {
      "text/latex": [
       "Target:Folded_Gaussian | Kernel:TransStrawHat | $\\sigma$:2.5 | eff:1.0246 | $P_{jump}$:0.8378 | Exx2:0.7355 | $\\rho_1$:-0.0124 | $\\rho_2$:0.0019 | $E_{0.05}$:0.7884 | $E_{0.25}$:0.786 | $E_{0.50}$:0.8343 | Time:14.47"
      ],
      "text/plain": [
       "<IPython.core.display.Latex object>"
      ]
     },
     "metadata": {},
     "output_type": "display_data"
    },
    {
     "data": {
      "text/latex": [
       "Target:Folded_Gaussian | Kernel:TransStrawHat | $\\sigma$:2.6 | eff:1.0494 | $P_{jump}$:0.8345 | Exx2:0.753 | $\\rho_1$:-0.0311 | $\\rho_2$:0.0042 | $E_{0.05}$:0.799 | $E_{0.25}$:0.8578 | $E_{0.50}$:0.8202 | Time:14.52"
      ],
      "text/plain": [
       "<IPython.core.display.Latex object>"
      ]
     },
     "metadata": {},
     "output_type": "display_data"
    },
    {
     "data": {
      "text/latex": [
       "Target:Folded_Gaussian | Kernel:TransStrawHat | $\\sigma$:2.8 | eff:0.983 | $P_{jump}$:0.8278 | Exx2:0.7219 | $\\rho_1$:0.003 | $\\rho_2$:0.0015 | $E_{0.05}$:0.8423 | $E_{0.25}$:0.8488 | $E_{0.50}$:0.8042 | Time:14.49"
      ],
      "text/plain": [
       "<IPython.core.display.Latex object>"
      ]
     },
     "metadata": {},
     "output_type": "display_data"
    },
    {
     "data": {
      "text/latex": [
       "Target:Folded_Gaussian | Kernel:TransStrawHat | $\\sigma$:3.0 | eff:0.788 | $P_{jump}$:0.8404 | Exx2:0.6476 | $\\rho_1$:0.1101 | $\\rho_2$:0.0137 | $E_{0.05}$:0.7908 | $E_{0.25}$:0.7278 | $E_{0.50}$:0.6931 | Time:14.49"
      ],
      "text/plain": [
       "<IPython.core.display.Latex object>"
      ]
     },
     "metadata": {},
     "output_type": "display_data"
    },
    {
     "data": {
      "text/latex": [
       "Target:Folded_Gaussian | Kernel:TransStrawHat | $\\sigma$:3.2 | eff:0.6763 | $P_{jump}$:0.8435 | Exx2:0.5877 | $\\rho_1$:0.1922 | $\\rho_2$:0.0372 | $E_{0.05}$:0.8105 | $E_{0.25}$:0.652 | $E_{0.50}$:0.6218 | Time:14.47"
      ],
      "text/plain": [
       "<IPython.core.display.Latex object>"
      ]
     },
     "metadata": {},
     "output_type": "display_data"
    },
    {
     "data": {
      "text/latex": [
       "Target:Folded_Gaussian | Kernel:TransStrawHat | $\\sigma$:3.5 | eff:0.6801 | $P_{jump}$:0.8346 | Exx2:0.5918 | $\\rho_1$:0.1848 | $\\rho_2$:0.037 | $E_{0.05}$:0.8568 | $E_{0.25}$:0.7159 | $E_{0.50}$:0.6095 | Time:14.62"
      ],
      "text/plain": [
       "<IPython.core.display.Latex object>"
      ]
     },
     "metadata": {},
     "output_type": "display_data"
    },
    {
     "data": {
      "text/latex": [
       "Target:Folded_Gaussian | Kernel:TransStrawHat | $\\sigma$:4 | eff:0.9159 | $P_{jump}$:0.8387 | Exx2:0.694 | $\\rho_1$:0.048 | $\\rho_2$:0.0035 | $E_{0.05}$:0.7988 | $E_{0.25}$:0.7581 | $E_{0.50}$:0.7652 | Time:14.22"
      ],
      "text/plain": [
       "<IPython.core.display.Latex object>"
      ]
     },
     "metadata": {},
     "output_type": "display_data"
    },
    {
     "data": {
      "text/latex": [
       "Target:Folded_Gaussian | Kernel:TransStrawHat | $\\sigma$:4.5 | eff:0.7624 | $P_{jump}$:0.8401 | Exx2:0.6305 | $\\rho_1$:0.1315 | $\\rho_2$:0.0197 | $E_{0.05}$:0.801 | $E_{0.25}$:0.7121 | $E_{0.50}$:0.6647 | Time:14.08"
      ],
      "text/plain": [
       "<IPython.core.display.Latex object>"
      ]
     },
     "metadata": {},
     "output_type": "display_data"
    },
    {
     "data": {
      "text/latex": [
       "Target:Folded_Gaussian | Kernel:TransStrawHat | $\\sigma$:5 | eff:0.7348 | $P_{jump}$:0.8354 | Exx2:0.6198 | $\\rho_1$:0.1494 | $\\rho_2$:0.025 | $E_{0.05}$:0.8473 | $E_{0.25}$:0.7346 | $E_{0.50}$:0.6455 | Time:14.36"
      ],
      "text/plain": [
       "<IPython.core.display.Latex object>"
      ]
     },
     "metadata": {},
     "output_type": "display_data"
    },
    {
     "data": {
      "text/latex": [
       "Target:Folded_Gaussian | Kernel:TransStrawHat | $\\sigma$:6 | eff:0.7502 | $P_{jump}$:0.8401 | Exx2:0.6239 | $\\rho_1$:0.1405 | $\\rho_2$:0.021 | $E_{0.05}$:0.8021 | $E_{0.25}$:0.7075 | $E_{0.50}$:0.6691 | Time:14.26"
      ],
      "text/plain": [
       "<IPython.core.display.Latex object>"
      ]
     },
     "metadata": {},
     "output_type": "display_data"
    },
    {
     "data": {
      "text/latex": [
       "Target:Folded_Gaussian | Kernel:TransStrawHat | $\\sigma$:7 | eff:0.8732 | $P_{jump}$:0.8372 | Exx2:0.6825 | $\\rho_1$:0.0617 | $\\rho_2$:0.0064 | $E_{0.05}$:0.81 | $E_{0.25}$:0.7632 | $E_{0.50}$:0.7282 | Time:14.84"
      ],
      "text/plain": [
       "<IPython.core.display.Latex object>"
      ]
     },
     "metadata": {},
     "output_type": "display_data"
    },
    {
     "data": {
      "text/latex": [
       "Target:Folded_Gaussian | Kernel:TransStrawHat | $\\sigma$:8 | eff:0.754 | $P_{jump}$:0.8357 | Exx2:0.6261 | $\\rho_1$:0.1383 | $\\rho_2$:0.0225 | $E_{0.05}$:0.8306 | $E_{0.25}$:0.7303 | $E_{0.50}$:0.6575 | Time:14.73"
      ],
      "text/plain": [
       "<IPython.core.display.Latex object>"
      ]
     },
     "metadata": {},
     "output_type": "display_data"
    },
    {
     "data": {
      "text/latex": [
       "Target:N01_T2 | Kernel:Uniform | $\\sigma$:0.1 | eff:0.0022 | $P_{jump}$:0.9654 | Exx2:0.0095 | $\\rho_1$:0.9953 | $\\rho_2$:0.9905 | $E_{0.05}$:0.0053 | $E_{0.25}$:0.0035 | $E_{0.50}$:0.0032 | Time:123.92"
      ],
      "text/plain": [
       "<IPython.core.display.Latex object>"
      ]
     },
     "metadata": {},
     "output_type": "display_data"
    },
    {
     "data": {
      "text/latex": [
       "Target:N01_T2 | Kernel:Uniform | $\\sigma$:0.3 | eff:0.0197 | $P_{jump}$:0.8973 | Exx2:0.0761 | $\\rho_1$:0.962 | $\\rho_2$:0.9255 | $E_{0.05}$:0.039 | $E_{0.25}$:0.0308 | $E_{0.50}$:0.0301 | Time:22.85"
      ],
      "text/plain": [
       "<IPython.core.display.Latex object>"
      ]
     },
     "metadata": {},
     "output_type": "display_data"
    },
    {
     "data": {
      "text/latex": [
       "Target:N01_T2 | Kernel:Uniform | $\\sigma$:0.5 | eff:0.0479 | $P_{jump}$:0.8299 | Exx2:0.1863 | $\\rho_1$:0.9072 | $\\rho_2$:0.8236 | $E_{0.05}$:0.0845 | $E_{0.25}$:0.0744 | $E_{0.50}$:0.0758 | Time:14.76"
      ],
      "text/plain": [
       "<IPython.core.display.Latex object>"
      ]
     },
     "metadata": {},
     "output_type": "display_data"
    },
    {
     "data": {
      "text/latex": [
       "Target:N01_T2 | Kernel:Uniform | $\\sigma$:0.7 | eff:0.0825 | $P_{jump}$:0.765 | Exx2:0.3185 | $\\rho_1$:0.8415 | $\\rho_2$:0.7111 | $E_{0.05}$:0.1418 | $E_{0.25}$:0.1297 | $E_{0.50}$:0.1339 | Time:11.18"
      ],
      "text/plain": [
       "<IPython.core.display.Latex object>"
      ]
     },
     "metadata": {},
     "output_type": "display_data"
    },
    {
     "data": {
      "text/latex": [
       "Target:N01_T2 | Kernel:Uniform | $\\sigma$:0.8 | eff:0.1017 | $P_{jump}$:0.735 | Exx2:0.3883 | $\\rho_1$:0.8049 | $\\rho_2$:0.6524 | $E_{0.05}$:0.1638 | $E_{0.25}$:0.1612 | $E_{0.50}$:0.1649 | Time:11.43"
      ],
      "text/plain": [
       "<IPython.core.display.Latex object>"
      ]
     },
     "metadata": {},
     "output_type": "display_data"
    },
    {
     "data": {
      "text/latex": [
       "Target:N01_T2 | Kernel:Uniform | $\\sigma$:0.9 | eff:0.121 | $P_{jump}$:0.7037 | Exx2:0.4553 | $\\rho_1$:0.7714 | $\\rho_2$:0.6009 | $E_{0.05}$:0.1884 | $E_{0.25}$:0.1851 | $E_{0.50}$:0.1929 | Time:11.29"
      ],
      "text/plain": [
       "<IPython.core.display.Latex object>"
      ]
     },
     "metadata": {},
     "output_type": "display_data"
    },
    {
     "data": {
      "text/latex": [
       "Target:N01_T2 | Kernel:Uniform | $\\sigma$:1 | eff:0.1381 | $P_{jump}$:0.6751 | Exx2:0.5217 | $\\rho_1$:0.7403 | $\\rho_2$:0.5554 | $E_{0.05}$:0.2049 | $E_{0.25}$:0.2094 | $E_{0.50}$:0.2197 | Time:10.6"
      ],
      "text/plain": [
       "<IPython.core.display.Latex object>"
      ]
     },
     "metadata": {},
     "output_type": "display_data"
    },
    {
     "data": {
      "text/latex": [
       "Target:N01_T2 | Kernel:Uniform | $\\sigma$:1.1 | eff:0.154 | $P_{jump}$:0.6467 | Exx2:0.5838 | $\\rho_1$:0.7096 | $\\rho_2$:0.5129 | $E_{0.05}$:0.2121 | $E_{0.25}$:0.2269 | $E_{0.50}$:0.2403 | Time:12.55"
      ],
      "text/plain": [
       "<IPython.core.display.Latex object>"
      ]
     },
     "metadata": {},
     "output_type": "display_data"
    },
    {
     "data": {
      "text/latex": [
       "Target:N01_T2 | Kernel:Uniform | $\\sigma$:1.3 | eff:0.1914 | $P_{jump}$:0.593 | Exx2:0.6915 | $\\rho_1$:0.653 | $\\rho_2$:0.4367 | $E_{0.05}$:0.2439 | $E_{0.25}$:0.2675 | $E_{0.50}$:0.2754 | Time:10.48"
      ],
      "text/plain": [
       "<IPython.core.display.Latex object>"
      ]
     },
     "metadata": {},
     "output_type": "display_data"
    },
    {
     "data": {
      "text/latex": [
       "Target:N01_T2 | Kernel:Uniform | $\\sigma$:1.5 | eff:0.226 | $P_{jump}$:0.5443 | Exx2:0.775 | $\\rho_1$:0.6128 | $\\rho_2$:0.3842 | $E_{0.05}$:0.2627 | $E_{0.25}$:0.2891 | $E_{0.50}$:0.2895 | Time:9.51"
      ],
      "text/plain": [
       "<IPython.core.display.Latex object>"
      ]
     },
     "metadata": {},
     "output_type": "display_data"
    },
    {
     "data": {
      "text/latex": [
       "Target:N01_T2 | Kernel:Uniform | $\\sigma$:1.7 | eff:0.2481 | $P_{jump}$:0.5004 | Exx2:0.8356 | $\\rho_1$:0.5831 | $\\rho_2$:0.3471 | $E_{0.05}$:0.2789 | $E_{0.25}$:0.2897 | $E_{0.50}$:0.2814 | Time:9.52"
      ],
      "text/plain": [
       "<IPython.core.display.Latex object>"
      ]
     },
     "metadata": {},
     "output_type": "display_data"
    },
    {
     "data": {
      "text/latex": [
       "Target:N01_T2 | Kernel:Uniform | $\\sigma$:1.8 | eff:0.262 | $P_{jump}$:0.4796 | Exx2:0.855 | $\\rho_1$:0.573 | $\\rho_2$:0.3342 | $E_{0.05}$:0.2868 | $E_{0.25}$:0.2862 | $E_{0.50}$:0.2786 | Time:8.87"
      ],
      "text/plain": [
       "<IPython.core.display.Latex object>"
      ]
     },
     "metadata": {},
     "output_type": "display_data"
    },
    {
     "data": {
      "text/latex": [
       "Target:N01_T2 | Kernel:Uniform | $\\sigma$:1.9 | eff:0.2671 | $P_{jump}$:0.4601 | Exx2:0.8663 | $\\rho_1$:0.5676 | $\\rho_2$:0.3268 | $E_{0.05}$:0.2852 | $E_{0.25}$:0.2846 | $E_{0.50}$:0.2699 | Time:9.04"
      ],
      "text/plain": [
       "<IPython.core.display.Latex object>"
      ]
     },
     "metadata": {},
     "output_type": "display_data"
    },
    {
     "data": {
      "text/latex": [
       "Target:N01_T2 | Kernel:Uniform | $\\sigma$:2 | eff:0.2756 | $P_{jump}$:0.4412 | Exx2:0.8753 | $\\rho_1$:0.5616 | $\\rho_2$:0.3184 | $E_{0.05}$:0.2966 | $E_{0.25}$:0.2698 | $E_{0.50}$:0.2625 | Time:9.79"
      ],
      "text/plain": [
       "<IPython.core.display.Latex object>"
      ]
     },
     "metadata": {},
     "output_type": "display_data"
    },
    {
     "data": {
      "text/latex": [
       "Target:N01_T2 | Kernel:Uniform | $\\sigma$:2.1 | eff:0.2761 | $P_{jump}$:0.4239 | Exx2:0.8811 | $\\rho_1$:0.5597 | $\\rho_2$:0.3175 | $E_{0.05}$:0.2922 | $E_{0.25}$:0.2675 | $E_{0.50}$:0.2505 | Time:10.47"
      ],
      "text/plain": [
       "<IPython.core.display.Latex object>"
      ]
     },
     "metadata": {},
     "output_type": "display_data"
    },
    {
     "data": {
      "text/latex": [
       "Target:N01_T2 | Kernel:Uniform | $\\sigma$:2.2 | eff:0.2756 | $P_{jump}$:0.4085 | Exx2:0.8843 | $\\rho_1$:0.56 | $\\rho_2$:0.3181 | $E_{0.05}$:0.2977 | $E_{0.25}$:0.251 | $E_{0.50}$:0.2398 | Time:9.64"
      ],
      "text/plain": [
       "<IPython.core.display.Latex object>"
      ]
     },
     "metadata": {},
     "output_type": "display_data"
    },
    {
     "data": {
      "text/latex": [
       "Target:N01_T2 | Kernel:Uniform | $\\sigma$:2.3 | eff:0.2696 | $P_{jump}$:0.3923 | Exx2:0.8795 | $\\rho_1$:0.5614 | $\\rho_2$:0.319 | $E_{0.05}$:0.2916 | $E_{0.25}$:0.2379 | $E_{0.50}$:0.2289 | Time:10.37"
      ],
      "text/plain": [
       "<IPython.core.display.Latex object>"
      ]
     },
     "metadata": {},
     "output_type": "display_data"
    },
    {
     "data": {
      "text/latex": [
       "Target:N01_T2 | Kernel:Uniform | $\\sigma$:2.4 | eff:0.2713 | $P_{jump}$:0.3768 | Exx2:0.8636 | $\\rho_1$:0.5671 | $\\rho_2$:0.3245 | $E_{0.05}$:0.2881 | $E_{0.25}$:0.2367 | $E_{0.50}$:0.2208 | Time:9.58"
      ],
      "text/plain": [
       "<IPython.core.display.Latex object>"
      ]
     },
     "metadata": {},
     "output_type": "display_data"
    },
    {
     "data": {
      "text/latex": [
       "Target:N01_T2 | Kernel:Uniform | $\\sigma$:2.5 | eff:0.2634 | $P_{jump}$:0.3643 | Exx2:0.8609 | $\\rho_1$:0.5727 | $\\rho_2$:0.3313 | $E_{0.05}$:0.2796 | $E_{0.25}$:0.2256 | $E_{0.50}$:0.2107 | Time:9.71"
      ],
      "text/plain": [
       "<IPython.core.display.Latex object>"
      ]
     },
     "metadata": {},
     "output_type": "display_data"
    },
    {
     "data": {
      "text/latex": [
       "Target:N01_T2 | Kernel:Uniform | $\\sigma$:2.6 | eff:0.2545 | $P_{jump}$:0.3506 | Exx2:0.8437 | $\\rho_1$:0.5776 | $\\rho_2$:0.3384 | $E_{0.05}$:0.2754 | $E_{0.25}$:0.2146 | $E_{0.50}$:0.1936 | Time:11.46"
      ],
      "text/plain": [
       "<IPython.core.display.Latex object>"
      ]
     },
     "metadata": {},
     "output_type": "display_data"
    },
    {
     "data": {
      "text/latex": [
       "Target:N01_T2 | Kernel:Uniform | $\\sigma$:2.8 | eff:0.2458 | $P_{jump}$:0.3276 | Exx2:0.8174 | $\\rho_1$:0.5931 | $\\rho_2$:0.3555 | $E_{0.05}$:0.2609 | $E_{0.25}$:0.198 | $E_{0.50}$:0.1811 | Time:11.14"
      ],
      "text/plain": [
       "<IPython.core.display.Latex object>"
      ]
     },
     "metadata": {},
     "output_type": "display_data"
    },
    {
     "data": {
      "text/latex": [
       "Target:N01_T2 | Kernel:Uniform | $\\sigma$:3.0 | eff:0.2304 | $P_{jump}$:0.3058 | Exx2:0.7756 | $\\rho_1$:0.6121 | $\\rho_2$:0.3801 | $E_{0.05}$:0.2496 | $E_{0.25}$:0.1829 | $E_{0.50}$:0.1709 | Time:10.85"
      ],
      "text/plain": [
       "<IPython.core.display.Latex object>"
      ]
     },
     "metadata": {},
     "output_type": "display_data"
    },
    {
     "data": {
      "text/latex": [
       "Target:N01_T2 | Kernel:Uniform | $\\sigma$:3.2 | eff:0.2113 | $P_{jump}$:0.2878 | Exx2:0.7494 | $\\rho_1$:0.6268 | $\\rho_2$:0.3987 | $E_{0.05}$:0.2309 | $E_{0.25}$:0.1696 | $E_{0.50}$:0.1588 | Time:11.07"
      ],
      "text/plain": [
       "<IPython.core.display.Latex object>"
      ]
     },
     "metadata": {},
     "output_type": "display_data"
    },
    {
     "data": {
      "text/latex": [
       "Target:N01_T2 | Kernel:Uniform | $\\sigma$:3.5 | eff:0.1947 | $P_{jump}$:0.2634 | Exx2:0.6957 | $\\rho_1$:0.6528 | $\\rho_2$:0.4329 | $E_{0.05}$:0.209 | $E_{0.25}$:0.1546 | $E_{0.50}$:0.1391 | Time:10.93"
      ],
      "text/plain": [
       "<IPython.core.display.Latex object>"
      ]
     },
     "metadata": {},
     "output_type": "display_data"
    },
    {
     "data": {
      "text/latex": [
       "Target:N01_T2 | Kernel:Uniform | $\\sigma$:4 | eff:0.1651 | $P_{jump}$:0.2303 | Exx2:0.6162 | $\\rho_1$:0.6953 | $\\rho_2$:0.4883 | $E_{0.05}$:0.1801 | $E_{0.25}$:0.1348 | $E_{0.50}$:0.1237 | Time:11.38"
      ],
      "text/plain": [
       "<IPython.core.display.Latex object>"
      ]
     },
     "metadata": {},
     "output_type": "display_data"
    },
    {
     "data": {
      "text/latex": [
       "Target:N01_T2 | Kernel:Uniform | $\\sigma$:4.5 | eff:0.1461 | $P_{jump}$:0.2047 | Exx2:0.5454 | $\\rho_1$:0.7283 | $\\rho_2$:0.5347 | $E_{0.05}$:0.1517 | $E_{0.25}$:0.1127 | $E_{0.50}$:0.1077 | Time:11.73"
      ],
      "text/plain": [
       "<IPython.core.display.Latex object>"
      ]
     },
     "metadata": {},
     "output_type": "display_data"
    },
    {
     "data": {
      "text/latex": [
       "Target:N01_T2 | Kernel:Uniform | $\\sigma$:5 | eff:0.1305 | $P_{jump}$:0.1844 | Exx2:0.4916 | $\\rho_1$:0.7546 | $\\rho_2$:0.5731 | $E_{0.05}$:0.14 | $E_{0.25}$:0.1038 | $E_{0.50}$:0.096 | Time:11.42"
      ],
      "text/plain": [
       "<IPython.core.display.Latex object>"
      ]
     },
     "metadata": {},
     "output_type": "display_data"
    },
    {
     "data": {
      "text/latex": [
       "Target:N01_T2 | Kernel:Uniform | $\\sigma$:6 | eff:0.1085 | $P_{jump}$:0.1536 | Exx2:0.4102 | $\\rho_1$:0.7959 | $\\rho_2$:0.6344 | $E_{0.05}$:0.1132 | $E_{0.25}$:0.0861 | $E_{0.50}$:0.0802 | Time:12.18"
      ],
      "text/plain": [
       "<IPython.core.display.Latex object>"
      ]
     },
     "metadata": {},
     "output_type": "display_data"
    },
    {
     "data": {
      "text/latex": [
       "Target:N01_T2 | Kernel:Uniform | $\\sigma$:7 | eff:0.0894 | $P_{jump}$:0.1319 | Exx2:0.3532 | $\\rho_1$:0.825 | $\\rho_2$:0.6828 | $E_{0.05}$:0.0938 | $E_{0.25}$:0.0715 | $E_{0.50}$:0.0677 | Time:12.56"
      ],
      "text/plain": [
       "<IPython.core.display.Latex object>"
      ]
     },
     "metadata": {},
     "output_type": "display_data"
    },
    {
     "data": {
      "text/latex": [
       "Target:N01_T2 | Kernel:Uniform | $\\sigma$:8 | eff:0.0796 | $P_{jump}$:0.1155 | Exx2:0.3127 | $\\rho_1$:0.846 | $\\rho_2$:0.7174 | $E_{0.05}$:0.0811 | $E_{0.25}$:0.063 | $E_{0.50}$:0.0594 | Time:13.2"
      ],
      "text/plain": [
       "<IPython.core.display.Latex object>"
      ]
     },
     "metadata": {},
     "output_type": "display_data"
    },
    {
     "data": {
      "text/latex": [
       "Target:N01_T2 | Kernel:TransUniform | $\\sigma$:0.1 | eff:0.0369 | $P_{jump}$:0.8892 | Exx2:0.1938 | $\\rho_1$:0.9031 | $\\rho_2$:0.8274 | $E_{0.05}$:0.1522 | $E_{0.25}$:0.0548 | $E_{0.50}$:0.041 | Time:27.95"
      ],
      "text/plain": [
       "<IPython.core.display.Latex object>"
      ]
     },
     "metadata": {},
     "output_type": "display_data"
    },
    {
     "data": {
      "text/latex": [
       "Target:N01_T2 | Kernel:TransUniform | $\\sigma$:0.3 | eff:0.2727 | $P_{jump}$:0.8297 | Exx2:0.8953 | $\\rho_1$:0.5522 | $\\rho_2$:0.3179 | $E_{0.05}$:0.6108 | $E_{0.25}$:0.3516 | $E_{0.50}$:0.3274 | Time:22.16"
      ],
      "text/plain": [
       "<IPython.core.display.Latex object>"
      ]
     },
     "metadata": {},
     "output_type": "display_data"
    },
    {
     "data": {
      "text/latex": [
       "Target:N01_T2 | Kernel:TransUniform | $\\sigma$:0.5 | eff:0.5892 | $P_{jump}$:0.8174 | Exx2:1.5028 | $\\rho_1$:0.2473 | $\\rho_2$:0.0697 | $E_{0.05}$:0.7951 | $E_{0.25}$:0.6174 | $E_{0.50}$:0.5314 | Time:21.52"
      ],
      "text/plain": [
       "<IPython.core.display.Latex object>"
      ]
     },
     "metadata": {},
     "output_type": "display_data"
    },
    {
     "data": {
      "text/latex": [
       "Target:N01_T2 | Kernel:TransUniform | $\\sigma$:0.7 | eff:0.8835 | $P_{jump}$:0.8371 | Exx2:1.8769 | $\\rho_1$:0.0618 | $\\rho_2$:0.0081 | $E_{0.05}$:0.7114 | $E_{0.25}$:0.7402 | $E_{0.50}$:0.9004 | Time:22.16"
      ],
      "text/plain": [
       "<IPython.core.display.Latex object>"
      ]
     },
     "metadata": {},
     "output_type": "display_data"
    },
    {
     "data": {
      "text/latex": [
       "Target:N01_T2 | Kernel:TransUniform | $\\sigma$:0.8 | eff:0.9485 | $P_{jump}$:0.8315 | Exx2:1.9595 | $\\rho_1$:0.0225 | $\\rho_2$:0.0009 | $E_{0.05}$:0.7579 | $E_{0.25}$:0.7671 | $E_{0.50}$:0.8742 | Time:22.37"
      ],
      "text/plain": [
       "<IPython.core.display.Latex object>"
      ]
     },
     "metadata": {},
     "output_type": "display_data"
    },
    {
     "data": {
      "text/latex": [
       "Target:N01_T2 | Kernel:TransUniform | $\\sigma$:0.9 | eff:0.9615 | $P_{jump}$:0.8293 | Exx2:1.961 | $\\rho_1$:0.0173 | $\\rho_2$:0.0011 | $E_{0.05}$:0.7864 | $E_{0.25}$:0.826 | $E_{0.50}$:0.8396 | Time:22.88"
      ],
      "text/plain": [
       "<IPython.core.display.Latex object>"
      ]
     },
     "metadata": {},
     "output_type": "display_data"
    },
    {
     "data": {
      "text/latex": [
       "Target:N01_T2 | Kernel:TransUniform | $\\sigma$:1 | eff:0.9042 | $P_{jump}$:0.8261 | Exx2:1.897 | $\\rho_1$:0.0522 | $\\rho_2$:0.0049 | $E_{0.05}$:0.8211 | $E_{0.25}$:0.8033 | $E_{0.50}$:0.8362 | Time:22.1"
      ],
      "text/plain": [
       "<IPython.core.display.Latex object>"
      ]
     },
     "metadata": {},
     "output_type": "display_data"
    },
    {
     "data": {
      "text/latex": [
       "Target:N01_T2 | Kernel:TransUniform | $\\sigma$:1.1 | eff:0.7959 | $P_{jump}$:0.8246 | Exx2:1.7758 | $\\rho_1$:0.1121 | $\\rho_2$:0.0132 | $E_{0.05}$:0.783 | $E_{0.25}$:0.7371 | $E_{0.50}$:0.7694 | Time:23.0"
      ],
      "text/plain": [
       "<IPython.core.display.Latex object>"
      ]
     },
     "metadata": {},
     "output_type": "display_data"
    },
    {
     "data": {
      "text/latex": [
       "Target:N01_T2 | Kernel:TransUniform | $\\sigma$:1.3 | eff:0.6307 | $P_{jump}$:0.8333 | Exx2:1.5449 | $\\rho_1$:0.2299 | $\\rho_2$:0.0561 | $E_{0.05}$:0.695 | $E_{0.25}$:0.6289 | $E_{0.50}$:0.6276 | Time:22.34"
      ],
      "text/plain": [
       "<IPython.core.display.Latex object>"
      ]
     },
     "metadata": {},
     "output_type": "display_data"
    },
    {
     "data": {
      "text/latex": [
       "Target:N01_T2 | Kernel:TransUniform | $\\sigma$:1.5 | eff:0.6392 | $P_{jump}$:0.8293 | Exx2:1.5478 | $\\rho_1$:0.2252 | $\\rho_2$:0.0523 | $E_{0.05}$:0.7389 | $E_{0.25}$:0.6472 | $E_{0.50}$:0.635 | Time:22.88"
      ],
      "text/plain": [
       "<IPython.core.display.Latex object>"
      ]
     },
     "metadata": {},
     "output_type": "display_data"
    },
    {
     "data": {
      "text/latex": [
       "Target:N01_T2 | Kernel:TransUniform | $\\sigma$:1.7 | eff:0.71 | $P_{jump}$:0.828 | Exx2:1.6651 | $\\rho_1$:0.1691 | $\\rho_2$:0.0294 | $E_{0.05}$:0.7467 | $E_{0.25}$:0.6843 | $E_{0.50}$:0.6848 | Time:22.42"
      ],
      "text/plain": [
       "<IPython.core.display.Latex object>"
      ]
     },
     "metadata": {},
     "output_type": "display_data"
    },
    {
     "data": {
      "text/latex": [
       "Target:N01_T2 | Kernel:TransUniform | $\\sigma$:1.8 | eff:0.7742 | $P_{jump}$:0.8334 | Exx2:1.7404 | $\\rho_1$:0.1297 | $\\rho_2$:0.0154 | $E_{0.05}$:0.7406 | $E_{0.25}$:0.719 | $E_{0.50}$:0.7603 | Time:23.07"
      ],
      "text/plain": [
       "<IPython.core.display.Latex object>"
      ]
     },
     "metadata": {},
     "output_type": "display_data"
    },
    {
     "data": {
      "text/latex": [
       "Target:N01_T2 | Kernel:TransUniform | $\\sigma$:1.9 | eff:0.8024 | $P_{jump}$:0.8314 | Exx2:1.778 | $\\rho_1$:0.1096 | $\\rho_2$:0.0141 | $E_{0.05}$:0.7552 | $E_{0.25}$:0.7219 | $E_{0.50}$:0.7847 | Time:22.49"
      ],
      "text/plain": [
       "<IPython.core.display.Latex object>"
      ]
     },
     "metadata": {},
     "output_type": "display_data"
    },
    {
     "data": {
      "text/latex": [
       "Target:N01_T2 | Kernel:TransUniform | $\\sigma$:2 | eff:0.8192 | $P_{jump}$:0.8301 | Exx2:1.8075 | $\\rho_1$:0.0959 | $\\rho_2$:0.009 | $E_{0.05}$:0.7509 | $E_{0.25}$:0.745 | $E_{0.50}$:0.7598 | Time:22.59"
      ],
      "text/plain": [
       "<IPython.core.display.Latex object>"
      ]
     },
     "metadata": {},
     "output_type": "display_data"
    },
    {
     "data": {
      "text/latex": [
       "Target:N01_T2 | Kernel:TransUniform | $\\sigma$:2.1 | eff:0.8253 | $P_{jump}$:0.8289 | Exx2:1.8101 | $\\rho_1$:0.0976 | $\\rho_2$:0.0097 | $E_{0.05}$:0.7679 | $E_{0.25}$:0.7497 | $E_{0.50}$:0.7802 | Time:22.71"
      ],
      "text/plain": [
       "<IPython.core.display.Latex object>"
      ]
     },
     "metadata": {},
     "output_type": "display_data"
    },
    {
     "data": {
      "text/latex": [
       "Target:N01_T2 | Kernel:TransUniform | $\\sigma$:2.2 | eff:0.7854 | $P_{jump}$:0.827 | Exx2:1.7643 | $\\rho_1$:0.1175 | $\\rho_2$:0.0146 | $E_{0.05}$:0.7887 | $E_{0.25}$:0.7293 | $E_{0.50}$:0.751 | Time:22.68"
      ],
      "text/plain": [
       "<IPython.core.display.Latex object>"
      ]
     },
     "metadata": {},
     "output_type": "display_data"
    },
    {
     "data": {
      "text/latex": [
       "Target:N01_T2 | Kernel:TransUniform | $\\sigma$:2.3 | eff:0.7363 | $P_{jump}$:0.8292 | Exx2:1.6967 | $\\rho_1$:0.1519 | $\\rho_2$:0.025 | $E_{0.05}$:0.7605 | $E_{0.25}$:0.6995 | $E_{0.50}$:0.7137 | Time:23.37"
      ],
      "text/plain": [
       "<IPython.core.display.Latex object>"
      ]
     },
     "metadata": {},
     "output_type": "display_data"
    },
    {
     "data": {
      "text/latex": [
       "Target:N01_T2 | Kernel:TransUniform | $\\sigma$:2.4 | eff:0.6869 | $P_{jump}$:0.8318 | Exx2:1.6392 | $\\rho_1$:0.1824 | $\\rho_2$:0.0352 | $E_{0.05}$:0.7318 | $E_{0.25}$:0.6654 | $E_{0.50}$:0.6727 | Time:23.67"
      ],
      "text/plain": [
       "<IPython.core.display.Latex object>"
      ]
     },
     "metadata": {},
     "output_type": "display_data"
    },
    {
     "data": {
      "text/latex": [
       "Target:N01_T2 | Kernel:TransUniform | $\\sigma$:2.5 | eff:0.6637 | $P_{jump}$:0.8312 | Exx2:1.6025 | $\\rho_1$:0.199 | $\\rho_2$:0.0417 | $E_{0.05}$:0.7326 | $E_{0.25}$:0.6578 | $E_{0.50}$:0.6543 | Time:23.26"
      ],
      "text/plain": [
       "<IPython.core.display.Latex object>"
      ]
     },
     "metadata": {},
     "output_type": "display_data"
    },
    {
     "data": {
      "text/latex": [
       "Target:N01_T2 | Kernel:TransUniform | $\\sigma$:2.6 | eff:0.6628 | $P_{jump}$:0.83 | Exx2:1.6021 | $\\rho_1$:0.1988 | $\\rho_2$:0.0417 | $E_{0.05}$:0.7444 | $E_{0.25}$:0.6557 | $E_{0.50}$:0.6657 | Time:23.29"
      ],
      "text/plain": [
       "<IPython.core.display.Latex object>"
      ]
     },
     "metadata": {},
     "output_type": "display_data"
    },
    {
     "data": {
      "text/latex": [
       "Target:N01_T2 | Kernel:TransUniform | $\\sigma$:2.8 | eff:0.7013 | $P_{jump}$:0.8277 | Exx2:1.6585 | $\\rho_1$:0.1722 | $\\rho_2$:0.031 | $E_{0.05}$:0.7523 | $E_{0.25}$:0.6859 | $E_{0.50}$:0.675 | Time:23.06"
      ],
      "text/plain": [
       "<IPython.core.display.Latex object>"
      ]
     },
     "metadata": {},
     "output_type": "display_data"
    },
    {
     "data": {
      "text/latex": [
       "Target:N01_T2 | Kernel:TransUniform | $\\sigma$:3.0 | eff:0.7607 | $P_{jump}$:0.8317 | Exx2:1.7409 | $\\rho_1$:0.1313 | $\\rho_2$:0.0181 | $E_{0.05}$:0.75 | $E_{0.25}$:0.7027 | $E_{0.50}$:0.7434 | Time:23.23"
      ],
      "text/plain": [
       "<IPython.core.display.Latex object>"
      ]
     },
     "metadata": {},
     "output_type": "display_data"
    },
    {
     "data": {
      "text/latex": [
       "Target:N01_T2 | Kernel:TransUniform | $\\sigma$:3.2 | eff:0.7903 | $P_{jump}$:0.8294 | Exx2:1.7669 | $\\rho_1$:0.115 | $\\rho_2$:0.0139 | $E_{0.05}$:0.7575 | $E_{0.25}$:0.725 | $E_{0.50}$:0.7443 | Time:23.66"
      ],
      "text/plain": [
       "<IPython.core.display.Latex object>"
      ]
     },
     "metadata": {},
     "output_type": "display_data"
    },
    {
     "data": {
      "text/latex": [
       "Target:N01_T2 | Kernel:TransUniform | $\\sigma$:3.5 | eff:0.7164 | $P_{jump}$:0.8318 | Exx2:1.6806 | $\\rho_1$:0.1618 | $\\rho_2$:0.0276 | $E_{0.05}$:0.7309 | $E_{0.25}$:0.6811 | $E_{0.50}$:0.6946 | Time:22.42"
      ],
      "text/plain": [
       "<IPython.core.display.Latex object>"
      ]
     },
     "metadata": {},
     "output_type": "display_data"
    },
    {
     "data": {
      "text/latex": [
       "Target:N01_T2 | Kernel:TransUniform | $\\sigma$:4 | eff:0.7245 | $P_{jump}$:0.8294 | Exx2:1.6823 | $\\rho_1$:0.1607 | $\\rho_2$:0.0277 | $E_{0.05}$:0.7564 | $E_{0.25}$:0.6992 | $E_{0.50}$:0.6971 | Time:22.31"
      ],
      "text/plain": [
       "<IPython.core.display.Latex object>"
      ]
     },
     "metadata": {},
     "output_type": "display_data"
    },
    {
     "data": {
      "text/latex": [
       "Target:N01_T2 | Kernel:TransUniform | $\\sigma$:4.5 | eff:0.7526 | $P_{jump}$:0.8294 | Exx2:1.7342 | $\\rho_1$:0.1333 | $\\rho_2$:0.0184 | $E_{0.05}$:0.7614 | $E_{0.25}$:0.7077 | $E_{0.50}$:0.7271 | Time:24.42"
      ],
      "text/plain": [
       "<IPython.core.display.Latex object>"
      ]
     },
     "metadata": {},
     "output_type": "display_data"
    },
    {
     "data": {
      "text/latex": [
       "Target:N01_T2 | Kernel:TransUniform | $\\sigma$:5 | eff:0.7058 | $P_{jump}$:0.8296 | Exx2:1.6594 | $\\rho_1$:0.1707 | $\\rho_2$:0.0306 | $E_{0.05}$:0.767 | $E_{0.25}$:0.6925 | $E_{0.50}$:0.6815 | Time:23.18"
      ],
      "text/plain": [
       "<IPython.core.display.Latex object>"
      ]
     },
     "metadata": {},
     "output_type": "display_data"
    },
    {
     "data": {
      "text/latex": [
       "Target:N01_T2 | Kernel:TransUniform | $\\sigma$:6 | eff:0.7002 | $P_{jump}$:0.8304 | Exx2:1.6481 | $\\rho_1$:0.1747 | $\\rho_2$:0.033 | $E_{0.05}$:0.7511 | $E_{0.25}$:0.677 | $E_{0.50}$:0.6799 | Time:24.21"
      ],
      "text/plain": [
       "<IPython.core.display.Latex object>"
      ]
     },
     "metadata": {},
     "output_type": "display_data"
    },
    {
     "data": {
      "text/latex": [
       "Target:N01_T2 | Kernel:TransUniform | $\\sigma$:7 | eff:0.7141 | $P_{jump}$:0.8308 | Exx2:1.6718 | $\\rho_1$:0.1626 | $\\rho_2$:0.0286 | $E_{0.05}$:0.7499 | $E_{0.25}$:0.6897 | $E_{0.50}$:0.6974 | Time:33.84"
      ],
      "text/plain": [
       "<IPython.core.display.Latex object>"
      ]
     },
     "metadata": {},
     "output_type": "display_data"
    },
    {
     "data": {
      "text/latex": [
       "Target:N01_T2 | Kernel:TransUniform | $\\sigma$:8 | eff:0.7406 | $P_{jump}$:0.8296 | Exx2:1.7159 | $\\rho_1$:0.1442 | $\\rho_2$:0.0229 | $E_{0.05}$:0.7555 | $E_{0.25}$:0.7035 | $E_{0.50}$:0.7132 | Time:37.44"
      ],
      "text/plain": [
       "<IPython.core.display.Latex object>"
      ]
     },
     "metadata": {},
     "output_type": "display_data"
    },
    {
     "data": {
      "text/latex": [
       "Target:N01_T2 | Kernel:TransBactrian | $\\sigma$:0.1 | eff:0.0354 | $P_{jump}$:0.8751 | Exx2:0.2086 | $\\rho_1$:0.8961 | $\\rho_2$:0.8195 | $E_{0.05}$:0.1615 | $E_{0.25}$:0.0548 | $E_{0.50}$:0.0392 | Time:36.59"
      ],
      "text/plain": [
       "<IPython.core.display.Latex object>"
      ]
     },
     "metadata": {},
     "output_type": "display_data"
    },
    {
     "data": {
      "text/latex": [
       "Target:N01_T2 | Kernel:TransBactrian | $\\sigma$:0.3 | eff:0.3013 | $P_{jump}$:0.7997 | Exx2:0.9692 | $\\rho_1$:0.5148 | $\\rho_2$:0.2859 | $E_{0.05}$:0.7581 | $E_{0.25}$:0.3814 | $E_{0.50}$:0.3682 | Time:23.24"
      ],
      "text/plain": [
       "<IPython.core.display.Latex object>"
      ]
     },
     "metadata": {},
     "output_type": "display_data"
    },
    {
     "data": {
      "text/latex": [
       "Target:N01_T2 | Kernel:TransBactrian | $\\sigma$:0.5 | eff:0.787 | $P_{jump}$:0.8047 | Exx2:1.7744 | $\\rho_1$:0.1133 | $\\rho_2$:0.0178 | $E_{0.05}$:1.0146 | $E_{0.25}$:0.8329 | $E_{0.50}$:0.6401 | Time:22.52"
      ],
      "text/plain": [
       "<IPython.core.display.Latex object>"
      ]
     },
     "metadata": {},
     "output_type": "display_data"
    },
    {
     "data": {
      "text/latex": [
       "Target:N01_T2 | Kernel:TransBactrian | $\\sigma$:0.7 | eff:1.2817 | $P_{jump}$:0.8189 | Exx2:2.2564 | $\\rho_1$:-0.1268 | $\\rho_2$:0.015 | $E_{0.05}$:0.8935 | $E_{0.25}$:0.9988 | $E_{0.50}$:0.9185 | Time:23.4"
      ],
      "text/plain": [
       "<IPython.core.display.Latex object>"
      ]
     },
     "metadata": {},
     "output_type": "display_data"
    },
    {
     "data": {
      "text/latex": [
       "Target:N01_T2 | Kernel:TransBactrian | $\\sigma$:0.8 | eff:1.4896 | $P_{jump}$:0.8311 | Exx2:2.401 | $\\rho_1$:-0.2004 | $\\rho_2$:0.0439 | $E_{0.05}$:0.8103 | $E_{0.25}$:0.9699 | $E_{0.50}$:1.2138 | Time:22.89"
      ],
      "text/plain": [
       "<IPython.core.display.Latex object>"
      ]
     },
     "metadata": {},
     "output_type": "display_data"
    },
    {
     "data": {
      "text/latex": [
       "Target:N01_T2 | Kernel:TransBactrian | $\\sigma$:0.9 | eff:1.594 | $P_{jump}$:0.8376 | Exx2:2.4684 | $\\rho_1$:-0.2337 | $\\rho_2$:0.0603 | $E_{0.05}$:0.756 | $E_{0.25}$:0.9386 | $E_{0.50}$:1.3533 | Time:23.17"
      ],
      "text/plain": [
       "<IPython.core.display.Latex object>"
      ]
     },
     "metadata": {},
     "output_type": "display_data"
    },
    {
     "data": {
      "text/latex": [
       "Target:N01_T2 | Kernel:TransBactrian | $\\sigma$:1 | eff:1.59 | $P_{jump}$:0.8374 | Exx2:2.4689 | $\\rho_1$:-0.2338 | $\\rho_2$:0.061 | $E_{0.05}$:0.7657 | $E_{0.25}$:0.9332 | $E_{0.50}$:1.3764 | Time:22.99"
      ],
      "text/plain": [
       "<IPython.core.display.Latex object>"
      ]
     },
     "metadata": {},
     "output_type": "display_data"
    },
    {
     "data": {
      "text/latex": [
       "Target:N01_T2 | Kernel:TransBactrian | $\\sigma$:1.1 | eff:1.4861 | $P_{jump}$:0.8353 | Exx2:2.4115 | $\\rho_1$:-0.2021 | $\\rho_2$:0.0459 | $E_{0.05}$:0.7879 | $E_{0.25}$:0.9273 | $E_{0.50}$:1.2706 | Time:23.68"
      ],
      "text/plain": [
       "<IPython.core.display.Latex object>"
      ]
     },
     "metadata": {},
     "output_type": "display_data"
    },
    {
     "data": {
      "text/latex": [
       "Target:N01_T2 | Kernel:TransBactrian | $\\sigma$:1.3 | eff:1.1263 | $P_{jump}$:0.83 | Exx2:2.1278 | $\\rho_1$:-0.0642 | $\\rho_2$:0.0045 | $E_{0.05}$:0.7993 | $E_{0.25}$:0.8696 | $E_{0.50}$:1.0038 | Time:25.17"
      ],
      "text/plain": [
       "<IPython.core.display.Latex object>"
      ]
     },
     "metadata": {},
     "output_type": "display_data"
    },
    {
     "data": {
      "text/latex": [
       "Target:N01_T2 | Kernel:TransBactrian | $\\sigma$:1.5 | eff:0.8176 | $P_{jump}$:0.8291 | Exx2:1.8006 | $\\rho_1$:0.0984 | $\\rho_2$:0.0117 | $E_{0.05}$:0.773 | $E_{0.25}$:0.7427 | $E_{0.50}$:0.7727 | Time:23.79"
      ],
      "text/plain": [
       "<IPython.core.display.Latex object>"
      ]
     },
     "metadata": {},
     "output_type": "display_data"
    },
    {
     "data": {
      "text/latex": [
       "Target:N01_T2 | Kernel:TransBactrian | $\\sigma$:1.7 | eff:0.6475 | $P_{jump}$:0.83 | Exx2:1.5769 | $\\rho_1$:0.2102 | $\\rho_2$:0.0473 | $E_{0.05}$:0.735 | $E_{0.25}$:0.6519 | $E_{0.50}$:0.6372 | Time:27.13"
      ],
      "text/plain": [
       "<IPython.core.display.Latex object>"
      ]
     },
     "metadata": {},
     "output_type": "display_data"
    },
    {
     "data": {
      "text/latex": [
       "Target:N01_T2 | Kernel:TransBactrian | $\\sigma$:1.8 | eff:0.6102 | $P_{jump}$:0.8303 | Exx2:1.5281 | $\\rho_1$:0.2371 | $\\rho_2$:0.0601 | $E_{0.05}$:0.7272 | $E_{0.25}$:0.6248 | $E_{0.50}$:0.6078 | Time:31.06"
      ],
      "text/plain": [
       "<IPython.core.display.Latex object>"
      ]
     },
     "metadata": {},
     "output_type": "display_data"
    },
    {
     "data": {
      "text/latex": [
       "Target:N01_T2 | Kernel:TransBactrian | $\\sigma$:1.9 | eff:0.6009 | $P_{jump}$:0.83 | Exx2:1.5017 | $\\rho_1$:0.2486 | $\\rho_2$:0.0639 | $E_{0.05}$:0.7322 | $E_{0.25}$:0.6156 | $E_{0.50}$:0.5963 | Time:26.96"
      ],
      "text/plain": [
       "<IPython.core.display.Latex object>"
      ]
     },
     "metadata": {},
     "output_type": "display_data"
    },
    {
     "data": {
      "text/latex": [
       "Target:N01_T2 | Kernel:TransBactrian | $\\sigma$:2 | eff:0.6044 | $P_{jump}$:0.8296 | Exx2:1.5066 | $\\rho_1$:0.2447 | $\\rho_2$:0.0626 | $E_{0.05}$:0.7289 | $E_{0.25}$:0.6279 | $E_{0.50}$:0.6038 | Time:22.93"
      ],
      "text/plain": [
       "<IPython.core.display.Latex object>"
      ]
     },
     "metadata": {},
     "output_type": "display_data"
    },
    {
     "data": {
      "text/latex": [
       "Target:N01_T2 | Kernel:TransBactrian | $\\sigma$:2.1 | eff:0.6177 | $P_{jump}$:0.8292 | Exx2:1.5325 | $\\rho_1$:0.2329 | $\\rho_2$:0.0565 | $E_{0.05}$:0.7171 | $E_{0.25}$:0.6354 | $E_{0.50}$:0.614 | Time:23.92"
      ],
      "text/plain": [
       "<IPython.core.display.Latex object>"
      ]
     },
     "metadata": {},
     "output_type": "display_data"
    },
    {
     "data": {
      "text/latex": [
       "Target:N01_T2 | Kernel:TransBactrian | $\\sigma$:2.2 | eff:0.6422 | $P_{jump}$:0.8307 | Exx2:1.5732 | $\\rho_1$:0.2145 | $\\rho_2$:0.0476 | $E_{0.05}$:0.7359 | $E_{0.25}$:0.6523 | $E_{0.50}$:0.633 | Time:21.85"
      ],
      "text/plain": [
       "<IPython.core.display.Latex object>"
      ]
     },
     "metadata": {},
     "output_type": "display_data"
    },
    {
     "data": {
      "text/latex": [
       "Target:N01_T2 | Kernel:TransBactrian | $\\sigma$:2.3 | eff:0.6659 | $P_{jump}$:0.8299 | Exx2:1.6095 | $\\rho_1$:0.1963 | $\\rho_2$:0.0391 | $E_{0.05}$:0.7489 | $E_{0.25}$:0.6598 | $E_{0.50}$:0.654 | Time:23.35"
      ],
      "text/plain": [
       "<IPython.core.display.Latex object>"
      ]
     },
     "metadata": {},
     "output_type": "display_data"
    },
    {
     "data": {
      "text/latex": [
       "Target:N01_T2 | Kernel:TransBactrian | $\\sigma$:2.4 | eff:0.6946 | $P_{jump}$:0.8301 | Exx2:1.6402 | $\\rho_1$:0.1791 | $\\rho_2$:0.0335 | $E_{0.05}$:0.7473 | $E_{0.25}$:0.6713 | $E_{0.50}$:0.6731 | Time:23.07"
      ],
      "text/plain": [
       "<IPython.core.display.Latex object>"
      ]
     },
     "metadata": {},
     "output_type": "display_data"
    },
    {
     "data": {
      "text/latex": [
       "Target:N01_T2 | Kernel:TransBactrian | $\\sigma$:2.5 | eff:0.7125 | $P_{jump}$:0.8304 | Exx2:1.6679 | $\\rho_1$:0.1661 | $\\rho_2$:0.0298 | $E_{0.05}$:0.7558 | $E_{0.25}$:0.6897 | $E_{0.50}$:0.6966 | Time:26.43"
      ],
      "text/plain": [
       "<IPython.core.display.Latex object>"
      ]
     },
     "metadata": {},
     "output_type": "display_data"
    },
    {
     "data": {
      "text/latex": [
       "Target:N01_T2 | Kernel:TransBactrian | $\\sigma$:2.6 | eff:0.7342 | $P_{jump}$:0.8302 | Exx2:1.692 | $\\rho_1$:0.1542 | $\\rho_2$:0.0241 | $E_{0.05}$:0.7509 | $E_{0.25}$:0.6959 | $E_{0.50}$:0.7104 | Time:23.51"
      ],
      "text/plain": [
       "<IPython.core.display.Latex object>"
      ]
     },
     "metadata": {},
     "output_type": "display_data"
    },
    {
     "data": {
      "text/latex": [
       "Target:N01_T2 | Kernel:TransBactrian | $\\sigma$:2.8 | eff:0.7401 | $P_{jump}$:0.8299 | Exx2:1.7121 | $\\rho_1$:0.1461 | $\\rho_2$:0.0229 | $E_{0.05}$:0.7498 | $E_{0.25}$:0.7043 | $E_{0.50}$:0.7021 | Time:24.38"
      ],
      "text/plain": [
       "<IPython.core.display.Latex object>"
      ]
     },
     "metadata": {},
     "output_type": "display_data"
    },
    {
     "data": {
      "text/latex": [
       "Target:N01_T2 | Kernel:TransBactrian | $\\sigma$:3.0 | eff:0.7454 | $P_{jump}$:0.8295 | Exx2:1.7067 | $\\rho_1$:0.1451 | $\\rho_2$:0.0217 | $E_{0.05}$:0.7592 | $E_{0.25}$:0.7058 | $E_{0.50}$:0.7166 | Time:23.35"
      ],
      "text/plain": [
       "<IPython.core.display.Latex object>"
      ]
     },
     "metadata": {},
     "output_type": "display_data"
    },
    {
     "data": {
      "text/latex": [
       "Target:N01_T2 | Kernel:TransBactrian | $\\sigma$:3.2 | eff:0.7433 | $P_{jump}$:0.8307 | Exx2:1.7062 | $\\rho_1$:0.1466 | $\\rho_2$:0.0204 | $E_{0.05}$:0.7501 | $E_{0.25}$:0.6987 | $E_{0.50}$:0.713 | Time:25.9"
      ],
      "text/plain": [
       "<IPython.core.display.Latex object>"
      ]
     },
     "metadata": {},
     "output_type": "display_data"
    },
    {
     "data": {
      "text/latex": [
       "Target:N01_T2 | Kernel:TransBactrian | $\\sigma$:3.5 | eff:0.7335 | $P_{jump}$:0.8306 | Exx2:1.6954 | $\\rho_1$:0.1528 | $\\rho_2$:0.0249 | $E_{0.05}$:0.7514 | $E_{0.25}$:0.7002 | $E_{0.50}$:0.7142 | Time:25.57"
      ],
      "text/plain": [
       "<IPython.core.display.Latex object>"
      ]
     },
     "metadata": {},
     "output_type": "display_data"
    },
    {
     "data": {
      "text/latex": [
       "Target:N01_T2 | Kernel:TransBactrian | $\\sigma$:4 | eff:0.7389 | $P_{jump}$:0.8298 | Exx2:1.693 | $\\rho_1$:0.152 | $\\rho_2$:0.026 | $E_{0.05}$:0.7534 | $E_{0.25}$:0.7036 | $E_{0.50}$:0.7168 | Time:32.87"
      ],
      "text/plain": [
       "<IPython.core.display.Latex object>"
      ]
     },
     "metadata": {},
     "output_type": "display_data"
    },
    {
     "data": {
      "text/latex": [
       "Target:N01_T2 | Kernel:TransBactrian | $\\sigma$:4.5 | eff:0.7303 | $P_{jump}$:0.8299 | Exx2:1.6913 | $\\rho_1$:0.1527 | $\\rho_2$:0.0242 | $E_{0.05}$:0.7558 | $E_{0.25}$:0.6891 | $E_{0.50}$:0.7023 | Time:29.97"
      ],
      "text/plain": [
       "<IPython.core.display.Latex object>"
      ]
     },
     "metadata": {},
     "output_type": "display_data"
    },
    {
     "data": {
      "text/latex": [
       "Target:N01_T2 | Kernel:TransBactrian | $\\sigma$:5 | eff:0.7322 | $P_{jump}$:0.8303 | Exx2:1.6928 | $\\rho_1$:0.1527 | $\\rho_2$:0.0238 | $E_{0.05}$:0.7628 | $E_{0.25}$:0.6919 | $E_{0.50}$:0.7114 | Time:26.3"
      ],
      "text/plain": [
       "<IPython.core.display.Latex object>"
      ]
     },
     "metadata": {},
     "output_type": "display_data"
    },
    {
     "data": {
      "text/latex": [
       "Target:N01_T2 | Kernel:TransBactrian | $\\sigma$:6 | eff:0.7401 | $P_{jump}$:0.8302 | Exx2:1.6961 | $\\rho_1$:0.1524 | $\\rho_2$:0.0241 | $E_{0.05}$:0.7487 | $E_{0.25}$:0.7039 | $E_{0.50}$:0.7139 | Time:26.98"
      ],
      "text/plain": [
       "<IPython.core.display.Latex object>"
      ]
     },
     "metadata": {},
     "output_type": "display_data"
    },
    {
     "data": {
      "text/latex": [
       "Target:N01_T2 | Kernel:TransBactrian | $\\sigma$:7 | eff:0.7326 | $P_{jump}$:0.8298 | Exx2:1.6921 | $\\rho_1$:0.1531 | $\\rho_2$:0.0251 | $E_{0.05}$:0.749 | $E_{0.25}$:0.7092 | $E_{0.50}$:0.7074 | Time:26.63"
      ],
      "text/plain": [
       "<IPython.core.display.Latex object>"
      ]
     },
     "metadata": {},
     "output_type": "display_data"
    },
    {
     "data": {
      "text/latex": [
       "Target:N01_T2 | Kernel:TransBactrian | $\\sigma$:8 | eff:0.7328 | $P_{jump}$:0.8296 | Exx2:1.694 | $\\rho_1$:0.153 | $\\rho_2$:0.0229 | $E_{0.05}$:0.7475 | $E_{0.25}$:0.6938 | $E_{0.50}$:0.7077 | Time:25.09"
      ],
      "text/plain": [
       "<IPython.core.display.Latex object>"
      ]
     },
     "metadata": {},
     "output_type": "display_data"
    },
    {
     "data": {
      "text/latex": [
       "Target:N01_T2 | Kernel:TransStrawHat | $\\sigma$:0.1 | eff:0.0364 | $P_{jump}$:0.872 | Exx2:0.2125 | $\\rho_1$:0.8943 | $\\rho_2$:0.8172 | $E_{0.05}$:0.1624 | $E_{0.25}$:0.0561 | $E_{0.50}$:0.04 | Time:32.11"
      ],
      "text/plain": [
       "<IPython.core.display.Latex object>"
      ]
     },
     "metadata": {},
     "output_type": "display_data"
    },
    {
     "data": {
      "text/latex": [
       "Target:N01_T2 | Kernel:TransStrawHat | $\\sigma$:0.3 | eff:0.3012 | $P_{jump}$:0.797 | Exx2:0.9918 | $\\rho_1$:0.5052 | $\\rho_2$:0.2805 | $E_{0.05}$:0.7754 | $E_{0.25}$:0.3567 | $E_{0.50}$:0.3816 | Time:25.36"
      ],
      "text/plain": [
       "<IPython.core.display.Latex object>"
      ]
     },
     "metadata": {},
     "output_type": "display_data"
    },
    {
     "data": {
      "text/latex": [
       "Target:N01_T2 | Kernel:TransStrawHat | $\\sigma$:0.5 | eff:0.8366 | $P_{jump}$:0.8049 | Exx2:1.8494 | $\\rho_1$:0.0749 | $\\rho_2$:0.0142 | $E_{0.05}$:1.0059 | $E_{0.25}$:0.9625 | $E_{0.50}$:0.5847 | Time:26.62"
      ],
      "text/plain": [
       "<IPython.core.display.Latex object>"
      ]
     },
     "metadata": {},
     "output_type": "display_data"
    },
    {
     "data": {
      "text/latex": [
       "Target:N01_T2 | Kernel:TransStrawHat | $\\sigma$:0.7 | eff:1.2933 | $P_{jump}$:0.8131 | Exx2:2.2585 | $\\rho_1$:-0.1319 | $\\rho_2$:0.0201 | $E_{0.05}$:0.8553 | $E_{0.25}$:0.9406 | $E_{0.50}$:0.9388 | Time:27.03"
      ],
      "text/plain": [
       "<IPython.core.display.Latex object>"
      ]
     },
     "metadata": {},
     "output_type": "display_data"
    },
    {
     "data": {
      "text/latex": [
       "Target:N01_T2 | Kernel:TransStrawHat | $\\sigma$:0.8 | eff:1.6892 | $P_{jump}$:0.8484 | Exx2:2.5272 | $\\rho_1$:-0.2651 | $\\rho_2$:0.0796 | $E_{0.05}$:0.7394 | $E_{0.25}$:0.9269 | $E_{0.50}$:1.5586 | Time:23.25"
      ],
      "text/plain": [
       "<IPython.core.display.Latex object>"
      ]
     },
     "metadata": {},
     "output_type": "display_data"
    },
    {
     "data": {
      "text/latex": [
       "Target:N01_T2 | Kernel:TransStrawHat | $\\sigma$:0.9 | eff:1.676 | $P_{jump}$:0.85 | Exx2:2.5507 | $\\rho_1$:-0.2751 | $\\rho_2$:0.0967 | $E_{0.05}$:0.6684 | $E_{0.25}$:0.8428 | $E_{0.50}$:1.7317 | Time:25.07"
      ],
      "text/plain": [
       "<IPython.core.display.Latex object>"
      ]
     },
     "metadata": {},
     "output_type": "display_data"
    },
    {
     "data": {
      "text/latex": [
       "Target:N01_T2 | Kernel:TransStrawHat | $\\sigma$:1 | eff:1.7448 | $P_{jump}$:0.8401 | Exx2:2.5688 | $\\rho_1$:-0.282 | $\\rho_2$:0.0882 | $E_{0.05}$:0.7281 | $E_{0.25}$:0.8879 | $E_{0.50}$:1.5379 | Time:28.32"
      ],
      "text/plain": [
       "<IPython.core.display.Latex object>"
      ]
     },
     "metadata": {},
     "output_type": "display_data"
    },
    {
     "data": {
      "text/latex": [
       "Target:N01_T2 | Kernel:TransStrawHat | $\\sigma$:1.1 | eff:1.6698 | $P_{jump}$:0.8327 | Exx2:2.5049 | $\\rho_1$:-0.2584 | $\\rho_2$:0.0712 | $E_{0.05}$:0.7941 | $E_{0.25}$:1.0105 | $E_{0.50}$:1.2406 | Time:30.92"
      ],
      "text/plain": [
       "<IPython.core.display.Latex object>"
      ]
     },
     "metadata": {},
     "output_type": "display_data"
    },
    {
     "data": {
      "text/latex": [
       "Target:N01_T2 | Kernel:TransStrawHat | $\\sigma$:1.3 | eff:1.1832 | $P_{jump}$:0.8201 | Exx2:2.1671 | $\\rho_1$:-0.0843 | $\\rho_2$:0.0079 | $E_{0.05}$:0.9158 | $E_{0.25}$:0.9223 | $E_{0.50}$:1.0028 | Time:26.38"
      ],
      "text/plain": [
       "<IPython.core.display.Latex object>"
      ]
     },
     "metadata": {},
     "output_type": "display_data"
    },
    {
     "data": {
      "text/latex": [
       "Target:N01_T2 | Kernel:TransStrawHat | $\\sigma$:1.5 | eff:0.6834 | $P_{jump}$:0.8324 | Exx2:1.6256 | $\\rho_1$:0.1884 | $\\rho_2$:0.037 | $E_{0.05}$:0.739 | $E_{0.25}$:0.671 | $E_{0.50}$:0.6573 | Time:23.41"
      ],
      "text/plain": [
       "<IPython.core.display.Latex object>"
      ]
     },
     "metadata": {},
     "output_type": "display_data"
    },
    {
     "data": {
      "text/latex": [
       "Target:N01_T2 | Kernel:TransStrawHat | $\\sigma$:1.7 | eff:0.4569 | $P_{jump}$:0.8342 | Exx2:1.27 | $\\rho_1$:0.3645 | $\\rho_2$:0.1386 | $E_{0.05}$:0.6434 | $E_{0.25}$:0.5056 | $E_{0.50}$:0.4783 | Time:26.42"
      ],
      "text/plain": [
       "<IPython.core.display.Latex object>"
      ]
     },
     "metadata": {},
     "output_type": "display_data"
    },
    {
     "data": {
      "text/latex": [
       "Target:N01_T2 | Kernel:TransStrawHat | $\\sigma$:1.8 | eff:0.4378 | $P_{jump}$:0.8314 | Exx2:1.2305 | $\\rho_1$:0.3834 | $\\rho_2$:0.1532 | $E_{0.05}$:0.6632 | $E_{0.25}$:0.4959 | $E_{0.50}$:0.4766 | Time:28.62"
      ],
      "text/plain": [
       "<IPython.core.display.Latex object>"
      ]
     },
     "metadata": {},
     "output_type": "display_data"
    },
    {
     "data": {
      "text/latex": [
       "Target:N01_T2 | Kernel:TransStrawHat | $\\sigma$:1.9 | eff:0.4639 | $P_{jump}$:0.8304 | Exx2:1.2776 | $\\rho_1$:0.3613 | $\\rho_2$:0.1347 | $E_{0.05}$:0.7001 | $E_{0.25}$:0.5293 | $E_{0.50}$:0.4926 | Time:26.56"
      ],
      "text/plain": [
       "<IPython.core.display.Latex object>"
      ]
     },
     "metadata": {},
     "output_type": "display_data"
    },
    {
     "data": {
      "text/latex": [
       "Target:N01_T2 | Kernel:TransStrawHat | $\\sigma$:2 | eff:0.514 | $P_{jump}$:0.827 | Exx2:1.3818 | $\\rho_1$:0.3111 | $\\rho_2$:0.1025 | $E_{0.05}$:0.7293 | $E_{0.25}$:0.5896 | $E_{0.50}$:0.5033 | Time:24.83"
      ],
      "text/plain": [
       "<IPython.core.display.Latex object>"
      ]
     },
     "metadata": {},
     "output_type": "display_data"
    },
    {
     "data": {
      "text/latex": [
       "Target:N01_T2 | Kernel:TransStrawHat | $\\sigma$:2.1 | eff:0.5796 | $P_{jump}$:0.8232 | Exx2:1.4822 | $\\rho_1$:0.2595 | $\\rho_2$:0.0749 | $E_{0.05}$:0.7674 | $E_{0.25}$:0.6104 | $E_{0.50}$:0.5415 | Time:24.29"
      ],
      "text/plain": [
       "<IPython.core.display.Latex object>"
      ]
     },
     "metadata": {},
     "output_type": "display_data"
    },
    {
     "data": {
      "text/latex": [
       "Target:N01_T2 | Kernel:TransStrawHat | $\\sigma$:2.2 | eff:0.6541 | $P_{jump}$:0.8264 | Exx2:1.5901 | $\\rho_1$:0.2044 | $\\rho_2$:0.0436 | $E_{0.05}$:0.7389 | $E_{0.25}$:0.6633 | $E_{0.50}$:0.64 | Time:24.7"
      ],
      "text/plain": [
       "<IPython.core.display.Latex object>"
      ]
     },
     "metadata": {},
     "output_type": "display_data"
    },
    {
     "data": {
      "text/latex": [
       "Target:N01_T2 | Kernel:TransStrawHat | $\\sigma$:2.3 | eff:0.7737 | $P_{jump}$:0.8361 | Exx2:1.7516 | $\\rho_1$:0.125 | $\\rho_2$:0.0132 | $E_{0.05}$:0.7362 | $E_{0.25}$:0.712 | $E_{0.50}$:0.7753 | Time:23.73"
      ],
      "text/plain": [
       "<IPython.core.display.Latex object>"
      ]
     },
     "metadata": {},
     "output_type": "display_data"
    },
    {
     "data": {
      "text/latex": [
       "Target:N01_T2 | Kernel:TransStrawHat | $\\sigma$:2.4 | eff:0.8435 | $P_{jump}$:0.834 | Exx2:1.8341 | $\\rho_1$:0.0836 | $\\rho_2$:0.0079 | $E_{0.05}$:0.7332 | $E_{0.25}$:0.7312 | $E_{0.50}$:0.8419 | Time:24.11"
      ],
      "text/plain": [
       "<IPython.core.display.Latex object>"
      ]
     },
     "metadata": {},
     "output_type": "display_data"
    },
    {
     "data": {
      "text/latex": [
       "Target:N01_T2 | Kernel:TransStrawHat | $\\sigma$:2.5 | eff:0.9063 | $P_{jump}$:0.8313 | Exx2:1.9107 | $\\rho_1$:0.0429 | $\\rho_2$:0.0039 | $E_{0.05}$:0.7611 | $E_{0.25}$:0.7641 | $E_{0.50}$:0.8416 | Time:24.11"
      ],
      "text/plain": [
       "<IPython.core.display.Latex object>"
      ]
     },
     "metadata": {},
     "output_type": "display_data"
    },
    {
     "data": {
      "text/latex": [
       "Target:N01_T2 | Kernel:TransStrawHat | $\\sigma$:2.6 | eff:0.9529 | $P_{jump}$:0.8296 | Exx2:1.9551 | $\\rho_1$:0.02 | $\\rho_2$:0.0005 | $E_{0.05}$:0.7901 | $E_{0.25}$:0.8206 | $E_{0.50}$:0.8289 | Time:23.26"
      ],
      "text/plain": [
       "<IPython.core.display.Latex object>"
      ]
     },
     "metadata": {},
     "output_type": "display_data"
    },
    {
     "data": {
      "text/latex": [
       "Target:N01_T2 | Kernel:TransStrawHat | $\\sigma$:2.8 | eff:0.8952 | $P_{jump}$:0.8255 | Exx2:1.8979 | $\\rho_1$:0.0492 | $\\rho_2$:0.003 | $E_{0.05}$:0.8232 | $E_{0.25}$:0.7925 | $E_{0.50}$:0.833 | Time:22.86"
      ],
      "text/plain": [
       "<IPython.core.display.Latex object>"
      ]
     },
     "metadata": {},
     "output_type": "display_data"
    },
    {
     "data": {
      "text/latex": [
       "Target:N01_T2 | Kernel:TransStrawHat | $\\sigma$:3.0 | eff:0.7327 | $P_{jump}$:0.8341 | Exx2:1.6958 | $\\rho_1$:0.1527 | $\\rho_2$:0.0234 | $E_{0.05}$:0.731 | $E_{0.25}$:0.6847 | $E_{0.50}$:0.7084 | Time:22.49"
      ],
      "text/plain": [
       "<IPython.core.display.Latex object>"
      ]
     },
     "metadata": {},
     "output_type": "display_data"
    },
    {
     "data": {
      "text/latex": [
       "Target:N01_T2 | Kernel:TransStrawHat | $\\sigma$:3.2 | eff:0.6218 | $P_{jump}$:0.8313 | Exx2:1.5393 | $\\rho_1$:0.2301 | $\\rho_2$:0.0557 | $E_{0.05}$:0.7095 | $E_{0.25}$:0.6315 | $E_{0.50}$:0.625 | Time:23.15"
      ],
      "text/plain": [
       "<IPython.core.display.Latex object>"
      ]
     },
     "metadata": {},
     "output_type": "display_data"
    },
    {
     "data": {
      "text/latex": [
       "Target:N01_T2 | Kernel:TransStrawHat | $\\sigma$:3.5 | eff:0.6469 | $P_{jump}$:0.8271 | Exx2:1.5796 | $\\rho_1$:0.2108 | $\\rho_2$:0.0477 | $E_{0.05}$:0.7527 | $E_{0.25}$:0.668 | $E_{0.50}$:0.618 | Time:22.5"
      ],
      "text/plain": [
       "<IPython.core.display.Latex object>"
      ]
     },
     "metadata": {},
     "output_type": "display_data"
    },
    {
     "data": {
      "text/latex": [
       "Target:N01_T2 | Kernel:TransStrawHat | $\\sigma$:4 | eff:0.8222 | $P_{jump}$:0.831 | Exx2:1.8017 | $\\rho_1$:0.0984 | $\\rho_2$:0.0101 | $E_{0.05}$:0.7485 | $E_{0.25}$:0.7347 | $E_{0.50}$:0.7759 | Time:22.61"
      ],
      "text/plain": [
       "<IPython.core.display.Latex object>"
      ]
     },
     "metadata": {},
     "output_type": "display_data"
    },
    {
     "data": {
      "text/latex": [
       "Target:N01_T2 | Kernel:TransStrawHat | $\\sigma$:4.5 | eff:0.7056 | $P_{jump}$:0.8321 | Exx2:1.6524 | $\\rho_1$:0.1718 | $\\rho_2$:0.0318 | $E_{0.05}$:0.7369 | $E_{0.25}$:0.677 | $E_{0.50}$:0.6827 | Time:22.87"
      ],
      "text/plain": [
       "<IPython.core.display.Latex object>"
      ]
     },
     "metadata": {},
     "output_type": "display_data"
    },
    {
     "data": {
      "text/latex": [
       "Target:N01_T2 | Kernel:TransStrawHat | $\\sigma$:5 | eff:0.6841 | $P_{jump}$:0.8285 | Exx2:1.6346 | $\\rho_1$:0.1817 | $\\rho_2$:0.0365 | $E_{0.05}$:0.7569 | $E_{0.25}$:0.685 | $E_{0.50}$:0.6527 | Time:22.75"
      ],
      "text/plain": [
       "<IPython.core.display.Latex object>"
      ]
     },
     "metadata": {},
     "output_type": "display_data"
    },
    {
     "data": {
      "text/latex": [
       "Target:N01_T2 | Kernel:TransStrawHat | $\\sigma$:6 | eff:0.6922 | $P_{jump}$:0.8322 | Exx2:1.6435 | $\\rho_1$:0.1774 | $\\rho_2$:0.0335 | $E_{0.05}$:0.7318 | $E_{0.25}$:0.6711 | $E_{0.50}$:0.6779 | Time:23.07"
      ],
      "text/plain": [
       "<IPython.core.display.Latex object>"
      ]
     },
     "metadata": {},
     "output_type": "display_data"
    },
    {
     "data": {
      "text/latex": [
       "Target:N01_T2 | Kernel:TransStrawHat | $\\sigma$:7 | eff:0.7939 | $P_{jump}$:0.8299 | Exx2:1.7778 | $\\rho_1$:0.1087 | $\\rho_2$:0.0117 | $E_{0.05}$:0.7676 | $E_{0.25}$:0.7285 | $E_{0.50}$:0.75 | Time:23.0"
      ],
      "text/plain": [
       "<IPython.core.display.Latex object>"
      ]
     },
     "metadata": {},
     "output_type": "display_data"
    },
    {
     "data": {
      "text/latex": [
       "Target:N01_T2 | Kernel:TransStrawHat | $\\sigma$:8 | eff:0.7064 | $P_{jump}$:0.8285 | Exx2:1.6496 | $\\rho_1$:0.1738 | $\\rho_2$:0.0311 | $E_{0.05}$:0.7527 | $E_{0.25}$:0.6931 | $E_{0.50}$:0.6741 | Time:22.94"
      ],
      "text/plain": [
       "<IPython.core.display.Latex object>"
      ]
     },
     "metadata": {},
     "output_type": "display_data"
    },
    {
     "data": {
      "text/latex": [
       "Target:N01_Logistic | Kernel:Uniform | $\\sigma$:0.1 | eff:0.0022 | $P_{jump}$:0.9657 | Exx2:0.0095 | $\\rho_1$:0.9953 | $\\rho_2$:0.9906 | $E_{0.05}$:0.0057 | $E_{0.25}$:0.0034 | $E_{0.50}$:0.0031 | Time:126.08"
      ],
      "text/plain": [
       "<IPython.core.display.Latex object>"
      ]
     },
     "metadata": {},
     "output_type": "display_data"
    },
    {
     "data": {
      "text/latex": [
       "Target:N01_Logistic | Kernel:Uniform | $\\sigma$:0.3 | eff:0.0195 | $P_{jump}$:0.8968 | Exx2:0.076 | $\\rho_1$:0.962 | $\\rho_2$:0.9255 | $E_{0.05}$:0.039 | $E_{0.25}$:0.0308 | $E_{0.50}$:0.0301 | Time:23.62"
      ],
      "text/plain": [
       "<IPython.core.display.Latex object>"
      ]
     },
     "metadata": {},
     "output_type": "display_data"
    },
    {
     "data": {
      "text/latex": [
       "Target:N01_Logistic | Kernel:Uniform | $\\sigma$:0.5 | eff:0.0484 | $P_{jump}$:0.8301 | Exx2:0.1866 | $\\rho_1$:0.9069 | $\\rho_2$:0.8232 | $E_{0.05}$:0.0885 | $E_{0.25}$:0.0761 | $E_{0.50}$:0.0761 | Time:13.41"
      ],
      "text/plain": [
       "<IPython.core.display.Latex object>"
      ]
     },
     "metadata": {},
     "output_type": "display_data"
    },
    {
     "data": {
      "text/latex": [
       "Target:N01_Logistic | Kernel:Uniform | $\\sigma$:0.7 | eff:0.0822 | $P_{jump}$:0.7657 | Exx2:0.3193 | $\\rho_1$:0.8406 | $\\rho_2$:0.7095 | $E_{0.05}$:0.1419 | $E_{0.25}$:0.13 | $E_{0.50}$:0.1322 | Time:11.6"
      ],
      "text/plain": [
       "<IPython.core.display.Latex object>"
      ]
     },
     "metadata": {},
     "output_type": "display_data"
    },
    {
     "data": {
      "text/latex": [
       "Target:N01_Logistic | Kernel:Uniform | $\\sigma$:0.8 | eff:0.1007 | $P_{jump}$:0.7352 | Exx2:0.3883 | $\\rho_1$:0.8064 | $\\rho_2$:0.6545 | $E_{0.05}$:0.1626 | $E_{0.25}$:0.158 | $E_{0.50}$:0.1623 | Time:10.53"
      ],
      "text/plain": [
       "<IPython.core.display.Latex object>"
      ]
     },
     "metadata": {},
     "output_type": "display_data"
    },
    {
     "data": {
      "text/latex": [
       "Target:N01_Logistic | Kernel:Uniform | $\\sigma$:0.9 | eff:0.1208 | $P_{jump}$:0.704 | Exx2:0.4559 | $\\rho_1$:0.7724 | $\\rho_2$:0.6025 | $E_{0.05}$:0.1885 | $E_{0.25}$:0.1873 | $E_{0.50}$:0.193 | Time:10.84"
      ],
      "text/plain": [
       "<IPython.core.display.Latex object>"
      ]
     },
     "metadata": {},
     "output_type": "display_data"
    },
    {
     "data": {
      "text/latex": [
       "Target:N01_Logistic | Kernel:Uniform | $\\sigma$:1 | eff:0.1385 | $P_{jump}$:0.6746 | Exx2:0.5203 | $\\rho_1$:0.7393 | $\\rho_2$:0.554 | $E_{0.05}$:0.201 | $E_{0.25}$:0.2116 | $E_{0.50}$:0.2196 | Time:10.53"
      ],
      "text/plain": [
       "<IPython.core.display.Latex object>"
      ]
     },
     "metadata": {},
     "output_type": "display_data"
    },
    {
     "data": {
      "text/latex": [
       "Target:N01_Logistic | Kernel:Uniform | $\\sigma$:1.1 | eff:0.1593 | $P_{jump}$:0.6469 | Exx2:0.583 | $\\rho_1$:0.7074 | $\\rho_2$:0.5089 | $E_{0.05}$:0.2183 | $E_{0.25}$:0.2363 | $E_{0.50}$:0.2448 | Time:10.19"
      ],
      "text/plain": [
       "<IPython.core.display.Latex object>"
      ]
     },
     "metadata": {},
     "output_type": "display_data"
    },
    {
     "data": {
      "text/latex": [
       "Target:N01_Logistic | Kernel:Uniform | $\\sigma$:1.3 | eff:0.1914 | $P_{jump}$:0.5936 | Exx2:0.6934 | $\\rho_1$:0.654 | $\\rho_2$:0.4376 | $E_{0.05}$:0.247 | $E_{0.25}$:0.2722 | $E_{0.50}$:0.2761 | Time:10.59"
      ],
      "text/plain": [
       "<IPython.core.display.Latex object>"
      ]
     },
     "metadata": {},
     "output_type": "display_data"
    },
    {
     "data": {
      "text/latex": [
       "Target:N01_Logistic | Kernel:Uniform | $\\sigma$:1.5 | eff:0.2262 | $P_{jump}$:0.5449 | Exx2:0.7778 | $\\rho_1$:0.6108 | $\\rho_2$:0.3827 | $E_{0.05}$:0.2665 | $E_{0.25}$:0.2908 | $E_{0.50}$:0.291 | Time:10.23"
      ],
      "text/plain": [
       "<IPython.core.display.Latex object>"
      ]
     },
     "metadata": {},
     "output_type": "display_data"
    },
    {
     "data": {
      "text/latex": [
       "Target:N01_Logistic | Kernel:Uniform | $\\sigma$:1.7 | eff:0.2469 | $P_{jump}$:0.4999 | Exx2:0.834 | $\\rho_1$:0.5834 | $\\rho_2$:0.3479 | $E_{0.05}$:0.2746 | $E_{0.25}$:0.2928 | $E_{0.50}$:0.2878 | Time:9.82"
      ],
      "text/plain": [
       "<IPython.core.display.Latex object>"
      ]
     },
     "metadata": {},
     "output_type": "display_data"
    },
    {
     "data": {
      "text/latex": [
       "Target:N01_Logistic | Kernel:Uniform | $\\sigma$:1.8 | eff:0.2596 | $P_{jump}$:0.4797 | Exx2:0.8554 | $\\rho_1$:0.5742 | $\\rho_2$:0.335 | $E_{0.05}$:0.2849 | $E_{0.25}$:0.2914 | $E_{0.50}$:0.278 | Time:9.56"
      ],
      "text/plain": [
       "<IPython.core.display.Latex object>"
      ]
     },
     "metadata": {},
     "output_type": "display_data"
    },
    {
     "data": {
      "text/latex": [
       "Target:N01_Logistic | Kernel:Uniform | $\\sigma$:1.9 | eff:0.2657 | $P_{jump}$:0.4596 | Exx2:0.8682 | $\\rho_1$:0.5671 | $\\rho_2$:0.327 | $E_{0.05}$:0.2817 | $E_{0.25}$:0.2778 | $E_{0.50}$:0.2694 | Time:9.44"
      ],
      "text/plain": [
       "<IPython.core.display.Latex object>"
      ]
     },
     "metadata": {},
     "output_type": "display_data"
    },
    {
     "data": {
      "text/latex": [
       "Target:N01_Logistic | Kernel:Uniform | $\\sigma$:2 | eff:0.2704 | $P_{jump}$:0.441 | Exx2:0.8746 | $\\rho_1$:0.5648 | $\\rho_2$:0.3222 | $E_{0.05}$:0.2907 | $E_{0.25}$:0.2719 | $E_{0.50}$:0.2599 | Time:9.48"
      ],
      "text/plain": [
       "<IPython.core.display.Latex object>"
      ]
     },
     "metadata": {},
     "output_type": "display_data"
    },
    {
     "data": {
      "text/latex": [
       "Target:N01_Logistic | Kernel:Uniform | $\\sigma$:2.1 | eff:0.2724 | $P_{jump}$:0.4242 | Exx2:0.8813 | $\\rho_1$:0.5606 | $\\rho_2$:0.3195 | $E_{0.05}$:0.2894 | $E_{0.25}$:0.2636 | $E_{0.50}$:0.2482 | Time:9.37"
      ],
      "text/plain": [
       "<IPython.core.display.Latex object>"
      ]
     },
     "metadata": {},
     "output_type": "display_data"
    },
    {
     "data": {
      "text/latex": [
       "Target:N01_Logistic | Kernel:Uniform | $\\sigma$:2.2 | eff:0.2766 | $P_{jump}$:0.4075 | Exx2:0.8783 | $\\rho_1$:0.5609 | $\\rho_2$:0.3182 | $E_{0.05}$:0.2953 | $E_{0.25}$:0.2545 | $E_{0.50}$:0.2367 | Time:9.72"
      ],
      "text/plain": [
       "<IPython.core.display.Latex object>"
      ]
     },
     "metadata": {},
     "output_type": "display_data"
    },
    {
     "data": {
      "text/latex": [
       "Target:N01_Logistic | Kernel:Uniform | $\\sigma$:2.3 | eff:0.2748 | $P_{jump}$:0.3915 | Exx2:0.8711 | $\\rho_1$:0.5649 | $\\rho_2$:0.3212 | $E_{0.05}$:0.2873 | $E_{0.25}$:0.2429 | $E_{0.50}$:0.2286 | Time:9.88"
      ],
      "text/plain": [
       "<IPython.core.display.Latex object>"
      ]
     },
     "metadata": {},
     "output_type": "display_data"
    },
    {
     "data": {
      "text/latex": [
       "Target:N01_Logistic | Kernel:Uniform | $\\sigma$:2.4 | eff:0.2716 | $P_{jump}$:0.3777 | Exx2:0.8659 | $\\rho_1$:0.5673 | $\\rho_2$:0.325 | $E_{0.05}$:0.2891 | $E_{0.25}$:0.2357 | $E_{0.50}$:0.2203 | Time:9.53"
      ],
      "text/plain": [
       "<IPython.core.display.Latex object>"
      ]
     },
     "metadata": {},
     "output_type": "display_data"
    },
    {
     "data": {
      "text/latex": [
       "Target:N01_Logistic | Kernel:Uniform | $\\sigma$:2.5 | eff:0.2632 | $P_{jump}$:0.3649 | Exx2:0.8636 | $\\rho_1$:0.5708 | $\\rho_2$:0.3294 | $E_{0.05}$:0.2808 | $E_{0.25}$:0.2254 | $E_{0.50}$:0.2076 | Time:10.11"
      ],
      "text/plain": [
       "<IPython.core.display.Latex object>"
      ]
     },
     "metadata": {},
     "output_type": "display_data"
    },
    {
     "data": {
      "text/latex": [
       "Target:N01_Logistic | Kernel:Uniform | $\\sigma$:2.6 | eff:0.2593 | $P_{jump}$:0.3509 | Exx2:0.8451 | $\\rho_1$:0.5784 | $\\rho_2$:0.3388 | $E_{0.05}$:0.2779 | $E_{0.25}$:0.2147 | $E_{0.50}$:0.2003 | Time:9.71"
      ],
      "text/plain": [
       "<IPython.core.display.Latex object>"
      ]
     },
     "metadata": {},
     "output_type": "display_data"
    },
    {
     "data": {
      "text/latex": [
       "Target:N01_Logistic | Kernel:Uniform | $\\sigma$:2.8 | eff:0.2468 | $P_{jump}$:0.3269 | Exx2:0.8134 | $\\rho_1$:0.5919 | $\\rho_2$:0.3547 | $E_{0.05}$:0.2582 | $E_{0.25}$:0.1997 | $E_{0.50}$:0.1847 | Time:9.62"
      ],
      "text/plain": [
       "<IPython.core.display.Latex object>"
      ]
     },
     "metadata": {},
     "output_type": "display_data"
    },
    {
     "data": {
      "text/latex": [
       "Target:N01_Logistic | Kernel:Uniform | $\\sigma$:3.0 | eff:0.2353 | $P_{jump}$:0.3058 | Exx2:0.7782 | $\\rho_1$:0.6103 | $\\rho_2$:0.3773 | $E_{0.05}$:0.2437 | $E_{0.25}$:0.1875 | $E_{0.50}$:0.1735 | Time:9.54"
      ],
      "text/plain": [
       "<IPython.core.display.Latex object>"
      ]
     },
     "metadata": {},
     "output_type": "display_data"
    },
    {
     "data": {
      "text/latex": [
       "Target:N01_Logistic | Kernel:Uniform | $\\sigma$:3.2 | eff:0.2152 | $P_{jump}$:0.2865 | Exx2:0.7391 | $\\rho_1$:0.6297 | $\\rho_2$:0.4014 | $E_{0.05}$:0.2283 | $E_{0.25}$:0.1719 | $E_{0.50}$:0.1588 | Time:9.69"
      ],
      "text/plain": [
       "<IPython.core.display.Latex object>"
      ]
     },
     "metadata": {},
     "output_type": "display_data"
    },
    {
     "data": {
      "text/latex": [
       "Target:N01_Logistic | Kernel:Uniform | $\\sigma$:3.5 | eff:0.1978 | $P_{jump}$:0.2633 | Exx2:0.6928 | $\\rho_1$:0.6551 | $\\rho_2$:0.4344 | $E_{0.05}$:0.2075 | $E_{0.25}$:0.1525 | $E_{0.50}$:0.1416 | Time:11.03"
      ],
      "text/plain": [
       "<IPython.core.display.Latex object>"
      ]
     },
     "metadata": {},
     "output_type": "display_data"
    },
    {
     "data": {
      "text/latex": [
       "Target:N01_Logistic | Kernel:Uniform | $\\sigma$:4 | eff:0.1681 | $P_{jump}$:0.2303 | Exx2:0.6116 | $\\rho_1$:0.6949 | $\\rho_2$:0.4876 | $E_{0.05}$:0.174 | $E_{0.25}$:0.133 | $E_{0.50}$:0.1218 | Time:10.78"
      ],
      "text/plain": [
       "<IPython.core.display.Latex object>"
      ]
     },
     "metadata": {},
     "output_type": "display_data"
    },
    {
     "data": {
      "text/latex": [
       "Target:N01_Logistic | Kernel:Uniform | $\\sigma$:4.5 | eff:0.1488 | $P_{jump}$:0.2053 | Exx2:0.5469 | $\\rho_1$:0.7258 | $\\rho_2$:0.53 | $E_{0.05}$:0.1512 | $E_{0.25}$:0.1171 | $E_{0.50}$:0.1092 | Time:10.75"
      ],
      "text/plain": [
       "<IPython.core.display.Latex object>"
      ]
     },
     "metadata": {},
     "output_type": "display_data"
    },
    {
     "data": {
      "text/latex": [
       "Target:N01_Logistic | Kernel:Uniform | $\\sigma$:5 | eff:0.1277 | $P_{jump}$:0.1846 | Exx2:0.4934 | $\\rho_1$:0.7553 | $\\rho_2$:0.5738 | $E_{0.05}$:0.1325 | $E_{0.25}$:0.1008 | $E_{0.50}$:0.0959 | Time:12.88"
      ],
      "text/plain": [
       "<IPython.core.display.Latex object>"
      ]
     },
     "metadata": {},
     "output_type": "display_data"
    },
    {
     "data": {
      "text/latex": [
       "Target:N01_Logistic | Kernel:Uniform | $\\sigma$:6 | eff:0.1073 | $P_{jump}$:0.1543 | Exx2:0.4127 | $\\rho_1$:0.7955 | $\\rho_2$:0.6356 | $E_{0.05}$:0.1099 | $E_{0.25}$:0.0862 | $E_{0.50}$:0.0798 | Time:12.7"
      ],
      "text/plain": [
       "<IPython.core.display.Latex object>"
      ]
     },
     "metadata": {},
     "output_type": "display_data"
    },
    {
     "data": {
      "text/latex": [
       "Target:N01_Logistic | Kernel:Uniform | $\\sigma$:7 | eff:0.0896 | $P_{jump}$:0.1318 | Exx2:0.352 | $\\rho_1$:0.8254 | $\\rho_2$:0.684 | $E_{0.05}$:0.092 | $E_{0.25}$:0.0722 | $E_{0.50}$:0.0649 | Time:15.19"
      ],
      "text/plain": [
       "<IPython.core.display.Latex object>"
      ]
     },
     "metadata": {},
     "output_type": "display_data"
    },
    {
     "data": {
      "text/latex": [
       "Target:N01_Logistic | Kernel:Uniform | $\\sigma$:8 | eff:0.0784 | $P_{jump}$:0.1154 | Exx2:0.3082 | $\\rho_1$:0.8474 | $\\rho_2$:0.7192 | $E_{0.05}$:0.0777 | $E_{0.25}$:0.0627 | $E_{0.50}$:0.0587 | Time:13.42"
      ],
      "text/plain": [
       "<IPython.core.display.Latex object>"
      ]
     },
     "metadata": {},
     "output_type": "display_data"
    },
    {
     "data": {
      "text/latex": [
       "Target:N01_Logistic | Kernel:TransUniform | $\\sigma$:0.1 | eff:0.0494 | $P_{jump}$:0.8668 | Exx2:0.1978 | $\\rho_1$:0.9014 | $\\rho_2$:0.8152 | $E_{0.05}$:0.141 | $E_{0.25}$:0.0735 | $E_{0.50}$:0.064 | Time:20.71"
      ],
      "text/plain": [
       "<IPython.core.display.Latex object>"
      ]
     },
     "metadata": {},
     "output_type": "display_data"
    },
    {
     "data": {
      "text/latex": [
       "Target:N01_Logistic | Kernel:TransUniform | $\\sigma$:0.3 | eff:0.2939 | $P_{jump}$:0.6937 | Exx2:0.9125 | $\\rho_1$:0.5427 | $\\rho_2$:0.2973 | $E_{0.05}$:0.524 | $E_{0.25}$:0.3439 | $E_{0.50}$:0.3415 | Time:17.84"
      ],
      "text/plain": [
       "<IPython.core.display.Latex object>"
      ]
     },
     "metadata": {},
     "output_type": "display_data"
    },
    {
     "data": {
      "text/latex": [
       "Target:N01_Logistic | Kernel:TransUniform | $\\sigma$:0.5 | eff:0.4943 | $P_{jump}$:0.6686 | Exx2:1.3685 | $\\rho_1$:0.3161 | $\\rho_2$:0.1149 | $E_{0.05}$:0.6855 | $E_{0.25}$:0.4778 | $E_{0.50}$:0.383 | Time:17.71"
      ],
      "text/plain": [
       "<IPython.core.display.Latex object>"
      ]
     },
     "metadata": {},
     "output_type": "display_data"
    },
    {
     "data": {
      "text/latex": [
       "Target:N01_Logistic | Kernel:TransUniform | $\\sigma$:0.7 | eff:0.7936 | $P_{jump}$:0.7235 | Exx2:1.7904 | $\\rho_1$:0.1098 | $\\rho_2$:0.0157 | $E_{0.05}$:0.6384 | $E_{0.25}$:0.6023 | $E_{0.50}$:0.6709 | Time:17.7"
      ],
      "text/plain": [
       "<IPython.core.display.Latex object>"
      ]
     },
     "metadata": {},
     "output_type": "display_data"
    },
    {
     "data": {
      "text/latex": [
       "Target:N01_Logistic | Kernel:TransUniform | $\\sigma$:0.8 | eff:0.811 | $P_{jump}$:0.7115 | Exx2:1.8206 | $\\rho_1$:0.0912 | $\\rho_2$:0.0159 | $E_{0.05}$:0.6661 | $E_{0.25}$:0.6274 | $E_{0.50}$:0.6097 | Time:17.74"
      ],
      "text/plain": [
       "<IPython.core.display.Latex object>"
      ]
     },
     "metadata": {},
     "output_type": "display_data"
    },
    {
     "data": {
      "text/latex": [
       "Target:N01_Logistic | Kernel:TransUniform | $\\sigma$:0.9 | eff:0.8152 | $P_{jump}$:0.6935 | Exx2:1.8224 | $\\rho_1$:0.0906 | $\\rho_2$:0.0187 | $E_{0.05}$:0.7174 | $E_{0.25}$:0.6135 | $E_{0.50}$:0.5661 | Time:18.2"
      ],
      "text/plain": [
       "<IPython.core.display.Latex object>"
      ]
     },
     "metadata": {},
     "output_type": "display_data"
    },
    {
     "data": {
      "text/latex": [
       "Target:N01_Logistic | Kernel:TransUniform | $\\sigma$:1 | eff:0.7689 | $P_{jump}$:0.6829 | Exx2:1.7713 | $\\rho_1$:0.1142 | $\\rho_2$:0.0224 | $E_{0.05}$:0.7399 | $E_{0.25}$:0.5972 | $E_{0.50}$:0.5661 | Time:18.1"
      ],
      "text/plain": [
       "<IPython.core.display.Latex object>"
      ]
     },
     "metadata": {},
     "output_type": "display_data"
    },
    {
     "data": {
      "text/latex": [
       "Target:N01_Logistic | Kernel:TransUniform | $\\sigma$:1.1 | eff:0.6919 | $P_{jump}$:0.6886 | Exx2:1.6613 | $\\rho_1$:0.1689 | $\\rho_2$:0.0354 | $E_{0.05}$:0.7024 | $E_{0.25}$:0.5881 | $E_{0.50}$:0.5565 | Time:18.37"
      ],
      "text/plain": [
       "<IPython.core.display.Latex object>"
      ]
     },
     "metadata": {},
     "output_type": "display_data"
    },
    {
     "data": {
      "text/latex": [
       "Target:N01_Logistic | Kernel:TransUniform | $\\sigma$:1.3 | eff:0.5641 | $P_{jump}$:0.7123 | Exx2:1.4512 | $\\rho_1$:0.2758 | $\\rho_2$:0.0803 | $E_{0.05}$:0.6128 | $E_{0.25}$:0.5164 | $E_{0.50}$:0.4977 | Time:17.99"
      ],
      "text/plain": [
       "<IPython.core.display.Latex object>"
      ]
     },
     "metadata": {},
     "output_type": "display_data"
    },
    {
     "data": {
      "text/latex": [
       "Target:N01_Logistic | Kernel:TransUniform | $\\sigma$:1.5 | eff:0.5687 | $P_{jump}$:0.6938 | Exx2:1.4672 | $\\rho_1$:0.2653 | $\\rho_2$:0.0754 | $E_{0.05}$:0.6549 | $E_{0.25}$:0.5177 | $E_{0.50}$:0.4875 | Time:18.49"
      ],
      "text/plain": [
       "<IPython.core.display.Latex object>"
      ]
     },
     "metadata": {},
     "output_type": "display_data"
    },
    {
     "data": {
      "text/latex": [
       "Target:N01_Logistic | Kernel:TransUniform | $\\sigma$:1.7 | eff:0.6181 | $P_{jump}$:0.6951 | Exx2:1.5515 | $\\rho_1$:0.2241 | $\\rho_2$:0.0576 | $E_{0.05}$:0.6634 | $E_{0.25}$:0.5382 | $E_{0.50}$:0.5032 | Time:18.22"
      ],
      "text/plain": [
       "<IPython.core.display.Latex object>"
      ]
     },
     "metadata": {},
     "output_type": "display_data"
    },
    {
     "data": {
      "text/latex": [
       "Target:N01_Logistic | Kernel:TransUniform | $\\sigma$:1.8 | eff:0.6919 | $P_{jump}$:0.7064 | Exx2:1.637 | $\\rho_1$:0.179 | $\\rho_2$:0.0366 | $E_{0.05}$:0.6669 | $E_{0.25}$:0.5744 | $E_{0.50}$:0.5665 | Time:18.37"
      ],
      "text/plain": [
       "<IPython.core.display.Latex object>"
      ]
     },
     "metadata": {},
     "output_type": "display_data"
    },
    {
     "data": {
      "text/latex": [
       "Target:N01_Logistic | Kernel:TransUniform | $\\sigma$:1.9 | eff:0.7121 | $P_{jump}$:0.7075 | Exx2:1.6736 | $\\rho_1$:0.1631 | $\\rho_2$:0.0324 | $E_{0.05}$:0.6617 | $E_{0.25}$:0.5832 | $E_{0.50}$:0.5763 | Time:18.44"
      ],
      "text/plain": [
       "<IPython.core.display.Latex object>"
      ]
     },
     "metadata": {},
     "output_type": "display_data"
    },
    {
     "data": {
      "text/latex": [
       "Target:N01_Logistic | Kernel:TransUniform | $\\sigma$:2 | eff:0.7149 | $P_{jump}$:0.701 | Exx2:1.6891 | $\\rho_1$:0.1569 | $\\rho_2$:0.0319 | $E_{0.05}$:0.6769 | $E_{0.25}$:0.585 | $E_{0.50}$:0.5507 | Time:18.7"
      ],
      "text/plain": [
       "<IPython.core.display.Latex object>"
      ]
     },
     "metadata": {},
     "output_type": "display_data"
    },
    {
     "data": {
      "text/latex": [
       "Target:N01_Logistic | Kernel:TransUniform | $\\sigma$:2.1 | eff:0.7082 | $P_{jump}$:0.6933 | Exx2:1.6782 | $\\rho_1$:0.1601 | $\\rho_2$:0.0306 | $E_{0.05}$:0.6916 | $E_{0.25}$:0.5636 | $E_{0.50}$:0.545 | Time:18.5"
      ],
      "text/plain": [
       "<IPython.core.display.Latex object>"
      ]
     },
     "metadata": {},
     "output_type": "display_data"
    },
    {
     "data": {
      "text/latex": [
       "Target:N01_Logistic | Kernel:TransUniform | $\\sigma$:2.2 | eff:0.6882 | $P_{jump}$:0.6916 | Exx2:1.6504 | $\\rho_1$:0.1743 | $\\rho_2$:0.0371 | $E_{0.05}$:0.6892 | $E_{0.25}$:0.5767 | $E_{0.50}$:0.5398 | Time:18.65"
      ],
      "text/plain": [
       "<IPython.core.display.Latex object>"
      ]
     },
     "metadata": {},
     "output_type": "display_data"
    },
    {
     "data": {
      "text/latex": [
       "Target:N01_Logistic | Kernel:TransUniform | $\\sigma$:2.3 | eff:0.6492 | $P_{jump}$:0.6979 | Exx2:1.5917 | $\\rho_1$:0.2041 | $\\rho_2$:0.0498 | $E_{0.05}$:0.6751 | $E_{0.25}$:0.554 | $E_{0.50}$:0.5296 | Time:18.79"
      ],
      "text/plain": [
       "<IPython.core.display.Latex object>"
      ]
     },
     "metadata": {},
     "output_type": "display_data"
    },
    {
     "data": {
      "text/latex": [
       "Target:N01_Logistic | Kernel:TransUniform | $\\sigma$:2.4 | eff:0.613 | $P_{jump}$:0.7055 | Exx2:1.5304 | $\\rho_1$:0.2338 | $\\rho_2$:0.0599 | $E_{0.05}$:0.6422 | $E_{0.25}$:0.5307 | $E_{0.50}$:0.5091 | Time:18.64"
      ],
      "text/plain": [
       "<IPython.core.display.Latex object>"
      ]
     },
     "metadata": {},
     "output_type": "display_data"
    },
    {
     "data": {
      "text/latex": [
       "Target:N01_Logistic | Kernel:TransUniform | $\\sigma$:2.5 | eff:0.5905 | $P_{jump}$:0.7043 | Exx2:1.5096 | $\\rho_1$:0.2486 | $\\rho_2$:0.0683 | $E_{0.05}$:0.6436 | $E_{0.25}$:0.5356 | $E_{0.50}$:0.5045 | Time:19.12"
      ],
      "text/plain": [
       "<IPython.core.display.Latex object>"
      ]
     },
     "metadata": {},
     "output_type": "display_data"
    },
    {
     "data": {
      "text/latex": [
       "Target:N01_Logistic | Kernel:TransUniform | $\\sigma$:2.6 | eff:0.5957 | $P_{jump}$:0.6989 | Exx2:1.5033 | $\\rho_1$:0.2479 | $\\rho_2$:0.0662 | $E_{0.05}$:0.6477 | $E_{0.25}$:0.5288 | $E_{0.50}$:0.5077 | Time:18.31"
      ],
      "text/plain": [
       "<IPython.core.display.Latex object>"
      ]
     },
     "metadata": {},
     "output_type": "display_data"
    },
    {
     "data": {
      "text/latex": [
       "Target:N01_Logistic | Kernel:TransUniform | $\\sigma$:2.8 | eff:0.616 | $P_{jump}$:0.6941 | Exx2:1.5423 | $\\rho_1$:0.2273 | $\\rho_2$:0.0592 | $E_{0.05}$:0.6714 | $E_{0.25}$:0.5392 | $E_{0.50}$:0.499 | Time:18.59"
      ],
      "text/plain": [
       "<IPython.core.display.Latex object>"
      ]
     },
     "metadata": {},
     "output_type": "display_data"
    },
    {
     "data": {
      "text/latex": [
       "Target:N01_Logistic | Kernel:TransUniform | $\\sigma$:3.0 | eff:0.6751 | $P_{jump}$:0.7049 | Exx2:1.6375 | $\\rho_1$:0.1838 | $\\rho_2$:0.0386 | $E_{0.05}$:0.6587 | $E_{0.25}$:0.5613 | $E_{0.50}$:0.5569 | Time:18.48"
      ],
      "text/plain": [
       "<IPython.core.display.Latex object>"
      ]
     },
     "metadata": {},
     "output_type": "display_data"
    },
    {
     "data": {
      "text/latex": [
       "Target:N01_Logistic | Kernel:TransUniform | $\\sigma$:3.2 | eff:0.6875 | $P_{jump}$:0.6988 | Exx2:1.6488 | $\\rho_1$:0.1747 | $\\rho_2$:0.0386 | $E_{0.05}$:0.6702 | $E_{0.25}$:0.5721 | $E_{0.50}$:0.5351 | Time:18.38"
      ],
      "text/plain": [
       "<IPython.core.display.Latex object>"
      ]
     },
     "metadata": {},
     "output_type": "display_data"
    },
    {
     "data": {
      "text/latex": [
       "Target:N01_Logistic | Kernel:TransUniform | $\\sigma$:3.5 | eff:0.6349 | $P_{jump}$:0.7018 | Exx2:1.5747 | $\\rho_1$:0.2118 | $\\rho_2$:0.0521 | $E_{0.05}$:0.6551 | $E_{0.25}$:0.5398 | $E_{0.50}$:0.5266 | Time:19.01"
      ],
      "text/plain": [
       "<IPython.core.display.Latex object>"
      ]
     },
     "metadata": {},
     "output_type": "display_data"
    },
    {
     "data": {
      "text/latex": [
       "Target:N01_Logistic | Kernel:TransUniform | $\\sigma$:4 | eff:0.6412 | $P_{jump}$:0.697 | Exx2:1.5704 | $\\rho_1$:0.2132 | $\\rho_2$:0.0525 | $E_{0.05}$:0.6619 | $E_{0.25}$:0.5537 | $E_{0.50}$:0.5188 | Time:18.84"
      ],
      "text/plain": [
       "<IPython.core.display.Latex object>"
      ]
     },
     "metadata": {},
     "output_type": "display_data"
    },
    {
     "data": {
      "text/latex": [
       "Target:N01_Logistic | Kernel:TransUniform | $\\sigma$:4.5 | eff:0.6687 | $P_{jump}$:0.6952 | Exx2:1.6209 | $\\rho_1$:0.1886 | $\\rho_2$:0.0423 | $E_{0.05}$:0.6898 | $E_{0.25}$:0.5678 | $E_{0.50}$:0.537 | Time:18.78"
      ],
      "text/plain": [
       "<IPython.core.display.Latex object>"
      ]
     },
     "metadata": {},
     "output_type": "display_data"
    },
    {
     "data": {
      "text/latex": [
       "Target:N01_Logistic | Kernel:TransUniform | $\\sigma$:5 | eff:0.6212 | $P_{jump}$:0.6968 | Exx2:1.5528 | $\\rho_1$:0.2234 | $\\rho_2$:0.0553 | $E_{0.05}$:0.6672 | $E_{0.25}$:0.5451 | $E_{0.50}$:0.5152 | Time:18.58"
      ],
      "text/plain": [
       "<IPython.core.display.Latex object>"
      ]
     },
     "metadata": {},
     "output_type": "display_data"
    },
    {
     "data": {
      "text/latex": [
       "Target:N01_Logistic | Kernel:TransUniform | $\\sigma$:6 | eff:0.6135 | $P_{jump}$:0.7007 | Exx2:1.5468 | $\\rho_1$:0.2241 | $\\rho_2$:0.0579 | $E_{0.05}$:0.6554 | $E_{0.25}$:0.5385 | $E_{0.50}$:0.5154 | Time:19.13"
      ],
      "text/plain": [
       "<IPython.core.display.Latex object>"
      ]
     },
     "metadata": {},
     "output_type": "display_data"
    },
    {
     "data": {
      "text/latex": [
       "Target:N01_Logistic | Kernel:TransUniform | $\\sigma$:7 | eff:0.6418 | $P_{jump}$:0.7018 | Exx2:1.5739 | $\\rho_1$:0.2127 | $\\rho_2$:0.0531 | $E_{0.05}$:0.6575 | $E_{0.25}$:0.5467 | $E_{0.50}$:0.5241 | Time:18.63"
      ],
      "text/plain": [
       "<IPython.core.display.Latex object>"
      ]
     },
     "metadata": {},
     "output_type": "display_data"
    },
    {
     "data": {
      "text/latex": [
       "Target:N01_Logistic | Kernel:TransUniform | $\\sigma$:8 | eff:0.6593 | $P_{jump}$:0.6973 | Exx2:1.6042 | $\\rho_1$:0.1972 | $\\rho_2$:0.0458 | $E_{0.05}$:0.6808 | $E_{0.25}$:0.5658 | $E_{0.50}$:0.5351 | Time:19.86"
      ],
      "text/plain": [
       "<IPython.core.display.Latex object>"
      ]
     },
     "metadata": {},
     "output_type": "display_data"
    },
    {
     "data": {
      "text/latex": [
       "Target:N01_Logistic | Kernel:TransBactrian | $\\sigma$:0.1 | eff:0.0486 | $P_{jump}$:0.852 | Exx2:0.2074 | $\\rho_1$:0.8964 | $\\rho_2$:0.8074 | $E_{0.05}$:0.1559 | $E_{0.25}$:0.0742 | $E_{0.50}$:0.0627 | Time:29.49"
      ],
      "text/plain": [
       "<IPython.core.display.Latex object>"
      ]
     },
     "metadata": {},
     "output_type": "display_data"
    },
    {
     "data": {
      "text/latex": [
       "Target:N01_Logistic | Kernel:TransBactrian | $\\sigma$:0.3 | eff:0.3363 | $P_{jump}$:0.6476 | Exx2:1.0271 | $\\rho_1$:0.4872 | $\\rho_2$:0.2446 | $E_{0.05}$:0.6053 | $E_{0.25}$:0.4092 | $E_{0.50}$:0.4284 | Time:17.17"
      ],
      "text/plain": [
       "<IPython.core.display.Latex object>"
      ]
     },
     "metadata": {},
     "output_type": "display_data"
    },
    {
     "data": {
      "text/latex": [
       "Target:N01_Logistic | Kernel:TransBactrian | $\\sigma$:0.5 | eff:0.6451 | $P_{jump}$:0.59 | Exx2:1.6358 | $\\rho_1$:0.1816 | $\\rho_2$:0.0535 | $E_{0.05}$:0.9382 | $E_{0.25}$:0.5258 | $E_{0.50}$:0.3506 | Time:18.17"
      ],
      "text/plain": [
       "<IPython.core.display.Latex object>"
      ]
     },
     "metadata": {},
     "output_type": "display_data"
    },
    {
     "data": {
      "text/latex": [
       "Target:N01_Logistic | Kernel:TransBactrian | $\\sigma$:0.7 | eff:0.9946 | $P_{jump}$:0.6621 | Exx2:2.0468 | $\\rho_1$:-0.022 | $\\rho_2$:0.0182 | $E_{0.05}$:0.8353 | $E_{0.25}$:0.6699 | $E_{0.50}$:0.5305 | Time:18.26"
      ],
      "text/plain": [
       "<IPython.core.display.Latex object>"
      ]
     },
     "metadata": {},
     "output_type": "display_data"
    },
    {
     "data": {
      "text/latex": [
       "Target:N01_Logistic | Kernel:TransBactrian | $\\sigma$:0.8 | eff:1.2012 | $P_{jump}$:0.7028 | Exx2:2.2152 | $\\rho_1$:-0.1054 | $\\rho_2$:0.019 | $E_{0.05}$:0.7394 | $E_{0.25}$:0.7113 | $E_{0.50}$:0.7188 | Time:18.02"
      ],
      "text/plain": [
       "<IPython.core.display.Latex object>"
      ]
     },
     "metadata": {},
     "output_type": "display_data"
    },
    {
     "data": {
      "text/latex": [
       "Target:N01_Logistic | Kernel:TransBactrian | $\\sigma$:0.9 | eff:1.3312 | $P_{jump}$:0.7239 | Exx2:2.2887 | $\\rho_1$:-0.1483 | $\\rho_2$:0.0263 | $E_{0.05}$:0.6961 | $E_{0.25}$:0.7273 | $E_{0.50}$:0.8396 | Time:18.33"
      ],
      "text/plain": [
       "<IPython.core.display.Latex object>"
      ]
     },
     "metadata": {},
     "output_type": "display_data"
    },
    {
     "data": {
      "text/latex": [
       "Target:N01_Logistic | Kernel:TransBactrian | $\\sigma$:1 | eff:1.3298 | $P_{jump}$:0.7259 | Exx2:2.2867 | $\\rho_1$:-0.1473 | $\\rho_2$:0.0281 | $E_{0.05}$:0.685 | $E_{0.25}$:0.7302 | $E_{0.50}$:0.8351 | Time:18.38"
      ],
      "text/plain": [
       "<IPython.core.display.Latex object>"
      ]
     },
     "metadata": {},
     "output_type": "display_data"
    },
    {
     "data": {
      "text/latex": [
       "Target:N01_Logistic | Kernel:TransBactrian | $\\sigma$:1.1 | eff:1.2391 | $P_{jump}$:0.7176 | Exx2:2.2323 | $\\rho_1$:-0.1172 | $\\rho_2$:0.0215 | $E_{0.05}$:0.7065 | $E_{0.25}$:0.7127 | $E_{0.50}$:0.7952 | Time:19.06"
      ],
      "text/plain": [
       "<IPython.core.display.Latex object>"
      ]
     },
     "metadata": {},
     "output_type": "display_data"
    },
    {
     "data": {
      "text/latex": [
       "Target:N01_Logistic | Kernel:TransBactrian | $\\sigma$:1.3 | eff:0.9634 | $P_{jump}$:0.7001 | Exx2:1.9821 | $\\rho_1$:0.0106 | $\\rho_2$:0.0065 | $E_{0.05}$:0.717 | $E_{0.25}$:0.6589 | $E_{0.50}$:0.6568 | Time:18.89"
      ],
      "text/plain": [
       "<IPython.core.display.Latex object>"
      ]
     },
     "metadata": {},
     "output_type": "display_data"
    },
    {
     "data": {
      "text/latex": [
       "Target:N01_Logistic | Kernel:TransBactrian | $\\sigma$:1.5 | eff:0.716 | $P_{jump}$:0.6965 | Exx2:1.6815 | $\\rho_1$:0.1579 | $\\rho_2$:0.0317 | $E_{0.05}$:0.6888 | $E_{0.25}$:0.5831 | $E_{0.50}$:0.5577 | Time:18.54"
      ],
      "text/plain": [
       "<IPython.core.display.Latex object>"
      ]
     },
     "metadata": {},
     "output_type": "display_data"
    },
    {
     "data": {
      "text/latex": [
       "Target:N01_Logistic | Kernel:TransBactrian | $\\sigma$:1.7 | eff:0.5803 | $P_{jump}$:0.6987 | Exx2:1.4835 | $\\rho_1$:0.2574 | $\\rho_2$:0.0721 | $E_{0.05}$:0.6493 | $E_{0.25}$:0.5285 | $E_{0.50}$:0.4902 | Time:19.08"
      ],
      "text/plain": [
       "<IPython.core.display.Latex object>"
      ]
     },
     "metadata": {},
     "output_type": "display_data"
    },
    {
     "data": {
      "text/latex": [
       "Target:N01_Logistic | Kernel:TransBactrian | $\\sigma$:1.8 | eff:0.5506 | $P_{jump}$:0.6996 | Exx2:1.4354 | $\\rho_1$:0.2832 | $\\rho_2$:0.0865 | $E_{0.05}$:0.6417 | $E_{0.25}$:0.5071 | $E_{0.50}$:0.4772 | Time:18.75"
      ],
      "text/plain": [
       "<IPython.core.display.Latex object>"
      ]
     },
     "metadata": {},
     "output_type": "display_data"
    },
    {
     "data": {
      "text/latex": [
       "Target:N01_Logistic | Kernel:TransBactrian | $\\sigma$:1.9 | eff:0.5412 | $P_{jump}$:0.6995 | Exx2:1.4173 | $\\rho_1$:0.2909 | $\\rho_2$:0.091 | $E_{0.05}$:0.6374 | $E_{0.25}$:0.5062 | $E_{0.50}$:0.4763 | Time:18.7"
      ],
      "text/plain": [
       "<IPython.core.display.Latex object>"
      ]
     },
     "metadata": {},
     "output_type": "display_data"
    },
    {
     "data": {
      "text/latex": [
       "Target:N01_Logistic | Kernel:TransBactrian | $\\sigma$:2 | eff:0.5416 | $P_{jump}$:0.6989 | Exx2:1.4213 | $\\rho_1$:0.2888 | $\\rho_2$:0.0888 | $E_{0.05}$:0.6171 | $E_{0.25}$:0.4996 | $E_{0.50}$:0.4762 | Time:19.78"
      ],
      "text/plain": [
       "<IPython.core.display.Latex object>"
      ]
     },
     "metadata": {},
     "output_type": "display_data"
    },
    {
     "data": {
      "text/latex": [
       "Target:N01_Logistic | Kernel:TransBactrian | $\\sigma$:2.1 | eff:0.5557 | $P_{jump}$:0.6995 | Exx2:1.447 | $\\rho_1$:0.2775 | $\\rho_2$:0.082 | $E_{0.05}$:0.6359 | $E_{0.25}$:0.5101 | $E_{0.50}$:0.4818 | Time:20.03"
      ],
      "text/plain": [
       "<IPython.core.display.Latex object>"
      ]
     },
     "metadata": {},
     "output_type": "display_data"
    },
    {
     "data": {
      "text/latex": [
       "Target:N01_Logistic | Kernel:TransBactrian | $\\sigma$:2.2 | eff:0.5769 | $P_{jump}$:0.6996 | Exx2:1.4804 | $\\rho_1$:0.2604 | $\\rho_2$:0.0732 | $E_{0.05}$:0.6451 | $E_{0.25}$:0.5234 | $E_{0.50}$:0.4934 | Time:19.91"
      ],
      "text/plain": [
       "<IPython.core.display.Latex object>"
      ]
     },
     "metadata": {},
     "output_type": "display_data"
    },
    {
     "data": {
      "text/latex": [
       "Target:N01_Logistic | Kernel:TransBactrian | $\\sigma$:2.3 | eff:0.5917 | $P_{jump}$:0.699 | Exx2:1.5104 | $\\rho_1$:0.2464 | $\\rho_2$:0.067 | $E_{0.05}$:0.6569 | $E_{0.25}$:0.5274 | $E_{0.50}$:0.5027 | Time:19.49"
      ],
      "text/plain": [
       "<IPython.core.display.Latex object>"
      ]
     },
     "metadata": {},
     "output_type": "display_data"
    },
    {
     "data": {
      "text/latex": [
       "Target:N01_Logistic | Kernel:TransBactrian | $\\sigma$:2.4 | eff:0.605 | $P_{jump}$:0.6996 | Exx2:1.5449 | $\\rho_1$:0.2293 | $\\rho_2$:0.0582 | $E_{0.05}$:0.6577 | $E_{0.25}$:0.5392 | $E_{0.50}$:0.5027 | Time:19.65"
      ],
      "text/plain": [
       "<IPython.core.display.Latex object>"
      ]
     },
     "metadata": {},
     "output_type": "display_data"
    },
    {
     "data": {
      "text/latex": [
       "Target:N01_Logistic | Kernel:TransBactrian | $\\sigma$:2.5 | eff:0.6346 | $P_{jump}$:0.7003 | Exx2:1.5739 | $\\rho_1$:0.2144 | $\\rho_2$:0.0506 | $E_{0.05}$:0.6664 | $E_{0.25}$:0.5529 | $E_{0.50}$:0.5261 | Time:19.46"
      ],
      "text/plain": [
       "<IPython.core.display.Latex object>"
      ]
     },
     "metadata": {},
     "output_type": "display_data"
    },
    {
     "data": {
      "text/latex": [
       "Target:N01_Logistic | Kernel:TransBactrian | $\\sigma$:2.6 | eff:0.6456 | $P_{jump}$:0.6992 | Exx2:1.5858 | $\\rho_1$:0.2092 | $\\rho_2$:0.0488 | $E_{0.05}$:0.6591 | $E_{0.25}$:0.5546 | $E_{0.50}$:0.5294 | Time:18.84"
      ],
      "text/plain": [
       "<IPython.core.display.Latex object>"
      ]
     },
     "metadata": {},
     "output_type": "display_data"
    },
    {
     "data": {
      "text/latex": [
       "Target:N01_Logistic | Kernel:TransBactrian | $\\sigma$:2.8 | eff:0.6544 | $P_{jump}$:0.6997 | Exx2:1.6041 | $\\rho_1$:0.1979 | $\\rho_2$:0.0442 | $E_{0.05}$:0.6655 | $E_{0.25}$:0.5594 | $E_{0.50}$:0.5294 | Time:19.29"
      ],
      "text/plain": [
       "<IPython.core.display.Latex object>"
      ]
     },
     "metadata": {},
     "output_type": "display_data"
    },
    {
     "data": {
      "text/latex": [
       "Target:N01_Logistic | Kernel:TransBactrian | $\\sigma$:3.0 | eff:0.6546 | $P_{jump}$:0.6996 | Exx2:1.5961 | $\\rho_1$:0.2002 | $\\rho_2$:0.0462 | $E_{0.05}$:0.6662 | $E_{0.25}$:0.5593 | $E_{0.50}$:0.5333 | Time:18.99"
      ],
      "text/plain": [
       "<IPython.core.display.Latex object>"
      ]
     },
     "metadata": {},
     "output_type": "display_data"
    },
    {
     "data": {
      "text/latex": [
       "Target:N01_Logistic | Kernel:TransBactrian | $\\sigma$:3.2 | eff:0.6512 | $P_{jump}$:0.6997 | Exx2:1.6043 | $\\rho_1$:0.2004 | $\\rho_2$:0.0479 | $E_{0.05}$:0.6728 | $E_{0.25}$:0.5456 | $E_{0.50}$:0.5273 | Time:19.56"
      ],
      "text/plain": [
       "<IPython.core.display.Latex object>"
      ]
     },
     "metadata": {},
     "output_type": "display_data"
    },
    {
     "data": {
      "text/latex": [
       "Target:N01_Logistic | Kernel:TransBactrian | $\\sigma$:3.5 | eff:0.6495 | $P_{jump}$:0.6992 | Exx2:1.5826 | $\\rho_1$:0.2055 | $\\rho_2$:0.0476 | $E_{0.05}$:0.6567 | $E_{0.25}$:0.5516 | $E_{0.50}$:0.533 | Time:19.31"
      ],
      "text/plain": [
       "<IPython.core.display.Latex object>"
      ]
     },
     "metadata": {},
     "output_type": "display_data"
    },
    {
     "data": {
      "text/latex": [
       "Target:N01_Logistic | Kernel:TransBactrian | $\\sigma$:4 | eff:0.6488 | $P_{jump}$:0.6995 | Exx2:1.5872 | $\\rho_1$:0.2051 | $\\rho_2$:0.049 | $E_{0.05}$:0.6746 | $E_{0.25}$:0.5572 | $E_{0.50}$:0.5279 | Time:19.37"
      ],
      "text/plain": [
       "<IPython.core.display.Latex object>"
      ]
     },
     "metadata": {},
     "output_type": "display_data"
    },
    {
     "data": {
      "text/latex": [
       "Target:N01_Logistic | Kernel:TransBactrian | $\\sigma$:4.5 | eff:0.6468 | $P_{jump}$:0.6993 | Exx2:1.5862 | $\\rho_1$:0.2061 | $\\rho_2$:0.0493 | $E_{0.05}$:0.6577 | $E_{0.25}$:0.5538 | $E_{0.50}$:0.5344 | Time:18.78"
      ],
      "text/plain": [
       "<IPython.core.display.Latex object>"
      ]
     },
     "metadata": {},
     "output_type": "display_data"
    },
    {
     "data": {
      "text/latex": [
       "Target:N01_Logistic | Kernel:TransBactrian | $\\sigma$:5 | eff:0.6531 | $P_{jump}$:0.6993 | Exx2:1.5819 | $\\rho_1$:0.2064 | $\\rho_2$:0.047 | $E_{0.05}$:0.6654 | $E_{0.25}$:0.5557 | $E_{0.50}$:0.5325 | Time:18.93"
      ],
      "text/plain": [
       "<IPython.core.display.Latex object>"
      ]
     },
     "metadata": {},
     "output_type": "display_data"
    },
    {
     "data": {
      "text/latex": [
       "Target:N01_Logistic | Kernel:TransBactrian | $\\sigma$:6 | eff:0.6498 | $P_{jump}$:0.6995 | Exx2:1.5866 | $\\rho_1$:0.2074 | $\\rho_2$:0.0488 | $E_{0.05}$:0.665 | $E_{0.25}$:0.5619 | $E_{0.50}$:0.5339 | Time:18.97"
      ],
      "text/plain": [
       "<IPython.core.display.Latex object>"
      ]
     },
     "metadata": {},
     "output_type": "display_data"
    },
    {
     "data": {
      "text/latex": [
       "Target:N01_Logistic | Kernel:TransBactrian | $\\sigma$:7 | eff:0.6482 | $P_{jump}$:0.7001 | Exx2:1.5944 | $\\rho_1$:0.2061 | $\\rho_2$:0.0485 | $E_{0.05}$:0.6605 | $E_{0.25}$:0.5541 | $E_{0.50}$:0.5318 | Time:19.17"
      ],
      "text/plain": [
       "<IPython.core.display.Latex object>"
      ]
     },
     "metadata": {},
     "output_type": "display_data"
    },
    {
     "data": {
      "text/latex": [
       "Target:N01_Logistic | Kernel:TransBactrian | $\\sigma$:8 | eff:0.6469 | $P_{jump}$:0.6996 | Exx2:1.5965 | $\\rho_1$:0.2055 | $\\rho_2$:0.0487 | $E_{0.05}$:0.6713 | $E_{0.25}$:0.5508 | $E_{0.50}$:0.5245 | Time:19.21"
      ],
      "text/plain": [
       "<IPython.core.display.Latex object>"
      ]
     },
     "metadata": {},
     "output_type": "display_data"
    },
    {
     "data": {
      "text/latex": [
       "Target:N01_Logistic | Kernel:TransStrawHat | $\\sigma$:0.1 | eff:0.0505 | $P_{jump}$:0.8492 | Exx2:0.2109 | $\\rho_1$:0.8948 | $\\rho_2$:0.8044 | $E_{0.05}$:0.1592 | $E_{0.25}$:0.0769 | $E_{0.50}$:0.0648 | Time:22.47"
      ],
      "text/plain": [
       "<IPython.core.display.Latex object>"
      ]
     },
     "metadata": {},
     "output_type": "display_data"
    },
    {
     "data": {
      "text/latex": [
       "Target:N01_Logistic | Kernel:TransStrawHat | $\\sigma$:0.3 | eff:0.3397 | $P_{jump}$:0.6379 | Exx2:1.0569 | $\\rho_1$:0.4724 | $\\rho_2$:0.2339 | $E_{0.05}$:0.6325 | $E_{0.25}$:0.4001 | $E_{0.50}$:0.45 | Time:17.84"
      ],
      "text/plain": [
       "<IPython.core.display.Latex object>"
      ]
     },
     "metadata": {},
     "output_type": "display_data"
    },
    {
     "data": {
      "text/latex": [
       "Target:N01_Logistic | Kernel:TransStrawHat | $\\sigma$:0.5 | eff:0.6274 | $P_{jump}$:0.5758 | Exx2:1.6873 | $\\rho_1$:0.1578 | $\\rho_2$:0.0651 | $E_{0.05}$:0.9867 | $E_{0.25}$:0.4915 | $E_{0.50}$:0.2968 | Time:18.51"
      ],
      "text/plain": [
       "<IPython.core.display.Latex object>"
      ]
     },
     "metadata": {},
     "output_type": "display_data"
    },
    {
     "data": {
      "text/latex": [
       "Target:N01_Logistic | Kernel:TransStrawHat | $\\sigma$:0.7 | eff:0.9802 | $P_{jump}$:0.6656 | Exx2:2.0284 | $\\rho_1$:-0.0183 | $\\rho_2$:0.0173 | $E_{0.05}$:0.7731 | $E_{0.25}$:0.6699 | $E_{0.50}$:0.5218 | Time:19.31"
      ],
      "text/plain": [
       "<IPython.core.display.Latex object>"
      ]
     },
     "metadata": {},
     "output_type": "display_data"
    },
    {
     "data": {
      "text/latex": [
       "Target:N01_Logistic | Kernel:TransStrawHat | $\\sigma$:0.8 | eff:1.4896 | $P_{jump}$:0.7439 | Exx2:2.4022 | $\\rho_1$:-0.1989 | $\\rho_2$:0.0404 | $E_{0.05}$:0.672 | $E_{0.25}$:0.7296 | $E_{0.50}$:1.0143 | Time:18.98"
      ],
      "text/plain": [
       "<IPython.core.display.Latex object>"
      ]
     },
     "metadata": {},
     "output_type": "display_data"
    },
    {
     "data": {
      "text/latex": [
       "Target:N01_Logistic | Kernel:TransStrawHat | $\\sigma$:0.9 | eff:1.5507 | $P_{jump}$:0.7643 | Exx2:2.4411 | $\\rho_1$:-0.2167 | $\\rho_2$:0.0485 | $E_{0.05}$:0.5894 | $E_{0.25}$:0.7166 | $E_{0.50}$:1.1567 | Time:18.53"
      ],
      "text/plain": [
       "<IPython.core.display.Latex object>"
      ]
     },
     "metadata": {},
     "output_type": "display_data"
    },
    {
     "data": {
      "text/latex": [
       "Target:N01_Logistic | Kernel:TransStrawHat | $\\sigma$:1 | eff:1.4712 | $P_{jump}$:0.7458 | Exx2:2.3923 | $\\rho_1$:-0.192 | $\\rho_2$:0.0416 | $E_{0.05}$:0.6409 | $E_{0.25}$:0.7564 | $E_{0.50}$:0.9626 | Time:19.34"
      ],
      "text/plain": [
       "<IPython.core.display.Latex object>"
      ]
     },
     "metadata": {},
     "output_type": "display_data"
    },
    {
     "data": {
      "text/latex": [
       "Target:N01_Logistic | Kernel:TransStrawHat | $\\sigma$:1.1 | eff:1.3203 | $P_{jump}$:0.7109 | Exx2:2.3037 | $\\rho_1$:-0.1514 | $\\rho_2$:0.0343 | $E_{0.05}$:0.7137 | $E_{0.25}$:0.7317 | $E_{0.50}$:0.7292 | Time:18.51"
      ],
      "text/plain": [
       "<IPython.core.display.Latex object>"
      ]
     },
     "metadata": {},
     "output_type": "display_data"
    },
    {
     "data": {
      "text/latex": [
       "Target:N01_Logistic | Kernel:TransStrawHat | $\\sigma$:1.3 | eff:0.9874 | $P_{jump}$:0.6629 | Exx2:2.0074 | $\\rho_1$:-0.0037 | $\\rho_2$:0.0088 | $E_{0.05}$:0.8312 | $E_{0.25}$:0.6681 | $E_{0.50}$:0.6101 | Time:19.01"
      ],
      "text/plain": [
       "<IPython.core.display.Latex object>"
      ]
     },
     "metadata": {},
     "output_type": "display_data"
    },
    {
     "data": {
      "text/latex": [
       "Target:N01_Logistic | Kernel:TransStrawHat | $\\sigma$:1.5 | eff:0.6039 | $P_{jump}$:0.7 | Exx2:1.5214 | $\\rho_1$:0.2399 | $\\rho_2$:0.0646 | $E_{0.05}$:0.6497 | $E_{0.25}$:0.5288 | $E_{0.50}$:0.4909 | Time:18.48"
      ],
      "text/plain": [
       "<IPython.core.display.Latex object>"
      ]
     },
     "metadata": {},
     "output_type": "display_data"
    },
    {
     "data": {
      "text/latex": [
       "Target:N01_Logistic | Kernel:TransStrawHat | $\\sigma$:1.7 | eff:0.4316 | $P_{jump}$:0.7213 | Exx2:1.2104 | $\\rho_1$:0.3941 | $\\rho_2$:0.1585 | $E_{0.05}$:0.5447 | $E_{0.25}$:0.4492 | $E_{0.50}$:0.4343 | Time:18.31"
      ],
      "text/plain": [
       "<IPython.core.display.Latex object>"
      ]
     },
     "metadata": {},
     "output_type": "display_data"
    },
    {
     "data": {
      "text/latex": [
       "Target:N01_Logistic | Kernel:TransStrawHat | $\\sigma$:1.8 | eff:0.4205 | $P_{jump}$:0.7103 | Exx2:1.1909 | $\\rho_1$:0.4036 | $\\rho_2$:0.1664 | $E_{0.05}$:0.5658 | $E_{0.25}$:0.4372 | $E_{0.50}$:0.4309 | Time:19.76"
      ],
      "text/plain": [
       "<IPython.core.display.Latex object>"
      ]
     },
     "metadata": {},
     "output_type": "display_data"
    },
    {
     "data": {
      "text/latex": [
       "Target:N01_Logistic | Kernel:TransStrawHat | $\\sigma$:1.9 | eff:0.4381 | $P_{jump}$:0.6949 | Exx2:1.2262 | $\\rho_1$:0.3869 | $\\rho_2$:0.1517 | $E_{0.05}$:0.6003 | $E_{0.25}$:0.4445 | $E_{0.50}$:0.4264 | Time:19.96"
      ],
      "text/plain": [
       "<IPython.core.display.Latex object>"
      ]
     },
     "metadata": {},
     "output_type": "display_data"
    },
    {
     "data": {
      "text/latex": [
       "Target:N01_Logistic | Kernel:TransStrawHat | $\\sigma$:2 | eff:0.4658 | $P_{jump}$:0.6842 | Exx2:1.2948 | $\\rho_1$:0.3544 | $\\rho_2$:0.1323 | $E_{0.05}$:0.6383 | $E_{0.25}$:0.4648 | $E_{0.50}$:0.4014 | Time:19.78"
      ],
      "text/plain": [
       "<IPython.core.display.Latex object>"
      ]
     },
     "metadata": {},
     "output_type": "display_data"
    },
    {
     "data": {
      "text/latex": [
       "Target:N01_Logistic | Kernel:TransStrawHat | $\\sigma$:2.1 | eff:0.496 | $P_{jump}$:0.6822 | Exx2:1.3694 | $\\rho_1$:0.3174 | $\\rho_2$:0.1135 | $E_{0.05}$:0.6658 | $E_{0.25}$:0.4869 | $E_{0.50}$:0.4079 | Time:20.01"
      ],
      "text/plain": [
       "<IPython.core.display.Latex object>"
      ]
     },
     "metadata": {},
     "output_type": "display_data"
    },
    {
     "data": {
      "text/latex": [
       "Target:N01_Logistic | Kernel:TransStrawHat | $\\sigma$:2.2 | eff:0.5815 | $P_{jump}$:0.6948 | Exx2:1.4913 | $\\rho_1$:0.2548 | $\\rho_2$:0.0715 | $E_{0.05}$:0.6488 | $E_{0.25}$:0.5176 | $E_{0.50}$:0.4894 | Time:19.71"
      ],
      "text/plain": [
       "<IPython.core.display.Latex object>"
      ]
     },
     "metadata": {},
     "output_type": "display_data"
    },
    {
     "data": {
      "text/latex": [
       "Target:N01_Logistic | Kernel:TransStrawHat | $\\sigma$:2.3 | eff:0.7082 | $P_{jump}$:0.7131 | Exx2:1.6661 | $\\rho_1$:0.168 | $\\rho_2$:0.0293 | $E_{0.05}$:0.65 | $E_{0.25}$:0.5747 | $E_{0.50}$:0.601 | Time:19.35"
      ],
      "text/plain": [
       "<IPython.core.display.Latex object>"
      ]
     },
     "metadata": {},
     "output_type": "display_data"
    },
    {
     "data": {
      "text/latex": [
       "Target:N01_Logistic | Kernel:TransStrawHat | $\\sigma$:2.4 | eff:0.7537 | $P_{jump}$:0.7144 | Exx2:1.7272 | $\\rho_1$:0.1364 | $\\rho_2$:0.0225 | $E_{0.05}$:0.6458 | $E_{0.25}$:0.5895 | $E_{0.50}$:0.6236 | Time:19.49"
      ],
      "text/plain": [
       "<IPython.core.display.Latex object>"
      ]
     },
     "metadata": {},
     "output_type": "display_data"
    },
    {
     "data": {
      "text/latex": [
       "Target:N01_Logistic | Kernel:TransStrawHat | $\\sigma$:2.5 | eff:0.7843 | $P_{jump}$:0.7081 | Exx2:1.7814 | $\\rho_1$:0.1109 | $\\rho_2$:0.0194 | $E_{0.05}$:0.6723 | $E_{0.25}$:0.6083 | $E_{0.50}$:0.6011 | Time:20.02"
      ],
      "text/plain": [
       "<IPython.core.display.Latex object>"
      ]
     },
     "metadata": {},
     "output_type": "display_data"
    },
    {
     "data": {
      "text/latex": [
       "Target:N01_Logistic | Kernel:TransStrawHat | $\\sigma$:2.6 | eff:0.8071 | $P_{jump}$:0.6979 | Exx2:1.8083 | $\\rho_1$:0.0953 | $\\rho_2$:0.0188 | $E_{0.05}$:0.6978 | $E_{0.25}$:0.6107 | $E_{0.50}$:0.5749 | Time:20.29"
      ],
      "text/plain": [
       "<IPython.core.display.Latex object>"
      ]
     },
     "metadata": {},
     "output_type": "display_data"
    },
    {
     "data": {
      "text/latex": [
       "Target:N01_Logistic | Kernel:TransStrawHat | $\\sigma$:2.8 | eff:0.7876 | $P_{jump}$:0.6841 | Exx2:1.773 | $\\rho_1$:0.112 | $\\rho_2$:0.0205 | $E_{0.05}$:0.7341 | $E_{0.25}$:0.612 | $E_{0.50}$:0.5793 | Time:19.5"
      ],
      "text/plain": [
       "<IPython.core.display.Latex object>"
      ]
     },
     "metadata": {},
     "output_type": "display_data"
    },
    {
     "data": {
      "text/latex": [
       "Target:N01_Logistic | Kernel:TransStrawHat | $\\sigma$:3.0 | eff:0.6464 | $P_{jump}$:0.7074 | Exx2:1.5865 | $\\rho_1$:0.2069 | $\\rho_2$:0.0483 | $E_{0.05}$:0.65 | $E_{0.25}$:0.5483 | $E_{0.50}$:0.5293 | Time:20.32"
      ],
      "text/plain": [
       "<IPython.core.display.Latex object>"
      ]
     },
     "metadata": {},
     "output_type": "display_data"
    },
    {
     "data": {
      "text/latex": [
       "Target:N01_Logistic | Kernel:TransStrawHat | $\\sigma$:3.2 | eff:0.5599 | $P_{jump}$:0.7108 | Exx2:1.4545 | $\\rho_1$:0.273 | $\\rho_2$:0.0803 | $E_{0.05}$:0.6158 | $E_{0.25}$:0.5181 | $E_{0.50}$:0.4992 | Time:20.36"
      ],
      "text/plain": [
       "<IPython.core.display.Latex object>"
      ]
     },
     "metadata": {},
     "output_type": "display_data"
    },
    {
     "data": {
      "text/latex": [
       "Target:N01_Logistic | Kernel:TransStrawHat | $\\sigma$:3.5 | eff:0.5693 | $P_{jump}$:0.6871 | Exx2:1.4761 | $\\rho_1$:0.2643 | $\\rho_2$:0.0784 | $E_{0.05}$:0.6666 | $E_{0.25}$:0.5164 | $E_{0.50}$:0.4591 | Time:19.75"
      ],
      "text/plain": [
       "<IPython.core.display.Latex object>"
      ]
     },
     "metadata": {},
     "output_type": "display_data"
    },
    {
     "data": {
      "text/latex": [
       "Target:N01_Logistic | Kernel:TransStrawHat | $\\sigma$:4 | eff:0.7123 | $P_{jump}$:0.7056 | Exx2:1.6785 | $\\rho_1$:0.1605 | $\\rho_2$:0.0328 | $E_{0.05}$:0.664 | $E_{0.25}$:0.5798 | $E_{0.50}$:0.5654 | Time:20.48"
      ],
      "text/plain": [
       "<IPython.core.display.Latex object>"
      ]
     },
     "metadata": {},
     "output_type": "display_data"
    },
    {
     "data": {
      "text/latex": [
       "Target:N01_Logistic | Kernel:TransStrawHat | $\\sigma$:4.5 | eff:0.6224 | $P_{jump}$:0.7045 | Exx2:1.5517 | $\\rho_1$:0.2248 | $\\rho_2$:0.0566 | $E_{0.05}$:0.6288 | $E_{0.25}$:0.5348 | $E_{0.50}$:0.5117 | Time:19.23"
      ],
      "text/plain": [
       "<IPython.core.display.Latex object>"
      ]
     },
     "metadata": {},
     "output_type": "display_data"
    },
    {
     "data": {
      "text/latex": [
       "Target:N01_Logistic | Kernel:TransStrawHat | $\\sigma$:5 | eff:0.5977 | $P_{jump}$:0.692 | Exx2:1.527 | $\\rho_1$:0.2361 | $\\rho_2$:0.0642 | $E_{0.05}$:0.6715 | $E_{0.25}$:0.5356 | $E_{0.50}$:0.49 | Time:18.82"
      ],
      "text/plain": [
       "<IPython.core.display.Latex object>"
      ]
     },
     "metadata": {},
     "output_type": "display_data"
    },
    {
     "data": {
      "text/latex": [
       "Target:N01_Logistic | Kernel:TransStrawHat | $\\sigma$:6 | eff:0.6213 | $P_{jump}$:0.7058 | Exx2:1.5456 | $\\rho_1$:0.2291 | $\\rho_2$:0.058 | $E_{0.05}$:0.6375 | $E_{0.25}$:0.5406 | $E_{0.50}$:0.5215 | Time:18.78"
      ],
      "text/plain": [
       "<IPython.core.display.Latex object>"
      ]
     },
     "metadata": {},
     "output_type": "display_data"
    },
    {
     "data": {
      "text/latex": [
       "Target:N01_Logistic | Kernel:TransStrawHat | $\\sigma$:7 | eff:0.6977 | $P_{jump}$:0.7013 | Exx2:1.666 | $\\rho_1$:0.1671 | $\\rho_2$:0.0345 | $E_{0.05}$:0.6584 | $E_{0.25}$:0.5776 | $E_{0.50}$:0.5517 | Time:18.97"
      ],
      "text/plain": [
       "<IPython.core.display.Latex object>"
      ]
     },
     "metadata": {},
     "output_type": "display_data"
    },
    {
     "data": {
      "text/latex": [
       "Target:N01_Logistic | Kernel:TransStrawHat | $\\sigma$:8 | eff:0.6104 | $P_{jump}$:0.6946 | Exx2:1.5394 | $\\rho_1$:0.2296 | $\\rho_2$:0.0588 | $E_{0.05}$:0.6664 | $E_{0.25}$:0.5403 | $E_{0.50}$:0.4953 | Time:19.01"
      ],
      "text/plain": [
       "<IPython.core.display.Latex object>"
      ]
     },
     "metadata": {},
     "output_type": "display_data"
    },
    {
     "name": "stdout",
     "output_type": "stream",
     "text": [
      "总共用时: 8333.622029\n"
     ]
    }
   ],
   "source": [
    "#MCMC sampling implementation\n",
    "# np.random.seed(121)\n",
    "begin_total = time.time()\n",
    "nround = int(10e5)\n",
    "burnin = int(10e4)\n",
    "size = len(range(-burnin,nround))\n",
    "sigmaset = [0.1, 0.3, 0.5, 0.7, 0.8, 0.9, 1, 1.1, 1.3, 1.5, 1.7,\n",
    "                    1.8, 1.9, 2, 2.1, 2.2, 2.3, 2.4, 2.5, 2.6, 2.8,\n",
    "                    3.0, 3.2, 3.5, 4, 4.5, 5, 6, 7, 8]\n",
    "kernelset = ['Uniform','TransUniform','TransBactrian','TransStrawHat']\n",
    "targetset = {'Exp':'Exp(1)_CDF', 'Folded_Gaussian':'Exp(1)_CDF', 'N01_T2':'t(2)_CDF', 'N01_Logistic':'logistic_CDF'}\n",
    "\n",
    "sample_Normal = np.random.normal(size = size)\n",
    "sample_Uniform = np.random.uniform(low=-np.sqrt(3), high=np.sqrt(3), size=size)\n",
    "sample_bactrian = random_bactrian(size = size)\n",
    "sample_strawhat = random_strawhat(size=size)\n",
    "target_result = {}\n",
    "\n",
    "for target,transform in targetset.items():\n",
    "    eff_kernel = {}; Pjump_kernel = {}; Exx2_kernel = {}; Rho_kernel={}; Sample_kernel={}; Quantile_kernel={}\n",
    "    for kernel in kernelset:\n",
    "        Eff = []; Pjump = []; Exx2=[]; Rho=[]; Sample=[]; Quantile=[]\n",
    "        for sigma in sigmaset:\n",
    "            begin_loop = time.time()\n",
    "            exx2 = 0; accept = 0; \n",
    "            x = abs(np.random.random() - 0.5)\n",
    "            y = np.zeros(nround)\n",
    "            logtargetold = logtargetpdf(x,target,kernel) - log_proposal_ratio(x,transform,kernel)\n",
    "            for j in range(-burnin,nround):\n",
    "                x_trans = transform_x(x,transform) if 'Trans' in kernel else x\n",
    "                if (j==0):\n",
    "                    accept = 0;\n",
    "                if 'Gaussian' in kernel:\n",
    "                    xnew_trans = x_trans + sample_Normal[j+burnin] * sigma\n",
    "                elif 'Uniform' in kernel:\n",
    "                    xnew_trans = x_trans + sample_Uniform[j+burnin] *sigma\n",
    "                elif 'Bactrian' in kernel:\n",
    "                    xnew_trans = x_trans + sample_bactrian[j+burnin] *sigma\n",
    "                elif 'StrawHat' in kernel:\n",
    "                    xnew_trans = x_trans + sample_strawhat[j+burnin] *sigma\n",
    "\n",
    "                if (('Trans' in kernel) & (not (0 <= xnew_trans <= 1))):\n",
    "                    xnew_trans = reflect(xnew_trans, xL=0, xU=1)\n",
    "                if (((target=='Exp') | (target=='Folded_Gaussian')) & ('Trans' not in kernel)) & (xnew_trans<0):\n",
    "                    xnew_trans = -xnew_trans\n",
    "                \n",
    "                xnew = transform_inverse(xnew_trans,transform) if ('Trans' in kernel) else xnew_trans\n",
    "                \n",
    "                logtargetnew = logtargetpdf(xnew,target,kernel) - log_proposal_ratio(xnew,transform,kernel)\n",
    "                pi_dif = logtargetnew - logtargetold\n",
    "                if ((pi_dif>0) | (np.exp(pi_dif)>np.random.random())):\n",
    "                    x = xnew\n",
    "                    logtargetold = logtargetnew\n",
    "                    accept += 1\n",
    "                if (j>=0):\n",
    "                    y[j] = x\n",
    "            eff = (Eff_IntegratedCorrelationTime(y))\n",
    "            rho = [rho_k(y,i) for i in range(1,11)]\n",
    "            exx2 = sum(np.square(y[1:] - y[:-1]))\n",
    "            quantile = [Eff_quantile(y,i) for i in [0.05,0.25,0.5,0.75,0.95]]\n",
    "            Eff.append(eff)\n",
    "            Pjump.append(accept/nround)\n",
    "            Exx2.append(exx2/nround)\n",
    "            Rho.append(rho)\n",
    "            Sample.append(y.copy())\n",
    "            Quantile.append(quantile)\n",
    "#             print ('Target:',target,'|Kernel:',kernel,'|sigma:',sigma,'|eff:',round(eff,4), '|Pjump:', round(accept/nround,4), '|Exx2:', round(exx2/nround,4),\n",
    "#                    '|rho1:', round(rho[0],4), '|rho2:', round(rho[1],4) ,'|Time:',round((time.time()-begin_loop),2),sep='')\n",
    "            display(Latex('Target:{} | Kernel:{} | $\\sigma$:{} | eff:{} | $P_{{jump}}$:{} | Exx2:{} | $\\\\rho_1$:{} | $\\\\rho_2$:{} | $E_{{0.05}}$:{} | $E_{{0.25}}$:{} | $E_{{0.50}}$:{} | Time:{}'.format(\n",
    "                    target,kernel,sigma,round(eff,4),round(accept/nround,4),round(exx2/nround,4),round(rho[0],4),round(rho[1],4),\n",
    "                    round(quantile[0],4),round(quantile[1],4),round(quantile[2],4),round((time.time()-begin_loop),2))))\n",
    "        eff_kernel[kernel] = Eff\n",
    "        Pjump_kernel[kernel] = Pjump\n",
    "        Exx2_kernel[kernel] = Exx2\n",
    "        Rho_kernel[kernel] = Rho\n",
    "        Sample_kernel[kernel] = Sample\n",
    "        Quantile_kernel[kernel] = Quantile\n",
    "    target_result[target] = [eff_kernel,Pjump_kernel,Exx2_kernel,Rho_kernel,Sample_kernel,Quantile_kernel]\n",
    "print('总共用时: %f'% (time.time()-begin_total))"
   ]
  },
  {
   "cell_type": "code",
   "execution_count": 6,
   "metadata": {},
   "outputs": [
    {
     "name": "stdout",
     "output_type": "stream",
     "text": [
      "Kernel                    Sigma    Eff      Pjump    Exx2     rho1     rho2     E_5%     E_25%    E_50%   \n",
      "                                       Exp\n",
      "Uniform                   2.3      0.16     0.433    0.586    0.705    0.504    0.145    0.162    0.189   \n",
      "TransUniform              0.8      1.306    1.0      2.276    -0.143   0.034    1.019    1.169    1.397   \n",
      "TransBactrian             0.9      2.0      1.0      2.825    -0.41    0.258    1.044    1.495    2.652   \n",
      "TransStrawHat             1.0      2.079    1.0      2.952    -0.47    0.361    1.02     1.372    3.208   \n",
      "                                       Folded_Gaussian\n",
      "Uniform                   1.5      0.277    0.543    0.326    0.55     0.309    0.315    0.318    0.329   \n",
      "TransUniform              0.9      1.062    0.833    0.75     -0.033   0.004    0.81     0.871    0.82    \n",
      "TransBactrian             1.0      1.922    0.837    0.96     -0.324   0.112    0.694    0.894    1.268   \n",
      "TransStrawHat             0.9      2.211    0.846    1.013    -0.391   0.164    0.584    0.725    1.553   \n",
      "                                       N01_T2\n",
      "Uniform                   2.1      0.276    0.424    0.881    0.56     0.318    0.292    0.268    0.251   \n",
      "TransUniform              0.9      0.961    0.829    1.961    0.017    0.001    0.786    0.826    0.84    \n",
      "TransBactrian             0.9      1.594    0.838    2.468    -0.234   0.06     0.756    0.939    1.353   \n",
      "TransStrawHat             1.0      1.745    0.84     2.569    -0.282   0.088    0.728    0.888    1.538   \n",
      "                                       N01_Logistic\n",
      "Uniform                   2.2      0.277    0.407    0.878    0.561    0.318    0.295    0.254    0.237   \n",
      "TransUniform              0.9      0.815    0.694    1.822    0.091    0.019    0.717    0.613    0.566   \n",
      "TransBactrian             0.9      1.331    0.724    2.289    -0.148   0.026    0.696    0.727    0.84    \n",
      "TransStrawHat             0.9      1.551    0.764    2.441    -0.217   0.048    0.589    0.717    1.157   \n"
     ]
    }
   ],
   "source": [
    "name = ['Kernel' ,'Sigma', 'Eff', 'Pjump', 'Exx2', 'rho1', 'rho2', 'E_5%', 'E_25%', 'E_50%']\n",
    "print('{:<25} {:<8} {:<8} {:<8} {:<8} {:<8} {:<8} {:<8} {:<8} {:<8}'.format(*name))\n",
    "\n",
    "for target in targetset:\n",
    "    kernel_info = {}\n",
    "    print('                                      ',target)\n",
    "    for kernel in kernelset:\n",
    "        index = [np.argmax(target_result[target][0][i]) for i in kernelset]\n",
    "        index_need = index[np.where(np.array(kernelset)==kernel)[0][0]]\n",
    "        info = [target_result[target][i][kernel][index_need] for i in range(len(target_result[target]))]\n",
    "        rho1 = info[3][0]; rho2 = info[3][1]\n",
    "        E05 = info[5][0]; E25 = info[5][1]; E50 = info[5][2]\n",
    "#         kernel_info[kernel] = np.round(np.concatenate([[sigmaset[index_need]],info[0:3],[rho1,rho2]]),3)\n",
    "        kernel_info[kernel] = np.round(np.concatenate([[sigmaset[index_need]],info[0:3],[rho1,rho2],[E05,E25,E50]]),3)\n",
    "        kernel_info[kernel] = kernel_info[kernel].tolist()\n",
    "        kernel_info[kernel].insert(0,kernel)\n",
    "        print('{:<25} {:<8} {:<8} {:<8} {:<8} {:<8} {:<8} {:<8} {:<8} {:<8}'.format(*kernel_info[kernel]))"
   ]
  },
  {
   "cell_type": "markdown",
   "metadata": {},
   "source": [
    "### The plot below is the probability density of  target after transformed:"
   ]
  },
  {
   "cell_type": "code",
   "execution_count": 7,
   "metadata": {
    "scrolled": false
   },
   "outputs": [
    {
     "data": {
      "text/html": [
       "<script>\n",
       "code_show=true; \n",
       "function code_toggle() {\n",
       "    if (code_show){\n",
       "        $('div.cell.code_cell.rendered.selected div.input').hide();\n",
       "    } else {\n",
       "        $('div.cell.code_cell.rendered.selected div.input').show();\n",
       "    }\n",
       "    code_show = !code_show\n",
       "} \n",
       "$( document ).ready(code_toggle);\n",
       "</script>\n",
       "To show/hide this cell's raw code input, click <a href=\"javascript:code_toggle()\">here</a>."
      ],
      "text/plain": [
       "<IPython.core.display.HTML object>"
      ]
     },
     "metadata": {},
     "output_type": "display_data"
    },
    {
     "data": {
      "image/png": "[encoded data removed]",
      "text/plain": [
       "<Figure size 960x720 with 4 Axes>"
      ]
     },
     "metadata": {},
     "output_type": "display_data"
    }
   ],
   "source": [
    "from IPython.display import HTML\n",
    "from IPython.display import display\n",
    "\n",
    "# Taken from https://stackoverflow.com/questions/31517194/how-to-hide-one-specific-cell-input-or-output-in-ipython-notebook\n",
    "tag = HTML('''<script>\n",
    "code_show=true; \n",
    "function code_toggle() {\n",
    "    if (code_show){\n",
    "        $('div.cell.code_cell.rendered.selected div.input').hide();\n",
    "    } else {\n",
    "        $('div.cell.code_cell.rendered.selected div.input').show();\n",
    "    }\n",
    "    code_show = !code_show\n",
    "} \n",
    "$( document ).ready(code_toggle);\n",
    "</script>\n",
    "To show/hide this cell's raw code input, click <a href=\"javascript:code_toggle()\">here</a>.''')\n",
    "display(tag)\n",
    "\n",
    "############### Write code below ##################\n",
    "\n",
    "def logistic_inverse(x):\n",
    "    return(-np.log(1/x-1))\n",
    "#     return scipy.stats.logistic.ppf(x)\n",
    "\n",
    "def logistic_diff(x):\n",
    "    return(abs(1/x+1/(1-x)))\n",
    "#     return abs(derivative(logistic_inverse,x,dx=1e-6))\n",
    "\n",
    "def t_inverse(x):\n",
    "    return scipy.stats.t.ppf(x,df=2)\n",
    "\n",
    "def t_diff(x):\n",
    "    return abs(derivative(t_inverse,x,dx=1e-6))\n",
    "\n",
    "def exp_inverse(x):\n",
    "    return(-np.log(x))\n",
    "\n",
    "def exp_diff(x):\n",
    "    return(abs(1/x))\n",
    "\n",
    "from matplotlib.pyplot import figure\n",
    "figure(num=None, figsize=(12,9), dpi=80, facecolor='w', edgecolor='k')\n",
    "\n",
    "ori = np.random.exponential(size=1000000,scale=1.0)\n",
    "trans = np.exp(-ori)\n",
    "xindex = np.arange(0.001,0.999,0.001)\n",
    "yindex = np.ones(len(xindex))\n",
    "plt.subplot(221)\n",
    "plt.hist(trans, bins=100, density=True)\n",
    "plt.plot(xindex,yindex)\n",
    "plt.gca().set_title('$Exp(1)$ target \\n after transformed with Exp(1)-CDF')\n",
    "\n",
    "ori = abs(np.random.normal(size=1000000))\n",
    "trans = np.exp(-ori)\n",
    "xindex = np.arange(0.001,0.999,0.001)\n",
    "inverse = np.array([exp_inverse(i) for i in xindex])\n",
    "diff_term = np.array([exp_diff(i) for i in xindex])\n",
    "yindex = 2*scipy.stats.norm.pdf(inverse) * diff_term\n",
    "plt.subplot(222)\n",
    "plt.hist(trans, bins=100, density=True)\n",
    "plt.plot(xindex,yindex)\n",
    "plt.gca().set_title('$N_+(0,1)$ target \\n after transformed with Exp(1)-CDF')\n",
    "\n",
    "\n",
    "ori = np.random.normal(size=1000000)\n",
    "trans = scipy.stats.t.cdf(x=ori,df=2)\n",
    "xindex = np.arange(0.001,0.999,0.001)\n",
    "inverse = np.array([t_inverse(i) for i in xindex])\n",
    "diff_term = np.array([t_diff(i) for i in xindex])\n",
    "yindex = scipy.stats.norm.pdf(inverse) * diff_term\n",
    "plt.subplot(223)\n",
    "plt.hist(trans, bins=100, density=True)\n",
    "plt.plot(xindex,yindex)\n",
    "plt.gca().set_title('$N(0,1)$ target \\n after transformed with t2-CDF')\n",
    "\n",
    "ori = np.random.normal(size=1000000)\n",
    "trans = scipy.stats.logistic.cdf(x=ori)\n",
    "xindex = np.arange(0.001,0.999,0.001)\n",
    "inverse = np.array([logistic_inverse(i) for i in xindex])\n",
    "diff_term = np.array([logistic_diff(i) for i in xindex])\n",
    "yindex = scipy.stats.norm.pdf(inverse) * diff_term\n",
    "plt.subplot(224)\n",
    "plt.hist(trans, bins=100, density=True)\n",
    "plt.plot(xindex,yindex)\n",
    "plt.gca().set_title('$N(0,1)$ target \\n after transformed with logistic-CDF')\n",
    "\n",
    "plt.show()"
   ]
  }
 ],
 "metadata": {
  "kernelspec": {
   "display_name": "Python 3",
   "language": "python",
   "name": "python3"
  },
  "language_info": {
   "codemirror_mode": {
    "name": "ipython",
    "version": 3
   },
   "file_extension": ".py",
   "mimetype": "text/x-python",
   "name": "python",
   "nbconvert_exporter": "python",
   "pygments_lexer": "ipython3",
   "version": "3.6.8"
  }
 },
 "nbformat": 4,
 "nbformat_minor": 2
}
