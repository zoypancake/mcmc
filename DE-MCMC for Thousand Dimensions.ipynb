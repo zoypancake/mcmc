{
 "cells": [
  {
   "cell_type": "code",
   "execution_count": 1,
   "metadata": {},
   "outputs": [],
   "source": [
    "from tools import *"
   ]
  },
  {
   "cell_type": "code",
   "execution_count": 2,
   "metadata": {},
   "outputs": [],
   "source": [
    "def logpdfTarget (x, mu, sigma_inverse):\n",
    "    lnp = -(1/2) * ((x-mu).T).dot(sigma_inverse).dot((x-mu))\n",
    "    return(lnp)"
   ]
  },
  {
   "cell_type": "code",
   "execution_count": 3,
   "metadata": {},
   "outputs": [
    {
     "name": "stdout",
     "output_type": "stream",
     "text": [
      "137815.0 | 0.28\n"
     ]
    },
    {
     "data": {
      "text/plain": [
       "array([[ 0.41, -0.06, -0.24, ...,  0.13,  0.46,  0.45],\n",
       "       [-0.06,  1.57,  0.81, ..., -1.01, -0.61, -0.7 ],\n",
       "       [-0.24,  0.81,  0.68, ..., -0.68, -0.63, -0.6 ],\n",
       "       ...,\n",
       "       [ 0.13, -1.01, -0.68, ...,  1.31,  0.78,  0.85],\n",
       "       [ 0.46, -0.61, -0.63, ...,  0.78,  1.06,  0.89],\n",
       "       [ 0.45, -0.7 , -0.6 , ...,  0.85,  0.89,  1.05]])"
      ]
     },
     "execution_count": 3,
     "metadata": {},
     "output_type": "execute_result"
    }
   ],
   "source": [
    "np.random.seed(12)\n",
    "d = 1000\n",
    "mu = np.zeros(d)\n",
    "sigma_inverse = wishart.rvs(df=d,scale=np.eye(d))\n",
    "true_sigma = np.linalg.inv(sigma_inverse)\n",
    "print(np.sum(abs(true_sigma)>0.99)/2,'|',round((np.sum(abs(true_sigma)>0.99)/2)/((d*(d-1))/2),2))\n",
    "np.set_printoptions(suppress=True)\n",
    "np.matrix.round(true_sigma,2)"
   ]
  },
  {
   "cell_type": "code",
   "execution_count": 4,
   "metadata": {
    "collapsed": true
   },
   "outputs": [
    {
     "name": "stdout",
     "output_type": "stream",
     "text": [
      "1/40  Acep%:0.138  Sigma%:0.059  Time:540.25s\n",
      "2/40  Acep%:0.186  Sigma%:0.035  Time:1081.36s\n",
      "3/40  Acep%:0.214  Sigma%:0.028  Time:1622.57s\n",
      "4/40  Acep%:0.23  Sigma%:0.026  Time:2163.94s\n",
      "5/40  Acep%:0.239  Sigma%:0.026  Time:2704.96s\n",
      "6/40  Acep%:0.243  Sigma%:0.027  Time:3248.36s\n",
      "7/40  Acep%:0.245  Sigma%:0.028  Time:3793.35s\n",
      "8/40  Acep%:0.244  Sigma%:0.03  Time:4338.5s\n",
      "9/40  Acep%:0.243  Sigma%:0.032  Time:4883.08s\n",
      "10/40  Acep%:0.241  Sigma%:0.034  Time:5429.32s\n",
      "11/40  Acep%:0.238  Sigma%:0.036  Time:5974.55s\n",
      "12/40  Acep%:0.237  Sigma%:0.038  Time:6519.79s\n",
      "13/40  Acep%:0.235  Sigma%:0.039  Time:7065.06s\n",
      "14/40  Acep%:0.235  Sigma%:0.04  Time:7610.09s\n",
      "15/40  Acep%:0.235  Sigma%:0.041  Time:8154.85s\n",
      "16/40  Acep%:0.236  Sigma%:0.042  Time:8711.09s\n",
      "17/40  Acep%:0.238  Sigma%:0.043  Time:9256.78s\n",
      "18/40  Acep%:0.239  Sigma%:0.045  Time:9802.13s\n",
      "19/40  Acep%:0.24  Sigma%:0.047  Time:10347.67s\n",
      "20/40  Acep%:0.241  Sigma%:0.049  Time:10893.68s\n",
      "21/40  Acep%:0.241  Sigma%:0.052  Time:11439.29s\n",
      "22/40  Acep%:0.239  Sigma%:0.054  Time:11984.76s\n",
      "23/40  Acep%:0.238  Sigma%:0.057  Time:12529.93s\n",
      "24/40  Acep%:0.235  Sigma%:0.059  Time:13075.44s\n",
      "25/40  Acep%:0.233  Sigma%:0.06  Time:13620.49s\n",
      "26/40  Acep%:0.231  Sigma%:0.061  Time:14166.17s\n",
      "27/40  Acep%:0.228  Sigma%:0.061  Time:14710.61s\n",
      "28/40  Acep%:0.226  Sigma%:0.061  Time:15255.8s\n",
      "29/40  Acep%:0.225  Sigma%:0.06  Time:15801.43s\n",
      "30/40  Acep%:0.224  Sigma%:0.058  Time:16346.47s\n",
      "31/40  Acep%:0.223  Sigma%:0.057  Time:16892.01s\n",
      "32/40  Acep%:0.223  Sigma%:0.055  Time:17437.41s\n",
      "33/40  Acep%:0.224  Sigma%:0.053  Time:17982.57s\n",
      "34/40  Acep%:0.224  Sigma%:0.051  Time:18528.75s\n",
      "35/40  Acep%:0.225  Sigma%:0.05  Time:19073.86s\n",
      "36/40  Acep%:0.227  Sigma%:0.049  Time:19620.07s\n",
      "37/40  Acep%:0.228  Sigma%:0.048  Time:20165.92s\n",
      "38/40  Acep%:0.23  Sigma%:0.048  Time:20712.16s\n",
      "39/40  Acep%:0.231  Sigma%:0.048  Time:21258.17s\n",
      "总共用时: 21804.495966 | Acet Rate: 0.232568325\n"
     ]
    }
   ],
   "source": [
    "nround = 40000; K=3000\n",
    "result = np.zeros(K*nround*d, dtype=np.float16).reshape(K,nround,d)\n",
    "\n",
    "#Step1: Setting the Initialization\n",
    "theta_old = np.random.uniform(-1,1,size=K*d).reshape(K,d)\n",
    "logpdf_old = [logpdfTarget(theta_old[i,:],mu,sigma_inverse) for i in range(K)]\n",
    "#Step2: Setting the tuning parameters ndarrays\n",
    "sigma = 2.38/(2*np.sqrt(d)) * 1.58\n",
    "eplison = np.random.uniform(-0.0001,0.0001,size=nround*K).reshape(nround,K)\n",
    "# Other time/acceptance couting variable intialization\n",
    "begin_loop = time.time(); accept = 0; update = 1000; burnin=2000\n",
    "\n",
    "for i in range(nround):\n",
    "    if (i % update == 0) and (i>0):\n",
    "        accept_rate = accept/(i*K)\n",
    "        print(int(i/update),'/',int(nround/update), '  Acep%:',round(accept_rate,3) ,\n",
    "              '  Sigma%:',round(sigma,3) ,'  Time:',round(time.time()-begin_loop,2),'s',sep='')\n",
    "        sigma = sigma * math.tan(math.pi/2*accept_rate) / math.tan(math.pi/2*0.23)\n",
    "    for k in range(K):\n",
    "        chain_sample = list(range(K)); chain_sample.pop(k)\n",
    "        m,n = random.sample(chain_sample,2)\n",
    "        theta_new = theta_old[k,:] + sigma * (theta_old[m,:] - theta_old[n,:]) + eplison[i,k]\n",
    "        logpdf_new = logpdfTarget(theta_new,mu,sigma_inverse)\n",
    "        pi_dif = logpdf_new - logpdf_old[k]\n",
    "        \n",
    "        if ((pi_dif>0) | (np.exp(pi_dif)>np.random.random())):\n",
    "            theta_old[k,:] = theta_new\n",
    "            logpdf_old[k] = logpdf_new\n",
    "            accept += 1\n",
    "        result[k,i,:] = theta_old[k,:]\n",
    "\n",
    "print('总共用时: %f'% (time.time()-begin_loop), \"|\", 'Acet Rate:', accept/(nround*K))"
   ]
  },
  {
   "cell_type": "code",
   "execution_count": 52,
   "metadata": {},
   "outputs": [
    {
     "name": "stdout",
     "output_type": "stream",
     "text": [
      "Dimension after mixing but before stacking: (3000, 20000, 1000)\n",
      "Dimension after stacking: (60000000, 1000)\n"
     ]
    }
   ],
   "source": [
    "burnin=20000\n",
    "after_mixing = result[:,burnin:,:]\n",
    "print('Dimension after mixing but before stacking:',after_mixing.shape)\n",
    "stack_res = after_mixing.reshape(K*(nround-burnin),d)\n",
    "print('Dimension after stacking:',stack_res.shape)"
   ]
  },
  {
   "cell_type": "code",
   "execution_count": 51,
   "metadata": {},
   "outputs": [
    {
     "name": "stdout",
     "output_type": "stream",
     "text": [
      "Efficiency of 0 dimension: 0.00095\n",
      "Efficiency of 1 dimension: 0.00025\n",
      "Efficiency of 2 dimension: 0.00058\n",
      "Efficiency of 3 dimension: 9e-05\n",
      "Efficiency of 4 dimension: 7e-05\n",
      "Efficiency of 5 dimension: 0.00086\n",
      "Efficiency of 6 dimension: 0.00033\n",
      "Efficiency of 7 dimension: 6e-05\n",
      "Efficiency of 8 dimension: 0.00038\n",
      "Efficiency of 9 dimension: 0.0009\n",
      "Average efficiency of first 10 dimensions: 0.00045\n"
     ]
    }
   ],
   "source": [
    "Eff_set = []; dim = 10\n",
    "for i in range(dim):\n",
    "    eff = Eff_Mean_BM(combine_res[:,i])\n",
    "    Eff_set.append(eff)\n",
    "    print('Efficiency of %d dimension:' % i,round(eff,5))\n",
    "print('Average efficiency of first %d dimensions:' % dim, round(np.mean(Eff_set),5))"
   ]
  },
  {
   "cell_type": "code",
   "execution_count": 69,
   "metadata": {
    "scrolled": true
   },
   "outputs": [
    {
     "name": "stdout",
     "output_type": "stream",
     "text": [
      "Estimated Covaricne Matirx:\n",
      "[[ 0.42  -0.061 -0.25  ...  0.14   0.467  0.457]\n",
      " [-0.061  1.608  0.83  ... -1.035 -0.621 -0.722]\n",
      " [-0.25   0.83   0.692 ... -0.699 -0.65  -0.612]\n",
      " ...\n",
      " [ 0.14  -1.035 -0.699 ...  1.343  0.802  0.874]\n",
      " [ 0.467 -0.621 -0.65  ...  0.802  1.092  0.914]\n",
      " [ 0.457 -0.722 -0.612 ...  0.874  0.914  1.08 ]]\n",
      "------------------------------------------------\n",
      "Discrepency\n",
      "18735.233529695815 | 0.023163252818287617\n",
      "------------------------------------------------\n",
      "True Covaricne Matirx:\n",
      "[[ 0.415 -0.056 -0.245 ...  0.13   0.455  0.447]\n",
      " [-0.056  1.574  0.81  ... -1.014 -0.608 -0.704]\n",
      " [-0.245  0.81   0.676 ... -0.68  -0.634 -0.597]\n",
      " ...\n",
      " [ 0.13  -1.014 -0.68  ...  1.309  0.778  0.848]\n",
      " [ 0.455 -0.608 -0.634 ...  0.778  1.064  0.891]\n",
      " [ 0.447 -0.704 -0.597 ...  0.848  0.891  1.052]]\n"
     ]
    }
   ],
   "source": [
    "estimated_mean = np.mean(combine_res,axis=0,dtype=np.float64)\n",
    "restric_dim = d\n",
    "estimated_cov = np.cov(stack_res[:60000000,:restric_dim].T)\n",
    "print(\"Estimated Covaricne Matirx:\")\n",
    "print(np.matrix.round(estimated_cov,3))\n",
    "print('------------------------------------------------')\n",
    "print(\"Discrepency\")\n",
    "abs_mat = abs(estimated_cov-true_sigma[:restric_dim,:restric_dim])\n",
    "print(np.sum(abs_mat),\"|\", np.sum(abs_mat)/(np.sum(abs(true_sigma[:restric_dim,:restric_dim]))))\n",
    "print('------------------------------------------------')\n",
    "print(\"True Covaricne Matirx:\")\n",
    "print(np.matrix.round(true_sigma[:restric_dim,:restric_dim],3))"
   ]
  },
  {
   "cell_type": "code",
   "execution_count": 64,
   "metadata": {},
   "outputs": [],
   "source": [
    "np.save('Cov_matrix_EM_MCMC_1000d.npy',estimated_cov)\n",
    "np.save('Mean_EM_MCMC_1000d.npy',estimated_mean)"
   ]
  },
  {
   "cell_type": "code",
   "execution_count": 12,
   "metadata": {},
   "outputs": [
    {
     "data": {
      "image/png": "[encoded data removed]",
      "text/plain": [
       "<Figure size 432x288 with 1 Axes>"
      ]
     },
     "metadata": {},
     "output_type": "display_data"
    }
   ],
   "source": [
    "plt.plot(stack_res[:45000000,0])\n",
    "# plt.xlim(0,2000)\n",
    "plt.show()"
   ]
  },
  {
   "cell_type": "code",
   "execution_count": 43,
   "metadata": {},
   "outputs": [
    {
     "data": {
      "image/png": "[encoded data removed]",
      "text/plain": [
       "<Figure size 432x288 with 1 Axes>"
      ]
     },
     "metadata": {},
     "output_type": "display_data"
    }
   ],
   "source": [
    "index = random.sample(range(d),1)\n",
    "xindex = np.arange(-3,3,0.001)\n",
    "mean = np.mean(stack_res[:,index])\n",
    "sd = np.std(stack_res[:,index],dtype=np.float64)\n",
    "yindex = scipy.stats.norm.pdf(xindex,loc=mean,scale=sd)\n",
    "plt.hist(stack_res[:,index],bins=200,density=True)\n",
    "plt.plot(xindex,yindex)\n",
    "plt.show()"
   ]
  }
 ],
 "metadata": {
  "kernelspec": {
   "display_name": "Python 3",
   "language": "python",
   "name": "python3"
  },
  "language_info": {
   "codemirror_mode": {
    "name": "ipython",
    "version": 3
   },
   "file_extension": ".py",
   "mimetype": "text/x-python",
   "name": "python",
   "nbconvert_exporter": "python",
   "pygments_lexer": "ipython3",
   "version": "3.7.6"
  }
 },
 "nbformat": 4,
 "nbformat_minor": 2
}
