{
 "cells": [
  {
   "cell_type": "code",
   "execution_count": 1,
   "metadata": {},
   "outputs": [
    {
     "data": {
      "text/html": [
       "<style>.container { width:100% !important; }</style>"
      ],
      "text/plain": [
       "<IPython.core.display.HTML object>"
      ]
     },
     "metadata": {},
     "output_type": "display_data"
    }
   ],
   "source": [
    "from IPython.core.display import display, HTML\n",
    "display(HTML(\"<style>.container { width:100% !important; }</style>\"))"
   ]
  },
  {
   "cell_type": "code",
   "execution_count": 2,
   "metadata": {},
   "outputs": [],
   "source": [
    "from tools import *\n",
    "import matplotlib.pyplot as plt\n",
    "import numpy as np\n",
    "import scipy.stats\n",
    "from scipy.stats import multivariate_normal\n",
    "from scipy.misc import derivative\n",
    "from scipy.linalg import fractional_matrix_power\n",
    "from scipy.stats import wishart\n",
    "from IPython.display import Latex\n",
    "import sys\n",
    "import time"
   ]
  },
  {
   "cell_type": "code",
   "execution_count": 3,
   "metadata": {},
   "outputs": [],
   "source": [
    "def Eff_quantile (Y,p):\n",
    "    rho0=0; n = len(Y); \n",
    "#     quantile = scipy.stats.norm.ppf(percent,loc=mu,scale=std)\n",
    "    quantile = np.quantile(Y,p)\n",
    "    x = np.where(Y<=quantile,1,0);Tint=np.var(x);\n",
    "    for irho in range(1,(n-10)):\n",
    "        rho = np.cov(x[0:n-irho], x[irho:n])[0,1]\n",
    "        if ((irho>10) & (rho+rho0<0)):\n",
    "            break;\n",
    "        Tint += rho*2;\n",
    "        rho0 = rho;\n",
    "#         print('lag:',irho,'|',rho,'sum',':')\n",
    "    return (p*(1-p)/Tint);"
   ]
  },
  {
   "cell_type": "code",
   "execution_count": 4,
   "metadata": {},
   "outputs": [],
   "source": [
    "def logtargetpdf(x, target, mu=0, sigma=1):\n",
    "    lnp = 0.0\n",
    "    if (target == 'Exp'):\n",
    "            lnp = -(x-mu)/sigma if (x>=mu) else -500\n",
    "    elif (target == 'Folded_Gaussian'):\n",
    "            lnp = -(x-mu)**2/(2*sigma**2) if (x>=mu) else -500\n",
    "    elif (target == 'N01_T2'):\n",
    "            lnp = -(x-mu)**2/(2*sigma**2)\n",
    "    elif (target == 'N01_Logistic'):\n",
    "            lnp = -(x-mu)**2/(2*sigma**2)\n",
    "    return (lnp)\n",
    "\n",
    "def transform_x(x,transform,mu=0,sigma=1):\n",
    "    y = 0.0\n",
    "    x = (x-mu)/sigma\n",
    "    if (transform == 'Exp(1)_CDF'):\n",
    "        y = np.exp(-x)\n",
    "    elif (transform == 't2_CDF'):\n",
    "        y = 1/2+x/np.sqrt(8+4*x**2)\n",
    "    elif (transform == 'logistic_CDF'):\n",
    "        y = 1/(1+np.exp(-x))\n",
    "    return y\n",
    "\n",
    "def transform_inverse(y,transform,mu=0,sigma=1):\n",
    "    x = 0.0\n",
    "    if (transform == 'Exp(1)_CDF'):\n",
    "        x = -np.log(y)\n",
    "    elif (transform == 't2_CDF'):\n",
    "        x = (2*y-1)/np.sqrt(2*y*(1-y))\n",
    "    elif (transform == 'logistic_CDF'):\n",
    "        x = -np.log(1/y-1)\n",
    "    x = x * sigma + mu\n",
    "    return x\n",
    "\n",
    "def log_proposal_ratio(x,transform,burnin_off,kernel,mu=0,sigma=1):\n",
    "    ratio = 0.0\n",
    "    if ('Trans' in kernel)&burnin_off:\n",
    "        x = (x-mu)/sigma\n",
    "        if (transform == 'Exp(1)_CDF'):\n",
    "            ratio = -x\n",
    "        elif (transform == 't2_CDF'):\n",
    "            ratio = -3/2*np.log(2+x**2)# - np.log(sigma)\n",
    "        elif (transform == 'logistic_CDF'):\n",
    "            ratio = -x - 2*np.log(1+np.exp(-x))# - np.log(sigma)\n",
    "    return ratio"
   ]
  },
  {
   "cell_type": "code",
   "execution_count": 5,
   "metadata": {
    "collapsed": true
   },
   "outputs": [
    {
     "data": {
      "text/latex": [
       "Target:N01_T2 | Kernel:Uniform | $\\sigma$:0.1 | eff:0.0022 | $P_{jump}$:0.9654 | Exx2:0.0095 | $\\rho_1$:0.9953 | $\\rho_2$:0.9907 | $E_{0.05}$:0.005 | $E_{0.25}$:0.0035 | $E_{0.50}$:0.0031 | Time:94.38"
      ],
      "text/plain": [
       "<IPython.core.display.Latex object>"
      ]
     },
     "metadata": {},
     "output_type": "display_data"
    },
    {
     "data": {
      "text/latex": [
       "Target:N01_T2 | Kernel:Uniform | $\\sigma$:0.3 | eff:0.0187 | $P_{jump}$:0.8967 | Exx2:0.0761 | $\\rho_1$:0.9616 | $\\rho_2$:0.9247 | $E_{0.05}$:0.0395 | $E_{0.25}$:0.0315 | $E_{0.50}$:0.0299 | Time:20.56"
      ],
      "text/plain": [
       "<IPython.core.display.Latex object>"
      ]
     },
     "metadata": {},
     "output_type": "display_data"
    },
    {
     "data": {
      "text/latex": [
       "Target:N01_T2 | Kernel:Uniform | $\\sigma$:0.5 | eff:0.0479 | $P_{jump}$:0.8297 | Exx2:0.1865 | $\\rho_1$:0.9062 | $\\rho_2$:0.8219 | $E_{0.05}$:0.0903 | $E_{0.25}$:0.077 | $E_{0.50}$:0.0752 | Time:10.98"
      ],
      "text/plain": [
       "<IPython.core.display.Latex object>"
      ]
     },
     "metadata": {},
     "output_type": "display_data"
    },
    {
     "data": {
      "text/latex": [
       "Target:N01_T2 | Kernel:Uniform | $\\sigma$:0.7 | eff:0.0836 | $P_{jump}$:0.7649 | Exx2:0.3188 | $\\rho_1$:0.8407 | $\\rho_2$:0.7093 | $E_{0.05}$:0.1416 | $E_{0.25}$:0.1329 | $E_{0.50}$:0.1358 | Time:9.41"
      ],
      "text/plain": [
       "<IPython.core.display.Latex object>"
      ]
     },
     "metadata": {},
     "output_type": "display_data"
    },
    {
     "data": {
      "text/latex": [
       "Target:N01_T2 | Kernel:Uniform | $\\sigma$:0.8 | eff:0.1027 | $P_{jump}$:0.7335 | Exx2:0.3874 | $\\rho_1$:0.8054 | $\\rho_2$:0.6529 | $E_{0.05}$:0.1627 | $E_{0.25}$:0.1607 | $E_{0.50}$:0.1658 | Time:9.83"
      ],
      "text/plain": [
       "<IPython.core.display.Latex object>"
      ]
     },
     "metadata": {},
     "output_type": "display_data"
    },
    {
     "data": {
      "text/latex": [
       "Target:N01_T2 | Kernel:Uniform | $\\sigma$:0.9 | eff:0.1213 | $P_{jump}$:0.704 | Exx2:0.4562 | $\\rho_1$:0.7728 | $\\rho_2$:0.6033 | $E_{0.05}$:0.1827 | $E_{0.25}$:0.1864 | $E_{0.50}$:0.1966 | Time:8.49"
      ],
      "text/plain": [
       "<IPython.core.display.Latex object>"
      ]
     },
     "metadata": {},
     "output_type": "display_data"
    },
    {
     "data": {
      "text/latex": [
       "Target:N01_T2 | Kernel:Uniform | $\\sigma$:1.0 | eff:0.1414 | $P_{jump}$:0.6751 | Exx2:0.5224 | $\\rho_1$:0.738 | $\\rho_2$:0.552 | $E_{0.05}$:0.2086 | $E_{0.25}$:0.2125 | $E_{0.50}$:0.2242 | Time:8.39"
      ],
      "text/plain": [
       "<IPython.core.display.Latex object>"
      ]
     },
     "metadata": {},
     "output_type": "display_data"
    },
    {
     "data": {
      "text/latex": [
       "Target:N01_T2 | Kernel:Uniform | $\\sigma$:1.1 | eff:0.1595 | $P_{jump}$:0.6465 | Exx2:0.5834 | $\\rho_1$:0.709 | $\\rho_2$:0.5115 | $E_{0.05}$:0.2165 | $E_{0.25}$:0.2368 | $E_{0.50}$:0.2491 | Time:8.25"
      ],
      "text/plain": [
       "<IPython.core.display.Latex object>"
      ]
     },
     "metadata": {},
     "output_type": "display_data"
    },
    {
     "data": {
      "text/latex": [
       "Target:N01_T2 | Kernel:Uniform | $\\sigma$:1.3 | eff:0.1932 | $P_{jump}$:0.5928 | Exx2:0.6914 | $\\rho_1$:0.6545 | $\\rho_2$:0.4394 | $E_{0.05}$:0.2467 | $E_{0.25}$:0.2687 | $E_{0.50}$:0.2749 | Time:8.19"
      ],
      "text/plain": [
       "<IPython.core.display.Latex object>"
      ]
     },
     "metadata": {},
     "output_type": "display_data"
    },
    {
     "data": {
      "text/latex": [
       "Target:N01_T2 | Kernel:Uniform | $\\sigma$:1.5 | eff:0.2233 | $P_{jump}$:0.5439 | Exx2:0.7765 | $\\rho_1$:0.6139 | $\\rho_2$:0.3864 | $E_{0.05}$:0.2661 | $E_{0.25}$:0.2856 | $E_{0.50}$:0.2869 | Time:8.05"
      ],
      "text/plain": [
       "<IPython.core.display.Latex object>"
      ]
     },
     "metadata": {},
     "output_type": "display_data"
    },
    {
     "data": {
      "text/latex": [
       "Target:N01_T2 | Kernel:Uniform | $\\sigma$:1.7 | eff:0.2522 | $P_{jump}$:0.4987 | Exx2:0.8316 | $\\rho_1$:0.5841 | $\\rho_2$:0.3479 | $E_{0.05}$:0.2788 | $E_{0.25}$:0.2943 | $E_{0.50}$:0.2854 | Time:7.67"
      ],
      "text/plain": [
       "<IPython.core.display.Latex object>"
      ]
     },
     "metadata": {},
     "output_type": "display_data"
    },
    {
     "data": {
      "text/latex": [
       "Target:N01_T2 | Kernel:Uniform | $\\sigma$:1.8 | eff:0.2603 | $P_{jump}$:0.4794 | Exx2:0.8547 | $\\rho_1$:0.5733 | $\\rho_2$:0.3363 | $E_{0.05}$:0.2827 | $E_{0.25}$:0.2909 | $E_{0.50}$:0.2786 | Time:7.54"
      ],
      "text/plain": [
       "<IPython.core.display.Latex object>"
      ]
     },
     "metadata": {},
     "output_type": "display_data"
    },
    {
     "data": {
      "text/latex": [
       "Target:N01_T2 | Kernel:Uniform | $\\sigma$:1.9 | eff:0.2691 | $P_{jump}$:0.4601 | Exx2:0.8694 | $\\rho_1$:0.5674 | $\\rho_2$:0.3276 | $E_{0.05}$:0.2873 | $E_{0.25}$:0.2816 | $E_{0.50}$:0.2708 | Time:7.48"
      ],
      "text/plain": [
       "<IPython.core.display.Latex object>"
      ]
     },
     "metadata": {},
     "output_type": "display_data"
    },
    {
     "data": {
      "text/latex": [
       "Target:N01_T2 | Kernel:Uniform | $\\sigma$:2.0 | eff:0.2733 | $P_{jump}$:0.4412 | Exx2:0.877 | $\\rho_1$:0.5623 | $\\rho_2$:0.3194 | $E_{0.05}$:0.2944 | $E_{0.25}$:0.2743 | $E_{0.50}$:0.2606 | Time:7.54"
      ],
      "text/plain": [
       "<IPython.core.display.Latex object>"
      ]
     },
     "metadata": {},
     "output_type": "display_data"
    },
    {
     "data": {
      "text/latex": [
       "Target:N01_T2 | Kernel:Uniform | $\\sigma$:2.1 | eff:0.2728 | $P_{jump}$:0.4235 | Exx2:0.8809 | $\\rho_1$:0.5609 | $\\rho_2$:0.3191 | $E_{0.05}$:0.2908 | $E_{0.25}$:0.2658 | $E_{0.50}$:0.2517 | Time:7.79"
      ],
      "text/plain": [
       "<IPython.core.display.Latex object>"
      ]
     },
     "metadata": {},
     "output_type": "display_data"
    },
    {
     "data": {
      "text/latex": [
       "Target:N01_T2 | Kernel:Uniform | $\\sigma$:2.2 | eff:0.2747 | $P_{jump}$:0.4064 | Exx2:0.8739 | $\\rho_1$:0.5634 | $\\rho_2$:0.321 | $E_{0.05}$:0.2864 | $E_{0.25}$:0.2531 | $E_{0.50}$:0.2408 | Time:7.53"
      ],
      "text/plain": [
       "<IPython.core.display.Latex object>"
      ]
     },
     "metadata": {},
     "output_type": "display_data"
    },
    {
     "data": {
      "text/latex": [
       "Target:N01_T2 | Kernel:Uniform | $\\sigma$:2.3 | eff:0.2752 | $P_{jump}$:0.3924 | Exx2:0.8776 | $\\rho_1$:0.5631 | $\\rho_2$:0.3198 | $E_{0.05}$:0.2928 | $E_{0.25}$:0.2446 | $E_{0.50}$:0.2311 | Time:7.64"
      ],
      "text/plain": [
       "<IPython.core.display.Latex object>"
      ]
     },
     "metadata": {},
     "output_type": "display_data"
    },
    {
     "data": {
      "text/latex": [
       "Target:N01_T2 | Kernel:Uniform | $\\sigma$:2.4 | eff:0.268 | $P_{jump}$:0.3763 | Exx2:0.8607 | $\\rho_1$:0.569 | $\\rho_2$:0.3273 | $E_{0.05}$:0.2903 | $E_{0.25}$:0.2316 | $E_{0.50}$:0.2159 | Time:7.73"
      ],
      "text/plain": [
       "<IPython.core.display.Latex object>"
      ]
     },
     "metadata": {},
     "output_type": "display_data"
    },
    {
     "data": {
      "text/latex": [
       "Target:N01_T2 | Kernel:Uniform | $\\sigma$:2.5 | eff:0.2634 | $P_{jump}$:0.3635 | Exx2:0.8558 | $\\rho_1$:0.572 | $\\rho_2$:0.3311 | $E_{0.05}$:0.2839 | $E_{0.25}$:0.2258 | $E_{0.50}$:0.2084 | Time:7.76"
      ],
      "text/plain": [
       "<IPython.core.display.Latex object>"
      ]
     },
     "metadata": {},
     "output_type": "display_data"
    },
    {
     "data": {
      "text/latex": [
       "Target:N01_T2 | Kernel:Uniform | $\\sigma$:2.6 | eff:0.2571 | $P_{jump}$:0.3496 | Exx2:0.8361 | $\\rho_1$:0.5804 | $\\rho_2$:0.3411 | $E_{0.05}$:0.2771 | $E_{0.25}$:0.2158 | $E_{0.50}$:0.2016 | Time:7.78"
      ],
      "text/plain": [
       "<IPython.core.display.Latex object>"
      ]
     },
     "metadata": {},
     "output_type": "display_data"
    },
    {
     "data": {
      "text/latex": [
       "Target:N01_T2 | Kernel:Uniform | $\\sigma$:2.8 | eff:0.2488 | $P_{jump}$:0.3273 | Exx2:0.8174 | $\\rho_1$:0.5934 | $\\rho_2$:0.3552 | $E_{0.05}$:0.2635 | $E_{0.25}$:0.2017 | $E_{0.50}$:0.1871 | Time:8.17"
      ],
      "text/plain": [
       "<IPython.core.display.Latex object>"
      ]
     },
     "metadata": {},
     "output_type": "display_data"
    },
    {
     "data": {
      "text/latex": [
       "Target:N01_T2 | Kernel:Uniform | $\\sigma$:3.0 | eff:0.2322 | $P_{jump}$:0.3066 | Exx2:0.7871 | $\\rho_1$:0.6088 | $\\rho_2$:0.3758 | $E_{0.05}$:0.2467 | $E_{0.25}$:0.183 | $E_{0.50}$:0.1717 | Time:8.28"
      ],
      "text/plain": [
       "<IPython.core.display.Latex object>"
      ]
     },
     "metadata": {},
     "output_type": "display_data"
    },
    {
     "data": {
      "text/latex": [
       "Target:N01_T2 | Kernel:Uniform | $\\sigma$:3.2 | eff:0.2182 | $P_{jump}$:0.2863 | Exx2:0.739 | $\\rho_1$:0.6285 | $\\rho_2$:0.401 | $E_{0.05}$:0.2315 | $E_{0.25}$:0.1719 | $E_{0.50}$:0.1602 | Time:8.28"
      ],
      "text/plain": [
       "<IPython.core.display.Latex object>"
      ]
     },
     "metadata": {},
     "output_type": "display_data"
    },
    {
     "data": {
      "text/latex": [
       "Target:N01_T2 | Kernel:Uniform | $\\sigma$:3.5 | eff:0.1995 | $P_{jump}$:0.2628 | Exx2:0.6883 | $\\rho_1$:0.6557 | $\\rho_2$:0.4343 | $E_{0.05}$:0.2078 | $E_{0.25}$:0.1555 | $E_{0.50}$:0.1444 | Time:8.92"
      ],
      "text/plain": [
       "<IPython.core.display.Latex object>"
      ]
     },
     "metadata": {},
     "output_type": "display_data"
    },
    {
     "data": {
      "text/latex": [
       "Target:N01_T2 | Kernel:Uniform | $\\sigma$:4.0 | eff:0.168 | $P_{jump}$:0.2302 | Exx2:0.6128 | $\\rho_1$:0.6933 | $\\rho_2$:0.4867 | $E_{0.05}$:0.1768 | $E_{0.25}$:0.1336 | $E_{0.50}$:0.1243 | Time:9.82"
      ],
      "text/plain": [
       "<IPython.core.display.Latex object>"
      ]
     },
     "metadata": {},
     "output_type": "display_data"
    },
    {
     "data": {
      "text/latex": [
       "Target:N01_T2 | Kernel:Uniform | $\\sigma$:4.5 | eff:0.1499 | $P_{jump}$:0.2046 | Exx2:0.5442 | $\\rho_1$:0.7283 | $\\rho_2$:0.5352 | $E_{0.05}$:0.1549 | $E_{0.25}$:0.1176 | $E_{0.50}$:0.1084 | Time:9.66"
      ],
      "text/plain": [
       "<IPython.core.display.Latex object>"
      ]
     },
     "metadata": {},
     "output_type": "display_data"
    },
    {
     "data": {
      "text/latex": [
       "Target:N01_T2 | Kernel:Uniform | $\\sigma$:5.0 | eff:0.1333 | $P_{jump}$:0.1843 | Exx2:0.4956 | $\\rho_1$:0.7523 | $\\rho_2$:0.5698 | $E_{0.05}$:0.1363 | $E_{0.25}$:0.1022 | $E_{0.50}$:0.098 | Time:9.32"
      ],
      "text/plain": [
       "<IPython.core.display.Latex object>"
      ]
     },
     "metadata": {},
     "output_type": "display_data"
    },
    {
     "data": {
      "text/latex": [
       "Target:N01_T2 | Kernel:Uniform | $\\sigma$:6.0 | eff:0.1095 | $P_{jump}$:0.1537 | Exx2:0.4139 | $\\rho_1$:0.7935 | $\\rho_2$:0.6324 | $E_{0.05}$:0.1116 | $E_{0.25}$:0.0849 | $E_{0.50}$:0.08 | Time:10.39"
      ],
      "text/plain": [
       "<IPython.core.display.Latex object>"
      ]
     },
     "metadata": {},
     "output_type": "display_data"
    },
    {
     "data": {
      "text/latex": [
       "Target:N01_T2 | Kernel:Uniform | $\\sigma$:7.0 | eff:0.0912 | $P_{jump}$:0.1311 | Exx2:0.3469 | $\\rho_1$:0.825 | $\\rho_2$:0.6824 | $E_{0.05}$:0.0957 | $E_{0.25}$:0.0712 | $E_{0.50}$:0.0676 | Time:10.51"
      ],
      "text/plain": [
       "<IPython.core.display.Latex object>"
      ]
     },
     "metadata": {},
     "output_type": "display_data"
    },
    {
     "data": {
      "text/latex": [
       "Target:N01_T2 | Kernel:Uniform | $\\sigma$:8.0 | eff:0.0784 | $P_{jump}$:0.115 | Exx2:0.3065 | $\\rho_1$:0.8474 | $\\rho_2$:0.719 | $E_{0.05}$:0.0809 | $E_{0.25}$:0.0602 | $E_{0.50}$:0.0588 | Time:13.67"
      ],
      "text/plain": [
       "<IPython.core.display.Latex object>"
      ]
     },
     "metadata": {},
     "output_type": "display_data"
    },
    {
     "data": {
      "text/latex": [
       "Target:N01_T2 | Kernel:TransUniform | $\\sigma$:0.1 | eff:0.036 | $P_{jump}$:0.8903 | Exx2:0.1944 | $\\rho_1$:0.9025 | $\\rho_2$:0.8266 | $E_{0.05}$:0.1509 | $E_{0.25}$:0.0544 | $E_{0.50}$:0.0398 | Time:21.92"
      ],
      "text/plain": [
       "<IPython.core.display.Latex object>"
      ]
     },
     "metadata": {},
     "output_type": "display_data"
    },
    {
     "data": {
      "text/latex": [
       "Target:N01_T2 | Kernel:TransUniform | $\\sigma$:0.3 | eff:0.2762 | $P_{jump}$:0.8309 | Exx2:0.8968 | $\\rho_1$:0.5516 | $\\rho_2$:0.3194 | $E_{0.05}$:0.6134 | $E_{0.25}$:0.3526 | $E_{0.50}$:0.3293 | Time:15.51"
      ],
      "text/plain": [
       "<IPython.core.display.Latex object>"
      ]
     },
     "metadata": {},
     "output_type": "display_data"
    },
    {
     "data": {
      "text/latex": [
       "Target:N01_T2 | Kernel:TransUniform | $\\sigma$:0.5 | eff:0.5879 | $P_{jump}$:0.8188 | Exx2:1.5064 | $\\rho_1$:0.246 | $\\rho_2$:0.0702 | $E_{0.05}$:0.7981 | $E_{0.25}$:0.6163 | $E_{0.50}$:0.5298 | Time:16.17"
      ],
      "text/plain": [
       "<IPython.core.display.Latex object>"
      ]
     },
     "metadata": {},
     "output_type": "display_data"
    },
    {
     "data": {
      "text/latex": [
       "Target:N01_T2 | Kernel:TransUniform | $\\sigma$:0.7 | eff:0.8764 | $P_{jump}$:0.8366 | Exx2:1.8715 | $\\rho_1$:0.0648 | $\\rho_2$:0.0092 | $E_{0.05}$:0.7143 | $E_{0.25}$:0.7395 | $E_{0.50}$:0.9013 | Time:16.36"
      ],
      "text/plain": [
       "<IPython.core.display.Latex object>"
      ]
     },
     "metadata": {},
     "output_type": "display_data"
    },
    {
     "data": {
      "text/latex": [
       "Target:N01_T2 | Kernel:TransUniform | $\\sigma$:0.8 | eff:0.9604 | $P_{jump}$:0.8325 | Exx2:1.9559 | $\\rho_1$:0.0215 | $\\rho_2$:0.0016 | $E_{0.05}$:0.7626 | $E_{0.25}$:0.7747 | $E_{0.50}$:0.8851 | Time:15.92"
      ],
      "text/plain": [
       "<IPython.core.display.Latex object>"
      ]
     },
     "metadata": {},
     "output_type": "display_data"
    },
    {
     "data": {
      "text/latex": [
       "Target:N01_T2 | Kernel:TransUniform | $\\sigma$:0.9 | eff:0.9617 | $P_{jump}$:0.8294 | Exx2:1.9705 | $\\rho_1$:0.016 | $\\rho_2$:0.0009 | $E_{0.05}$:0.7867 | $E_{0.25}$:0.8295 | $E_{0.50}$:0.8388 | Time:16.21"
      ],
      "text/plain": [
       "<IPython.core.display.Latex object>"
      ]
     },
     "metadata": {},
     "output_type": "display_data"
    },
    {
     "data": {
      "text/latex": [
       "Target:N01_T2 | Kernel:TransUniform | $\\sigma$:1.0 | eff:0.8979 | $P_{jump}$:0.8265 | Exx2:1.8983 | $\\rho_1$:0.0503 | $\\rho_2$:0.0041 | $E_{0.05}$:0.8241 | $E_{0.25}$:0.7965 | $E_{0.50}$:0.8311 | Time:15.62"
      ],
      "text/plain": [
       "<IPython.core.display.Latex object>"
      ]
     },
     "metadata": {},
     "output_type": "display_data"
    },
    {
     "data": {
      "text/latex": [
       "Target:N01_T2 | Kernel:TransUniform | $\\sigma$:1.1 | eff:0.7764 | $P_{jump}$:0.8245 | Exx2:1.7662 | $\\rho_1$:0.1155 | $\\rho_2$:0.0139 | $E_{0.05}$:0.7947 | $E_{0.25}$:0.7416 | $E_{0.50}$:0.751 | Time:16.09"
      ],
      "text/plain": [
       "<IPython.core.display.Latex object>"
      ]
     },
     "metadata": {},
     "output_type": "display_data"
    },
    {
     "data": {
      "text/latex": [
       "Target:N01_T2 | Kernel:TransUniform | $\\sigma$:1.3 | eff:0.617 | $P_{jump}$:0.8329 | Exx2:1.5401 | $\\rho_1$:0.2295 | $\\rho_2$:0.0561 | $E_{0.05}$:0.6978 | $E_{0.25}$:0.6233 | $E_{0.50}$:0.6173 | Time:15.77"
      ],
      "text/plain": [
       "<IPython.core.display.Latex object>"
      ]
     },
     "metadata": {},
     "output_type": "display_data"
    },
    {
     "data": {
      "text/latex": [
       "Target:N01_T2 | Kernel:TransUniform | $\\sigma$:1.5 | eff:0.6263 | $P_{jump}$:0.8297 | Exx2:1.5468 | $\\rho_1$:0.2249 | $\\rho_2$:0.0533 | $E_{0.05}$:0.7533 | $E_{0.25}$:0.6449 | $E_{0.50}$:0.6208 | Time:15.89"
      ],
      "text/plain": [
       "<IPython.core.display.Latex object>"
      ]
     },
     "metadata": {},
     "output_type": "display_data"
    },
    {
     "data": {
      "text/latex": [
       "Target:N01_T2 | Kernel:TransUniform | $\\sigma$:1.7 | eff:0.7021 | $P_{jump}$:0.8269 | Exx2:1.6616 | $\\rho_1$:0.1696 | $\\rho_2$:0.0296 | $E_{0.05}$:0.7479 | $E_{0.25}$:0.684 | $E_{0.50}$:0.6719 | Time:15.51"
      ],
      "text/plain": [
       "<IPython.core.display.Latex object>"
      ]
     },
     "metadata": {},
     "output_type": "display_data"
    },
    {
     "data": {
      "text/latex": [
       "Target:N01_T2 | Kernel:TransUniform | $\\sigma$:1.8 | eff:0.7614 | $P_{jump}$:0.8331 | Exx2:1.7434 | $\\rho_1$:0.128 | $\\rho_2$:0.0173 | $E_{0.05}$:0.7437 | $E_{0.25}$:0.713 | $E_{0.50}$:0.7488 | Time:16.53"
      ],
      "text/plain": [
       "<IPython.core.display.Latex object>"
      ]
     },
     "metadata": {},
     "output_type": "display_data"
    },
    {
     "data": {
      "text/latex": [
       "Target:N01_T2 | Kernel:TransUniform | $\\sigma$:1.9 | eff:0.7997 | $P_{jump}$:0.8314 | Exx2:1.7879 | $\\rho_1$:0.1093 | $\\rho_2$:0.013 | $E_{0.05}$:0.7506 | $E_{0.25}$:0.7207 | $E_{0.50}$:0.7829 | Time:16.85"
      ],
      "text/plain": [
       "<IPython.core.display.Latex object>"
      ]
     },
     "metadata": {},
     "output_type": "display_data"
    },
    {
     "data": {
      "text/latex": [
       "Target:N01_T2 | Kernel:TransUniform | $\\sigma$:2.0 | eff:0.8232 | $P_{jump}$:0.8289 | Exx2:1.81 | $\\rho_1$:0.0952 | $\\rho_2$:0.011 | $E_{0.05}$:0.7607 | $E_{0.25}$:0.7426 | $E_{0.50}$:0.7657 | Time:17.03"
      ],
      "text/plain": [
       "<IPython.core.display.Latex object>"
      ]
     },
     "metadata": {},
     "output_type": "display_data"
    },
    {
     "data": {
      "text/latex": [
       "Target:N01_T2 | Kernel:TransUniform | $\\sigma$:2.1 | eff:0.8296 | $P_{jump}$:0.8287 | Exx2:1.8047 | $\\rho_1$:0.0968 | $\\rho_2$:0.0089 | $E_{0.05}$:0.7795 | $E_{0.25}$:0.7572 | $E_{0.50}$:0.7746 | Time:16.68"
      ],
      "text/plain": [
       "<IPython.core.display.Latex object>"
      ]
     },
     "metadata": {},
     "output_type": "display_data"
    },
    {
     "data": {
      "text/latex": [
       "Target:N01_T2 | Kernel:TransUniform | $\\sigma$:2.2 | eff:0.7978 | $P_{jump}$:0.8277 | Exx2:1.7708 | $\\rho_1$:0.1154 | $\\rho_2$:0.0152 | $E_{0.05}$:0.7905 | $E_{0.25}$:0.7376 | $E_{0.50}$:0.757 | Time:16.05"
      ],
      "text/plain": [
       "<IPython.core.display.Latex object>"
      ]
     },
     "metadata": {},
     "output_type": "display_data"
    },
    {
     "data": {
      "text/latex": [
       "Target:N01_T2 | Kernel:TransUniform | $\\sigma$:2.3 | eff:0.7343 | $P_{jump}$:0.8298 | Exx2:1.699 | $\\rho_1$:0.1512 | $\\rho_2$:0.0235 | $E_{0.05}$:0.7689 | $E_{0.25}$:0.7078 | $E_{0.50}$:0.7168 | Time:15.78"
      ],
      "text/plain": [
       "<IPython.core.display.Latex object>"
      ]
     },
     "metadata": {},
     "output_type": "display_data"
    },
    {
     "data": {
      "text/latex": [
       "Target:N01_T2 | Kernel:TransUniform | $\\sigma$:2.4 | eff:0.6926 | $P_{jump}$:0.8341 | Exx2:1.636 | $\\rho_1$:0.1819 | $\\rho_2$:0.0357 | $E_{0.05}$:0.7455 | $E_{0.25}$:0.669 | $E_{0.50}$:0.6797 | Time:15.87"
      ],
      "text/plain": [
       "<IPython.core.display.Latex object>"
      ]
     },
     "metadata": {},
     "output_type": "display_data"
    },
    {
     "data": {
      "text/latex": [
       "Target:N01_T2 | Kernel:TransUniform | $\\sigma$:2.5 | eff:0.6737 | $P_{jump}$:0.8328 | Exx2:1.6005 | $\\rho_1$:0.199 | $\\rho_2$:0.0412 | $E_{0.05}$:0.7357 | $E_{0.25}$:0.6612 | $E_{0.50}$:0.6642 | Time:15.46"
      ],
      "text/plain": [
       "<IPython.core.display.Latex object>"
      ]
     },
     "metadata": {},
     "output_type": "display_data"
    },
    {
     "data": {
      "text/latex": [
       "Target:N01_T2 | Kernel:TransUniform | $\\sigma$:2.6 | eff:0.6629 | $P_{jump}$:0.8304 | Exx2:1.5982 | $\\rho_1$:0.2 | $\\rho_2$:0.0408 | $E_{0.05}$:0.7393 | $E_{0.25}$:0.6662 | $E_{0.50}$:0.6591 | Time:15.78"
      ],
      "text/plain": [
       "<IPython.core.display.Latex object>"
      ]
     },
     "metadata": {},
     "output_type": "display_data"
    },
    {
     "data": {
      "text/latex": [
       "Target:N01_T2 | Kernel:TransUniform | $\\sigma$:2.8 | eff:0.7064 | $P_{jump}$:0.829 | Exx2:1.6603 | $\\rho_1$:0.1687 | $\\rho_2$:0.0294 | $E_{0.05}$:0.7679 | $E_{0.25}$:0.6929 | $E_{0.50}$:0.6758 | Time:16.01"
      ],
      "text/plain": [
       "<IPython.core.display.Latex object>"
      ]
     },
     "metadata": {},
     "output_type": "display_data"
    },
    {
     "data": {
      "text/latex": [
       "Target:N01_T2 | Kernel:TransUniform | $\\sigma$:3.0 | eff:0.7629 | $P_{jump}$:0.8315 | Exx2:1.735 | $\\rho_1$:0.1329 | $\\rho_2$:0.0193 | $E_{0.05}$:0.7346 | $E_{0.25}$:0.7112 | $E_{0.50}$:0.7518 | Time:15.56"
      ],
      "text/plain": [
       "<IPython.core.display.Latex object>"
      ]
     },
     "metadata": {},
     "output_type": "display_data"
    },
    {
     "data": {
      "text/latex": [
       "Target:N01_T2 | Kernel:TransUniform | $\\sigma$:3.2 | eff:0.7951 | $P_{jump}$:0.8296 | Exx2:1.7706 | $\\rho_1$:0.1136 | $\\rho_2$:0.0146 | $E_{0.05}$:0.7712 | $E_{0.25}$:0.7354 | $E_{0.50}$:0.7441 | Time:15.74"
      ],
      "text/plain": [
       "<IPython.core.display.Latex object>"
      ]
     },
     "metadata": {},
     "output_type": "display_data"
    },
    {
     "data": {
      "text/latex": [
       "Target:N01_T2 | Kernel:TransUniform | $\\sigma$:3.5 | eff:0.7254 | $P_{jump}$:0.8331 | Exx2:1.6781 | $\\rho_1$:0.162 | $\\rho_2$:0.0259 | $E_{0.05}$:0.7516 | $E_{0.25}$:0.6976 | $E_{0.50}$:0.7029 | Time:16.31"
      ],
      "text/plain": [
       "<IPython.core.display.Latex object>"
      ]
     },
     "metadata": {},
     "output_type": "display_data"
    },
    {
     "data": {
      "text/latex": [
       "Target:N01_T2 | Kernel:TransUniform | $\\sigma$:4.0 | eff:0.7179 | $P_{jump}$:0.8277 | Exx2:1.6733 | $\\rho_1$:0.1623 | $\\rho_2$:0.0285 | $E_{0.05}$:0.7602 | $E_{0.25}$:0.6866 | $E_{0.50}$:0.6889 | Time:15.91"
      ],
      "text/plain": [
       "<IPython.core.display.Latex object>"
      ]
     },
     "metadata": {},
     "output_type": "display_data"
    },
    {
     "data": {
      "text/latex": [
       "Target:N01_T2 | Kernel:TransUniform | $\\sigma$:4.5 | eff:0.7623 | $P_{jump}$:0.8306 | Exx2:1.7371 | $\\rho_1$:0.1316 | $\\rho_2$:0.0185 | $E_{0.05}$:0.7677 | $E_{0.25}$:0.7182 | $E_{0.50}$:0.7322 | Time:15.92"
      ],
      "text/plain": [
       "<IPython.core.display.Latex object>"
      ]
     },
     "metadata": {},
     "output_type": "display_data"
    },
    {
     "data": {
      "text/latex": [
       "Target:N01_T2 | Kernel:TransUniform | $\\sigma$:5.0 | eff:0.6997 | $P_{jump}$:0.829 | Exx2:1.6579 | $\\rho_1$:0.1717 | $\\rho_2$:0.0308 | $E_{0.05}$:0.7479 | $E_{0.25}$:0.6854 | $E_{0.50}$:0.6775 | Time:15.64"
      ],
      "text/plain": [
       "<IPython.core.display.Latex object>"
      ]
     },
     "metadata": {},
     "output_type": "display_data"
    },
    {
     "data": {
      "text/latex": [
       "Target:N01_T2 | Kernel:TransUniform | $\\sigma$:6.0 | eff:0.7036 | $P_{jump}$:0.8326 | Exx2:1.6543 | $\\rho_1$:0.1715 | $\\rho_2$:0.032 | $E_{0.05}$:0.7528 | $E_{0.25}$:0.6804 | $E_{0.50}$:0.6985 | Time:15.97"
      ],
      "text/plain": [
       "<IPython.core.display.Latex object>"
      ]
     },
     "metadata": {},
     "output_type": "display_data"
    },
    {
     "data": {
      "text/latex": [
       "Target:N01_T2 | Kernel:TransUniform | $\\sigma$:7.0 | eff:0.7191 | $P_{jump}$:0.8314 | Exx2:1.678 | $\\rho_1$:0.1601 | $\\rho_2$:0.0273 | $E_{0.05}$:0.7361 | $E_{0.25}$:0.6906 | $E_{0.50}$:0.6979 | Time:16.64"
      ],
      "text/plain": [
       "<IPython.core.display.Latex object>"
      ]
     },
     "metadata": {},
     "output_type": "display_data"
    },
    {
     "data": {
      "text/latex": [
       "Target:N01_T2 | Kernel:TransUniform | $\\sigma$:8.0 | eff:0.7453 | $P_{jump}$:0.8298 | Exx2:1.7138 | $\\rho_1$:0.1446 | $\\rho_2$:0.0225 | $E_{0.05}$:0.767 | $E_{0.25}$:0.7008 | $E_{0.50}$:0.7138 | Time:16.12"
      ],
      "text/plain": [
       "<IPython.core.display.Latex object>"
      ]
     },
     "metadata": {},
     "output_type": "display_data"
    },
    {
     "data": {
      "text/latex": [
       "Target:N01_T2 | Kernel:TransBactrian | $\\sigma$:0.1 | eff:0.0363 | $P_{jump}$:0.8759 | Exx2:0.2083 | $\\rho_1$:0.8961 | $\\rho_2$:0.8195 | $E_{0.05}$:0.1626 | $E_{0.25}$:0.0562 | $E_{0.50}$:0.0401 | Time:20.47"
      ],
      "text/plain": [
       "<IPython.core.display.Latex object>"
      ]
     },
     "metadata": {},
     "output_type": "display_data"
    },
    {
     "data": {
      "text/latex": [
       "Target:N01_T2 | Kernel:TransBactrian | $\\sigma$:0.3 | eff:0.3041 | $P_{jump}$:0.7968 | Exx2:0.972 | $\\rho_1$:0.5137 | $\\rho_2$:0.2855 | $E_{0.05}$:0.7613 | $E_{0.25}$:0.3844 | $E_{0.50}$:0.3701 | Time:15.46"
      ],
      "text/plain": [
       "<IPython.core.display.Latex object>"
      ]
     },
     "metadata": {},
     "output_type": "display_data"
    },
    {
     "data": {
      "text/latex": [
       "Target:N01_T2 | Kernel:TransBactrian | $\\sigma$:0.5 | eff:0.7813 | $P_{jump}$:0.8011 | Exx2:1.7749 | $\\rho_1$:0.114 | $\\rho_2$:0.0199 | $E_{0.05}$:0.9911 | $E_{0.25}$:0.8313 | $E_{0.50}$:0.628 | Time:16.27"
      ],
      "text/plain": [
       "<IPython.core.display.Latex object>"
      ]
     },
     "metadata": {},
     "output_type": "display_data"
    },
    {
     "data": {
      "text/latex": [
       "Target:N01_T2 | Kernel:TransBactrian | $\\sigma$:0.7 | eff:1.294 | $P_{jump}$:0.8188 | Exx2:2.2588 | $\\rho_1$:-0.1275 | $\\rho_2$:0.0164 | $E_{0.05}$:0.9017 | $E_{0.25}$:0.9995 | $E_{0.50}$:0.9429 | Time:16.39"
      ],
      "text/plain": [
       "<IPython.core.display.Latex object>"
      ]
     },
     "metadata": {},
     "output_type": "display_data"
    },
    {
     "data": {
      "text/latex": [
       "Target:N01_T2 | Kernel:TransBactrian | $\\sigma$:0.8 | eff:1.4779 | $P_{jump}$:0.8294 | Exx2:2.3937 | $\\rho_1$:-0.1962 | $\\rho_2$:0.041 | $E_{0.05}$:0.8059 | $E_{0.25}$:0.9644 | $E_{0.50}$:1.1778 | Time:16.69"
      ],
      "text/plain": [
       "<IPython.core.display.Latex object>"
      ]
     },
     "metadata": {},
     "output_type": "display_data"
    },
    {
     "data": {
      "text/latex": [
       "Target:N01_T2 | Kernel:TransBactrian | $\\sigma$:0.9 | eff:1.5995 | $P_{jump}$:0.8381 | Exx2:2.4735 | $\\rho_1$:-0.2362 | $\\rho_2$:0.0615 | $E_{0.05}$:0.7738 | $E_{0.25}$:0.9434 | $E_{0.50}$:1.3625 | Time:16.93"
      ],
      "text/plain": [
       "<IPython.core.display.Latex object>"
      ]
     },
     "metadata": {},
     "output_type": "display_data"
    },
    {
     "data": {
      "text/latex": [
       "Target:N01_T2 | Kernel:TransBactrian | $\\sigma$:1.0 | eff:1.5867 | $P_{jump}$:0.837 | Exx2:2.4572 | $\\rho_1$:-0.2324 | $\\rho_2$:0.0597 | $E_{0.05}$:0.7624 | $E_{0.25}$:0.9277 | $E_{0.50}$:1.3686 | Time:17.17"
      ],
      "text/plain": [
       "<IPython.core.display.Latex object>"
      ]
     },
     "metadata": {},
     "output_type": "display_data"
    },
    {
     "data": {
      "text/latex": [
       "Target:N01_T2 | Kernel:TransBactrian | $\\sigma$:1.1 | eff:1.4849 | $P_{jump}$:0.8355 | Exx2:2.402 | $\\rho_1$:-0.2026 | $\\rho_2$:0.0464 | $E_{0.05}$:0.7797 | $E_{0.25}$:0.9351 | $E_{0.50}$:1.2763 | Time:16.43"
      ],
      "text/plain": [
       "<IPython.core.display.Latex object>"
      ]
     },
     "metadata": {},
     "output_type": "display_data"
    },
    {
     "data": {
      "text/latex": [
       "Target:N01_T2 | Kernel:TransBactrian | $\\sigma$:1.3 | eff:1.1232 | $P_{jump}$:0.8304 | Exx2:2.1264 | $\\rho_1$:-0.0642 | $\\rho_2$:0.0064 | $E_{0.05}$:0.7957 | $E_{0.25}$:0.8715 | $E_{0.50}$:1.006 | Time:15.82"
      ],
      "text/plain": [
       "<IPython.core.display.Latex object>"
      ]
     },
     "metadata": {},
     "output_type": "display_data"
    },
    {
     "data": {
      "text/latex": [
       "Target:N01_T2 | Kernel:TransBactrian | $\\sigma$:1.5 | eff:0.8135 | $P_{jump}$:0.8299 | Exx2:1.7987 | $\\rho_1$:0.1006 | $\\rho_2$:0.012 | $E_{0.05}$:0.7661 | $E_{0.25}$:0.7426 | $E_{0.50}$:0.7733 | Time:15.53"
      ],
      "text/plain": [
       "<IPython.core.display.Latex object>"
      ]
     },
     "metadata": {},
     "output_type": "display_data"
    },
    {
     "data": {
      "text/latex": [
       "Target:N01_T2 | Kernel:TransBactrian | $\\sigma$:1.7 | eff:0.6512 | $P_{jump}$:0.8318 | Exx2:1.5815 | $\\rho_1$:0.2102 | $\\rho_2$:0.0476 | $E_{0.05}$:0.7484 | $E_{0.25}$:0.6575 | $E_{0.50}$:0.6459 | Time:15.77"
      ],
      "text/plain": [
       "<IPython.core.display.Latex object>"
      ]
     },
     "metadata": {},
     "output_type": "display_data"
    },
    {
     "data": {
      "text/latex": [
       "Target:N01_T2 | Kernel:TransBactrian | $\\sigma$:1.8 | eff:0.6092 | $P_{jump}$:0.8301 | Exx2:1.5254 | $\\rho_1$:0.2369 | $\\rho_2$:0.0593 | $E_{0.05}$:0.7301 | $E_{0.25}$:0.6254 | $E_{0.50}$:0.6013 | Time:15.68"
      ],
      "text/plain": [
       "<IPython.core.display.Latex object>"
      ]
     },
     "metadata": {},
     "output_type": "display_data"
    },
    {
     "data": {
      "text/latex": [
       "Target:N01_T2 | Kernel:TransBactrian | $\\sigma$:1.9 | eff:0.5971 | $P_{jump}$:0.8304 | Exx2:1.5046 | $\\rho_1$:0.2481 | $\\rho_2$:0.0639 | $E_{0.05}$:0.7217 | $E_{0.25}$:0.6155 | $E_{0.50}$:0.5959 | Time:15.89"
      ],
      "text/plain": [
       "<IPython.core.display.Latex object>"
      ]
     },
     "metadata": {},
     "output_type": "display_data"
    },
    {
     "data": {
      "text/latex": [
       "Target:N01_T2 | Kernel:TransBactrian | $\\sigma$:2.0 | eff:0.6054 | $P_{jump}$:0.8297 | Exx2:1.5093 | $\\rho_1$:0.2438 | $\\rho_2$:0.0611 | $E_{0.05}$:0.7299 | $E_{0.25}$:0.6174 | $E_{0.50}$:0.6006 | Time:15.78"
      ],
      "text/plain": [
       "<IPython.core.display.Latex object>"
      ]
     },
     "metadata": {},
     "output_type": "display_data"
    },
    {
     "data": {
      "text/latex": [
       "Target:N01_T2 | Kernel:TransBactrian | $\\sigma$:2.1 | eff:0.6173 | $P_{jump}$:0.8296 | Exx2:1.5344 | $\\rho_1$:0.2315 | $\\rho_2$:0.0572 | $E_{0.05}$:0.7377 | $E_{0.25}$:0.6317 | $E_{0.50}$:0.6121 | Time:15.84"
      ],
      "text/plain": [
       "<IPython.core.display.Latex object>"
      ]
     },
     "metadata": {},
     "output_type": "display_data"
    },
    {
     "data": {
      "text/latex": [
       "Target:N01_T2 | Kernel:TransBactrian | $\\sigma$:2.2 | eff:0.6359 | $P_{jump}$:0.8301 | Exx2:1.5726 | $\\rho_1$:0.2165 | $\\rho_2$:0.0495 | $E_{0.05}$:0.7312 | $E_{0.25}$:0.642 | $E_{0.50}$:0.6293 | Time:15.77"
      ],
      "text/plain": [
       "<IPython.core.display.Latex object>"
      ]
     },
     "metadata": {},
     "output_type": "display_data"
    },
    {
     "data": {
      "text/latex": [
       "Target:N01_T2 | Kernel:TransBactrian | $\\sigma$:2.3 | eff:0.6663 | $P_{jump}$:0.8298 | Exx2:1.6083 | $\\rho_1$:0.197 | $\\rho_2$:0.0412 | $E_{0.05}$:0.7417 | $E_{0.25}$:0.6578 | $E_{0.50}$:0.6552 | Time:15.98"
      ],
      "text/plain": [
       "<IPython.core.display.Latex object>"
      ]
     },
     "metadata": {},
     "output_type": "display_data"
    },
    {
     "data": {
      "text/latex": [
       "Target:N01_T2 | Kernel:TransBactrian | $\\sigma$:2.4 | eff:0.6916 | $P_{jump}$:0.8305 | Exx2:1.6344 | $\\rho_1$:0.1804 | $\\rho_2$:0.0361 | $E_{0.05}$:0.7484 | $E_{0.25}$:0.6829 | $E_{0.50}$:0.6725 | Time:16.21"
      ],
      "text/plain": [
       "<IPython.core.display.Latex object>"
      ]
     },
     "metadata": {},
     "output_type": "display_data"
    },
    {
     "data": {
      "text/latex": [
       "Target:N01_T2 | Kernel:TransBactrian | $\\sigma$:2.5 | eff:0.7157 | $P_{jump}$:0.8304 | Exx2:1.6642 | $\\rho_1$:0.166 | $\\rho_2$:0.029 | $E_{0.05}$:0.7511 | $E_{0.25}$:0.6905 | $E_{0.50}$:0.6953 | Time:15.97"
      ],
      "text/plain": [
       "<IPython.core.display.Latex object>"
      ]
     },
     "metadata": {},
     "output_type": "display_data"
    },
    {
     "data": {
      "text/latex": [
       "Target:N01_T2 | Kernel:TransBactrian | $\\sigma$:2.6 | eff:0.7342 | $P_{jump}$:0.8304 | Exx2:1.688 | $\\rho_1$:0.1551 | $\\rho_2$:0.0274 | $E_{0.05}$:0.7493 | $E_{0.25}$:0.6981 | $E_{0.50}$:0.7082 | Time:16.1"
      ],
      "text/plain": [
       "<IPython.core.display.Latex object>"
      ]
     },
     "metadata": {},
     "output_type": "display_data"
    },
    {
     "data": {
      "text/latex": [
       "Target:N01_T2 | Kernel:TransBactrian | $\\sigma$:2.8 | eff:0.733 | $P_{jump}$:0.8295 | Exx2:1.7063 | $\\rho_1$:0.147 | $\\rho_2$:0.0239 | $E_{0.05}$:0.7597 | $E_{0.25}$:0.6885 | $E_{0.50}$:0.7105 | Time:16.13"
      ],
      "text/plain": [
       "<IPython.core.display.Latex object>"
      ]
     },
     "metadata": {},
     "output_type": "display_data"
    },
    {
     "data": {
      "text/latex": [
       "Target:N01_T2 | Kernel:TransBactrian | $\\sigma$:3.0 | eff:0.7369 | $P_{jump}$:0.8299 | Exx2:1.7061 | $\\rho_1$:0.1464 | $\\rho_2$:0.0228 | $E_{0.05}$:0.7531 | $E_{0.25}$:0.6952 | $E_{0.50}$:0.7139 | Time:16.14"
      ],
      "text/plain": [
       "<IPython.core.display.Latex object>"
      ]
     },
     "metadata": {},
     "output_type": "display_data"
    },
    {
     "data": {
      "text/latex": [
       "Target:N01_T2 | Kernel:TransBactrian | $\\sigma$:3.2 | eff:0.7381 | $P_{jump}$:0.8311 | Exx2:1.7062 | $\\rho_1$:0.1472 | $\\rho_2$:0.0231 | $E_{0.05}$:0.7624 | $E_{0.25}$:0.6918 | $E_{0.50}$:0.7104 | Time:15.93"
      ],
      "text/plain": [
       "<IPython.core.display.Latex object>"
      ]
     },
     "metadata": {},
     "output_type": "display_data"
    },
    {
     "data": {
      "text/latex": [
       "Target:N01_T2 | Kernel:TransBactrian | $\\sigma$:3.5 | eff:0.7355 | $P_{jump}$:0.8313 | Exx2:1.6991 | $\\rho_1$:0.1511 | $\\rho_2$:0.024 | $E_{0.05}$:0.7507 | $E_{0.25}$:0.7039 | $E_{0.50}$:0.7123 | Time:16.32"
      ],
      "text/plain": [
       "<IPython.core.display.Latex object>"
      ]
     },
     "metadata": {},
     "output_type": "display_data"
    },
    {
     "data": {
      "text/latex": [
       "Target:N01_T2 | Kernel:TransBactrian | $\\sigma$:4.0 | eff:0.7265 | $P_{jump}$:0.8287 | Exx2:1.695 | $\\rho_1$:0.1543 | $\\rho_2$:0.0253 | $E_{0.05}$:0.7494 | $E_{0.25}$:0.694 | $E_{0.50}$:0.7042 | Time:16.1"
      ],
      "text/plain": [
       "<IPython.core.display.Latex object>"
      ]
     },
     "metadata": {},
     "output_type": "display_data"
    },
    {
     "data": {
      "text/latex": [
       "Target:N01_T2 | Kernel:TransBactrian | $\\sigma$:4.5 | eff:0.7431 | $P_{jump}$:0.8297 | Exx2:1.6973 | $\\rho_1$:0.1512 | $\\rho_2$:0.024 | $E_{0.05}$:0.7558 | $E_{0.25}$:0.6886 | $E_{0.50}$:0.7132 | Time:15.94"
      ],
      "text/plain": [
       "<IPython.core.display.Latex object>"
      ]
     },
     "metadata": {},
     "output_type": "display_data"
    },
    {
     "data": {
      "text/latex": [
       "Target:N01_T2 | Kernel:TransBactrian | $\\sigma$:5.0 | eff:0.7272 | $P_{jump}$:0.8326 | Exx2:1.6948 | $\\rho_1$:0.1519 | $\\rho_2$:0.0263 | $E_{0.05}$:0.7572 | $E_{0.25}$:0.6976 | $E_{0.50}$:0.706 | Time:16.36"
      ],
      "text/plain": [
       "<IPython.core.display.Latex object>"
      ]
     },
     "metadata": {},
     "output_type": "display_data"
    },
    {
     "data": {
      "text/latex": [
       "Target:N01_T2 | Kernel:TransBactrian | $\\sigma$:6.0 | eff:0.7411 | $P_{jump}$:0.8338 | Exx2:1.6979 | $\\rho_1$:0.1511 | $\\rho_2$:0.0241 | $E_{0.05}$:0.7584 | $E_{0.25}$:0.7027 | $E_{0.50}$:0.7177 | Time:16.04"
      ],
      "text/plain": [
       "<IPython.core.display.Latex object>"
      ]
     },
     "metadata": {},
     "output_type": "display_data"
    },
    {
     "data": {
      "text/latex": [
       "Target:N01_T2 | Kernel:TransBactrian | $\\sigma$:7.0 | eff:0.7385 | $P_{jump}$:0.835 | Exx2:1.6998 | $\\rho_1$:0.1507 | $\\rho_2$:0.0236 | $E_{0.05}$:0.7682 | $E_{0.25}$:0.6903 | $E_{0.50}$:0.7228 | Time:15.9"
      ],
      "text/plain": [
       "<IPython.core.display.Latex object>"
      ]
     },
     "metadata": {},
     "output_type": "display_data"
    },
    {
     "data": {
      "text/latex": [
       "Target:N01_T2 | Kernel:TransBactrian | $\\sigma$:8.0 | eff:0.7261 | $P_{jump}$:0.8255 | Exx2:1.6888 | $\\rho_1$:0.1543 | $\\rho_2$:0.0251 | $E_{0.05}$:0.7462 | $E_{0.25}$:0.6828 | $E_{0.50}$:0.6998 | Time:16.39"
      ],
      "text/plain": [
       "<IPython.core.display.Latex object>"
      ]
     },
     "metadata": {},
     "output_type": "display_data"
    },
    {
     "data": {
      "text/latex": [
       "Target:N01_T2 | Kernel:TransStrawHat | $\\sigma$:0.1 | eff:0.0363 | $P_{jump}$:0.8716 | Exx2:0.2122 | $\\rho_1$:0.8933 | $\\rho_2$:0.8161 | $E_{0.05}$:0.1506 | $E_{0.25}$:0.0524 | $E_{0.50}$:0.04 | Time:261.27"
      ],
      "text/plain": [
       "<IPython.core.display.Latex object>"
      ]
     },
     "metadata": {},
     "output_type": "display_data"
    },
    {
     "data": {
      "text/latex": [
       "Target:N01_T2 | Kernel:TransStrawHat | $\\sigma$:0.3 | eff:0.3102 | $P_{jump}$:0.7938 | Exx2:0.9949 | $\\rho_1$:0.5034 | $\\rho_2$:0.277 | $E_{0.05}$:0.7673 | $E_{0.25}$:0.3692 | $E_{0.50}$:0.3897 | Time:15.44"
      ],
      "text/plain": [
       "<IPython.core.display.Latex object>"
      ]
     },
     "metadata": {},
     "output_type": "display_data"
    },
    {
     "data": {
      "text/latex": [
       "Target:N01_T2 | Kernel:TransStrawHat | $\\sigma$:0.5 | eff:0.8376 | $P_{jump}$:0.8 | Exx2:1.8496 | $\\rho_1$:0.0747 | $\\rho_2$:0.0148 | $E_{0.05}$:1.0168 | $E_{0.25}$:0.9512 | $E_{0.50}$:0.5781 | Time:15.33"
      ],
      "text/plain": [
       "<IPython.core.display.Latex object>"
      ]
     },
     "metadata": {},
     "output_type": "display_data"
    },
    {
     "data": {
      "text/latex": [
       "Target:N01_T2 | Kernel:TransStrawHat | $\\sigma$:0.7 | eff:1.3038 | $P_{jump}$:0.8124 | Exx2:2.2649 | $\\rho_1$:-0.1319 | $\\rho_2$:0.0183 | $E_{0.05}$:0.8504 | $E_{0.25}$:0.9515 | $E_{0.50}$:0.9374 | Time:15.65"
      ],
      "text/plain": [
       "<IPython.core.display.Latex object>"
      ]
     },
     "metadata": {},
     "output_type": "display_data"
    },
    {
     "data": {
      "text/latex": [
       "Target:N01_T2 | Kernel:TransStrawHat | $\\sigma$:0.8 | eff:1.664 | $P_{jump}$:0.8473 | Exx2:2.527 | $\\rho_1$:-0.264 | $\\rho_2$:0.0784 | $E_{0.05}$:0.7332 | $E_{0.25}$:0.9324 | $E_{0.50}$:1.5504 | Time:15.54"
      ],
      "text/plain": [
       "<IPython.core.display.Latex object>"
      ]
     },
     "metadata": {},
     "output_type": "display_data"
    },
    {
     "data": {
      "text/latex": [
       "Target:N01_T2 | Kernel:TransStrawHat | $\\sigma$:0.9 | eff:1.6505 | $P_{jump}$:0.8485 | Exx2:2.5453 | $\\rho_1$:-0.2706 | $\\rho_2$:0.0956 | $E_{0.05}$:0.6652 | $E_{0.25}$:0.8502 | $E_{0.50}$:1.7432 | Time:15.68"
      ],
      "text/plain": [
       "<IPython.core.display.Latex object>"
      ]
     },
     "metadata": {},
     "output_type": "display_data"
    },
    {
     "data": {
      "text/latex": [
       "Target:N01_T2 | Kernel:TransStrawHat | $\\sigma$:1.0 | eff:1.7205 | $P_{jump}$:0.8394 | Exx2:2.5719 | $\\rho_1$:-0.2827 | $\\rho_2$:0.0907 | $E_{0.05}$:0.7141 | $E_{0.25}$:0.8815 | $E_{0.50}$:1.5394 | Time:15.72"
      ],
      "text/plain": [
       "<IPython.core.display.Latex object>"
      ]
     },
     "metadata": {},
     "output_type": "display_data"
    },
    {
     "data": {
      "text/latex": [
       "Target:N01_T2 | Kernel:TransStrawHat | $\\sigma$:1.1 | eff:1.6728 | $P_{jump}$:0.8318 | Exx2:2.5152 | $\\rho_1$:-0.2564 | $\\rho_2$:0.0693 | $E_{0.05}$:0.7886 | $E_{0.25}$:1.0247 | $E_{0.50}$:1.2126 | Time:15.78"
      ],
      "text/plain": [
       "<IPython.core.display.Latex object>"
      ]
     },
     "metadata": {},
     "output_type": "display_data"
    },
    {
     "data": {
      "text/latex": [
       "Target:N01_T2 | Kernel:TransStrawHat | $\\sigma$:1.3 | eff:1.1737 | $P_{jump}$:0.8194 | Exx2:2.1587 | $\\rho_1$:-0.0825 | $\\rho_2$:0.0063 | $E_{0.05}$:0.9142 | $E_{0.25}$:0.9429 | $E_{0.50}$:0.9993 | Time:16.05"
      ],
      "text/plain": [
       "<IPython.core.display.Latex object>"
      ]
     },
     "metadata": {},
     "output_type": "display_data"
    },
    {
     "data": {
      "text/latex": [
       "Target:N01_T2 | Kernel:TransStrawHat | $\\sigma$:1.5 | eff:0.6885 | $P_{jump}$:0.8315 | Exx2:1.6297 | $\\rho_1$:0.1876 | $\\rho_2$:0.0353 | $E_{0.05}$:0.7358 | $E_{0.25}$:0.6726 | $E_{0.50}$:0.6631 | Time:15.85"
      ],
      "text/plain": [
       "<IPython.core.display.Latex object>"
      ]
     },
     "metadata": {},
     "output_type": "display_data"
    },
    {
     "data": {
      "text/latex": [
       "Target:N01_T2 | Kernel:TransStrawHat | $\\sigma$:1.7 | eff:0.4554 | $P_{jump}$:0.8341 | Exx2:1.27 | $\\rho_1$:0.3657 | $\\rho_2$:0.1396 | $E_{0.05}$:0.6513 | $E_{0.25}$:0.5163 | $E_{0.50}$:0.4818 | Time:15.87"
      ],
      "text/plain": [
       "<IPython.core.display.Latex object>"
      ]
     },
     "metadata": {},
     "output_type": "display_data"
    },
    {
     "data": {
      "text/latex": [
       "Target:N01_T2 | Kernel:TransStrawHat | $\\sigma$:1.8 | eff:0.4369 | $P_{jump}$:0.8318 | Exx2:1.2312 | $\\rho_1$:0.3837 | $\\rho_2$:0.1539 | $E_{0.05}$:0.6728 | $E_{0.25}$:0.4974 | $E_{0.50}$:0.4757 | Time:16.17"
      ],
      "text/plain": [
       "<IPython.core.display.Latex object>"
      ]
     },
     "metadata": {},
     "output_type": "display_data"
    },
    {
     "data": {
      "text/latex": [
       "Target:N01_T2 | Kernel:TransStrawHat | $\\sigma$:1.9 | eff:0.46 | $P_{jump}$:0.8312 | Exx2:1.2755 | $\\rho_1$:0.3607 | $\\rho_2$:0.137 | $E_{0.05}$:0.6978 | $E_{0.25}$:0.5223 | $E_{0.50}$:0.4861 | Time:15.97"
      ],
      "text/plain": [
       "<IPython.core.display.Latex object>"
      ]
     },
     "metadata": {},
     "output_type": "display_data"
    },
    {
     "data": {
      "text/latex": [
       "Target:N01_T2 | Kernel:TransStrawHat | $\\sigma$:2.0 | eff:0.5162 | $P_{jump}$:0.8281 | Exx2:1.3774 | $\\rho_1$:0.3107 | $\\rho_2$:0.104 | $E_{0.05}$:0.73 | $E_{0.25}$:0.5862 | $E_{0.50}$:0.5047 | Time:16.16"
      ],
      "text/plain": [
       "<IPython.core.display.Latex object>"
      ]
     },
     "metadata": {},
     "output_type": "display_data"
    },
    {
     "data": {
      "text/latex": [
       "Target:N01_T2 | Kernel:TransStrawHat | $\\sigma$:2.1 | eff:0.5826 | $P_{jump}$:0.8239 | Exx2:1.4868 | $\\rho_1$:0.2574 | $\\rho_2$:0.0723 | $E_{0.05}$:0.7741 | $E_{0.25}$:0.6177 | $E_{0.50}$:0.5407 | Time:16.21"
      ],
      "text/plain": [
       "<IPython.core.display.Latex object>"
      ]
     },
     "metadata": {},
     "output_type": "display_data"
    },
    {
     "data": {
      "text/latex": [
       "Target:N01_T2 | Kernel:TransStrawHat | $\\sigma$:2.2 | eff:0.6622 | $P_{jump}$:0.8274 | Exx2:1.5969 | $\\rho_1$:0.2014 | $\\rho_2$:0.0406 | $E_{0.05}$:0.742 | $E_{0.25}$:0.6578 | $E_{0.50}$:0.6436 | Time:87.05"
      ],
      "text/plain": [
       "<IPython.core.display.Latex object>"
      ]
     },
     "metadata": {},
     "output_type": "display_data"
    },
    {
     "data": {
      "text/latex": [
       "Target:N01_T2 | Kernel:TransStrawHat | $\\sigma$:2.3 | eff:0.789 | $P_{jump}$:0.836 | Exx2:1.753 | $\\rho_1$:0.1232 | $\\rho_2$:0.0139 | $E_{0.05}$:0.7314 | $E_{0.25}$:0.7226 | $E_{0.50}$:0.7862 | Time:16.08"
      ],
      "text/plain": [
       "<IPython.core.display.Latex object>"
      ]
     },
     "metadata": {},
     "output_type": "display_data"
    },
    {
     "data": {
      "text/latex": [
       "Target:N01_T2 | Kernel:TransStrawHat | $\\sigma$:2.4 | eff:0.8475 | $P_{jump}$:0.8358 | Exx2:1.8334 | $\\rho_1$:0.0828 | $\\rho_2$:0.007 | $E_{0.05}$:0.7353 | $E_{0.25}$:0.7308 | $E_{0.50}$:0.8549 | Time:15.85"
      ],
      "text/plain": [
       "<IPython.core.display.Latex object>"
      ]
     },
     "metadata": {},
     "output_type": "display_data"
    },
    {
     "data": {
      "text/latex": [
       "Target:N01_T2 | Kernel:TransStrawHat | $\\sigma$:2.5 | eff:0.9175 | $P_{jump}$:0.8317 | Exx2:1.9138 | $\\rho_1$:0.0433 | $\\rho_2$:0.002 | $E_{0.05}$:0.7618 | $E_{0.25}$:0.7622 | $E_{0.50}$:0.8498 | Time:15.83"
      ],
      "text/plain": [
       "<IPython.core.display.Latex object>"
      ]
     },
     "metadata": {},
     "output_type": "display_data"
    },
    {
     "data": {
      "text/latex": [
       "Target:N01_T2 | Kernel:TransStrawHat | $\\sigma$:2.6 | eff:0.9584 | $P_{jump}$:0.8292 | Exx2:1.9551 | $\\rho_1$:0.021 | $\\rho_2$:0.0001 | $E_{0.05}$:0.7855 | $E_{0.25}$:0.8155 | $E_{0.50}$:0.8372 | Time:15.85"
      ],
      "text/plain": [
       "<IPython.core.display.Latex object>"
      ]
     },
     "metadata": {},
     "output_type": "display_data"
    },
    {
     "data": {
      "text/latex": [
       "Target:N01_T2 | Kernel:TransStrawHat | $\\sigma$:2.8 | eff:0.9021 | $P_{jump}$:0.8254 | Exx2:1.9007 | $\\rho_1$:0.0485 | $\\rho_2$:0.0039 | $E_{0.05}$:0.8241 | $E_{0.25}$:0.8049 | $E_{0.50}$:0.8358 | Time:15.76"
      ],
      "text/plain": [
       "<IPython.core.display.Latex object>"
      ]
     },
     "metadata": {},
     "output_type": "display_data"
    },
    {
     "data": {
      "text/latex": [
       "Target:N01_T2 | Kernel:TransStrawHat | $\\sigma$:3.0 | eff:0.7339 | $P_{jump}$:0.8335 | Exx2:1.6938 | $\\rho_1$:0.1529 | $\\rho_2$:0.0238 | $E_{0.05}$:0.7316 | $E_{0.25}$:0.6846 | $E_{0.50}$:0.7111 | Time:16.05"
      ],
      "text/plain": [
       "<IPython.core.display.Latex object>"
      ]
     },
     "metadata": {},
     "output_type": "display_data"
    },
    {
     "data": {
      "text/latex": [
       "Target:N01_T2 | Kernel:TransStrawHat | $\\sigma$:3.2 | eff:0.6187 | $P_{jump}$:0.8327 | Exx2:1.5403 | $\\rho_1$:0.2285 | $\\rho_2$:0.0547 | $E_{0.05}$:0.7045 | $E_{0.25}$:0.6242 | $E_{0.50}$:0.6222 | Time:15.83"
      ],
      "text/plain": [
       "<IPython.core.display.Latex object>"
      ]
     },
     "metadata": {},
     "output_type": "display_data"
    },
    {
     "data": {
      "text/latex": [
       "Target:N01_T2 | Kernel:TransStrawHat | $\\sigma$:3.5 | eff:0.6465 | $P_{jump}$:0.8274 | Exx2:1.5821 | $\\rho_1$:0.2099 | $\\rho_2$:0.0461 | $E_{0.05}$:0.7701 | $E_{0.25}$:0.6751 | $E_{0.50}$:0.6115 | Time:15.88"
      ],
      "text/plain": [
       "<IPython.core.display.Latex object>"
      ]
     },
     "metadata": {},
     "output_type": "display_data"
    },
    {
     "data": {
      "text/latex": [
       "Target:N01_T2 | Kernel:TransStrawHat | $\\sigma$:4.0 | eff:0.8253 | $P_{jump}$:0.8318 | Exx2:1.8017 | $\\rho_1$:0.0971 | $\\rho_2$:0.0107 | $E_{0.05}$:0.7623 | $E_{0.25}$:0.7298 | $E_{0.50}$:0.7805 | Time:16.13"
      ],
      "text/plain": [
       "<IPython.core.display.Latex object>"
      ]
     },
     "metadata": {},
     "output_type": "display_data"
    },
    {
     "data": {
      "text/latex": [
       "Target:N01_T2 | Kernel:TransStrawHat | $\\sigma$:4.5 | eff:0.7084 | $P_{jump}$:0.8337 | Exx2:1.6587 | $\\rho_1$:0.1698 | $\\rho_2$:0.0305 | $E_{0.05}$:0.7355 | $E_{0.25}$:0.6824 | $E_{0.50}$:0.686 | Time:15.61"
      ],
      "text/plain": [
       "<IPython.core.display.Latex object>"
      ]
     },
     "metadata": {},
     "output_type": "display_data"
    },
    {
     "data": {
      "text/latex": [
       "Target:N01_T2 | Kernel:TransStrawHat | $\\sigma$:5.0 | eff:0.6852 | $P_{jump}$:0.8302 | Exx2:1.6342 | $\\rho_1$:0.1837 | $\\rho_2$:0.0358 | $E_{0.05}$:0.755 | $E_{0.25}$:0.6845 | $E_{0.50}$:0.6577 | Time:16.02"
      ],
      "text/plain": [
       "<IPython.core.display.Latex object>"
      ]
     },
     "metadata": {},
     "output_type": "display_data"
    },
    {
     "data": {
      "text/latex": [
       "Target:N01_T2 | Kernel:TransStrawHat | $\\sigma$:6.0 | eff:0.6948 | $P_{jump}$:0.8286 | Exx2:1.6358 | $\\rho_1$:0.1812 | $\\rho_2$:0.036 | $E_{0.05}$:0.7313 | $E_{0.25}$:0.6619 | $E_{0.50}$:0.6705 | Time:16.18"
      ],
      "text/plain": [
       "<IPython.core.display.Latex object>"
      ]
     },
     "metadata": {},
     "output_type": "display_data"
    },
    {
     "data": {
      "text/latex": [
       "Target:N01_T2 | Kernel:TransStrawHat | $\\sigma$:7.0 | eff:0.7959 | $P_{jump}$:0.8293 | Exx2:1.7804 | $\\rho_1$:0.1098 | $\\rho_2$:0.013 | $E_{0.05}$:0.7578 | $E_{0.25}$:0.7223 | $E_{0.50}$:0.7516 | Time:16.39"
      ],
      "text/plain": [
       "<IPython.core.display.Latex object>"
      ]
     },
     "metadata": {},
     "output_type": "display_data"
    },
    {
     "data": {
      "text/latex": [
       "Target:N01_T2 | Kernel:TransStrawHat | $\\sigma$:8.0 | eff:0.6889 | $P_{jump}$:0.8271 | Exx2:1.6419 | $\\rho_1$:0.1775 | $\\rho_2$:0.0347 | $E_{0.05}$:0.7623 | $E_{0.25}$:0.6852 | $E_{0.50}$:0.6654 | Time:16.14"
      ],
      "text/plain": [
       "<IPython.core.display.Latex object>"
      ]
     },
     "metadata": {},
     "output_type": "display_data"
    },
    {
     "data": {
      "text/latex": [
       "Target:N01_Logistic | Kernel:Uniform | $\\sigma$:0.1 | eff:0.0024 | $P_{jump}$:0.9656 | Exx2:0.0095 | $\\rho_1$:0.9953 | $\\rho_2$:0.9906 | $E_{0.05}$:0.0054 | $E_{0.25}$:0.0037 | $E_{0.50}$:0.0035 | Time:70.8"
      ],
      "text/plain": [
       "<IPython.core.display.Latex object>"
      ]
     },
     "metadata": {},
     "output_type": "display_data"
    },
    {
     "data": {
      "text/latex": [
       "Target:N01_Logistic | Kernel:Uniform | $\\sigma$:0.3 | eff:0.0188 | $P_{jump}$:0.897 | Exx2:0.0761 | $\\rho_1$:0.9619 | $\\rho_2$:0.9252 | $E_{0.05}$:0.0375 | $E_{0.25}$:0.0307 | $E_{0.50}$:0.0289 | Time:17.2"
      ],
      "text/plain": [
       "<IPython.core.display.Latex object>"
      ]
     },
     "metadata": {},
     "output_type": "display_data"
    },
    {
     "data": {
      "text/latex": [
       "Target:N01_Logistic | Kernel:Uniform | $\\sigma$:0.5 | eff:0.0486 | $P_{jump}$:0.8297 | Exx2:0.1864 | $\\rho_1$:0.9065 | $\\rho_2$:0.8223 | $E_{0.05}$:0.0914 | $E_{0.25}$:0.0767 | $E_{0.50}$:0.0765 | Time:12.15"
      ],
      "text/plain": [
       "<IPython.core.display.Latex object>"
      ]
     },
     "metadata": {},
     "output_type": "display_data"
    },
    {
     "data": {
      "text/latex": [
       "Target:N01_Logistic | Kernel:Uniform | $\\sigma$:0.7 | eff:0.0851 | $P_{jump}$:0.7648 | Exx2:0.3189 | $\\rho_1$:0.8403 | $\\rho_2$:0.7083 | $E_{0.05}$:0.1438 | $E_{0.25}$:0.134 | $E_{0.50}$:0.1371 | Time:9.18"
      ],
      "text/plain": [
       "<IPython.core.display.Latex object>"
      ]
     },
     "metadata": {},
     "output_type": "display_data"
    },
    {
     "data": {
      "text/latex": [
       "Target:N01_Logistic | Kernel:Uniform | $\\sigma$:0.8 | eff:0.103 | $P_{jump}$:0.7335 | Exx2:0.3876 | $\\rho_1$:0.806 | $\\rho_2$:0.6537 | $E_{0.05}$:0.1686 | $E_{0.25}$:0.1598 | $E_{0.50}$:0.1669 | Time:9.39"
      ],
      "text/plain": [
       "<IPython.core.display.Latex object>"
      ]
     },
     "metadata": {},
     "output_type": "display_data"
    },
    {
     "data": {
      "text/latex": [
       "Target:N01_Logistic | Kernel:Uniform | $\\sigma$:0.9 | eff:0.123 | $P_{jump}$:0.7031 | Exx2:0.455 | $\\rho_1$:0.7723 | $\\rho_2$:0.6017 | $E_{0.05}$:0.1866 | $E_{0.25}$:0.1879 | $E_{0.50}$:0.1978 | Time:8.81"
      ],
      "text/plain": [
       "<IPython.core.display.Latex object>"
      ]
     },
     "metadata": {},
     "output_type": "display_data"
    },
    {
     "data": {
      "text/latex": [
       "Target:N01_Logistic | Kernel:Uniform | $\\sigma$:1.0 | eff:0.1417 | $P_{jump}$:0.6745 | Exx2:0.5215 | $\\rho_1$:0.7402 | $\\rho_2$:0.5549 | $E_{0.05}$:0.2066 | $E_{0.25}$:0.2156 | $E_{0.50}$:0.2254 | Time:8.32"
      ],
      "text/plain": [
       "<IPython.core.display.Latex object>"
      ]
     },
     "metadata": {},
     "output_type": "display_data"
    },
    {
     "data": {
      "text/latex": [
       "Target:N01_Logistic | Kernel:Uniform | $\\sigma$:1.1 | eff:0.1617 | $P_{jump}$:0.6463 | Exx2:0.5841 | $\\rho_1$:0.7084 | $\\rho_2$:0.5109 | $E_{0.05}$:0.2177 | $E_{0.25}$:0.2396 | $E_{0.50}$:0.253 | Time:8.43"
      ],
      "text/plain": [
       "<IPython.core.display.Latex object>"
      ]
     },
     "metadata": {},
     "output_type": "display_data"
    },
    {
     "data": {
      "text/latex": [
       "Target:N01_Logistic | Kernel:Uniform | $\\sigma$:1.3 | eff:0.197 | $P_{jump}$:0.5932 | Exx2:0.6914 | $\\rho_1$:0.6541 | $\\rho_2$:0.4382 | $E_{0.05}$:0.2429 | $E_{0.25}$:0.2751 | $E_{0.50}$:0.2834 | Time:8.75"
      ],
      "text/plain": [
       "<IPython.core.display.Latex object>"
      ]
     },
     "metadata": {},
     "output_type": "display_data"
    },
    {
     "data": {
      "text/latex": [
       "Target:N01_Logistic | Kernel:Uniform | $\\sigma$:1.5 | eff:0.229 | $P_{jump}$:0.5436 | Exx2:0.7753 | $\\rho_1$:0.6124 | $\\rho_2$:0.384 | $E_{0.05}$:0.2628 | $E_{0.25}$:0.2932 | $E_{0.50}$:0.2968 | Time:8.21"
      ],
      "text/plain": [
       "<IPython.core.display.Latex object>"
      ]
     },
     "metadata": {},
     "output_type": "display_data"
    },
    {
     "data": {
      "text/latex": [
       "Target:N01_Logistic | Kernel:Uniform | $\\sigma$:1.7 | eff:0.2516 | $P_{jump}$:0.4992 | Exx2:0.8332 | $\\rho_1$:0.5832 | $\\rho_2$:0.3484 | $E_{0.05}$:0.2736 | $E_{0.25}$:0.2918 | $E_{0.50}$:0.2879 | Time:8.48"
      ],
      "text/plain": [
       "<IPython.core.display.Latex object>"
      ]
     },
     "metadata": {},
     "output_type": "display_data"
    },
    {
     "data": {
      "text/latex": [
       "Target:N01_Logistic | Kernel:Uniform | $\\sigma$:1.8 | eff:0.2611 | $P_{jump}$:0.4788 | Exx2:0.8551 | $\\rho_1$:0.5747 | $\\rho_2$:0.3359 | $E_{0.05}$:0.2795 | $E_{0.25}$:0.2883 | $E_{0.50}$:0.281 | Time:7.76"
      ],
      "text/plain": [
       "<IPython.core.display.Latex object>"
      ]
     },
     "metadata": {},
     "output_type": "display_data"
    },
    {
     "data": {
      "text/latex": [
       "Target:N01_Logistic | Kernel:Uniform | $\\sigma$:1.9 | eff:0.2704 | $P_{jump}$:0.46 | Exx2:0.8719 | $\\rho_1$:0.5647 | $\\rho_2$:0.3244 | $E_{0.05}$:0.2889 | $E_{0.25}$:0.2825 | $E_{0.50}$:0.2705 | Time:7.92"
      ],
      "text/plain": [
       "<IPython.core.display.Latex object>"
      ]
     },
     "metadata": {},
     "output_type": "display_data"
    },
    {
     "data": {
      "text/latex": [
       "Target:N01_Logistic | Kernel:Uniform | $\\sigma$:2.0 | eff:0.2726 | $P_{jump}$:0.4402 | Exx2:0.8743 | $\\rho_1$:0.562 | $\\rho_2$:0.3199 | $E_{0.05}$:0.2852 | $E_{0.25}$:0.272 | $E_{0.50}$:0.2636 | Time:8.37"
      ],
      "text/plain": [
       "<IPython.core.display.Latex object>"
      ]
     },
     "metadata": {},
     "output_type": "display_data"
    },
    {
     "data": {
      "text/latex": [
       "Target:N01_Logistic | Kernel:Uniform | $\\sigma$:2.1 | eff:0.2743 | $P_{jump}$:0.4231 | Exx2:0.8767 | $\\rho_1$:0.5605 | $\\rho_2$:0.3182 | $E_{0.05}$:0.2984 | $E_{0.25}$:0.2614 | $E_{0.50}$:0.2483 | Time:7.87"
      ],
      "text/plain": [
       "<IPython.core.display.Latex object>"
      ]
     },
     "metadata": {},
     "output_type": "display_data"
    },
    {
     "data": {
      "text/latex": [
       "Target:N01_Logistic | Kernel:Uniform | $\\sigma$:2.2 | eff:0.2752 | $P_{jump}$:0.4077 | Exx2:0.8843 | $\\rho_1$:0.56 | $\\rho_2$:0.3173 | $E_{0.05}$:0.2949 | $E_{0.25}$:0.2584 | $E_{0.50}$:0.2421 | Time:8.01"
      ],
      "text/plain": [
       "<IPython.core.display.Latex object>"
      ]
     },
     "metadata": {},
     "output_type": "display_data"
    },
    {
     "data": {
      "text/latex": [
       "Target:N01_Logistic | Kernel:Uniform | $\\sigma$:2.3 | eff:0.2771 | $P_{jump}$:0.3912 | Exx2:0.8713 | $\\rho_1$:0.5605 | $\\rho_2$:0.318 | $E_{0.05}$:0.2939 | $E_{0.25}$:0.2436 | $E_{0.50}$:0.2223 | Time:8.55"
      ],
      "text/plain": [
       "<IPython.core.display.Latex object>"
      ]
     },
     "metadata": {},
     "output_type": "display_data"
    },
    {
     "data": {
      "text/latex": [
       "Target:N01_Logistic | Kernel:Uniform | $\\sigma$:2.4 | eff:0.2706 | $P_{jump}$:0.377 | Exx2:0.8675 | $\\rho_1$:0.5658 | $\\rho_2$:0.3243 | $E_{0.05}$:0.2933 | $E_{0.25}$:0.2343 | $E_{0.50}$:0.2155 | Time:8.5"
      ],
      "text/plain": [
       "<IPython.core.display.Latex object>"
      ]
     },
     "metadata": {},
     "output_type": "display_data"
    },
    {
     "data": {
      "text/latex": [
       "Target:N01_Logistic | Kernel:Uniform | $\\sigma$:2.5 | eff:0.268 | $P_{jump}$:0.3632 | Exx2:0.8612 | $\\rho_1$:0.5706 | $\\rho_2$:0.3275 | $E_{0.05}$:0.2865 | $E_{0.25}$:0.2243 | $E_{0.50}$:0.2119 | Time:8.43"
      ],
      "text/plain": [
       "<IPython.core.display.Latex object>"
      ]
     },
     "metadata": {},
     "output_type": "display_data"
    },
    {
     "data": {
      "text/latex": [
       "Target:N01_Logistic | Kernel:Uniform | $\\sigma$:2.6 | eff:0.2617 | $P_{jump}$:0.3506 | Exx2:0.8485 | $\\rho_1$:0.5765 | $\\rho_2$:0.3369 | $E_{0.05}$:0.2794 | $E_{0.25}$:0.2175 | $E_{0.50}$:0.2019 | Time:8.16"
      ],
      "text/plain": [
       "<IPython.core.display.Latex object>"
      ]
     },
     "metadata": {},
     "output_type": "display_data"
    },
    {
     "data": {
      "text/latex": [
       "Target:N01_Logistic | Kernel:Uniform | $\\sigma$:2.8 | eff:0.2425 | $P_{jump}$:0.3262 | Exx2:0.8159 | $\\rho_1$:0.5937 | $\\rho_2$:0.3561 | $E_{0.05}$:0.2557 | $E_{0.25}$:0.1939 | $E_{0.50}$:0.1831 | Time:9.0"
      ],
      "text/plain": [
       "<IPython.core.display.Latex object>"
      ]
     },
     "metadata": {},
     "output_type": "display_data"
    },
    {
     "data": {
      "text/latex": [
       "Target:N01_Logistic | Kernel:Uniform | $\\sigma$:3.0 | eff:0.2316 | $P_{jump}$:0.3049 | Exx2:0.7786 | $\\rho_1$:0.6096 | $\\rho_2$:0.3775 | $E_{0.05}$:0.245 | $E_{0.25}$:0.1815 | $E_{0.50}$:0.1691 | Time:9.8"
      ],
      "text/plain": [
       "<IPython.core.display.Latex object>"
      ]
     },
     "metadata": {},
     "output_type": "display_data"
    },
    {
     "data": {
      "text/latex": [
       "Target:N01_Logistic | Kernel:Uniform | $\\sigma$:3.2 | eff:0.2152 | $P_{jump}$:0.2878 | Exx2:0.7539 | $\\rho_1$:0.6262 | $\\rho_2$:0.3974 | $E_{0.05}$:0.2194 | $E_{0.25}$:0.1712 | $E_{0.50}$:0.1555 | Time:9.9"
      ],
      "text/plain": [
       "<IPython.core.display.Latex object>"
      ]
     },
     "metadata": {},
     "output_type": "display_data"
    },
    {
     "data": {
      "text/latex": [
       "Target:N01_Logistic | Kernel:Uniform | $\\sigma$:3.5 | eff:0.1994 | $P_{jump}$:0.2628 | Exx2:0.6975 | $\\rho_1$:0.6528 | $\\rho_2$:0.4318 | $E_{0.05}$:0.2036 | $E_{0.25}$:0.1544 | $E_{0.50}$:0.145 | Time:8.9"
      ],
      "text/plain": [
       "<IPython.core.display.Latex object>"
      ]
     },
     "metadata": {},
     "output_type": "display_data"
    },
    {
     "data": {
      "text/latex": [
       "Target:N01_Logistic | Kernel:Uniform | $\\sigma$:4.0 | eff:0.1671 | $P_{jump}$:0.2296 | Exx2:0.6134 | $\\rho_1$:0.6938 | $\\rho_2$:0.4873 | $E_{0.05}$:0.1778 | $E_{0.25}$:0.1317 | $E_{0.50}$:0.1232 | Time:9.73"
      ],
      "text/plain": [
       "<IPython.core.display.Latex object>"
      ]
     },
     "metadata": {},
     "output_type": "display_data"
    },
    {
     "data": {
      "text/latex": [
       "Target:N01_Logistic | Kernel:Uniform | $\\sigma$:4.5 | eff:0.1478 | $P_{jump}$:0.204 | Exx2:0.5437 | $\\rho_1$:0.7285 | $\\rho_2$:0.5337 | $E_{0.05}$:0.1558 | $E_{0.25}$:0.1121 | $E_{0.50}$:0.1086 | Time:10.12"
      ],
      "text/plain": [
       "<IPython.core.display.Latex object>"
      ]
     },
     "metadata": {},
     "output_type": "display_data"
    },
    {
     "data": {
      "text/latex": [
       "Target:N01_Logistic | Kernel:Uniform | $\\sigma$:5.0 | eff:0.1315 | $P_{jump}$:0.1839 | Exx2:0.4942 | $\\rho_1$:0.7521 | $\\rho_2$:0.5703 | $E_{0.05}$:0.1354 | $E_{0.25}$:0.1043 | $E_{0.50}$:0.0961 | Time:9.68"
      ],
      "text/plain": [
       "<IPython.core.display.Latex object>"
      ]
     },
     "metadata": {},
     "output_type": "display_data"
    },
    {
     "data": {
      "text/latex": [
       "Target:N01_Logistic | Kernel:Uniform | $\\sigma$:6.0 | eff:0.1058 | $P_{jump}$:0.1531 | Exx2:0.4115 | $\\rho_1$:0.7936 | $\\rho_2$:0.6334 | $E_{0.05}$:0.1091 | $E_{0.25}$:0.084 | $E_{0.50}$:0.0792 | Time:10.21"
      ],
      "text/plain": [
       "<IPython.core.display.Latex object>"
      ]
     },
     "metadata": {},
     "output_type": "display_data"
    },
    {
     "data": {
      "text/latex": [
       "Target:N01_Logistic | Kernel:Uniform | $\\sigma$:7.0 | eff:0.087 | $P_{jump}$:0.1307 | Exx2:0.3492 | $\\rho_1$:0.8241 | $\\rho_2$:0.6814 | $E_{0.05}$:0.0922 | $E_{0.25}$:0.0703 | $E_{0.50}$:0.0657 | Time:11.71"
      ],
      "text/plain": [
       "<IPython.core.display.Latex object>"
      ]
     },
     "metadata": {},
     "output_type": "display_data"
    },
    {
     "data": {
      "text/latex": [
       "Target:N01_Logistic | Kernel:Uniform | $\\sigma$:8.0 | eff:0.0766 | $P_{jump}$:0.1147 | Exx2:0.3065 | $\\rho_1$:0.847 | $\\rho_2$:0.7182 | $E_{0.05}$:0.0802 | $E_{0.25}$:0.0612 | $E_{0.50}$:0.0582 | Time:13.95"
      ],
      "text/plain": [
       "<IPython.core.display.Latex object>"
      ]
     },
     "metadata": {},
     "output_type": "display_data"
    },
    {
     "data": {
      "text/latex": [
       "Target:N01_Logistic | Kernel:TransUniform | $\\sigma$:0.1 | eff:0.0485 | $P_{jump}$:0.8677 | Exx2:0.1973 | $\\rho_1$:0.9014 | $\\rho_2$:0.815 | $E_{0.05}$:0.143 | $E_{0.25}$:0.0747 | $E_{0.50}$:0.0634 | Time:20.31"
      ],
      "text/plain": [
       "<IPython.core.display.Latex object>"
      ]
     },
     "metadata": {},
     "output_type": "display_data"
    },
    {
     "data": {
      "text/latex": [
       "Target:N01_Logistic | Kernel:TransUniform | $\\sigma$:0.3 | eff:0.2931 | $P_{jump}$:0.6951 | Exx2:0.9167 | $\\rho_1$:0.5427 | $\\rho_2$:0.2974 | $E_{0.05}$:0.5319 | $E_{0.25}$:0.3513 | $E_{0.50}$:0.3452 | Time:15.01"
      ],
      "text/plain": [
       "<IPython.core.display.Latex object>"
      ]
     },
     "metadata": {},
     "output_type": "display_data"
    },
    {
     "data": {
      "text/latex": [
       "Target:N01_Logistic | Kernel:TransUniform | $\\sigma$:0.5 | eff:0.4971 | $P_{jump}$:0.6722 | Exx2:1.3747 | $\\rho_1$:0.3129 | $\\rho_2$:0.1127 | $E_{0.05}$:0.6975 | $E_{0.25}$:0.4809 | $E_{0.50}$:0.3858 | Time:15.45"
      ],
      "text/plain": [
       "<IPython.core.display.Latex object>"
      ]
     },
     "metadata": {},
     "output_type": "display_data"
    },
    {
     "data": {
      "text/latex": [
       "Target:N01_Logistic | Kernel:TransUniform | $\\sigma$:0.7 | eff:0.7941 | $P_{jump}$:0.7254 | Exx2:1.7838 | $\\rho_1$:0.1082 | $\\rho_2$:0.0144 | $E_{0.05}$:0.6152 | $E_{0.25}$:0.5993 | $E_{0.50}$:0.6796 | Time:15.74"
      ],
      "text/plain": [
       "<IPython.core.display.Latex object>"
      ]
     },
     "metadata": {},
     "output_type": "display_data"
    },
    {
     "data": {
      "text/latex": [
       "Target:N01_Logistic | Kernel:TransUniform | $\\sigma$:0.8 | eff:0.811 | $P_{jump}$:0.7083 | Exx2:1.8072 | $\\rho_1$:0.0968 | $\\rho_2$:0.0157 | $E_{0.05}$:0.6597 | $E_{0.25}$:0.6181 | $E_{0.50}$:0.6101 | Time:15.72"
      ],
      "text/plain": [
       "<IPython.core.display.Latex object>"
      ]
     },
     "metadata": {},
     "output_type": "display_data"
    },
    {
     "data": {
      "text/latex": [
       "Target:N01_Logistic | Kernel:TransUniform | $\\sigma$:0.9 | eff:0.8181 | $P_{jump}$:0.6958 | Exx2:1.8362 | $\\rho_1$:0.0848 | $\\rho_2$:0.0165 | $E_{0.05}$:0.7061 | $E_{0.25}$:0.6155 | $E_{0.50}$:0.5666 | Time:16.01"
      ],
      "text/plain": [
       "<IPython.core.display.Latex object>"
      ]
     },
     "metadata": {},
     "output_type": "display_data"
    },
    {
     "data": {
      "text/latex": [
       "Target:N01_Logistic | Kernel:TransUniform | $\\sigma$:1.0 | eff:0.7828 | $P_{jump}$:0.6848 | Exx2:1.7751 | $\\rho_1$:0.1112 | $\\rho_2$:0.0191 | $E_{0.05}$:0.744 | $E_{0.25}$:0.6042 | $E_{0.50}$:0.5728 | Time:15.7"
      ],
      "text/plain": [
       "<IPython.core.display.Latex object>"
      ]
     },
     "metadata": {},
     "output_type": "display_data"
    },
    {
     "data": {
      "text/latex": [
       "Target:N01_Logistic | Kernel:TransUniform | $\\sigma$:1.1 | eff:0.7039 | $P_{jump}$:0.6897 | Exx2:1.6658 | $\\rho_1$:0.1672 | $\\rho_2$:0.0337 | $E_{0.05}$:0.6972 | $E_{0.25}$:0.5902 | $E_{0.50}$:0.565 | Time:15.47"
      ],
      "text/plain": [
       "<IPython.core.display.Latex object>"
      ]
     },
     "metadata": {},
     "output_type": "display_data"
    },
    {
     "data": {
      "text/latex": [
       "Target:N01_Logistic | Kernel:TransUniform | $\\sigma$:1.3 | eff:0.562 | $P_{jump}$:0.7125 | Exx2:1.4518 | $\\rho_1$:0.2747 | $\\rho_2$:0.0806 | $E_{0.05}$:0.6093 | $E_{0.25}$:0.5134 | $E_{0.50}$:0.4939 | Time:15.93"
      ],
      "text/plain": [
       "<IPython.core.display.Latex object>"
      ]
     },
     "metadata": {},
     "output_type": "display_data"
    },
    {
     "data": {
      "text/latex": [
       "Target:N01_Logistic | Kernel:TransUniform | $\\sigma$:1.5 | eff:0.5681 | $P_{jump}$:0.6893 | Exx2:1.4587 | $\\rho_1$:0.2701 | $\\rho_2$:0.0787 | $E_{0.05}$:0.6502 | $E_{0.25}$:0.5196 | $E_{0.50}$:0.4817 | Time:15.93"
      ],
      "text/plain": [
       "<IPython.core.display.Latex object>"
      ]
     },
     "metadata": {},
     "output_type": "display_data"
    },
    {
     "data": {
      "text/latex": [
       "Target:N01_Logistic | Kernel:TransUniform | $\\sigma$:1.7 | eff:0.6089 | $P_{jump}$:0.6915 | Exx2:1.5504 | $\\rho_1$:0.2256 | $\\rho_2$:0.0589 | $E_{0.05}$:0.6495 | $E_{0.25}$:0.5348 | $E_{0.50}$:0.5027 | Time:17.25"
      ],
      "text/plain": [
       "<IPython.core.display.Latex object>"
      ]
     },
     "metadata": {},
     "output_type": "display_data"
    },
    {
     "data": {
      "text/latex": [
       "Target:N01_Logistic | Kernel:TransUniform | $\\sigma$:1.8 | eff:0.6873 | $P_{jump}$:0.7088 | Exx2:1.6458 | $\\rho_1$:0.1775 | $\\rho_2$:0.0389 | $E_{0.05}$:0.6563 | $E_{0.25}$:0.5679 | $E_{0.50}$:0.573 | Time:17.17"
      ],
      "text/plain": [
       "<IPython.core.display.Latex object>"
      ]
     },
     "metadata": {},
     "output_type": "display_data"
    },
    {
     "data": {
      "text/latex": [
       "Target:N01_Logistic | Kernel:TransUniform | $\\sigma$:1.9 | eff:0.7218 | $P_{jump}$:0.7083 | Exx2:1.6656 | $\\rho_1$:0.1637 | $\\rho_2$:0.0321 | $E_{0.05}$:0.6589 | $E_{0.25}$:0.581 | $E_{0.50}$:0.5891 | Time:16.47"
      ],
      "text/plain": [
       "<IPython.core.display.Latex object>"
      ]
     },
     "metadata": {},
     "output_type": "display_data"
    },
    {
     "data": {
      "text/latex": [
       "Target:N01_Logistic | Kernel:TransUniform | $\\sigma$:2.0 | eff:0.7223 | $P_{jump}$:0.7021 | Exx2:1.6869 | $\\rho_1$:0.1569 | $\\rho_2$:0.0318 | $E_{0.05}$:0.6641 | $E_{0.25}$:0.587 | $E_{0.50}$:0.5572 | Time:16.75"
      ],
      "text/plain": [
       "<IPython.core.display.Latex object>"
      ]
     },
     "metadata": {},
     "output_type": "display_data"
    },
    {
     "data": {
      "text/latex": [
       "Target:N01_Logistic | Kernel:TransUniform | $\\sigma$:2.1 | eff:0.7158 | $P_{jump}$:0.696 | Exx2:1.689 | $\\rho_1$:0.1574 | $\\rho_2$:0.0307 | $E_{0.05}$:0.7006 | $E_{0.25}$:0.5818 | $E_{0.50}$:0.5531 | Time:16.87"
      ],
      "text/plain": [
       "<IPython.core.display.Latex object>"
      ]
     },
     "metadata": {},
     "output_type": "display_data"
    },
    {
     "data": {
      "text/latex": [
       "Target:N01_Logistic | Kernel:TransUniform | $\\sigma$:2.2 | eff:0.6924 | $P_{jump}$:0.6921 | Exx2:1.651 | $\\rho_1$:0.1729 | $\\rho_2$:0.0354 | $E_{0.05}$:0.6964 | $E_{0.25}$:0.5783 | $E_{0.50}$:0.5446 | Time:16.68"
      ],
      "text/plain": [
       "<IPython.core.display.Latex object>"
      ]
     },
     "metadata": {},
     "output_type": "display_data"
    },
    {
     "data": {
      "text/latex": [
       "Target:N01_Logistic | Kernel:TransUniform | $\\sigma$:2.3 | eff:0.6547 | $P_{jump}$:0.6985 | Exx2:1.5914 | $\\rho_1$:0.2041 | $\\rho_2$:0.0471 | $E_{0.05}$:0.6589 | $E_{0.25}$:0.5604 | $E_{0.50}$:0.536 | Time:16.52"
      ],
      "text/plain": [
       "<IPython.core.display.Latex object>"
      ]
     },
     "metadata": {},
     "output_type": "display_data"
    },
    {
     "data": {
      "text/latex": [
       "Target:N01_Logistic | Kernel:TransUniform | $\\sigma$:2.4 | eff:0.6073 | $P_{jump}$:0.7045 | Exx2:1.5325 | $\\rho_1$:0.2341 | $\\rho_2$:0.0608 | $E_{0.05}$:0.6383 | $E_{0.25}$:0.5331 | $E_{0.50}$:0.5078 | Time:16.75"
      ],
      "text/plain": [
       "<IPython.core.display.Latex object>"
      ]
     },
     "metadata": {},
     "output_type": "display_data"
    },
    {
     "data": {
      "text/latex": [
       "Target:N01_Logistic | Kernel:TransUniform | $\\sigma$:2.5 | eff:0.5849 | $P_{jump}$:0.7014 | Exx2:1.4992 | $\\rho_1$:0.25 | $\\rho_2$:0.0682 | $E_{0.05}$:0.6242 | $E_{0.25}$:0.5221 | $E_{0.50}$:0.5039 | Time:16.44"
      ],
      "text/plain": [
       "<IPython.core.display.Latex object>"
      ]
     },
     "metadata": {},
     "output_type": "display_data"
    },
    {
     "data": {
      "text/latex": [
       "Target:N01_Logistic | Kernel:TransUniform | $\\sigma$:2.6 | eff:0.6001 | $P_{jump}$:0.6995 | Exx2:1.5137 | $\\rho_1$:0.2435 | $\\rho_2$:0.0626 | $E_{0.05}$:0.6506 | $E_{0.25}$:0.5277 | $E_{0.50}$:0.5093 | Time:16.32"
      ],
      "text/plain": [
       "<IPython.core.display.Latex object>"
      ]
     },
     "metadata": {},
     "output_type": "display_data"
    },
    {
     "data": {
      "text/latex": [
       "Target:N01_Logistic | Kernel:TransUniform | $\\sigma$:2.8 | eff:0.6195 | $P_{jump}$:0.6936 | Exx2:1.5485 | $\\rho_1$:0.2259 | $\\rho_2$:0.0582 | $E_{0.05}$:0.6673 | $E_{0.25}$:0.5395 | $E_{0.50}$:0.5045 | Time:16.39"
      ],
      "text/plain": [
       "<IPython.core.display.Latex object>"
      ]
     },
     "metadata": {},
     "output_type": "display_data"
    },
    {
     "data": {
      "text/latex": [
       "Target:N01_Logistic | Kernel:TransUniform | $\\sigma$:3.0 | eff:0.6814 | $P_{jump}$:0.7083 | Exx2:1.6448 | $\\rho_1$:0.1811 | $\\rho_2$:0.0358 | $E_{0.05}$:0.6535 | $E_{0.25}$:0.566 | $E_{0.50}$:0.5687 | Time:16.26"
      ],
      "text/plain": [
       "<IPython.core.display.Latex object>"
      ]
     },
     "metadata": {},
     "output_type": "display_data"
    },
    {
     "data": {
      "text/latex": [
       "Target:N01_Logistic | Kernel:TransUniform | $\\sigma$:3.2 | eff:0.6865 | $P_{jump}$:0.6963 | Exx2:1.6511 | $\\rho_1$:0.1729 | $\\rho_2$:0.0341 | $E_{0.05}$:0.6848 | $E_{0.25}$:0.5696 | $E_{0.50}$:0.54 | Time:16.81"
      ],
      "text/plain": [
       "<IPython.core.display.Latex object>"
      ]
     },
     "metadata": {},
     "output_type": "display_data"
    },
    {
     "data": {
      "text/latex": [
       "Target:N01_Logistic | Kernel:TransUniform | $\\sigma$:3.5 | eff:0.641 | $P_{jump}$:0.7035 | Exx2:1.572 | $\\rho_1$:0.2131 | $\\rho_2$:0.0518 | $E_{0.05}$:0.6544 | $E_{0.25}$:0.5468 | $E_{0.50}$:0.5253 | Time:16.29"
      ],
      "text/plain": [
       "<IPython.core.display.Latex object>"
      ]
     },
     "metadata": {},
     "output_type": "display_data"
    },
    {
     "data": {
      "text/latex": [
       "Target:N01_Logistic | Kernel:TransUniform | $\\sigma$:4.0 | eff:0.6356 | $P_{jump}$:0.6966 | Exx2:1.5712 | $\\rho_1$:0.216 | $\\rho_2$:0.0541 | $E_{0.05}$:0.6616 | $E_{0.25}$:0.5484 | $E_{0.50}$:0.5227 | Time:16.47"
      ],
      "text/plain": [
       "<IPython.core.display.Latex object>"
      ]
     },
     "metadata": {},
     "output_type": "display_data"
    },
    {
     "data": {
      "text/latex": [
       "Target:N01_Logistic | Kernel:TransUniform | $\\sigma$:4.5 | eff:0.6708 | $P_{jump}$:0.7 | Exx2:1.6291 | $\\rho_1$:0.1847 | $\\rho_2$:0.0408 | $E_{0.05}$:0.6813 | $E_{0.25}$:0.5632 | $E_{0.50}$:0.5411 | Time:16.84"
      ],
      "text/plain": [
       "<IPython.core.display.Latex object>"
      ]
     },
     "metadata": {},
     "output_type": "display_data"
    },
    {
     "data": {
      "text/latex": [
       "Target:N01_Logistic | Kernel:TransUniform | $\\sigma$:5.0 | eff:0.6316 | $P_{jump}$:0.6964 | Exx2:1.555 | $\\rho_1$:0.2238 | $\\rho_2$:0.0548 | $E_{0.05}$:0.6691 | $E_{0.25}$:0.5428 | $E_{0.50}$:0.514 | Time:16.42"
      ],
      "text/plain": [
       "<IPython.core.display.Latex object>"
      ]
     },
     "metadata": {},
     "output_type": "display_data"
    },
    {
     "data": {
      "text/latex": [
       "Target:N01_Logistic | Kernel:TransUniform | $\\sigma$:6.0 | eff:0.6216 | $P_{jump}$:0.6974 | Exx2:1.5446 | $\\rho_1$:0.2269 | $\\rho_2$:0.0586 | $E_{0.05}$:0.6555 | $E_{0.25}$:0.5352 | $E_{0.50}$:0.526 | Time:16.45"
      ],
      "text/plain": [
       "<IPython.core.display.Latex object>"
      ]
     },
     "metadata": {},
     "output_type": "display_data"
    },
    {
     "data": {
      "text/latex": [
       "Target:N01_Logistic | Kernel:TransUniform | $\\sigma$:7.0 | eff:0.6488 | $P_{jump}$:0.709 | Exx2:1.582 | $\\rho_1$:0.2077 | $\\rho_2$:0.0472 | $E_{0.05}$:0.672 | $E_{0.25}$:0.5575 | $E_{0.50}$:0.5327 | Time:16.8"
      ],
      "text/plain": [
       "<IPython.core.display.Latex object>"
      ]
     },
     "metadata": {},
     "output_type": "display_data"
    },
    {
     "data": {
      "text/latex": [
       "Target:N01_Logistic | Kernel:TransUniform | $\\sigma$:8.0 | eff:0.6555 | $P_{jump}$:0.696 | Exx2:1.6006 | $\\rho_1$:0.1984 | $\\rho_2$:0.0462 | $E_{0.05}$:0.6715 | $E_{0.25}$:0.5582 | $E_{0.50}$:0.5348 | Time:16.42"
      ],
      "text/plain": [
       "<IPython.core.display.Latex object>"
      ]
     },
     "metadata": {},
     "output_type": "display_data"
    },
    {
     "data": {
      "text/latex": [
       "Target:N01_Logistic | Kernel:TransBactrian | $\\sigma$:0.1 | eff:0.052 | $P_{jump}$:0.8463 | Exx2:0.2131 | $\\rho_1$:0.8936 | $\\rho_2$:0.8017 | $E_{0.05}$:0.1638 | $E_{0.25}$:0.0801 | $E_{0.50}$:0.068 | Time:19.08"
      ],
      "text/plain": [
       "<IPython.core.display.Latex object>"
      ]
     },
     "metadata": {},
     "output_type": "display_data"
    },
    {
     "data": {
      "text/latex": [
       "Target:N01_Logistic | Kernel:TransBactrian | $\\sigma$:0.3 | eff:0.3385 | $P_{jump}$:0.6344 | Exx2:1.0321 | $\\rho_1$:0.4833 | $\\rho_2$:0.2408 | $E_{0.05}$:0.5807 | $E_{0.25}$:0.404 | $E_{0.50}$:0.4298 | Time:15.73"
      ],
      "text/plain": [
       "<IPython.core.display.Latex object>"
      ]
     },
     "metadata": {},
     "output_type": "display_data"
    },
    {
     "data": {
      "text/latex": [
       "Target:N01_Logistic | Kernel:TransBactrian | $\\sigma$:0.5 | eff:0.6427 | $P_{jump}$:0.5856 | Exx2:1.6349 | $\\rho_1$:0.1847 | $\\rho_2$:0.0558 | $E_{0.05}$:0.9581 | $E_{0.25}$:0.5277 | $E_{0.50}$:0.3555 | Time:15.73"
      ],
      "text/plain": [
       "<IPython.core.display.Latex object>"
      ]
     },
     "metadata": {},
     "output_type": "display_data"
    },
    {
     "data": {
      "text/latex": [
       "Target:N01_Logistic | Kernel:TransBactrian | $\\sigma$:0.7 | eff:0.9843 | $P_{jump}$:0.6607 | Exx2:2.0487 | $\\rho_1$:-0.0221 | $\\rho_2$:0.0201 | $E_{0.05}$:0.822 | $E_{0.25}$:0.6687 | $E_{0.50}$:0.5281 | Time:16.59"
      ],
      "text/plain": [
       "<IPython.core.display.Latex object>"
      ]
     },
     "metadata": {},
     "output_type": "display_data"
    },
    {
     "data": {
      "text/latex": [
       "Target:N01_Logistic | Kernel:TransBactrian | $\\sigma$:0.8 | eff:1.2051 | $P_{jump}$:0.7008 | Exx2:2.197 | $\\rho_1$:-0.1017 | $\\rho_2$:0.0195 | $E_{0.05}$:0.7418 | $E_{0.25}$:0.7114 | $E_{0.50}$:0.71 | Time:16.66"
      ],
      "text/plain": [
       "<IPython.core.display.Latex object>"
      ]
     },
     "metadata": {},
     "output_type": "display_data"
    },
    {
     "data": {
      "text/latex": [
       "Target:N01_Logistic | Kernel:TransBactrian | $\\sigma$:0.9 | eff:1.3006 | $P_{jump}$:0.7207 | Exx2:2.2811 | $\\rho_1$:-0.1429 | $\\rho_2$:0.0258 | $E_{0.05}$:0.6867 | $E_{0.25}$:0.7191 | $E_{0.50}$:0.8184 | Time:16.55"
      ],
      "text/plain": [
       "<IPython.core.display.Latex object>"
      ]
     },
     "metadata": {},
     "output_type": "display_data"
    },
    {
     "data": {
      "text/latex": [
       "Target:N01_Logistic | Kernel:TransBactrian | $\\sigma$:1.0 | eff:1.3287 | $P_{jump}$:0.7261 | Exx2:2.2918 | $\\rho_1$:-0.1491 | $\\rho_2$:0.0272 | $E_{0.05}$:0.6781 | $E_{0.25}$:0.7331 | $E_{0.50}$:0.8547 | Time:17.09"
      ],
      "text/plain": [
       "<IPython.core.display.Latex object>"
      ]
     },
     "metadata": {},
     "output_type": "display_data"
    },
    {
     "data": {
      "text/latex": [
       "Target:N01_Logistic | Kernel:TransBactrian | $\\sigma$:1.1 | eff:1.2509 | $P_{jump}$:0.718 | Exx2:2.2284 | $\\rho_1$:-0.1169 | $\\rho_2$:0.0188 | $E_{0.05}$:0.7052 | $E_{0.25}$:0.7066 | $E_{0.50}$:0.7962 | Time:16.57"
      ],
      "text/plain": [
       "<IPython.core.display.Latex object>"
      ]
     },
     "metadata": {},
     "output_type": "display_data"
    },
    {
     "data": {
      "text/latex": [
       "Target:N01_Logistic | Kernel:TransBactrian | $\\sigma$:1.3 | eff:0.9681 | $P_{jump}$:0.7002 | Exx2:1.9826 | $\\rho_1$:0.0106 | $\\rho_2$:0.0048 | $E_{0.05}$:0.6993 | $E_{0.25}$:0.6638 | $E_{0.50}$:0.6654 | Time:16.87"
      ],
      "text/plain": [
       "<IPython.core.display.Latex object>"
      ]
     },
     "metadata": {},
     "output_type": "display_data"
    },
    {
     "data": {
      "text/latex": [
       "Target:N01_Logistic | Kernel:TransBactrian | $\\sigma$:1.5 | eff:0.7158 | $P_{jump}$:0.6972 | Exx2:1.6875 | $\\rho_1$:0.158 | $\\rho_2$:0.0318 | $E_{0.05}$:0.6824 | $E_{0.25}$:0.584 | $E_{0.50}$:0.5557 | Time:16.65"
      ],
      "text/plain": [
       "<IPython.core.display.Latex object>"
      ]
     },
     "metadata": {},
     "output_type": "display_data"
    },
    {
     "data": {
      "text/latex": [
       "Target:N01_Logistic | Kernel:TransBactrian | $\\sigma$:1.7 | eff:0.5762 | $P_{jump}$:0.6977 | Exx2:1.4846 | $\\rho_1$:0.2593 | $\\rho_2$:0.0733 | $E_{0.05}$:0.6446 | $E_{0.25}$:0.5207 | $E_{0.50}$:0.4898 | Time:16.3"
      ],
      "text/plain": [
       "<IPython.core.display.Latex object>"
      ]
     },
     "metadata": {},
     "output_type": "display_data"
    },
    {
     "data": {
      "text/latex": [
       "Target:N01_Logistic | Kernel:TransBactrian | $\\sigma$:1.8 | eff:0.5525 | $P_{jump}$:0.6988 | Exx2:1.4331 | $\\rho_1$:0.2833 | $\\rho_2$:0.0863 | $E_{0.05}$:0.6349 | $E_{0.25}$:0.5102 | $E_{0.50}$:0.4806 | Time:16.21"
      ],
      "text/plain": [
       "<IPython.core.display.Latex object>"
      ]
     },
     "metadata": {},
     "output_type": "display_data"
    },
    {
     "data": {
      "text/latex": [
       "Target:N01_Logistic | Kernel:TransBactrian | $\\sigma$:1.9 | eff:0.5378 | $P_{jump}$:0.7014 | Exx2:1.4195 | $\\rho_1$:0.2899 | $\\rho_2$:0.0899 | $E_{0.05}$:0.6375 | $E_{0.25}$:0.5072 | $E_{0.50}$:0.4751 | Time:16.25"
      ],
      "text/plain": [
       "<IPython.core.display.Latex object>"
      ]
     },
     "metadata": {},
     "output_type": "display_data"
    },
    {
     "data": {
      "text/latex": [
       "Target:N01_Logistic | Kernel:TransBactrian | $\\sigma$:2.0 | eff:0.5482 | $P_{jump}$:0.6989 | Exx2:1.4231 | $\\rho_1$:0.2894 | $\\rho_2$:0.0875 | $E_{0.05}$:0.6344 | $E_{0.25}$:0.5086 | $E_{0.50}$:0.4779 | Time:16.34"
      ],
      "text/plain": [
       "<IPython.core.display.Latex object>"
      ]
     },
     "metadata": {},
     "output_type": "display_data"
    },
    {
     "data": {
      "text/latex": [
       "Target:N01_Logistic | Kernel:TransBactrian | $\\sigma$:2.1 | eff:0.5565 | $P_{jump}$:0.6989 | Exx2:1.4459 | $\\rho_1$:0.278 | $\\rho_2$:0.0828 | $E_{0.05}$:0.6386 | $E_{0.25}$:0.5136 | $E_{0.50}$:0.4842 | Time:16.38"
      ],
      "text/plain": [
       "<IPython.core.display.Latex object>"
      ]
     },
     "metadata": {},
     "output_type": "display_data"
    },
    {
     "data": {
      "text/latex": [
       "Target:N01_Logistic | Kernel:TransBactrian | $\\sigma$:2.2 | eff:0.5687 | $P_{jump}$:0.6998 | Exx2:1.481 | $\\rho_1$:0.2612 | $\\rho_2$:0.0727 | $E_{0.05}$:0.6455 | $E_{0.25}$:0.5206 | $E_{0.50}$:0.4909 | Time:16.31"
      ],
      "text/plain": [
       "<IPython.core.display.Latex object>"
      ]
     },
     "metadata": {},
     "output_type": "display_data"
    },
    {
     "data": {
      "text/latex": [
       "Target:N01_Logistic | Kernel:TransBactrian | $\\sigma$:2.3 | eff:0.5883 | $P_{jump}$:0.6999 | Exx2:1.5119 | $\\rho_1$:0.2436 | $\\rho_2$:0.065 | $E_{0.05}$:0.6514 | $E_{0.25}$:0.5339 | $E_{0.50}$:0.5018 | Time:16.88"
      ],
      "text/plain": [
       "<IPython.core.display.Latex object>"
      ]
     },
     "metadata": {},
     "output_type": "display_data"
    },
    {
     "data": {
      "text/latex": [
       "Target:N01_Logistic | Kernel:TransBactrian | $\\sigma$:2.4 | eff:0.6143 | $P_{jump}$:0.6997 | Exx2:1.5363 | $\\rho_1$:0.2299 | $\\rho_2$:0.0584 | $E_{0.05}$:0.6581 | $E_{0.25}$:0.5369 | $E_{0.50}$:0.5136 | Time:17.28"
      ],
      "text/plain": [
       "<IPython.core.display.Latex object>"
      ]
     },
     "metadata": {},
     "output_type": "display_data"
    },
    {
     "data": {
      "text/latex": [
       "Target:N01_Logistic | Kernel:TransBactrian | $\\sigma$:2.5 | eff:0.6391 | $P_{jump}$:0.6994 | Exx2:1.5703 | $\\rho_1$:0.2163 | $\\rho_2$:0.0519 | $E_{0.05}$:0.6461 | $E_{0.25}$:0.5493 | $E_{0.50}$:0.5251 | Time:17.04"
      ],
      "text/plain": [
       "<IPython.core.display.Latex object>"
      ]
     },
     "metadata": {},
     "output_type": "display_data"
    },
    {
     "data": {
      "text/latex": [
       "Target:N01_Logistic | Kernel:TransBactrian | $\\sigma$:2.6 | eff:0.633 | $P_{jump}$:0.6991 | Exx2:1.5775 | $\\rho_1$:0.2104 | $\\rho_2$:0.0487 | $E_{0.05}$:0.665 | $E_{0.25}$:0.5453 | $E_{0.50}$:0.5196 | Time:16.56"
      ],
      "text/plain": [
       "<IPython.core.display.Latex object>"
      ]
     },
     "metadata": {},
     "output_type": "display_data"
    },
    {
     "data": {
      "text/latex": [
       "Target:N01_Logistic | Kernel:TransBactrian | $\\sigma$:2.8 | eff:0.6515 | $P_{jump}$:0.6999 | Exx2:1.5998 | $\\rho_1$:0.2002 | $\\rho_2$:0.0471 | $E_{0.05}$:0.6697 | $E_{0.25}$:0.5534 | $E_{0.50}$:0.5362 | Time:16.42"
      ],
      "text/plain": [
       "<IPython.core.display.Latex object>"
      ]
     },
     "metadata": {},
     "output_type": "display_data"
    },
    {
     "data": {
      "text/latex": [
       "Target:N01_Logistic | Kernel:TransBactrian | $\\sigma$:3.0 | eff:0.6643 | $P_{jump}$:0.7004 | Exx2:1.6032 | $\\rho_1$:0.1977 | $\\rho_2$:0.0447 | $E_{0.05}$:0.6656 | $E_{0.25}$:0.5586 | $E_{0.50}$:0.5374 | Time:16.13"
      ],
      "text/plain": [
       "<IPython.core.display.Latex object>"
      ]
     },
     "metadata": {},
     "output_type": "display_data"
    },
    {
     "data": {
      "text/latex": [
       "Target:N01_Logistic | Kernel:TransBactrian | $\\sigma$:3.2 | eff:0.6493 | $P_{jump}$:0.6984 | Exx2:1.5947 | $\\rho_1$:0.2037 | $\\rho_2$:0.0474 | $E_{0.05}$:0.6712 | $E_{0.25}$:0.5538 | $E_{0.50}$:0.5277 | Time:16.82"
      ],
      "text/plain": [
       "<IPython.core.display.Latex object>"
      ]
     },
     "metadata": {},
     "output_type": "display_data"
    },
    {
     "data": {
      "text/latex": [
       "Target:N01_Logistic | Kernel:TransBactrian | $\\sigma$:3.5 | eff:0.6547 | $P_{jump}$:0.7051 | Exx2:1.5986 | $\\rho_1$:0.1995 | $\\rho_2$:0.0463 | $E_{0.05}$:0.668 | $E_{0.25}$:0.5669 | $E_{0.50}$:0.5348 | Time:16.54"
      ],
      "text/plain": [
       "<IPython.core.display.Latex object>"
      ]
     },
     "metadata": {},
     "output_type": "display_data"
    },
    {
     "data": {
      "text/latex": [
       "Target:N01_Logistic | Kernel:TransBactrian | $\\sigma$:4.0 | eff:0.6414 | $P_{jump}$:0.6935 | Exx2:1.5778 | $\\rho_1$:0.2103 | $\\rho_2$:0.05 | $E_{0.05}$:0.6638 | $E_{0.25}$:0.548 | $E_{0.50}$:0.5245 | Time:16.24"
      ],
      "text/plain": [
       "<IPython.core.display.Latex object>"
      ]
     },
     "metadata": {},
     "output_type": "display_data"
    },
    {
     "data": {
      "text/latex": [
       "Target:N01_Logistic | Kernel:TransBactrian | $\\sigma$:4.5 | eff:0.6429 | $P_{jump}$:0.6926 | Exx2:1.5799 | $\\rho_1$:0.2105 | $\\rho_2$:0.0516 | $E_{0.05}$:0.6532 | $E_{0.25}$:0.5469 | $E_{0.50}$:0.5197 | Time:16.23"
      ],
      "text/plain": [
       "<IPython.core.display.Latex object>"
      ]
     },
     "metadata": {},
     "output_type": "display_data"
    },
    {
     "data": {
      "text/latex": [
       "Target:N01_Logistic | Kernel:TransBactrian | $\\sigma$:5.0 | eff:0.6497 | $P_{jump}$:0.7031 | Exx2:1.5963 | $\\rho_1$:0.2029 | $\\rho_2$:0.0477 | $E_{0.05}$:0.6812 | $E_{0.25}$:0.5589 | $E_{0.50}$:0.5348 | Time:16.35"
      ],
      "text/plain": [
       "<IPython.core.display.Latex object>"
      ]
     },
     "metadata": {},
     "output_type": "display_data"
    },
    {
     "data": {
      "text/latex": [
       "Target:N01_Logistic | Kernel:TransBactrian | $\\sigma$:6.0 | eff:0.666 | $P_{jump}$:0.7126 | Exx2:1.6057 | $\\rho_1$:0.1965 | $\\rho_2$:0.0418 | $E_{0.05}$:0.6779 | $E_{0.25}$:0.5698 | $E_{0.50}$:0.5447 | Time:16.28"
      ],
      "text/plain": [
       "<IPython.core.display.Latex object>"
      ]
     },
     "metadata": {},
     "output_type": "display_data"
    },
    {
     "data": {
      "text/latex": [
       "Target:N01_Logistic | Kernel:TransBactrian | $\\sigma$:7.0 | eff:0.6534 | $P_{jump}$:0.7031 | Exx2:1.5957 | $\\rho_1$:0.2028 | $\\rho_2$:0.0468 | $E_{0.05}$:0.6819 | $E_{0.25}$:0.5589 | $E_{0.50}$:0.5331 | Time:16.28"
      ],
      "text/plain": [
       "<IPython.core.display.Latex object>"
      ]
     },
     "metadata": {},
     "output_type": "display_data"
    },
    {
     "data": {
      "text/latex": [
       "Target:N01_Logistic | Kernel:TransBactrian | $\\sigma$:8.0 | eff:0.6546 | $P_{jump}$:0.7072 | Exx2:1.6009 | $\\rho_1$:0.1995 | $\\rho_2$:0.0453 | $E_{0.05}$:0.677 | $E_{0.25}$:0.5651 | $E_{0.50}$:0.5317 | Time:16.38"
      ],
      "text/plain": [
       "<IPython.core.display.Latex object>"
      ]
     },
     "metadata": {},
     "output_type": "display_data"
    },
    {
     "data": {
      "text/latex": [
       "Target:N01_Logistic | Kernel:TransStrawHat | $\\sigma$:0.1 | eff:0.053 | $P_{jump}$:0.8469 | Exx2:0.2135 | $\\rho_1$:0.8927 | $\\rho_2$:0.8003 | $E_{0.05}$:0.1678 | $E_{0.25}$:0.0809 | $E_{0.50}$:0.0684 | Time:17.77"
      ],
      "text/plain": [
       "<IPython.core.display.Latex object>"
      ]
     },
     "metadata": {},
     "output_type": "display_data"
    },
    {
     "data": {
      "text/latex": [
       "Target:N01_Logistic | Kernel:TransStrawHat | $\\sigma$:0.3 | eff:0.3428 | $P_{jump}$:0.641 | Exx2:1.0558 | $\\rho_1$:0.473 | $\\rho_2$:0.2351 | $E_{0.05}$:0.6432 | $E_{0.25}$:0.4006 | $E_{0.50}$:0.4524 | Time:14.99"
      ],
      "text/plain": [
       "<IPython.core.display.Latex object>"
      ]
     },
     "metadata": {},
     "output_type": "display_data"
    },
    {
     "data": {
      "text/latex": [
       "Target:N01_Logistic | Kernel:TransStrawHat | $\\sigma$:0.5 | eff:0.6241 | $P_{jump}$:0.5737 | Exx2:1.6836 | $\\rho_1$:0.1582 | $\\rho_2$:0.0661 | $E_{0.05}$:0.9847 | $E_{0.25}$:0.4892 | $E_{0.50}$:0.2943 | Time:15.39"
      ],
      "text/plain": [
       "<IPython.core.display.Latex object>"
      ]
     },
     "metadata": {},
     "output_type": "display_data"
    },
    {
     "data": {
      "text/latex": [
       "Target:N01_Logistic | Kernel:TransStrawHat | $\\sigma$:0.7 | eff:0.9606 | $P_{jump}$:0.6646 | Exx2:2.0348 | $\\rho_1$:-0.0169 | $\\rho_2$:0.0191 | $E_{0.05}$:0.7739 | $E_{0.25}$:0.6594 | $E_{0.50}$:0.5172 | Time:15.66"
      ],
      "text/plain": [
       "<IPython.core.display.Latex object>"
      ]
     },
     "metadata": {},
     "output_type": "display_data"
    },
    {
     "data": {
      "text/latex": [
       "Target:N01_Logistic | Kernel:TransStrawHat | $\\sigma$:0.8 | eff:1.4888 | $P_{jump}$:0.7454 | Exx2:2.3979 | $\\rho_1$:-0.1998 | $\\rho_2$:0.0416 | $E_{0.05}$:0.6691 | $E_{0.25}$:0.7175 | $E_{0.50}$:1.0019 | Time:15.91"
      ],
      "text/plain": [
       "<IPython.core.display.Latex object>"
      ]
     },
     "metadata": {},
     "output_type": "display_data"
    },
    {
     "data": {
      "text/latex": [
       "Target:N01_Logistic | Kernel:TransStrawHat | $\\sigma$:0.9 | eff:1.5225 | $P_{jump}$:0.7633 | Exx2:2.4203 | $\\rho_1$:-0.2117 | $\\rho_2$:0.0471 | $E_{0.05}$:0.5911 | $E_{0.25}$:0.7116 | $E_{0.50}$:1.133 | Time:16.19"
      ],
      "text/plain": [
       "<IPython.core.display.Latex object>"
      ]
     },
     "metadata": {},
     "output_type": "display_data"
    },
    {
     "data": {
      "text/latex": [
       "Target:N01_Logistic | Kernel:TransStrawHat | $\\sigma$:1.0 | eff:1.4662 | $P_{jump}$:0.746 | Exx2:2.3891 | $\\rho_1$:-0.1935 | $\\rho_2$:0.0424 | $E_{0.05}$:0.6324 | $E_{0.25}$:0.7526 | $E_{0.50}$:0.9568 | Time:15.85"
      ],
      "text/plain": [
       "<IPython.core.display.Latex object>"
      ]
     },
     "metadata": {},
     "output_type": "display_data"
    },
    {
     "data": {
      "text/latex": [
       "Target:N01_Logistic | Kernel:TransStrawHat | $\\sigma$:1.1 | eff:1.3044 | $P_{jump}$:0.7098 | Exx2:2.3054 | $\\rho_1$:-0.1502 | $\\rho_2$:0.036 | $E_{0.05}$:0.7164 | $E_{0.25}$:0.7254 | $E_{0.50}$:0.7254 | Time:16.08"
      ],
      "text/plain": [
       "<IPython.core.display.Latex object>"
      ]
     },
     "metadata": {},
     "output_type": "display_data"
    },
    {
     "data": {
      "text/latex": [
       "Target:N01_Logistic | Kernel:TransStrawHat | $\\sigma$:1.3 | eff:0.9876 | $P_{jump}$:0.6641 | Exx2:2.0081 | $\\rho_1$:-0.0049 | $\\rho_2$:0.0086 | $E_{0.05}$:0.8346 | $E_{0.25}$:0.6601 | $E_{0.50}$:0.6088 | Time:16.02"
      ],
      "text/plain": [
       "<IPython.core.display.Latex object>"
      ]
     },
     "metadata": {},
     "output_type": "display_data"
    },
    {
     "data": {
      "text/latex": [
       "Target:N01_Logistic | Kernel:TransStrawHat | $\\sigma$:1.5 | eff:0.6068 | $P_{jump}$:0.7027 | Exx2:1.5256 | $\\rho_1$:0.2378 | $\\rho_2$:0.0629 | $E_{0.05}$:0.6551 | $E_{0.25}$:0.5336 | $E_{0.50}$:0.493 | Time:17.49"
      ],
      "text/plain": [
       "<IPython.core.display.Latex object>"
      ]
     },
     "metadata": {},
     "output_type": "display_data"
    },
    {
     "data": {
      "text/latex": [
       "Target:N01_Logistic | Kernel:TransStrawHat | $\\sigma$:1.7 | eff:0.4284 | $P_{jump}$:0.72 | Exx2:1.2108 | $\\rho_1$:0.3957 | $\\rho_2$:0.1597 | $E_{0.05}$:0.5525 | $E_{0.25}$:0.4447 | $E_{0.50}$:0.4296 | Time:17.07"
      ],
      "text/plain": [
       "<IPython.core.display.Latex object>"
      ]
     },
     "metadata": {},
     "output_type": "display_data"
    },
    {
     "data": {
      "text/latex": [
       "Target:N01_Logistic | Kernel:TransStrawHat | $\\sigma$:1.8 | eff:0.4213 | $P_{jump}$:0.7097 | Exx2:1.19 | $\\rho_1$:0.4051 | $\\rho_2$:0.1661 | $E_{0.05}$:0.5749 | $E_{0.25}$:0.4424 | $E_{0.50}$:0.4315 | Time:17.18"
      ],
      "text/plain": [
       "<IPython.core.display.Latex object>"
      ]
     },
     "metadata": {},
     "output_type": "display_data"
    },
    {
     "data": {
      "text/latex": [
       "Target:N01_Logistic | Kernel:TransStrawHat | $\\sigma$:1.9 | eff:0.4364 | $P_{jump}$:0.6954 | Exx2:1.2307 | $\\rho_1$:0.3861 | $\\rho_2$:0.1549 | $E_{0.05}$:0.6043 | $E_{0.25}$:0.4489 | $E_{0.50}$:0.4234 | Time:16.47"
      ],
      "text/plain": [
       "<IPython.core.display.Latex object>"
      ]
     },
     "metadata": {},
     "output_type": "display_data"
    },
    {
     "data": {
      "text/latex": [
       "Target:N01_Logistic | Kernel:TransStrawHat | $\\sigma$:2.0 | eff:0.4631 | $P_{jump}$:0.6858 | Exx2:1.2936 | $\\rho_1$:0.3533 | $\\rho_2$:0.1329 | $E_{0.05}$:0.6457 | $E_{0.25}$:0.4629 | $E_{0.50}$:0.4017 | Time:17.82"
      ],
      "text/plain": [
       "<IPython.core.display.Latex object>"
      ]
     },
     "metadata": {},
     "output_type": "display_data"
    },
    {
     "data": {
      "text/latex": [
       "Target:N01_Logistic | Kernel:TransStrawHat | $\\sigma$:2.1 | eff:0.5047 | $P_{jump}$:0.6825 | Exx2:1.3686 | $\\rho_1$:0.317 | $\\rho_2$:0.1107 | $E_{0.05}$:0.6651 | $E_{0.25}$:0.4864 | $E_{0.50}$:0.4104 | Time:17.07"
      ],
      "text/plain": [
       "<IPython.core.display.Latex object>"
      ]
     },
     "metadata": {},
     "output_type": "display_data"
    },
    {
     "data": {
      "text/latex": [
       "Target:N01_Logistic | Kernel:TransStrawHat | $\\sigma$:2.2 | eff:0.5899 | $P_{jump}$:0.6939 | Exx2:1.4882 | $\\rho_1$:0.254 | $\\rho_2$:0.0704 | $E_{0.05}$:0.6468 | $E_{0.25}$:0.5316 | $E_{0.50}$:0.4906 | Time:17.32"
      ],
      "text/plain": [
       "<IPython.core.display.Latex object>"
      ]
     },
     "metadata": {},
     "output_type": "display_data"
    },
    {
     "data": {
      "text/latex": [
       "Target:N01_Logistic | Kernel:TransStrawHat | $\\sigma$:2.3 | eff:0.7059 | $P_{jump}$:0.7156 | Exx2:1.6675 | $\\rho_1$:0.1662 | $\\rho_2$:0.0312 | $E_{0.05}$:0.6589 | $E_{0.25}$:0.5761 | $E_{0.50}$:0.6053 | Time:17.43"
      ],
      "text/plain": [
       "<IPython.core.display.Latex object>"
      ]
     },
     "metadata": {},
     "output_type": "display_data"
    },
    {
     "data": {
      "text/latex": [
       "Target:N01_Logistic | Kernel:TransStrawHat | $\\sigma$:2.4 | eff:0.7507 | $P_{jump}$:0.7147 | Exx2:1.7293 | $\\rho_1$:0.1347 | $\\rho_2$:0.0243 | $E_{0.05}$:0.6473 | $E_{0.25}$:0.5837 | $E_{0.50}$:0.623 | Time:17.12"
      ],
      "text/plain": [
       "<IPython.core.display.Latex object>"
      ]
     },
     "metadata": {},
     "output_type": "display_data"
    },
    {
     "data": {
      "text/latex": [
       "Target:N01_Logistic | Kernel:TransStrawHat | $\\sigma$:2.5 | eff:0.7918 | $P_{jump}$:0.7099 | Exx2:1.789 | $\\rho_1$:0.1076 | $\\rho_2$:0.0195 | $E_{0.05}$:0.6812 | $E_{0.25}$:0.6144 | $E_{0.50}$:0.6058 | Time:17.18"
      ],
      "text/plain": [
       "<IPython.core.display.Latex object>"
      ]
     },
     "metadata": {},
     "output_type": "display_data"
    },
    {
     "data": {
      "text/latex": [
       "Target:N01_Logistic | Kernel:TransStrawHat | $\\sigma$:2.6 | eff:0.8106 | $P_{jump}$:0.6939 | Exx2:1.8063 | $\\rho_1$:0.0967 | $\\rho_2$:0.0178 | $E_{0.05}$:0.698 | $E_{0.25}$:0.6125 | $E_{0.50}$:0.5696 | Time:16.59"
      ],
      "text/plain": [
       "<IPython.core.display.Latex object>"
      ]
     },
     "metadata": {},
     "output_type": "display_data"
    },
    {
     "data": {
      "text/latex": [
       "Target:N01_Logistic | Kernel:TransStrawHat | $\\sigma$:2.8 | eff:0.7857 | $P_{jump}$:0.6863 | Exx2:1.7782 | $\\rho_1$:0.111 | $\\rho_2$:0.0197 | $E_{0.05}$:0.7343 | $E_{0.25}$:0.614 | $E_{0.50}$:0.5864 | Time:16.58"
      ],
      "text/plain": [
       "<IPython.core.display.Latex object>"
      ]
     },
     "metadata": {},
     "output_type": "display_data"
    },
    {
     "data": {
      "text/latex": [
       "Target:N01_Logistic | Kernel:TransStrawHat | $\\sigma$:3.0 | eff:0.6509 | $P_{jump}$:0.71 | Exx2:1.5975 | $\\rho_1$:0.2023 | $\\rho_2$:0.0461 | $E_{0.05}$:0.6511 | $E_{0.25}$:0.5494 | $E_{0.50}$:0.5309 | Time:16.33"
      ],
      "text/plain": [
       "<IPython.core.display.Latex object>"
      ]
     },
     "metadata": {},
     "output_type": "display_data"
    },
    {
     "data": {
      "text/latex": [
       "Target:N01_Logistic | Kernel:TransStrawHat | $\\sigma$:3.2 | eff:0.5619 | $P_{jump}$:0.7099 | Exx2:1.4534 | $\\rho_1$:0.274 | $\\rho_2$:0.0806 | $E_{0.05}$:0.6003 | $E_{0.25}$:0.519 | $E_{0.50}$:0.5031 | Time:16.41"
      ],
      "text/plain": [
       "<IPython.core.display.Latex object>"
      ]
     },
     "metadata": {},
     "output_type": "display_data"
    },
    {
     "data": {
      "text/latex": [
       "Target:N01_Logistic | Kernel:TransStrawHat | $\\sigma$:3.5 | eff:0.5655 | $P_{jump}$:0.6823 | Exx2:1.4667 | $\\rho_1$:0.2664 | $\\rho_2$:0.0804 | $E_{0.05}$:0.6629 | $E_{0.25}$:0.5176 | $E_{0.50}$:0.4577 | Time:16.81"
      ],
      "text/plain": [
       "<IPython.core.display.Latex object>"
      ]
     },
     "metadata": {},
     "output_type": "display_data"
    },
    {
     "data": {
      "text/latex": [
       "Target:N01_Logistic | Kernel:TransStrawHat | $\\sigma$:4.0 | eff:0.7006 | $P_{jump}$:0.6993 | Exx2:1.6658 | $\\rho_1$:0.1654 | $\\rho_2$:0.0362 | $E_{0.05}$:0.6624 | $E_{0.25}$:0.5695 | $E_{0.50}$:0.5533 | Time:16.62"
      ],
      "text/plain": [
       "<IPython.core.display.Latex object>"
      ]
     },
     "metadata": {},
     "output_type": "display_data"
    },
    {
     "data": {
      "text/latex": [
       "Target:N01_Logistic | Kernel:TransStrawHat | $\\sigma$:4.5 | eff:0.6223 | $P_{jump}$:0.7068 | Exx2:1.5546 | $\\rho_1$:0.223 | $\\rho_2$:0.0556 | $E_{0.05}$:0.6539 | $E_{0.25}$:0.543 | $E_{0.50}$:0.5123 | Time:17.34"
      ],
      "text/plain": [
       "<IPython.core.display.Latex object>"
      ]
     },
     "metadata": {},
     "output_type": "display_data"
    },
    {
     "data": {
      "text/latex": [
       "Target:N01_Logistic | Kernel:TransStrawHat | $\\sigma$:5.0 | eff:0.6015 | $P_{jump}$:0.6866 | Exx2:1.5206 | $\\rho_1$:0.2379 | $\\rho_2$:0.0645 | $E_{0.05}$:0.6685 | $E_{0.25}$:0.531 | $E_{0.50}$:0.4841 | Time:16.61"
      ],
      "text/plain": [
       "<IPython.core.display.Latex object>"
      ]
     },
     "metadata": {},
     "output_type": "display_data"
    },
    {
     "data": {
      "text/latex": [
       "Target:N01_Logistic | Kernel:TransStrawHat | $\\sigma$:6.0 | eff:0.611 | $P_{jump}$:0.7009 | Exx2:1.5309 | $\\rho_1$:0.2325 | $\\rho_2$:0.0621 | $E_{0.05}$:0.6367 | $E_{0.25}$:0.5267 | $E_{0.50}$:0.5076 | Time:16.62"
      ],
      "text/plain": [
       "<IPython.core.display.Latex object>"
      ]
     },
     "metadata": {},
     "output_type": "display_data"
    },
    {
     "data": {
      "text/latex": [
       "Target:N01_Logistic | Kernel:TransStrawHat | $\\sigma$:7.0 | eff:0.6945 | $P_{jump}$:0.6907 | Exx2:1.6425 | $\\rho_1$:0.1775 | $\\rho_2$:0.0364 | $E_{0.05}$:0.659 | $E_{0.25}$:0.5683 | $E_{0.50}$:0.5372 | Time:16.43"
      ],
      "text/plain": [
       "<IPython.core.display.Latex object>"
      ]
     },
     "metadata": {},
     "output_type": "display_data"
    },
    {
     "data": {
      "text/latex": [
       "Target:N01_Logistic | Kernel:TransStrawHat | $\\sigma$:8.0 | eff:0.6153 | $P_{jump}$:0.7 | Exx2:1.5492 | $\\rho_1$:0.2266 | $\\rho_2$:0.0573 | $E_{0.05}$:0.6757 | $E_{0.25}$:0.5457 | $E_{0.50}$:0.5048 | Time:16.5"
      ],
      "text/plain": [
       "<IPython.core.display.Latex object>"
      ]
     },
     "metadata": {},
     "output_type": "display_data"
    },
    {
     "name": "stdout",
     "output_type": "stream",
     "text": [
      "总共用时: 3963.843750\n"
     ]
    }
   ],
   "source": [
    "#MCMC sampling implementation\n",
    "# np.random.seed(121)\n",
    "begin_total = time.time()\n",
    "nround = int(10e5)\n",
    "burnin = int(2*10e4)\n",
    "size = len(range(-burnin,nround))\n",
    "sigmaset_baseline = np.array([0.1, 0.3, 0.5, 0.7, 0.8, 0.9, 1, 1.1, 1.3, 1.5, 1.7,\n",
    "                    1.8, 1.9, 2, 2.1, 2.2, 2.3, 2.4, 2.5, 2.6, 2.8,\n",
    "                    3.0, 3.2, 3.5, 4, 4.5, 5, 6, 7, 8])\n",
    "kernelset = ['Uniform','TransUniform','TransBactrian','TransStrawHat']\n",
    "targetset = {'N01_T2':'t2_CDF', 'N01_Logistic':'logistic_CDF'}\n",
    "# kernelset = ['Uniform']\n",
    "# targetset = {'N01_T2':'t2_CDF'}\n",
    "\n",
    "target_result = {}\n",
    "mu=0;std=1\n",
    "for target,transform in targetset.items():\n",
    "    eff_kernel = {}; Pjump_kernel = {}; Exx2_kernel = {}; Rho_kernel={}; Sample_kernel={}; Quantile_kernel={}\n",
    "    for kernel in kernelset:\n",
    "        Eff = []; Pjump = []; Exx2=[]; Rho=[]; Sample=[]; Quantile=[]\n",
    "        if 'Uniform' in kernel:\n",
    "            random_result = np.random.uniform(low=-np.sqrt(3), high=np.sqrt(3), size=size)\n",
    "        elif 'Bactrian' in kernel:\n",
    "            random_result = random_bactrian(size = size)\n",
    "        elif 'StrawHat' in kernel:\n",
    "            random_result = random_strawhat(size=size)\n",
    "        sigmaset = sigmaset_baseline if 'Trans' in kernel else sigmaset_baseline*std            \n",
    "        for sigma in sigmaset:\n",
    "            begin_loop = time.time()\n",
    "            exx2 = 0; accept = 0; burn_in_result = []\n",
    "            x = np.random.uniform(low=mu,high=mu+1)\n",
    "            result = np.zeros(nround)\n",
    "            logpdf_old = logtargetpdf(x,target,mu=mu,sigma=std) - log_proposal_ratio(x,transform,True,kernel,mu=mu,sigma=std)\n",
    "            mu_hat, sigma_hat = mu,std\n",
    "            burnin_off=False\n",
    "            for j in range(-burnin,nround):\n",
    "                if (j==0):\n",
    "                    accept = 0; burnin_off = True\n",
    "                    mu_hat, sigma_hat = np.mean(burn_in_result), np.std(burn_in_result)\n",
    "                y = x if (not(('Trans' in kernel)&burnin_off)) else transform_x(x,transform,mu=mu_hat,sigma=sigma_hat)\n",
    "                ynew = y + random_result[j+burnin] * sigma\n",
    "                if ((('Trans' in kernel)&burnin_off) & (not (0 <= ynew <= 1))):\n",
    "                    ynew = reflect(ynew, xL=0, xU=1)\n",
    "                xnew = ynew if (not(('Trans' in kernel)&burnin_off)) else transform_inverse(ynew,transform,mu=mu_hat,sigma=sigma_hat)\n",
    "                logpdf_new = logtargetpdf(xnew,target,mu=mu,sigma=std) - log_proposal_ratio(xnew,transform,burnin_off,kernel,mu=mu_hat,sigma=sigma_hat)\n",
    "                pi_dif = logpdf_new - logpdf_old\n",
    "                if ((pi_dif>0) | (np.exp(pi_dif)>np.random.random())):\n",
    "                    x = xnew\n",
    "                    logpdf_old = logpdf_new\n",
    "                    accept += 1\n",
    "                \n",
    "                if (j<0):\n",
    "                    burn_in_result.append(x)\n",
    "                else:\n",
    "                    result[j] = x\n",
    "                    \n",
    "            eff = Eff_IntegratedCorrelationTime(result)\n",
    "            rho = [rho_k(result,i) for i in range(1,11)]\n",
    "            exx2 = sum(np.square(result[1:] - result[:-1]))\n",
    "            quantile = [Eff_quantile(result,i) for i in [0.05,0.25,0.5,0.75,0.95]]\n",
    "            Eff.append(eff)\n",
    "            Pjump.append(accept/nround)\n",
    "            Exx2.append(exx2/nround)\n",
    "            Rho.append(rho)\n",
    "            Sample.append(result.copy())\n",
    "            Quantile.append(quantile)\n",
    "            display(Latex('Target:{} | Kernel:{} | $\\sigma$:{} | eff:{} | $P_{{jump}}$:{} | Exx2:{} | $\\\\rho_1$:{} | $\\\\rho_2$:{} | $E_{{0.05}}$:{} | $E_{{0.25}}$:{} | $E_{{0.50}}$:{} | Time:{}'.format(\n",
    "                    target,kernel,sigma,round(eff,4),round(accept/nround,4),round(exx2/nround,4),round(rho[0],4),round(rho[1],4),\n",
    "                    round(quantile[0],4),round(quantile[1],4),round(quantile[2],4),round((time.time()-begin_loop),2))))\n",
    "        eff_kernel[kernel] = Eff\n",
    "        Pjump_kernel[kernel] = Pjump\n",
    "        Exx2_kernel[kernel] = Exx2\n",
    "        Rho_kernel[kernel] = Rho\n",
    "        Sample_kernel[kernel] = Sample\n",
    "        Quantile_kernel[kernel] = Quantile\n",
    "    target_result[target] = [eff_kernel,Pjump_kernel,Exx2_kernel,Rho_kernel,Sample_kernel,Quantile_kernel]\n",
    "print('总共用时: %f'% (time.time()-begin_total))"
   ]
  },
  {
   "cell_type": "code",
   "execution_count": 11,
   "metadata": {},
   "outputs": [
    {
     "name": "stdout",
     "output_type": "stream",
     "text": [
      "Kernel                    Sigma    Eff      Pjump    Exx2     rho1     rho2     E_5%     E_25%    E_50%   \n",
      "                                       N01_T2\n",
      "Uniform                   2.3      0.275    0.392    0.878    0.563    0.32     0.293    0.245    0.231   \n",
      "TransUniform              0.9      0.962    0.829    1.971    0.016    0.001    0.787    0.829    0.839   \n",
      "TransBactrian             0.9      1.6      0.838    2.474    -0.236   0.061    0.774    0.943    1.363   \n",
      "TransStrawHat             1.0      1.721    0.839    2.572    -0.283   0.091    0.714    0.881    1.539   \n",
      "                                       N01_Logistic\n",
      "Uniform                   2.3      0.277    0.391    0.871    0.56     0.318    0.294    0.244    0.222   \n",
      "TransUniform              0.9      0.818    0.696    1.836    0.085    0.017    0.706    0.616    0.567   \n",
      "TransBactrian             1.0      1.329    0.726    2.292    -0.149   0.027    0.678    0.733    0.855   \n",
      "TransStrawHat             0.9      1.522    0.763    2.42     -0.212   0.047    0.591    0.712    1.133   \n"
     ]
    }
   ],
   "source": [
    "name = ['Kernel' ,'Sigma', 'Eff', 'Pjump', 'Exx2', 'rho1', 'rho2', 'E_5%', 'E_25%', 'E_50%']\n",
    "print('{:<25} {:<8} {:<8} {:<8} {:<8} {:<8} {:<8} {:<8} {:<8} {:<8}'.format(*name))\n",
    "\n",
    "for target in targetset:\n",
    "    kernel_info = {}\n",
    "    print('                                      ',target)\n",
    "    for kernel in kernelset:\n",
    "        index = [np.argmax(target_result[target][0][i]) for i in kernelset]\n",
    "        index_need = index[np.where(np.array(kernelset)==kernel)[0][0]]\n",
    "        info = [target_result[target][i][kernel][index_need] for i in range(len(target_result[target]))]\n",
    "        rho1 = info[3][0]; rho2 = info[3][1]\n",
    "        E05 = info[5][0]; E25 = info[5][1]; E50 = info[5][2]\n",
    "#         kernel_info[kernel] = np.round(np.concatenate([[sigmaset[index_need]],info[0:3],[rho1,rho2]]),3)\n",
    "        kernel_info[kernel] = np.round(np.concatenate([[sigmaset[index_need]],info[0:3],[rho1,rho2],[E05,E25,E50]]),3)\n",
    "        kernel_info[kernel] = kernel_info[kernel].tolist()\n",
    "        kernel_info[kernel].insert(0,kernel)\n",
    "        print('{:<25} {:<8} {:<8} {:<8} {:<8} {:<8} {:<8} {:<8} {:<8} {:<8}'.format(*kernel_info[kernel]))"
   ]
  },
  {
   "cell_type": "code",
   "execution_count": 26,
   "metadata": {},
   "outputs": [
    {
     "data": {
      "image/png": "[encoded data removed]",
      "text/plain": [
       "<Figure size 432x288 with 1 Axes>"
      ]
     },
     "metadata": {
      "needs_background": "light"
     },
     "output_type": "display_data"
    }
   ],
   "source": [
    "marker = ['+','o','H','D','*','4','>','p','P']\n",
    "color = ['red','Blue','c','Orange','m','Black','green','Brown']\n",
    "[plt.plot(sigmaset,target_result['N01_T2'][0][kernelset[i]],marker=marker[i],color=color[i],label=kernelset[i]) for i in range(4)]\n",
    "plt.legend()\n",
    "plt.xlabel('$\\sigma$', fontsize=10)\n",
    "plt.ylabel('Efficiency', fontsize=10)\n",
    "plt.savefig('Eff_for_N01_T2.eps', format='eps', dpi=1000)\n",
    "plt.show()"
   ]
  },
  {
   "cell_type": "code",
   "execution_count": 27,
   "metadata": {},
   "outputs": [
    {
     "data": {
      "image/png": "[encoded data removed]",
      "text/plain": [
       "<Figure size 432x288 with 1 Axes>"
      ]
     },
     "metadata": {
      "needs_background": "light"
     },
     "output_type": "display_data"
    }
   ],
   "source": [
    "marker = ['+','o','H','D','*','4','>','p','P']\n",
    "color = ['red','Blue','c','Orange','m','Black','green','Brown']\n",
    "[plt.plot(sigmaset,target_result['N01_Logistic'][0][kernelset[i]],marker=marker[i],color=color[i],label=kernelset[i]) for i in range(4)]\n",
    "plt.legend()\n",
    "plt.xlabel('$\\sigma$', fontsize=10)\n",
    "plt.ylabel('Efficiency', fontsize=10)\n",
    "plt.savefig('Eff_of_N01_logistic.eps', format='eps', dpi=1000)\n",
    "plt.show()"
   ]
  },
  {
   "cell_type": "code",
   "execution_count": 64,
   "metadata": {},
   "outputs": [
    {
     "data": {
      "image/png": "[encoded data removed]",
      "text/plain": [
       "<Figure size 432x288 with 1 Axes>"
      ]
     },
     "metadata": {
      "needs_background": "light"
     },
     "output_type": "display_data"
    }
   ],
   "source": [
    "index = [np.argmax(target_result['N01_T2'][0][i]) for i in kernelset]\n",
    "marker = ['+','o','H','D','*','4','>','p','P']\n",
    "color = ['red','Blue','c','Orange','m','Black','green','Brown']\n",
    "for j in range(4):\n",
    "    rho50 = [rho_k(target_result['N01_Logistic'][4][kernelset[j]][index[j]],i) for i in range(1,21)]\n",
    "    plt.plot(range(1,21),rho50,marker=marker[j],color=color[j],label=kernelset[j])\n",
    "# plt.ylim(-0.2,0.2)\n",
    "plt.legend()\n",
    "plt.xticks(range(1, 21))\n",
    "plt.savefig('rho_of_N01_logistic.eps', format='eps', dpi=1000)\n",
    "plt.show()"
   ]
  },
  {
   "cell_type": "code",
   "execution_count": 65,
   "metadata": {},
   "outputs": [
    {
     "data": {
      "image/png": "[encoded data removed]",
      "text/plain": [
       "<Figure size 432x288 with 1 Axes>"
      ]
     },
     "metadata": {
      "needs_background": "light"
     },
     "output_type": "display_data"
    }
   ],
   "source": [
    "index = [np.argmax(target_result['N01_T2'][0][i]) for i in kernelset]\n",
    "marker = ['+','o','H','D','*','4','>','p','P']\n",
    "color = ['red','Blue','c','Orange','m','Black','green','Brown']\n",
    "for j in range(4):\n",
    "    rho50 = [rho_k(target_result['N01_T2'][4][kernelset[j]][index[j]],i) for i in range(1,21)]\n",
    "    plt.plot(range(1,21),rho50,marker=marker[j],color=color[j],label=kernelset[j])\n",
    "# plt.ylim(-0.2,0.2)\n",
    "plt.legend()\n",
    "plt.xticks(range(1, 21))\n",
    "plt.savefig('rho_of_N01_T2.eps', format='eps', dpi=1000)\n",
    "plt.show()"
   ]
  },
  {
   "cell_type": "code",
   "execution_count": 88,
   "metadata": {
    "scrolled": true
   },
   "outputs": [
    {
     "data": {
      "image/png": "[encoded data removed]",
      "text/plain": [
       "<Figure size 432x288 with 1 Axes>"
      ]
     },
     "metadata": {
      "needs_background": "light"
     },
     "output_type": "display_data"
    }
   ],
   "source": [
    "plt.plot(target_result['N01_T2'][4]['Uniform'][16])\n",
    "# plt.xlim(700000,705000)\n",
    "plt.xlim(750000,1000000)\n",
    "plt.savefig('MCMC_uniform.eps', format='eps', dpi=1000)\n",
    "plt.show()"
   ]
  },
  {
   "cell_type": "code",
   "execution_count": 89,
   "metadata": {},
   "outputs": [
    {
     "data": {
      "image/png": "[encoded data removed]",
      "text/plain": [
       "<Figure size 432x288 with 1 Axes>"
      ]
     },
     "metadata": {
      "needs_background": "light"
     },
     "output_type": "display_data"
    }
   ],
   "source": [
    "plt.plot(target_result['N01_T2'][4]['TransUniform'][5])\n",
    "# plt.xlim(700000,705000)\n",
    "plt.savefig('MCMC_TransUniform.eps', format='eps', dpi=1000)\n",
    "plt.xlim(750000,1000000)\n",
    "plt.show()"
   ]
  },
  {
   "cell_type": "code",
   "execution_count": 102,
   "metadata": {
    "scrolled": true
   },
   "outputs": [
    {
     "data": {
      "image/png": "[encoded data removed]",
      "text/plain": [
       "<Figure size 432x288 with 1 Axes>"
      ]
     },
     "metadata": {
      "needs_background": "light"
     },
     "output_type": "display_data"
    }
   ],
   "source": [
    "indexofquantile = 0\n",
    "kernel = 'N01_T2'\n",
    "marker = ['+','o','H','D','*','4','>','p','P']\n",
    "color = ['red','Blue','c','Orange','m','Black','green','Brown']\n",
    "for j in range(4):\n",
    "    result = [target_result[kernel][5][kernelset[j]][i][indexofquantile] for i in range(30)]\n",
    "    plt.plot(sigmaset,result,marker=marker[j],color=color[j],label=kernelset[j])\n",
    "plt.legend()\n",
    "plt.savefig('5quantile.eps', format='eps', dpi=1000)\n",
    "plt.show()"
   ]
  },
  {
   "cell_type": "code",
   "execution_count": 103,
   "metadata": {},
   "outputs": [
    {
     "data": {
      "image/png": "[encoded data removed]",
      "text/plain": [
       "<Figure size 432x288 with 1 Axes>"
      ]
     },
     "metadata": {
      "needs_background": "light"
     },
     "output_type": "display_data"
    }
   ],
   "source": [
    "indexofquantile = 1\n",
    "kernel = 'N01_T2'\n",
    "marker = ['+','o','H','D','*','4','>','p','P']\n",
    "color = ['red','Blue','c','Orange','m','Black','green','Brown']\n",
    "for j in range(4):\n",
    "    result = [target_result[kernel][5][kernelset[j]][i][indexofquantile] for i in range(30)]\n",
    "    plt.plot(sigmaset,result,marker=marker[j],color=color[j],label=kernelset[j])\n",
    "plt.legend()\n",
    "plt.savefig('25quantile.eps', format='eps', dpi=1000)\n",
    "plt.show()"
   ]
  },
  {
   "cell_type": "code",
   "execution_count": 104,
   "metadata": {},
   "outputs": [
    {
     "data": {
      "image/png": "[encoded data removed]",
      "text/plain": [
       "<Figure size 432x288 with 1 Axes>"
      ]
     },
     "metadata": {
      "needs_background": "light"
     },
     "output_type": "display_data"
    }
   ],
   "source": [
    "indexofquantile = 2\n",
    "kernel = 'N01_T2'\n",
    "marker = ['+','o','H','D','*','4','>','p','P']\n",
    "color = ['red','Blue','c','Orange','m','Black','green','Brown']\n",
    "for j in range(4):\n",
    "    result = [target_result[kernel][5][kernelset[j]][i][indexofquantile] for i in range(30)]\n",
    "    plt.plot(sigmaset,result,marker=marker[j],color=color[j],label=kernelset[j])\n",
    "plt.legend()\n",
    "plt.savefig('50quantile.eps', format='eps', dpi=1000)\n",
    "plt.show()"
   ]
  }
 ],
 "metadata": {
  "kernelspec": {
   "display_name": "Python 3",
   "language": "python",
   "name": "python3"
  },
  "language_info": {
   "codemirror_mode": {
    "name": "ipython",
    "version": 3
   },
   "file_extension": ".py",
   "mimetype": "text/x-python",
   "name": "python",
   "nbconvert_exporter": "python",
   "pygments_lexer": "ipython3",
   "version": "3.6.8"
  }
 },
 "nbformat": 4,
 "nbformat_minor": 2
}
