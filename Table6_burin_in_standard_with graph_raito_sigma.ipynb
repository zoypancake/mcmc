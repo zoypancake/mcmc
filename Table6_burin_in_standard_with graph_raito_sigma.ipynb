{
 "cells": [
  {
   "cell_type": "code",
   "execution_count": 1,
   "metadata": {},
   "outputs": [
    {
     "data": {
      "text/html": [
       "<style>.container { width:100% !important; }</style>"
      ],
      "text/plain": [
       "<IPython.core.display.HTML object>"
      ]
     },
     "metadata": {},
     "output_type": "display_data"
    }
   ],
   "source": [
    "from IPython.core.display import display, HTML\n",
    "display(HTML(\"<style>.container { width:100% !important; }</style>\"))"
   ]
  },
  {
   "cell_type": "code",
   "execution_count": 2,
   "metadata": {},
   "outputs": [],
   "source": [
    "from tools import *\n",
    "import matplotlib.pyplot as plt\n",
    "import numpy as np\n",
    "import scipy.stats\n",
    "from scipy.stats import multivariate_normal\n",
    "from scipy.misc import derivative\n",
    "from scipy.linalg import fractional_matrix_power\n",
    "from scipy.stats import wishart\n",
    "from IPython.display import Latex\n",
    "import sys\n",
    "import time"
   ]
  },
  {
   "cell_type": "code",
   "execution_count": 3,
   "metadata": {},
   "outputs": [],
   "source": [
    "def logtargetpdf(x, target, mu=0, sigma=1):\n",
    "    lnp = 0.0\n",
    "    if (target == 'Exp'):\n",
    "            lnp = -(x-mu)/sigma if (x>=mu) else -500\n",
    "    elif (target == 'Folded_Gaussian'):\n",
    "            lnp = -(x-mu)**2/(2*sigma**2) if (x>=mu) else -500\n",
    "    elif (target == 'N01_T2'):\n",
    "            lnp = -(x-mu)**2/(2*sigma**2)\n",
    "    elif (target == 'N01_Logistic'):\n",
    "            lnp = -(x-mu)**2/(2*sigma**2)\n",
    "    return (lnp)\n",
    "\n",
    "def transform_x(x,transform,mu=0,sigma=1):\n",
    "    y = 0.0\n",
    "    x = (x-mu)/sigma\n",
    "    if (transform == 'Exp(1)_CDF'):\n",
    "        y = np.exp(-x)\n",
    "    elif (transform == 't2_CDF'):\n",
    "        y = 1/2+x/np.sqrt(8+4*x**2)\n",
    "    elif (transform == 'logistic_CDF'):\n",
    "        y = 1/(1+np.exp(-x))\n",
    "    return y\n",
    "\n",
    "def transform_inverse(y,transform,mu=0,sigma=1):\n",
    "    x = 0.0\n",
    "    if (transform == 'Exp(1)_CDF'):\n",
    "        x = -np.log(y)\n",
    "    elif (transform == 't2_CDF'):\n",
    "        x = (2*y-1)/np.sqrt(2*y*(1-y))\n",
    "    elif (transform == 'logistic_CDF'):\n",
    "        x = -np.log(1/y-1)\n",
    "    x = x * sigma + mu\n",
    "    return x\n",
    "\n",
    "def log_proposal_ratio(x,transform,burnin_off,kernel,mu=0,sigma=1):\n",
    "    ratio = 0.0\n",
    "    if ('Trans' in kernel)&burnin_off:\n",
    "        x = (x-mu)/sigma\n",
    "        if (transform == 'Exp(1)_CDF'):\n",
    "            ratio = -x\n",
    "        elif (transform == 't2_CDF'):\n",
    "            ratio = -3/2*np.log(2+x**2)# - np.log(sigma)\n",
    "        elif (transform == 'logistic_CDF'):\n",
    "            ratio = -x - 2*np.log(1+np.exp(-x))# - np.log(sigma)\n",
    "    return ratio"
   ]
  },
  {
   "cell_type": "code",
   "execution_count": 4,
   "metadata": {
    "collapsed": true
   },
   "outputs": [
    {
     "data": {
      "text/latex": [
       "Target:N01_T2 | Kernel:Uniform | $\\sigma$:0.1 | eff:0.0024 | $P_{jump}$:0.9652 | Exx2:0.0095 | $\\rho_1$:0.9954 | $\\rho_2$:0.9907 | $E_{0.05}$:0.0054 | $E_{0.25}$:0.0039 | $E_{0.50}$:0.0037 | Time:132.99"
      ],
      "text/plain": [
       "<IPython.core.display.Latex object>"
      ]
     },
     "metadata": {},
     "output_type": "display_data"
    },
    {
     "data": {
      "text/latex": [
       "Target:N01_T2 | Kernel:Uniform | $\\sigma$:0.3 | eff:0.0183 | $P_{jump}$:0.8964 | Exx2:0.0762 | $\\rho_1$:0.9623 | $\\rho_2$:0.926 | $E_{0.05}$:0.0369 | $E_{0.25}$:0.029 | $E_{0.50}$:0.0278 | Time:31.56"
      ],
      "text/plain": [
       "<IPython.core.display.Latex object>"
      ]
     },
     "metadata": {},
     "output_type": "display_data"
    },
    {
     "data": {
      "text/latex": [
       "Target:N01_T2 | Kernel:Uniform | $\\sigma$:0.5 | eff:0.0469 | $P_{jump}$:0.8294 | Exx2:0.1864 | $\\rho_1$:0.9068 | $\\rho_2$:0.823 | $E_{0.05}$:0.0914 | $E_{0.25}$:0.0737 | $E_{0.50}$:0.0731 | Time:16.64"
      ],
      "text/plain": [
       "<IPython.core.display.Latex object>"
      ]
     },
     "metadata": {},
     "output_type": "display_data"
    },
    {
     "data": {
      "text/latex": [
       "Target:N01_T2 | Kernel:Uniform | $\\sigma$:0.7 | eff:0.0807 | $P_{jump}$:0.7647 | Exx2:0.3194 | $\\rho_1$:0.8409 | $\\rho_2$:0.7097 | $E_{0.05}$:0.1331 | $E_{0.25}$:0.1259 | $E_{0.50}$:0.13 | Time:15.1"
      ],
      "text/plain": [
       "<IPython.core.display.Latex object>"
      ]
     },
     "metadata": {},
     "output_type": "display_data"
    },
    {
     "data": {
      "text/latex": [
       "Target:N01_T2 | Kernel:Uniform | $\\sigma$:0.8 | eff:0.1018 | $P_{jump}$:0.7343 | Exx2:0.3888 | $\\rho_1$:0.8062 | $\\rho_2$:0.6547 | $E_{0.05}$:0.1649 | $E_{0.25}$:0.1573 | $E_{0.50}$:0.1631 | Time:9.91"
      ],
      "text/plain": [
       "<IPython.core.display.Latex object>"
      ]
     },
     "metadata": {},
     "output_type": "display_data"
    },
    {
     "data": {
      "text/latex": [
       "Target:N01_T2 | Kernel:Uniform | $\\sigma$:0.9 | eff:0.1221 | $P_{jump}$:0.7035 | Exx2:0.4561 | $\\rho_1$:0.7718 | $\\rho_2$:0.6022 | $E_{0.05}$:0.1886 | $E_{0.25}$:0.1894 | $E_{0.50}$:0.1979 | Time:9.7"
      ],
      "text/plain": [
       "<IPython.core.display.Latex object>"
      ]
     },
     "metadata": {},
     "output_type": "display_data"
    },
    {
     "data": {
      "text/latex": [
       "Target:N01_T2 | Kernel:Uniform | $\\sigma$:1.0 | eff:0.1418 | $P_{jump}$:0.6738 | Exx2:0.522 | $\\rho_1$:0.7392 | $\\rho_2$:0.5538 | $E_{0.05}$:0.2042 | $E_{0.25}$:0.2147 | $E_{0.50}$:0.2256 | Time:9.46"
      ],
      "text/plain": [
       "<IPython.core.display.Latex object>"
      ]
     },
     "metadata": {},
     "output_type": "display_data"
    },
    {
     "data": {
      "text/latex": [
       "Target:N01_T2 | Kernel:Uniform | $\\sigma$:1.1 | eff:0.1524 | $P_{jump}$:0.6458 | Exx2:0.5837 | $\\rho_1$:0.7101 | $\\rho_2$:0.5131 | $E_{0.05}$:0.2143 | $E_{0.25}$:0.2304 | $E_{0.50}$:0.2454 | Time:10.95"
      ],
      "text/plain": [
       "<IPython.core.display.Latex object>"
      ]
     },
     "metadata": {},
     "output_type": "display_data"
    },
    {
     "data": {
      "text/latex": [
       "Target:N01_T2 | Kernel:Uniform | $\\sigma$:1.3 | eff:0.1966 | $P_{jump}$:0.5925 | Exx2:0.6907 | $\\rho_1$:0.6542 | $\\rho_2$:0.4376 | $E_{0.05}$:0.2521 | $E_{0.25}$:0.2731 | $E_{0.50}$:0.271 | Time:10.0"
      ],
      "text/plain": [
       "<IPython.core.display.Latex object>"
      ]
     },
     "metadata": {},
     "output_type": "display_data"
    },
    {
     "data": {
      "text/latex": [
       "Target:N01_T2 | Kernel:Uniform | $\\sigma$:1.5 | eff:0.2294 | $P_{jump}$:0.544 | Exx2:0.7772 | $\\rho_1$:0.6108 | $\\rho_2$:0.3818 | $E_{0.05}$:0.2661 | $E_{0.25}$:0.2915 | $E_{0.50}$:0.2954 | Time:9.17"
      ],
      "text/plain": [
       "<IPython.core.display.Latex object>"
      ]
     },
     "metadata": {},
     "output_type": "display_data"
    },
    {
     "data": {
      "text/latex": [
       "Target:N01_T2 | Kernel:Uniform | $\\sigma$:1.7 | eff:0.2532 | $P_{jump}$:0.4993 | Exx2:0.8339 | $\\rho_1$:0.5819 | $\\rho_2$:0.3457 | $E_{0.05}$:0.2801 | $E_{0.25}$:0.2946 | $E_{0.50}$:0.2884 | Time:8.46"
      ],
      "text/plain": [
       "<IPython.core.display.Latex object>"
      ]
     },
     "metadata": {},
     "output_type": "display_data"
    },
    {
     "data": {
      "text/latex": [
       "Target:N01_T2 | Kernel:Uniform | $\\sigma$:1.8 | eff:0.2627 | $P_{jump}$:0.4792 | Exx2:0.8545 | $\\rho_1$:0.5737 | $\\rho_2$:0.3332 | $E_{0.05}$:0.2843 | $E_{0.25}$:0.2912 | $E_{0.50}$:0.2771 | Time:9.05"
      ],
      "text/plain": [
       "<IPython.core.display.Latex object>"
      ]
     },
     "metadata": {},
     "output_type": "display_data"
    },
    {
     "data": {
      "text/latex": [
       "Target:N01_T2 | Kernel:Uniform | $\\sigma$:1.9 | eff:0.2702 | $P_{jump}$:0.4599 | Exx2:0.8714 | $\\rho_1$:0.5655 | $\\rho_2$:0.3249 | $E_{0.05}$:0.2917 | $E_{0.25}$:0.2822 | $E_{0.50}$:0.271 | Time:8.42"
      ],
      "text/plain": [
       "<IPython.core.display.Latex object>"
      ]
     },
     "metadata": {},
     "output_type": "display_data"
    },
    {
     "data": {
      "text/latex": [
       "Target:N01_T2 | Kernel:Uniform | $\\sigma$:2.0 | eff:0.2769 | $P_{jump}$:0.4407 | Exx2:0.8784 | $\\rho_1$:0.5616 | $\\rho_2$:0.319 | $E_{0.05}$:0.2969 | $E_{0.25}$:0.272 | $E_{0.50}$:0.263 | Time:9.04"
      ],
      "text/plain": [
       "<IPython.core.display.Latex object>"
      ]
     },
     "metadata": {},
     "output_type": "display_data"
    },
    {
     "data": {
      "text/latex": [
       "Target:N01_T2 | Kernel:Uniform | $\\sigma$:2.1 | eff:0.2775 | $P_{jump}$:0.4234 | Exx2:0.8785 | $\\rho_1$:0.5581 | $\\rho_2$:0.3156 | $E_{0.05}$:0.2985 | $E_{0.25}$:0.2655 | $E_{0.50}$:0.251 | Time:8.45"
      ],
      "text/plain": [
       "<IPython.core.display.Latex object>"
      ]
     },
     "metadata": {},
     "output_type": "display_data"
    },
    {
     "data": {
      "text/latex": [
       "Target:N01_T2 | Kernel:Uniform | $\\sigma$:2.2 | eff:0.2742 | $P_{jump}$:0.4073 | Exx2:0.8804 | $\\rho_1$:0.5615 | $\\rho_2$:0.3184 | $E_{0.05}$:0.2992 | $E_{0.25}$:0.2518 | $E_{0.50}$:0.2388 | Time:9.28"
      ],
      "text/plain": [
       "<IPython.core.display.Latex object>"
      ]
     },
     "metadata": {},
     "output_type": "display_data"
    },
    {
     "data": {
      "text/latex": [
       "Target:N01_T2 | Kernel:Uniform | $\\sigma$:2.3 | eff:0.2759 | $P_{jump}$:0.391 | Exx2:0.8738 | $\\rho_1$:0.5621 | $\\rho_2$:0.32 | $E_{0.05}$:0.2928 | $E_{0.25}$:0.2461 | $E_{0.50}$:0.2302 | Time:8.66"
      ],
      "text/plain": [
       "<IPython.core.display.Latex object>"
      ]
     },
     "metadata": {},
     "output_type": "display_data"
    },
    {
     "data": {
      "text/latex": [
       "Target:N01_T2 | Kernel:Uniform | $\\sigma$:2.4 | eff:0.2724 | $P_{jump}$:0.3771 | Exx2:0.8717 | $\\rho_1$:0.5644 | $\\rho_2$:0.3224 | $E_{0.05}$:0.2868 | $E_{0.25}$:0.2368 | $E_{0.50}$:0.2201 | Time:8.91"
      ],
      "text/plain": [
       "<IPython.core.display.Latex object>"
      ]
     },
     "metadata": {},
     "output_type": "display_data"
    },
    {
     "data": {
      "text/latex": [
       "Target:N01_T2 | Kernel:Uniform | $\\sigma$:2.5 | eff:0.2664 | $P_{jump}$:0.3635 | Exx2:0.8596 | $\\rho_1$:0.5709 | $\\rho_2$:0.3293 | $E_{0.05}$:0.2858 | $E_{0.25}$:0.2272 | $E_{0.50}$:0.208 | Time:8.94"
      ],
      "text/plain": [
       "<IPython.core.display.Latex object>"
      ]
     },
     "metadata": {},
     "output_type": "display_data"
    },
    {
     "data": {
      "text/latex": [
       "Target:N01_T2 | Kernel:Uniform | $\\sigma$:2.6 | eff:0.2546 | $P_{jump}$:0.3504 | Exx2:0.8424 | $\\rho_1$:0.5781 | $\\rho_2$:0.3392 | $E_{0.05}$:0.2704 | $E_{0.25}$:0.2168 | $E_{0.50}$:0.199 | Time:9.98"
      ],
      "text/plain": [
       "<IPython.core.display.Latex object>"
      ]
     },
     "metadata": {},
     "output_type": "display_data"
    },
    {
     "data": {
      "text/latex": [
       "Target:N01_T2 | Kernel:Uniform | $\\sigma$:2.8 | eff:0.2464 | $P_{jump}$:0.327 | Exx2:0.8171 | $\\rho_1$:0.5921 | $\\rho_2$:0.3542 | $E_{0.05}$:0.2603 | $E_{0.25}$:0.1989 | $E_{0.50}$:0.1868 | Time:9.99"
      ],
      "text/plain": [
       "<IPython.core.display.Latex object>"
      ]
     },
     "metadata": {},
     "output_type": "display_data"
    },
    {
     "data": {
      "text/latex": [
       "Target:N01_T2 | Kernel:Uniform | $\\sigma$:3.0 | eff:0.2287 | $P_{jump}$:0.3052 | Exx2:0.7805 | $\\rho_1$:0.6086 | $\\rho_2$:0.3758 | $E_{0.05}$:0.2438 | $E_{0.25}$:0.1825 | $E_{0.50}$:0.1672 | Time:10.11"
      ],
      "text/plain": [
       "<IPython.core.display.Latex object>"
      ]
     },
     "metadata": {},
     "output_type": "display_data"
    },
    {
     "data": {
      "text/latex": [
       "Target:N01_T2 | Kernel:Uniform | $\\sigma$:3.2 | eff:0.2165 | $P_{jump}$:0.2867 | Exx2:0.742 | $\\rho_1$:0.6284 | $\\rho_2$:0.4009 | $E_{0.05}$:0.2315 | $E_{0.25}$:0.1709 | $E_{0.50}$:0.1611 | Time:9.77"
      ],
      "text/plain": [
       "<IPython.core.display.Latex object>"
      ]
     },
     "metadata": {},
     "output_type": "display_data"
    },
    {
     "data": {
      "text/latex": [
       "Target:N01_T2 | Kernel:Uniform | $\\sigma$:3.5 | eff:0.1966 | $P_{jump}$:0.2628 | Exx2:0.6935 | $\\rho_1$:0.6521 | $\\rho_2$:0.4318 | $E_{0.05}$:0.2077 | $E_{0.25}$:0.153 | $E_{0.50}$:0.1431 | Time:9.78"
      ],
      "text/plain": [
       "<IPython.core.display.Latex object>"
      ]
     },
     "metadata": {},
     "output_type": "display_data"
    },
    {
     "data": {
      "text/latex": [
       "Target:N01_T2 | Kernel:Uniform | $\\sigma$:4.0 | eff:0.1668 | $P_{jump}$:0.2309 | Exx2:0.622 | $\\rho_1$:0.6931 | $\\rho_2$:0.486 | $E_{0.05}$:0.1753 | $E_{0.25}$:0.1282 | $E_{0.50}$:0.1243 | Time:10.56"
      ],
      "text/plain": [
       "<IPython.core.display.Latex object>"
      ]
     },
     "metadata": {},
     "output_type": "display_data"
    },
    {
     "data": {
      "text/latex": [
       "Target:N01_T2 | Kernel:Uniform | $\\sigma$:4.5 | eff:0.1487 | $P_{jump}$:0.2046 | Exx2:0.5496 | $\\rho_1$:0.7252 | $\\rho_2$:0.5302 | $E_{0.05}$:0.155 | $E_{0.25}$:0.1169 | $E_{0.50}$:0.1086 | Time:10.72"
      ],
      "text/plain": [
       "<IPython.core.display.Latex object>"
      ]
     },
     "metadata": {},
     "output_type": "display_data"
    },
    {
     "data": {
      "text/latex": [
       "Target:N01_T2 | Kernel:Uniform | $\\sigma$:5.0 | eff:0.1276 | $P_{jump}$:0.1834 | Exx2:0.4859 | $\\rho_1$:0.7554 | $\\rho_2$:0.5746 | $E_{0.05}$:0.1385 | $E_{0.25}$:0.1013 | $E_{0.50}$:0.0951 | Time:11.74"
      ],
      "text/plain": [
       "<IPython.core.display.Latex object>"
      ]
     },
     "metadata": {},
     "output_type": "display_data"
    },
    {
     "data": {
      "text/latex": [
       "Target:N01_T2 | Kernel:Uniform | $\\sigma$:6.0 | eff:0.1044 | $P_{jump}$:0.1533 | Exx2:0.41 | $\\rho_1$:0.7961 | $\\rho_2$:0.637 | $E_{0.05}$:0.1106 | $E_{0.25}$:0.0841 | $E_{0.50}$:0.0774 | Time:11.46"
      ],
      "text/plain": [
       "<IPython.core.display.Latex object>"
      ]
     },
     "metadata": {},
     "output_type": "display_data"
    },
    {
     "data": {
      "text/latex": [
       "Target:N01_T2 | Kernel:Uniform | $\\sigma$:7.0 | eff:0.0904 | $P_{jump}$:0.1315 | Exx2:0.3487 | $\\rho_1$:0.8249 | $\\rho_2$:0.683 | $E_{0.05}$:0.0934 | $E_{0.25}$:0.0709 | $E_{0.50}$:0.0666 | Time:11.63"
      ],
      "text/plain": [
       "<IPython.core.display.Latex object>"
      ]
     },
     "metadata": {},
     "output_type": "display_data"
    },
    {
     "data": {
      "text/latex": [
       "Target:N01_T2 | Kernel:Uniform | $\\sigma$:8.0 | eff:0.0772 | $P_{jump}$:0.115 | Exx2:0.3061 | $\\rho_1$:0.8472 | $\\rho_2$:0.7198 | $E_{0.05}$:0.0798 | $E_{0.25}$:0.0624 | $E_{0.50}$:0.0578 | Time:13.46"
      ],
      "text/plain": [
       "<IPython.core.display.Latex object>"
      ]
     },
     "metadata": {},
     "output_type": "display_data"
    },
    {
     "data": {
      "text/latex": [
       "Target:N01_T2 | Kernel:Uniform | $\\sigma$:10.0 | eff:0.0609 | $P_{jump}$:0.0917 | Exx2:0.2447 | $\\rho_1$:0.8773 | $\\rho_2$:0.7708 | $E_{0.05}$:0.0631 | $E_{0.25}$:0.0489 | $E_{0.50}$:0.0444 | Time:15.09"
      ],
      "text/plain": [
       "<IPython.core.display.Latex object>"
      ]
     },
     "metadata": {},
     "output_type": "display_data"
    },
    {
     "data": {
      "text/latex": [
       "Target:N01_T2 | Kernel:Uniform | $\\sigma$:15.0 | eff:0.0398 | $P_{jump}$:0.0613 | Exx2:0.1651 | $\\rho_1$:0.9171 | $\\rho_2$:0.8416 | $E_{0.05}$:0.0401 | $E_{0.25}$:0.0322 | $E_{0.50}$:0.0297 | Time:18.9"
      ],
      "text/plain": [
       "<IPython.core.display.Latex object>"
      ]
     },
     "metadata": {},
     "output_type": "display_data"
    },
    {
     "data": {
      "text/latex": [
       "Target:N01_T2 | Kernel:Uniform | $\\sigma$:20.0 | eff:0.0288 | $P_{jump}$:0.0458 | Exx2:0.1233 | $\\rho_1$:0.9383 | $\\rho_2$:0.8807 | $E_{0.05}$:0.0315 | $E_{0.25}$:0.0231 | $E_{0.50}$:0.0211 | Time:31.26"
      ],
      "text/plain": [
       "<IPython.core.display.Latex object>"
      ]
     },
     "metadata": {},
     "output_type": "display_data"
    },
    {
     "data": {
      "text/latex": [
       "Target:N01_T2 | Kernel:Uniform | $\\sigma$:27.0 | eff:0.0212 | $P_{jump}$:0.034 | Exx2:0.0898 | $\\rho_1$:0.9557 | $\\rho_2$:0.9131 | $E_{0.05}$:0.0218 | $E_{0.25}$:0.0173 | $E_{0.50}$:0.0165 | Time:30.48"
      ],
      "text/plain": [
       "<IPython.core.display.Latex object>"
      ]
     },
     "metadata": {},
     "output_type": "display_data"
    },
    {
     "data": {
      "text/latex": [
       "Target:N01_T2 | Kernel:TransUniform | $\\sigma$:0.1 | eff:0.0351 | $P_{jump}$:0.8874 | Exx2:0.1956 | $\\rho_1$:0.9022 | $\\rho_2$:0.8276 | $E_{0.05}$:0.1361 | $E_{0.25}$:0.0498 | $E_{0.50}$:0.0387 | Time:22.95"
      ],
      "text/plain": [
       "<IPython.core.display.Latex object>"
      ]
     },
     "metadata": {},
     "output_type": "display_data"
    },
    {
     "data": {
      "text/latex": [
       "Target:N01_T2 | Kernel:TransUniform | $\\sigma$:0.3 | eff:0.2761 | $P_{jump}$:0.8315 | Exx2:0.8944 | $\\rho_1$:0.5515 | $\\rho_2$:0.3189 | $E_{0.05}$:0.607 | $E_{0.25}$:0.3523 | $E_{0.50}$:0.3301 | Time:16.65"
      ],
      "text/plain": [
       "<IPython.core.display.Latex object>"
      ]
     },
     "metadata": {},
     "output_type": "display_data"
    },
    {
     "data": {
      "text/latex": [
       "Target:N01_T2 | Kernel:TransUniform | $\\sigma$:0.5 | eff:0.5881 | $P_{jump}$:0.8179 | Exx2:1.5113 | $\\rho_1$:0.2456 | $\\rho_2$:0.069 | $E_{0.05}$:0.7927 | $E_{0.25}$:0.6257 | $E_{0.50}$:0.5269 | Time:16.65"
      ],
      "text/plain": [
       "<IPython.core.display.Latex object>"
      ]
     },
     "metadata": {},
     "output_type": "display_data"
    },
    {
     "data": {
      "text/latex": [
       "Target:N01_T2 | Kernel:TransUniform | $\\sigma$:0.7 | eff:0.8833 | $P_{jump}$:0.8375 | Exx2:1.8727 | $\\rho_1$:0.0615 | $\\rho_2$:0.0049 | $E_{0.05}$:0.7181 | $E_{0.25}$:0.7435 | $E_{0.50}$:0.9068 | Time:16.73"
      ],
      "text/plain": [
       "<IPython.core.display.Latex object>"
      ]
     },
     "metadata": {},
     "output_type": "display_data"
    },
    {
     "data": {
      "text/latex": [
       "Target:N01_T2 | Kernel:TransUniform | $\\sigma$:0.8 | eff:0.937 | $P_{jump}$:0.8289 | Exx2:1.947 | $\\rho_1$:0.0266 | $\\rho_2$:0.001 | $E_{0.05}$:0.7616 | $E_{0.25}$:0.788 | $E_{0.50}$:0.8613 | Time:17.05"
      ],
      "text/plain": [
       "<IPython.core.display.Latex object>"
      ]
     },
     "metadata": {},
     "output_type": "display_data"
    },
    {
     "data": {
      "text/latex": [
       "Target:N01_T2 | Kernel:TransUniform | $\\sigma$:0.9 | eff:0.9694 | $P_{jump}$:0.8274 | Exx2:1.9691 | $\\rho_1$:0.0179 | $\\rho_2$:-0.0011 | $E_{0.05}$:0.7863 | $E_{0.25}$:0.83 | $E_{0.50}$:0.8394 | Time:17.44"
      ],
      "text/plain": [
       "<IPython.core.display.Latex object>"
      ]
     },
     "metadata": {},
     "output_type": "display_data"
    },
    {
     "data": {
      "text/latex": [
       "Target:N01_T2 | Kernel:TransUniform | $\\sigma$:1.0 | eff:0.9037 | $P_{jump}$:0.8259 | Exx2:1.9023 | $\\rho_1$:0.0509 | $\\rho_2$:0.0029 | $E_{0.05}$:0.8227 | $E_{0.25}$:0.7944 | $E_{0.50}$:0.8325 | Time:16.91"
      ],
      "text/plain": [
       "<IPython.core.display.Latex object>"
      ]
     },
     "metadata": {},
     "output_type": "display_data"
    },
    {
     "data": {
      "text/latex": [
       "Target:N01_T2 | Kernel:TransUniform | $\\sigma$:1.1 | eff:0.7998 | $P_{jump}$:0.8236 | Exx2:1.7694 | $\\rho_1$:0.1149 | $\\rho_2$:0.0139 | $E_{0.05}$:0.7751 | $E_{0.25}$:0.7672 | $E_{0.50}$:0.7674 | Time:17.07"
      ],
      "text/plain": [
       "<IPython.core.display.Latex object>"
      ]
     },
     "metadata": {},
     "output_type": "display_data"
    },
    {
     "data": {
      "text/latex": [
       "Target:N01_T2 | Kernel:TransUniform | $\\sigma$:1.3 | eff:0.6268 | $P_{jump}$:0.8332 | Exx2:1.5357 | $\\rho_1$:0.2303 | $\\rho_2$:0.0551 | $E_{0.05}$:0.6925 | $E_{0.25}$:0.6326 | $E_{0.50}$:0.6237 | Time:17.17"
      ],
      "text/plain": [
       "<IPython.core.display.Latex object>"
      ]
     },
     "metadata": {},
     "output_type": "display_data"
    },
    {
     "data": {
      "text/latex": [
       "Target:N01_T2 | Kernel:TransUniform | $\\sigma$:1.5 | eff:0.6276 | $P_{jump}$:0.8287 | Exx2:1.5487 | $\\rho_1$:0.2251 | $\\rho_2$:0.0531 | $E_{0.05}$:0.7415 | $E_{0.25}$:0.6459 | $E_{0.50}$:0.6241 | Time:17.25"
      ],
      "text/plain": [
       "<IPython.core.display.Latex object>"
      ]
     },
     "metadata": {},
     "output_type": "display_data"
    },
    {
     "data": {
      "text/latex": [
       "Target:N01_T2 | Kernel:TransUniform | $\\sigma$:1.7 | eff:0.711 | $P_{jump}$:0.8273 | Exx2:1.666 | $\\rho_1$:0.1689 | $\\rho_2$:0.0309 | $E_{0.05}$:0.756 | $E_{0.25}$:0.6888 | $E_{0.50}$:0.6899 | Time:17.3"
      ],
      "text/plain": [
       "<IPython.core.display.Latex object>"
      ]
     },
     "metadata": {},
     "output_type": "display_data"
    },
    {
     "data": {
      "text/latex": [
       "Target:N01_T2 | Kernel:TransUniform | $\\sigma$:1.8 | eff:0.7584 | $P_{jump}$:0.8326 | Exx2:1.7368 | $\\rho_1$:0.1312 | $\\rho_2$:0.0194 | $E_{0.05}$:0.7299 | $E_{0.25}$:0.718 | $E_{0.50}$:0.7519 | Time:17.09"
      ],
      "text/plain": [
       "<IPython.core.display.Latex object>"
      ]
     },
     "metadata": {},
     "output_type": "display_data"
    },
    {
     "data": {
      "text/latex": [
       "Target:N01_T2 | Kernel:TransUniform | $\\sigma$:1.9 | eff:0.8012 | $P_{jump}$:0.8329 | Exx2:1.7859 | $\\rho_1$:0.1089 | $\\rho_2$:0.0139 | $E_{0.05}$:0.7421 | $E_{0.25}$:0.7208 | $E_{0.50}$:0.7816 | Time:17.44"
      ],
      "text/plain": [
       "<IPython.core.display.Latex object>"
      ]
     },
     "metadata": {},
     "output_type": "display_data"
    },
    {
     "data": {
      "text/latex": [
       "Target:N01_T2 | Kernel:TransUniform | $\\sigma$:2.0 | eff:0.8274 | $P_{jump}$:0.8312 | Exx2:1.8097 | $\\rho_1$:0.0928 | $\\rho_2$:0.0093 | $E_{0.05}$:0.7664 | $E_{0.25}$:0.7564 | $E_{0.50}$:0.7695 | Time:17.25"
      ],
      "text/plain": [
       "<IPython.core.display.Latex object>"
      ]
     },
     "metadata": {},
     "output_type": "display_data"
    },
    {
     "data": {
      "text/latex": [
       "Target:N01_T2 | Kernel:TransUniform | $\\sigma$:2.1 | eff:0.8052 | $P_{jump}$:0.8288 | Exx2:1.8105 | $\\rho_1$:0.0963 | $\\rho_2$:0.0094 | $E_{0.05}$:0.7774 | $E_{0.25}$:0.7506 | $E_{0.50}$:0.7623 | Time:17.39"
      ],
      "text/plain": [
       "<IPython.core.display.Latex object>"
      ]
     },
     "metadata": {},
     "output_type": "display_data"
    },
    {
     "data": {
      "text/latex": [
       "Target:N01_T2 | Kernel:TransUniform | $\\sigma$:2.2 | eff:0.7844 | $P_{jump}$:0.8263 | Exx2:1.768 | $\\rho_1$:0.1164 | $\\rho_2$:0.0135 | $E_{0.05}$:0.7887 | $E_{0.25}$:0.732 | $E_{0.50}$:0.7494 | Time:17.4"
      ],
      "text/plain": [
       "<IPython.core.display.Latex object>"
      ]
     },
     "metadata": {},
     "output_type": "display_data"
    },
    {
     "data": {
      "text/latex": [
       "Target:N01_T2 | Kernel:TransUniform | $\\sigma$:2.3 | eff:0.7409 | $P_{jump}$:0.8294 | Exx2:1.7039 | $\\rho_1$:0.1484 | $\\rho_2$:0.0233 | $E_{0.05}$:0.7576 | $E_{0.25}$:0.7073 | $E_{0.50}$:0.7132 | Time:17.62"
      ],
      "text/plain": [
       "<IPython.core.display.Latex object>"
      ]
     },
     "metadata": {},
     "output_type": "display_data"
    },
    {
     "data": {
      "text/latex": [
       "Target:N01_T2 | Kernel:TransUniform | $\\sigma$:2.4 | eff:0.6989 | $P_{jump}$:0.8328 | Exx2:1.6371 | $\\rho_1$:0.1811 | $\\rho_2$:0.0343 | $E_{0.05}$:0.7274 | $E_{0.25}$:0.6721 | $E_{0.50}$:0.6777 | Time:17.5"
      ],
      "text/plain": [
       "<IPython.core.display.Latex object>"
      ]
     },
     "metadata": {},
     "output_type": "display_data"
    },
    {
     "data": {
      "text/latex": [
       "Target:N01_T2 | Kernel:TransUniform | $\\sigma$:2.5 | eff:0.6611 | $P_{jump}$:0.8296 | Exx2:1.6006 | $\\rho_1$:0.1991 | $\\rho_2$:0.0409 | $E_{0.05}$:0.7201 | $E_{0.25}$:0.655 | $E_{0.50}$:0.6537 | Time:17.4"
      ],
      "text/plain": [
       "<IPython.core.display.Latex object>"
      ]
     },
     "metadata": {},
     "output_type": "display_data"
    },
    {
     "data": {
      "text/latex": [
       "Target:N01_T2 | Kernel:TransUniform | $\\sigma$:2.6 | eff:0.6614 | $P_{jump}$:0.8299 | Exx2:1.6077 | $\\rho_1$:0.1978 | $\\rho_2$:0.0417 | $E_{0.05}$:0.7457 | $E_{0.25}$:0.6632 | $E_{0.50}$:0.6671 | Time:17.52"
      ],
      "text/plain": [
       "<IPython.core.display.Latex object>"
      ]
     },
     "metadata": {},
     "output_type": "display_data"
    },
    {
     "data": {
      "text/latex": [
       "Target:N01_T2 | Kernel:TransUniform | $\\sigma$:2.8 | eff:0.7033 | $P_{jump}$:0.8272 | Exx2:1.6599 | $\\rho_1$:0.1703 | $\\rho_2$:0.0331 | $E_{0.05}$:0.761 | $E_{0.25}$:0.6895 | $E_{0.50}$:0.6643 | Time:17.7"
      ],
      "text/plain": [
       "<IPython.core.display.Latex object>"
      ]
     },
     "metadata": {},
     "output_type": "display_data"
    },
    {
     "data": {
      "text/latex": [
       "Target:N01_T2 | Kernel:TransUniform | $\\sigma$:3.0 | eff:0.7624 | $P_{jump}$:0.8307 | Exx2:1.7375 | $\\rho_1$:0.1325 | $\\rho_2$:0.0189 | $E_{0.05}$:0.7344 | $E_{0.25}$:0.7097 | $E_{0.50}$:0.7401 | Time:17.35"
      ],
      "text/plain": [
       "<IPython.core.display.Latex object>"
      ]
     },
     "metadata": {},
     "output_type": "display_data"
    },
    {
     "data": {
      "text/latex": [
       "Target:N01_T2 | Kernel:TransUniform | $\\sigma$:3.2 | eff:0.7972 | $P_{jump}$:0.8301 | Exx2:1.7716 | $\\rho_1$:0.1138 | $\\rho_2$:0.0146 | $E_{0.05}$:0.7639 | $E_{0.25}$:0.744 | $E_{0.50}$:0.7481 | Time:17.14"
      ],
      "text/plain": [
       "<IPython.core.display.Latex object>"
      ]
     },
     "metadata": {},
     "output_type": "display_data"
    },
    {
     "data": {
      "text/latex": [
       "Target:N01_T2 | Kernel:TransUniform | $\\sigma$:3.5 | eff:0.7267 | $P_{jump}$:0.8304 | Exx2:1.6789 | $\\rho_1$:0.1603 | $\\rho_2$:0.0255 | $E_{0.05}$:0.7439 | $E_{0.25}$:0.6958 | $E_{0.50}$:0.6824 | Time:17.48"
      ],
      "text/plain": [
       "<IPython.core.display.Latex object>"
      ]
     },
     "metadata": {},
     "output_type": "display_data"
    },
    {
     "data": {
      "text/latex": [
       "Target:N01_T2 | Kernel:TransUniform | $\\sigma$:4.0 | eff:0.7314 | $P_{jump}$:0.8299 | Exx2:1.6818 | $\\rho_1$:0.1604 | $\\rho_2$:0.027 | $E_{0.05}$:0.7548 | $E_{0.25}$:0.7026 | $E_{0.50}$:0.7031 | Time:17.52"
      ],
      "text/plain": [
       "<IPython.core.display.Latex object>"
      ]
     },
     "metadata": {},
     "output_type": "display_data"
    },
    {
     "data": {
      "text/latex": [
       "Target:N01_T2 | Kernel:TransUniform | $\\sigma$:4.5 | eff:0.7544 | $P_{jump}$:0.8283 | Exx2:1.7309 | $\\rho_1$:0.1352 | $\\rho_2$:0.021 | $E_{0.05}$:0.7622 | $E_{0.25}$:0.7107 | $E_{0.50}$:0.7245 | Time:17.45"
      ],
      "text/plain": [
       "<IPython.core.display.Latex object>"
      ]
     },
     "metadata": {},
     "output_type": "display_data"
    },
    {
     "data": {
      "text/latex": [
       "Target:N01_T2 | Kernel:TransUniform | $\\sigma$:5.0 | eff:0.6966 | $P_{jump}$:0.8301 | Exx2:1.6546 | $\\rho_1$:0.1739 | $\\rho_2$:0.0322 | $E_{0.05}$:0.745 | $E_{0.25}$:0.6843 | $E_{0.50}$:0.6775 | Time:17.42"
      ],
      "text/plain": [
       "<IPython.core.display.Latex object>"
      ]
     },
     "metadata": {},
     "output_type": "display_data"
    },
    {
     "data": {
      "text/latex": [
       "Target:N01_T2 | Kernel:TransUniform | $\\sigma$:6.0 | eff:0.6973 | $P_{jump}$:0.8309 | Exx2:1.6519 | $\\rho_1$:0.1736 | $\\rho_2$:0.0327 | $E_{0.05}$:0.7521 | $E_{0.25}$:0.6894 | $E_{0.50}$:0.6881 | Time:17.64"
      ],
      "text/plain": [
       "<IPython.core.display.Latex object>"
      ]
     },
     "metadata": {},
     "output_type": "display_data"
    },
    {
     "data": {
      "text/latex": [
       "Target:N01_T2 | Kernel:TransUniform | $\\sigma$:7.0 | eff:0.7174 | $P_{jump}$:0.8297 | Exx2:1.6729 | $\\rho_1$:0.1616 | $\\rho_2$:0.0282 | $E_{0.05}$:0.7449 | $E_{0.25}$:0.6848 | $E_{0.50}$:0.6892 | Time:17.68"
      ],
      "text/plain": [
       "<IPython.core.display.Latex object>"
      ]
     },
     "metadata": {},
     "output_type": "display_data"
    },
    {
     "data": {
      "text/latex": [
       "Target:N01_T2 | Kernel:TransUniform | $\\sigma$:8.0 | eff:0.7436 | $P_{jump}$:0.8288 | Exx2:1.7155 | $\\rho_1$:0.1436 | $\\rho_2$:0.0223 | $E_{0.05}$:0.7593 | $E_{0.25}$:0.7091 | $E_{0.50}$:0.7175 | Time:17.44"
      ],
      "text/plain": [
       "<IPython.core.display.Latex object>"
      ]
     },
     "metadata": {},
     "output_type": "display_data"
    },
    {
     "data": {
      "text/latex": [
       "Target:N01_T2 | Kernel:TransBactrian | $\\sigma$:0.1 | eff:0.0379 | $P_{jump}$:0.8765 | Exx2:0.2085 | $\\rho_1$:0.8956 | $\\rho_2$:0.8174 | $E_{0.05}$:0.1688 | $E_{0.25}$:0.0603 | $E_{0.50}$:0.0426 | Time:23.88"
      ],
      "text/plain": [
       "<IPython.core.display.Latex object>"
      ]
     },
     "metadata": {},
     "output_type": "display_data"
    },
    {
     "data": {
      "text/latex": [
       "Target:N01_T2 | Kernel:TransBactrian | $\\sigma$:0.3 | eff:0.3009 | $P_{jump}$:0.7985 | Exx2:0.9687 | $\\rho_1$:0.5152 | $\\rho_2$:0.2864 | $E_{0.05}$:0.7714 | $E_{0.25}$:0.3742 | $E_{0.50}$:0.367 | Time:17.4"
      ],
      "text/plain": [
       "<IPython.core.display.Latex object>"
      ]
     },
     "metadata": {},
     "output_type": "display_data"
    },
    {
     "data": {
      "text/latex": [
       "Target:N01_T2 | Kernel:TransBactrian | $\\sigma$:0.5 | eff:0.7757 | $P_{jump}$:0.8059 | Exx2:1.7656 | $\\rho_1$:0.1164 | $\\rho_2$:0.0205 | $E_{0.05}$:1.0135 | $E_{0.25}$:0.8402 | $E_{0.50}$:0.642 | Time:16.38"
      ],
      "text/plain": [
       "<IPython.core.display.Latex object>"
      ]
     },
     "metadata": {},
     "output_type": "display_data"
    },
    {
     "data": {
      "text/latex": [
       "Target:N01_T2 | Kernel:TransBactrian | $\\sigma$:0.7 | eff:1.2728 | $P_{jump}$:0.8186 | Exx2:2.2568 | $\\rho_1$:-0.1266 | $\\rho_2$:0.0165 | $E_{0.05}$:0.8821 | $E_{0.25}$:0.9812 | $E_{0.50}$:0.931 | Time:17.02"
      ],
      "text/plain": [
       "<IPython.core.display.Latex object>"
      ]
     },
     "metadata": {},
     "output_type": "display_data"
    },
    {
     "data": {
      "text/latex": [
       "Target:N01_T2 | Kernel:TransBactrian | $\\sigma$:0.8 | eff:1.4869 | $P_{jump}$:0.8303 | Exx2:2.3901 | $\\rho_1$:-0.1986 | $\\rho_2$:0.0426 | $E_{0.05}$:0.8178 | $E_{0.25}$:0.9596 | $E_{0.50}$:1.1785 | Time:17.26"
      ],
      "text/plain": [
       "<IPython.core.display.Latex object>"
      ]
     },
     "metadata": {},
     "output_type": "display_data"
    },
    {
     "data": {
      "text/latex": [
       "Target:N01_T2 | Kernel:TransBactrian | $\\sigma$:0.9 | eff:1.6091 | $P_{jump}$:0.838 | Exx2:2.4717 | $\\rho_1$:-0.2367 | $\\rho_2$:0.0622 | $E_{0.05}$:0.7691 | $E_{0.25}$:0.9326 | $E_{0.50}$:1.3805 | Time:17.37"
      ],
      "text/plain": [
       "<IPython.core.display.Latex object>"
      ]
     },
     "metadata": {},
     "output_type": "display_data"
    },
    {
     "data": {
      "text/latex": [
       "Target:N01_T2 | Kernel:TransBactrian | $\\sigma$:1.0 | eff:1.5851 | $P_{jump}$:0.8375 | Exx2:2.4733 | $\\rho_1$:-0.2342 | $\\rho_2$:0.0615 | $E_{0.05}$:0.7564 | $E_{0.25}$:0.9143 | $E_{0.50}$:1.3767 | Time:17.09"
      ],
      "text/plain": [
       "<IPython.core.display.Latex object>"
      ]
     },
     "metadata": {},
     "output_type": "display_data"
    },
    {
     "data": {
      "text/latex": [
       "Target:N01_T2 | Kernel:TransBactrian | $\\sigma$:1.1 | eff:1.4846 | $P_{jump}$:0.8345 | Exx2:2.4001 | $\\rho_1$:-0.202 | $\\rho_2$:0.0449 | $E_{0.05}$:0.7838 | $E_{0.25}$:0.9252 | $E_{0.50}$:1.2652 | Time:17.22"
      ],
      "text/plain": [
       "<IPython.core.display.Latex object>"
      ]
     },
     "metadata": {},
     "output_type": "display_data"
    },
    {
     "data": {
      "text/latex": [
       "Target:N01_T2 | Kernel:TransBactrian | $\\sigma$:1.3 | eff:1.1308 | $P_{jump}$:0.8301 | Exx2:2.1251 | $\\rho_1$:-0.0633 | $\\rho_2$:0.0056 | $E_{0.05}$:0.7996 | $E_{0.25}$:0.8654 | $E_{0.50}$:1.0002 | Time:17.27"
      ],
      "text/plain": [
       "<IPython.core.display.Latex object>"
      ]
     },
     "metadata": {},
     "output_type": "display_data"
    },
    {
     "data": {
      "text/latex": [
       "Target:N01_T2 | Kernel:TransBactrian | $\\sigma$:1.5 | eff:0.8198 | $P_{jump}$:0.8291 | Exx2:1.7985 | $\\rho_1$:0.1014 | $\\rho_2$:0.0116 | $E_{0.05}$:0.7763 | $E_{0.25}$:0.7463 | $E_{0.50}$:0.7796 | Time:17.95"
      ],
      "text/plain": [
       "<IPython.core.display.Latex object>"
      ]
     },
     "metadata": {},
     "output_type": "display_data"
    },
    {
     "data": {
      "text/latex": [
       "Target:N01_T2 | Kernel:TransBactrian | $\\sigma$:1.7 | eff:0.6486 | $P_{jump}$:0.8301 | Exx2:1.5828 | $\\rho_1$:0.2095 | $\\rho_2$:0.0454 | $E_{0.05}$:0.7347 | $E_{0.25}$:0.6494 | $E_{0.50}$:0.6435 | Time:17.52"
      ],
      "text/plain": [
       "<IPython.core.display.Latex object>"
      ]
     },
     "metadata": {},
     "output_type": "display_data"
    },
    {
     "data": {
      "text/latex": [
       "Target:N01_T2 | Kernel:TransBactrian | $\\sigma$:1.8 | eff:0.6097 | $P_{jump}$:0.8299 | Exx2:1.5258 | $\\rho_1$:0.2362 | $\\rho_2$:0.0597 | $E_{0.05}$:0.7345 | $E_{0.25}$:0.6256 | $E_{0.50}$:0.611 | Time:17.61"
      ],
      "text/plain": [
       "<IPython.core.display.Latex object>"
      ]
     },
     "metadata": {},
     "output_type": "display_data"
    },
    {
     "data": {
      "text/latex": [
       "Target:N01_T2 | Kernel:TransBactrian | $\\sigma$:1.9 | eff:0.601 | $P_{jump}$:0.8306 | Exx2:1.5059 | $\\rho_1$:0.2479 | $\\rho_2$:0.0629 | $E_{0.05}$:0.7217 | $E_{0.25}$:0.6229 | $E_{0.50}$:0.598 | Time:17.4"
      ],
      "text/plain": [
       "<IPython.core.display.Latex object>"
      ]
     },
     "metadata": {},
     "output_type": "display_data"
    },
    {
     "data": {
      "text/latex": [
       "Target:N01_T2 | Kernel:TransBactrian | $\\sigma$:2.0 | eff:0.6011 | $P_{jump}$:0.8314 | Exx2:1.5124 | $\\rho_1$:0.2431 | $\\rho_2$:0.0621 | $E_{0.05}$:0.7352 | $E_{0.25}$:0.6236 | $E_{0.50}$:0.6028 | Time:17.61"
      ],
      "text/plain": [
       "<IPython.core.display.Latex object>"
      ]
     },
     "metadata": {},
     "output_type": "display_data"
    },
    {
     "data": {
      "text/latex": [
       "Target:N01_T2 | Kernel:TransBactrian | $\\sigma$:2.1 | eff:0.6205 | $P_{jump}$:0.8299 | Exx2:1.5391 | $\\rho_1$:0.2316 | $\\rho_2$:0.0558 | $E_{0.05}$:0.7362 | $E_{0.25}$:0.6399 | $E_{0.50}$:0.6166 | Time:17.7"
      ],
      "text/plain": [
       "<IPython.core.display.Latex object>"
      ]
     },
     "metadata": {},
     "output_type": "display_data"
    },
    {
     "data": {
      "text/latex": [
       "Target:N01_T2 | Kernel:TransBactrian | $\\sigma$:2.2 | eff:0.6488 | $P_{jump}$:0.8308 | Exx2:1.5731 | $\\rho_1$:0.2144 | $\\rho_2$:0.0473 | $E_{0.05}$:0.7317 | $E_{0.25}$:0.6451 | $E_{0.50}$:0.644 | Time:17.7"
      ],
      "text/plain": [
       "<IPython.core.display.Latex object>"
      ]
     },
     "metadata": {},
     "output_type": "display_data"
    },
    {
     "data": {
      "text/latex": [
       "Target:N01_T2 | Kernel:TransBactrian | $\\sigma$:2.3 | eff:0.6639 | $P_{jump}$:0.8308 | Exx2:1.6085 | $\\rho_1$:0.1961 | $\\rho_2$:0.0414 | $E_{0.05}$:0.7517 | $E_{0.25}$:0.6555 | $E_{0.50}$:0.6526 | Time:17.79"
      ],
      "text/plain": [
       "<IPython.core.display.Latex object>"
      ]
     },
     "metadata": {},
     "output_type": "display_data"
    },
    {
     "data": {
      "text/latex": [
       "Target:N01_T2 | Kernel:TransBactrian | $\\sigma$:2.4 | eff:0.697 | $P_{jump}$:0.8306 | Exx2:1.6424 | $\\rho_1$:0.178 | $\\rho_2$:0.0341 | $E_{0.05}$:0.7469 | $E_{0.25}$:0.6796 | $E_{0.50}$:0.6769 | Time:17.62"
      ],
      "text/plain": [
       "<IPython.core.display.Latex object>"
      ]
     },
     "metadata": {},
     "output_type": "display_data"
    },
    {
     "data": {
      "text/latex": [
       "Target:N01_T2 | Kernel:TransBactrian | $\\sigma$:2.5 | eff:0.7109 | $P_{jump}$:0.8299 | Exx2:1.6653 | $\\rho_1$:0.1661 | $\\rho_2$:0.0314 | $E_{0.05}$:0.7521 | $E_{0.25}$:0.6857 | $E_{0.50}$:0.6923 | Time:17.63"
      ],
      "text/plain": [
       "<IPython.core.display.Latex object>"
      ]
     },
     "metadata": {},
     "output_type": "display_data"
    },
    {
     "data": {
      "text/latex": [
       "Target:N01_T2 | Kernel:TransBactrian | $\\sigma$:2.6 | eff:0.7355 | $P_{jump}$:0.8295 | Exx2:1.6828 | $\\rho_1$:0.1567 | $\\rho_2$:0.0249 | $E_{0.05}$:0.7545 | $E_{0.25}$:0.7022 | $E_{0.50}$:0.7076 | Time:17.54"
      ],
      "text/plain": [
       "<IPython.core.display.Latex object>"
      ]
     },
     "metadata": {},
     "output_type": "display_data"
    },
    {
     "data": {
      "text/latex": [
       "Target:N01_T2 | Kernel:TransBactrian | $\\sigma$:2.8 | eff:0.7489 | $P_{jump}$:0.8317 | Exx2:1.7049 | $\\rho_1$:0.1458 | $\\rho_2$:0.0223 | $E_{0.05}$:0.7587 | $E_{0.25}$:0.7009 | $E_{0.50}$:0.7198 | Time:17.68"
      ],
      "text/plain": [
       "<IPython.core.display.Latex object>"
      ]
     },
     "metadata": {},
     "output_type": "display_data"
    },
    {
     "data": {
      "text/latex": [
       "Target:N01_T2 | Kernel:TransBactrian | $\\sigma$:3.0 | eff:0.7513 | $P_{jump}$:0.8319 | Exx2:1.7158 | $\\rho_1$:0.1443 | $\\rho_2$:0.0225 | $E_{0.05}$:0.756 | $E_{0.25}$:0.7022 | $E_{0.50}$:0.7229 | Time:17.68"
      ],
      "text/plain": [
       "<IPython.core.display.Latex object>"
      ]
     },
     "metadata": {},
     "output_type": "display_data"
    },
    {
     "data": {
      "text/latex": [
       "Target:N01_T2 | Kernel:TransBactrian | $\\sigma$:3.2 | eff:0.7343 | $P_{jump}$:0.8288 | Exx2:1.6959 | $\\rho_1$:0.1502 | $\\rho_2$:0.0235 | $E_{0.05}$:0.7537 | $E_{0.25}$:0.7009 | $E_{0.50}$:0.7091 | Time:17.63"
      ],
      "text/plain": [
       "<IPython.core.display.Latex object>"
      ]
     },
     "metadata": {},
     "output_type": "display_data"
    },
    {
     "data": {
      "text/latex": [
       "Target:N01_T2 | Kernel:TransBactrian | $\\sigma$:3.5 | eff:0.7344 | $P_{jump}$:0.8327 | Exx2:1.6982 | $\\rho_1$:0.1509 | $\\rho_2$:0.0255 | $E_{0.05}$:0.7487 | $E_{0.25}$:0.6914 | $E_{0.50}$:0.7135 | Time:17.63"
      ],
      "text/plain": [
       "<IPython.core.display.Latex object>"
      ]
     },
     "metadata": {},
     "output_type": "display_data"
    },
    {
     "data": {
      "text/latex": [
       "Target:N01_T2 | Kernel:TransBactrian | $\\sigma$:4.0 | eff:0.7318 | $P_{jump}$:0.8319 | Exx2:1.6946 | $\\rho_1$:0.1533 | $\\rho_2$:0.0259 | $E_{0.05}$:0.7499 | $E_{0.25}$:0.6775 | $E_{0.50}$:0.7178 | Time:18.17"
      ],
      "text/plain": [
       "<IPython.core.display.Latex object>"
      ]
     },
     "metadata": {},
     "output_type": "display_data"
    },
    {
     "data": {
      "text/latex": [
       "Target:N01_T2 | Kernel:TransBactrian | $\\sigma$:4.5 | eff:0.7303 | $P_{jump}$:0.8323 | Exx2:1.6952 | $\\rho_1$:0.1532 | $\\rho_2$:0.0265 | $E_{0.05}$:0.7541 | $E_{0.25}$:0.7049 | $E_{0.50}$:0.7103 | Time:17.66"
      ],
      "text/plain": [
       "<IPython.core.display.Latex object>"
      ]
     },
     "metadata": {},
     "output_type": "display_data"
    },
    {
     "data": {
      "text/latex": [
       "Target:N01_T2 | Kernel:TransBactrian | $\\sigma$:5.0 | eff:0.7246 | $P_{jump}$:0.8317 | Exx2:1.691 | $\\rho_1$:0.1538 | $\\rho_2$:0.0243 | $E_{0.05}$:0.7552 | $E_{0.25}$:0.6806 | $E_{0.50}$:0.7091 | Time:17.57"
      ],
      "text/plain": [
       "<IPython.core.display.Latex object>"
      ]
     },
     "metadata": {},
     "output_type": "display_data"
    },
    {
     "data": {
      "text/latex": [
       "Target:N01_T2 | Kernel:TransBactrian | $\\sigma$:6.0 | eff:0.7343 | $P_{jump}$:0.831 | Exx2:1.698 | $\\rho_1$:0.1537 | $\\rho_2$:0.0255 | $E_{0.05}$:0.7554 | $E_{0.25}$:0.6882 | $E_{0.50}$:0.7134 | Time:17.48"
      ],
      "text/plain": [
       "<IPython.core.display.Latex object>"
      ]
     },
     "metadata": {},
     "output_type": "display_data"
    },
    {
     "data": {
      "text/latex": [
       "Target:N01_T2 | Kernel:TransBactrian | $\\sigma$:7.0 | eff:0.7258 | $P_{jump}$:0.83 | Exx2:1.6886 | $\\rho_1$:0.1551 | $\\rho_2$:0.0271 | $E_{0.05}$:0.7538 | $E_{0.25}$:0.6678 | $E_{0.50}$:0.6975 | Time:17.95"
      ],
      "text/plain": [
       "<IPython.core.display.Latex object>"
      ]
     },
     "metadata": {},
     "output_type": "display_data"
    },
    {
     "data": {
      "text/latex": [
       "Target:N01_T2 | Kernel:TransBactrian | $\\sigma$:8.0 | eff:0.7251 | $P_{jump}$:0.8221 | Exx2:1.6797 | $\\rho_1$:0.1588 | $\\rho_2$:0.0256 | $E_{0.05}$:0.7451 | $E_{0.25}$:0.6802 | $E_{0.50}$:0.6943 | Time:17.39"
      ],
      "text/plain": [
       "<IPython.core.display.Latex object>"
      ]
     },
     "metadata": {},
     "output_type": "display_data"
    },
    {
     "data": {
      "text/latex": [
       "Target:N01_T2 | Kernel:TransStrawHat | $\\sigma$:0.1 | eff:0.036 | $P_{jump}$:0.8709 | Exx2:0.2119 | $\\rho_1$:0.8943 | $\\rho_2$:0.8187 | $E_{0.05}$:0.1642 | $E_{0.25}$:0.0555 | $E_{0.50}$:0.0397 | Time:22.69"
      ],
      "text/plain": [
       "<IPython.core.display.Latex object>"
      ]
     },
     "metadata": {},
     "output_type": "display_data"
    },
    {
     "data": {
      "text/latex": [
       "Target:N01_T2 | Kernel:TransStrawHat | $\\sigma$:0.3 | eff:0.3013 | $P_{jump}$:0.7987 | Exx2:0.9865 | $\\rho_1$:0.5073 | $\\rho_2$:0.2853 | $E_{0.05}$:0.8014 | $E_{0.25}$:0.3602 | $E_{0.50}$:0.3743 | Time:17.13"
      ],
      "text/plain": [
       "<IPython.core.display.Latex object>"
      ]
     },
     "metadata": {},
     "output_type": "display_data"
    },
    {
     "data": {
      "text/latex": [
       "Target:N01_T2 | Kernel:TransStrawHat | $\\sigma$:0.5 | eff:0.843 | $P_{jump}$:0.8022 | Exx2:1.8535 | $\\rho_1$:0.0733 | $\\rho_2$:0.0154 | $E_{0.05}$:1.0031 | $E_{0.25}$:0.967 | $E_{0.50}$:0.5865 | Time:16.36"
      ],
      "text/plain": [
       "<IPython.core.display.Latex object>"
      ]
     },
     "metadata": {},
     "output_type": "display_data"
    },
    {
     "data": {
      "text/latex": [
       "Target:N01_T2 | Kernel:TransStrawHat | $\\sigma$:0.7 | eff:1.3015 | $P_{jump}$:0.813 | Exx2:2.2609 | $\\rho_1$:-0.1321 | $\\rho_2$:0.0197 | $E_{0.05}$:0.8562 | $E_{0.25}$:0.9415 | $E_{0.50}$:0.9469 | Time:16.71"
      ],
      "text/plain": [
       "<IPython.core.display.Latex object>"
      ]
     },
     "metadata": {},
     "output_type": "display_data"
    },
    {
     "data": {
      "text/latex": [
       "Target:N01_T2 | Kernel:TransStrawHat | $\\sigma$:0.8 | eff:1.6671 | $P_{jump}$:0.8475 | Exx2:2.5243 | $\\rho_1$:-0.2643 | $\\rho_2$:0.0802 | $E_{0.05}$:0.7309 | $E_{0.25}$:0.9024 | $E_{0.50}$:1.5404 | Time:17.09"
      ],
      "text/plain": [
       "<IPython.core.display.Latex object>"
      ]
     },
     "metadata": {},
     "output_type": "display_data"
    },
    {
     "data": {
      "text/latex": [
       "Target:N01_T2 | Kernel:TransStrawHat | $\\sigma$:0.9 | eff:1.6767 | $P_{jump}$:0.8488 | Exx2:2.5367 | $\\rho_1$:-0.2723 | $\\rho_2$:0.0952 | $E_{0.05}$:0.6664 | $E_{0.25}$:0.8332 | $E_{0.50}$:1.7359 | Time:17.57"
      ],
      "text/plain": [
       "<IPython.core.display.Latex object>"
      ]
     },
     "metadata": {},
     "output_type": "display_data"
    },
    {
     "data": {
      "text/latex": [
       "Target:N01_T2 | Kernel:TransStrawHat | $\\sigma$:1.0 | eff:1.7491 | $P_{jump}$:0.8396 | Exx2:2.5648 | $\\rho_1$:-0.2825 | $\\rho_2$:0.0917 | $E_{0.05}$:0.7243 | $E_{0.25}$:0.8685 | $E_{0.50}$:1.5221 | Time:17.23"
      ],
      "text/plain": [
       "<IPython.core.display.Latex object>"
      ]
     },
     "metadata": {},
     "output_type": "display_data"
    },
    {
     "data": {
      "text/latex": [
       "Target:N01_T2 | Kernel:TransStrawHat | $\\sigma$:1.1 | eff:1.6715 | $P_{jump}$:0.8316 | Exx2:2.5071 | $\\rho_1$:-0.256 | $\\rho_2$:0.0684 | $E_{0.05}$:0.7807 | $E_{0.25}$:0.9901 | $E_{0.50}$:1.224 | Time:17.19"
      ],
      "text/plain": [
       "<IPython.core.display.Latex object>"
      ]
     },
     "metadata": {},
     "output_type": "display_data"
    },
    {
     "data": {
      "text/latex": [
       "Target:N01_T2 | Kernel:TransStrawHat | $\\sigma$:1.3 | eff:1.178 | $P_{jump}$:0.8196 | Exx2:2.1683 | $\\rho_1$:-0.0846 | $\\rho_2$:0.0095 | $E_{0.05}$:0.916 | $E_{0.25}$:0.9178 | $E_{0.50}$:1.0004 | Time:17.55"
      ],
      "text/plain": [
       "<IPython.core.display.Latex object>"
      ]
     },
     "metadata": {},
     "output_type": "display_data"
    },
    {
     "data": {
      "text/latex": [
       "Target:N01_T2 | Kernel:TransStrawHat | $\\sigma$:1.5 | eff:0.6715 | $P_{jump}$:0.8321 | Exx2:1.6222 | $\\rho_1$:0.1885 | $\\rho_2$:0.0386 | $E_{0.05}$:0.7351 | $E_{0.25}$:0.6641 | $E_{0.50}$:0.6509 | Time:17.78"
      ],
      "text/plain": [
       "<IPython.core.display.Latex object>"
      ]
     },
     "metadata": {},
     "output_type": "display_data"
    },
    {
     "data": {
      "text/latex": [
       "Target:N01_T2 | Kernel:TransStrawHat | $\\sigma$:1.7 | eff:0.4543 | $P_{jump}$:0.8331 | Exx2:1.2733 | $\\rho_1$:0.3642 | $\\rho_2$:0.1376 | $E_{0.05}$:0.6469 | $E_{0.25}$:0.5075 | $E_{0.50}$:0.4832 | Time:17.89"
      ],
      "text/plain": [
       "<IPython.core.display.Latex object>"
      ]
     },
     "metadata": {},
     "output_type": "display_data"
    },
    {
     "data": {
      "text/latex": [
       "Target:N01_T2 | Kernel:TransStrawHat | $\\sigma$:1.8 | eff:0.4418 | $P_{jump}$:0.8319 | Exx2:1.2406 | $\\rho_1$:0.3816 | $\\rho_2$:0.1513 | $E_{0.05}$:0.6785 | $E_{0.25}$:0.5003 | $E_{0.50}$:0.4746 | Time:17.58"
      ],
      "text/plain": [
       "<IPython.core.display.Latex object>"
      ]
     },
     "metadata": {},
     "output_type": "display_data"
    },
    {
     "data": {
      "text/latex": [
       "Target:N01_T2 | Kernel:TransStrawHat | $\\sigma$:1.9 | eff:0.4635 | $P_{jump}$:0.8299 | Exx2:1.276 | $\\rho_1$:0.361 | $\\rho_2$:0.1352 | $E_{0.05}$:0.6981 | $E_{0.25}$:0.5281 | $E_{0.50}$:0.4939 | Time:17.77"
      ],
      "text/plain": [
       "<IPython.core.display.Latex object>"
      ]
     },
     "metadata": {},
     "output_type": "display_data"
    },
    {
     "data": {
      "text/latex": [
       "Target:N01_T2 | Kernel:TransStrawHat | $\\sigma$:2.0 | eff:0.515 | $P_{jump}$:0.8276 | Exx2:1.3787 | $\\rho_1$:0.312 | $\\rho_2$:0.1027 | $E_{0.05}$:0.7425 | $E_{0.25}$:0.5903 | $E_{0.50}$:0.5004 | Time:17.58"
      ],
      "text/plain": [
       "<IPython.core.display.Latex object>"
      ]
     },
     "metadata": {},
     "output_type": "display_data"
    },
    {
     "data": {
      "text/latex": [
       "Target:N01_T2 | Kernel:TransStrawHat | $\\sigma$:2.1 | eff:0.5726 | $P_{jump}$:0.8227 | Exx2:1.4848 | $\\rho_1$:0.2598 | $\\rho_2$:0.0749 | $E_{0.05}$:0.7667 | $E_{0.25}$:0.6069 | $E_{0.50}$:0.5351 | Time:17.62"
      ],
      "text/plain": [
       "<IPython.core.display.Latex object>"
      ]
     },
     "metadata": {},
     "output_type": "display_data"
    },
    {
     "data": {
      "text/latex": [
       "Target:N01_T2 | Kernel:TransStrawHat | $\\sigma$:2.2 | eff:0.6572 | $P_{jump}$:0.8263 | Exx2:1.593 | $\\rho_1$:0.2055 | $\\rho_2$:0.0424 | $E_{0.05}$:0.7414 | $E_{0.25}$:0.6595 | $E_{0.50}$:0.6476 | Time:17.74"
      ],
      "text/plain": [
       "<IPython.core.display.Latex object>"
      ]
     },
     "metadata": {},
     "output_type": "display_data"
    },
    {
     "data": {
      "text/latex": [
       "Target:N01_T2 | Kernel:TransStrawHat | $\\sigma$:2.3 | eff:0.7729 | $P_{jump}$:0.8365 | Exx2:1.7506 | $\\rho_1$:0.1261 | $\\rho_2$:0.015 | $E_{0.05}$:0.7276 | $E_{0.25}$:0.7111 | $E_{0.50}$:0.774 | Time:17.85"
      ],
      "text/plain": [
       "<IPython.core.display.Latex object>"
      ]
     },
     "metadata": {},
     "output_type": "display_data"
    },
    {
     "data": {
      "text/latex": [
       "Target:N01_T2 | Kernel:TransStrawHat | $\\sigma$:2.4 | eff:0.8319 | $P_{jump}$:0.8349 | Exx2:1.8294 | $\\rho_1$:0.0854 | $\\rho_2$:0.0076 | $E_{0.05}$:0.7338 | $E_{0.25}$:0.7205 | $E_{0.50}$:0.8368 | Time:17.53"
      ],
      "text/plain": [
       "<IPython.core.display.Latex object>"
      ]
     },
     "metadata": {},
     "output_type": "display_data"
    },
    {
     "data": {
      "text/latex": [
       "Target:N01_T2 | Kernel:TransStrawHat | $\\sigma$:2.5 | eff:0.922 | $P_{jump}$:0.831 | Exx2:1.9148 | $\\rho_1$:0.0439 | $\\rho_2$:0.0031 | $E_{0.05}$:0.7634 | $E_{0.25}$:0.7717 | $E_{0.50}$:0.8546 | Time:17.57"
      ],
      "text/plain": [
       "<IPython.core.display.Latex object>"
      ]
     },
     "metadata": {},
     "output_type": "display_data"
    },
    {
     "data": {
      "text/latex": [
       "Target:N01_T2 | Kernel:TransStrawHat | $\\sigma$:2.6 | eff:0.9547 | $P_{jump}$:0.8318 | Exx2:1.9574 | $\\rho_1$:0.0205 | $\\rho_2$:-0.0008 | $E_{0.05}$:0.7855 | $E_{0.25}$:0.8115 | $E_{0.50}$:0.8342 | Time:17.59"
      ],
      "text/plain": [
       "<IPython.core.display.Latex object>"
      ]
     },
     "metadata": {},
     "output_type": "display_data"
    },
    {
     "data": {
      "text/latex": [
       "Target:N01_T2 | Kernel:TransStrawHat | $\\sigma$:2.8 | eff:0.9087 | $P_{jump}$:0.8241 | Exx2:1.8954 | $\\rho_1$:0.0517 | $\\rho_2$:0.0023 | $E_{0.05}$:0.821 | $E_{0.25}$:0.7938 | $E_{0.50}$:0.8379 | Time:17.57"
      ],
      "text/plain": [
       "<IPython.core.display.Latex object>"
      ]
     },
     "metadata": {},
     "output_type": "display_data"
    },
    {
     "data": {
      "text/latex": [
       "Target:N01_T2 | Kernel:TransStrawHat | $\\sigma$:3.0 | eff:0.7387 | $P_{jump}$:0.8331 | Exx2:1.6894 | $\\rho_1$:0.1532 | $\\rho_2$:0.0239 | $E_{0.05}$:0.7393 | $E_{0.25}$:0.6893 | $E_{0.50}$:0.7126 | Time:17.48"
      ],
      "text/plain": [
       "<IPython.core.display.Latex object>"
      ]
     },
     "metadata": {},
     "output_type": "display_data"
    },
    {
     "data": {
      "text/latex": [
       "Target:N01_T2 | Kernel:TransStrawHat | $\\sigma$:3.2 | eff:0.6267 | $P_{jump}$:0.8339 | Exx2:1.5433 | $\\rho_1$:0.2283 | $\\rho_2$:0.0541 | $E_{0.05}$:0.7139 | $E_{0.25}$:0.6283 | $E_{0.50}$:0.6323 | Time:17.63"
      ],
      "text/plain": [
       "<IPython.core.display.Latex object>"
      ]
     },
     "metadata": {},
     "output_type": "display_data"
    },
    {
     "data": {
      "text/latex": [
       "Target:N01_T2 | Kernel:TransStrawHat | $\\sigma$:3.5 | eff:0.6538 | $P_{jump}$:0.8277 | Exx2:1.5805 | $\\rho_1$:0.2102 | $\\rho_2$:0.0452 | $E_{0.05}$:0.7688 | $E_{0.25}$:0.6794 | $E_{0.50}$:0.6202 | Time:17.91"
      ],
      "text/plain": [
       "<IPython.core.display.Latex object>"
      ]
     },
     "metadata": {},
     "output_type": "display_data"
    },
    {
     "data": {
      "text/latex": [
       "Target:N01_T2 | Kernel:TransStrawHat | $\\sigma$:4.0 | eff:0.8213 | $P_{jump}$:0.8323 | Exx2:1.8066 | $\\rho_1$:0.0958 | $\\rho_2$:0.0116 | $E_{0.05}$:0.7592 | $E_{0.25}$:0.7342 | $E_{0.50}$:0.7762 | Time:17.81"
      ],
      "text/plain": [
       "<IPython.core.display.Latex object>"
      ]
     },
     "metadata": {},
     "output_type": "display_data"
    },
    {
     "data": {
      "text/latex": [
       "Target:N01_T2 | Kernel:TransStrawHat | $\\sigma$:4.5 | eff:0.7018 | $P_{jump}$:0.8343 | Exx2:1.6616 | $\\rho_1$:0.1702 | $\\rho_2$:0.0299 | $E_{0.05}$:0.7425 | $E_{0.25}$:0.6749 | $E_{0.50}$:0.6844 | Time:17.83"
      ],
      "text/plain": [
       "<IPython.core.display.Latex object>"
      ]
     },
     "metadata": {},
     "output_type": "display_data"
    },
    {
     "data": {
      "text/latex": [
       "Target:N01_T2 | Kernel:TransStrawHat | $\\sigma$:5.0 | eff:0.6947 | $P_{jump}$:0.8294 | Exx2:1.6358 | $\\rho_1$:0.1821 | $\\rho_2$:0.0341 | $E_{0.05}$:0.7709 | $E_{0.25}$:0.6876 | $E_{0.50}$:0.6607 | Time:17.61"
      ],
      "text/plain": [
       "<IPython.core.display.Latex object>"
      ]
     },
     "metadata": {},
     "output_type": "display_data"
    },
    {
     "data": {
      "text/latex": [
       "Target:N01_T2 | Kernel:TransStrawHat | $\\sigma$:6.0 | eff:0.6927 | $P_{jump}$:0.8314 | Exx2:1.6425 | $\\rho_1$:0.1794 | $\\rho_2$:0.0341 | $E_{0.05}$:0.7314 | $E_{0.25}$:0.6617 | $E_{0.50}$:0.6755 | Time:17.88"
      ],
      "text/plain": [
       "<IPython.core.display.Latex object>"
      ]
     },
     "metadata": {},
     "output_type": "display_data"
    },
    {
     "data": {
      "text/latex": [
       "Target:N01_T2 | Kernel:TransStrawHat | $\\sigma$:7.0 | eff:0.8048 | $P_{jump}$:0.8295 | Exx2:1.7852 | $\\rho_1$:0.1084 | $\\rho_2$:0.013 | $E_{0.05}$:0.7599 | $E_{0.25}$:0.7338 | $E_{0.50}$:0.7588 | Time:17.61"
      ],
      "text/plain": [
       "<IPython.core.display.Latex object>"
      ]
     },
     "metadata": {},
     "output_type": "display_data"
    },
    {
     "data": {
      "text/latex": [
       "Target:N01_T2 | Kernel:TransStrawHat | $\\sigma$:8.0 | eff:0.6961 | $P_{jump}$:0.8253 | Exx2:1.6408 | $\\rho_1$:0.179 | $\\rho_2$:0.0313 | $E_{0.05}$:0.7553 | $E_{0.25}$:0.6732 | $E_{0.50}$:0.6652 | Time:17.64"
      ],
      "text/plain": [
       "<IPython.core.display.Latex object>"
      ]
     },
     "metadata": {},
     "output_type": "display_data"
    },
    {
     "data": {
      "text/latex": [
       "Target:N01_Logistic | Kernel:Uniform | $\\sigma$:0.1 | eff:0.0024 | $P_{jump}$:0.9659 | Exx2:0.0095 | $\\rho_1$:0.9952 | $\\rho_2$:0.9904 | $E_{0.05}$:0.0054 | $E_{0.25}$:0.0037 | $E_{0.50}$:0.0034 | Time:95.44"
      ],
      "text/plain": [
       "<IPython.core.display.Latex object>"
      ]
     },
     "metadata": {},
     "output_type": "display_data"
    },
    {
     "data": {
      "text/latex": [
       "Target:N01_Logistic | Kernel:Uniform | $\\sigma$:0.3 | eff:0.0185 | $P_{jump}$:0.897 | Exx2:0.0761 | $\\rho_1$:0.9619 | $\\rho_2$:0.9254 | $E_{0.05}$:0.0388 | $E_{0.25}$:0.0291 | $E_{0.50}$:0.0295 | Time:29.5"
      ],
      "text/plain": [
       "<IPython.core.display.Latex object>"
      ]
     },
     "metadata": {},
     "output_type": "display_data"
    },
    {
     "data": {
      "text/latex": [
       "Target:N01_Logistic | Kernel:Uniform | $\\sigma$:0.5 | eff:0.0473 | $P_{jump}$:0.8301 | Exx2:0.1866 | $\\rho_1$:0.9066 | $\\rho_2$:0.8226 | $E_{0.05}$:0.088 | $E_{0.25}$:0.0748 | $E_{0.50}$:0.0761 | Time:14.44"
      ],
      "text/plain": [
       "<IPython.core.display.Latex object>"
      ]
     },
     "metadata": {},
     "output_type": "display_data"
    },
    {
     "data": {
      "text/latex": [
       "Target:N01_Logistic | Kernel:Uniform | $\\sigma$:0.7 | eff:0.0836 | $P_{jump}$:0.7654 | Exx2:0.3191 | $\\rho_1$:0.8394 | $\\rho_2$:0.7071 | $E_{0.05}$:0.1438 | $E_{0.25}$:0.1324 | $E_{0.50}$:0.1358 | Time:11.74"
      ],
      "text/plain": [
       "<IPython.core.display.Latex object>"
      ]
     },
     "metadata": {},
     "output_type": "display_data"
    },
    {
     "data": {
      "text/latex": [
       "Target:N01_Logistic | Kernel:Uniform | $\\sigma$:0.8 | eff:0.1006 | $P_{jump}$:0.7345 | Exx2:0.3885 | $\\rho_1$:0.8058 | $\\rho_2$:0.6538 | $E_{0.05}$:0.1625 | $E_{0.25}$:0.1571 | $E_{0.50}$:0.1644 | Time:11.11"
      ],
      "text/plain": [
       "<IPython.core.display.Latex object>"
      ]
     },
     "metadata": {},
     "output_type": "display_data"
    },
    {
     "data": {
      "text/latex": [
       "Target:N01_Logistic | Kernel:Uniform | $\\sigma$:0.9 | eff:0.1217 | $P_{jump}$:0.7044 | Exx2:0.4565 | $\\rho_1$:0.7712 | $\\rho_2$:0.6005 | $E_{0.05}$:0.1826 | $E_{0.25}$:0.1868 | $E_{0.50}$:0.1962 | Time:10.06"
      ],
      "text/plain": [
       "<IPython.core.display.Latex object>"
      ]
     },
     "metadata": {},
     "output_type": "display_data"
    },
    {
     "data": {
      "text/latex": [
       "Target:N01_Logistic | Kernel:Uniform | $\\sigma$:1.0 | eff:0.1411 | $P_{jump}$:0.6745 | Exx2:0.5215 | $\\rho_1$:0.7395 | $\\rho_2$:0.5547 | $E_{0.05}$:0.2036 | $E_{0.25}$:0.2131 | $E_{0.50}$:0.2239 | Time:9.7"
      ],
      "text/plain": [
       "<IPython.core.display.Latex object>"
      ]
     },
     "metadata": {},
     "output_type": "display_data"
    },
    {
     "data": {
      "text/latex": [
       "Target:N01_Logistic | Kernel:Uniform | $\\sigma$:1.1 | eff:0.159 | $P_{jump}$:0.6466 | Exx2:0.5836 | $\\rho_1$:0.709 | $\\rho_2$:0.5113 | $E_{0.05}$:0.2133 | $E_{0.25}$:0.2306 | $E_{0.50}$:0.2487 | Time:9.79"
      ],
      "text/plain": [
       "<IPython.core.display.Latex object>"
      ]
     },
     "metadata": {},
     "output_type": "display_data"
    },
    {
     "data": {
      "text/latex": [
       "Target:N01_Logistic | Kernel:Uniform | $\\sigma$:1.3 | eff:0.1936 | $P_{jump}$:0.5929 | Exx2:0.6912 | $\\rho_1$:0.6531 | $\\rho_2$:0.437 | $E_{0.05}$:0.2414 | $E_{0.25}$:0.2697 | $E_{0.50}$:0.2799 | Time:9.63"
      ],
      "text/plain": [
       "<IPython.core.display.Latex object>"
      ]
     },
     "metadata": {},
     "output_type": "display_data"
    },
    {
     "data": {
      "text/latex": [
       "Target:N01_Logistic | Kernel:Uniform | $\\sigma$:1.5 | eff:0.2251 | $P_{jump}$:0.543 | Exx2:0.7735 | $\\rho_1$:0.613 | $\\rho_2$:0.3846 | $E_{0.05}$:0.2633 | $E_{0.25}$:0.2861 | $E_{0.50}$:0.2933 | Time:8.83"
      ],
      "text/plain": [
       "<IPython.core.display.Latex object>"
      ]
     },
     "metadata": {},
     "output_type": "display_data"
    },
    {
     "data": {
      "text/latex": [
       "Target:N01_Logistic | Kernel:Uniform | $\\sigma$:1.7 | eff:0.2504 | $P_{jump}$:0.4992 | Exx2:0.8346 | $\\rho_1$:0.5842 | $\\rho_2$:0.3487 | $E_{0.05}$:0.2786 | $E_{0.25}$:0.2917 | $E_{0.50}$:0.2864 | Time:9.0"
      ],
      "text/plain": [
       "<IPython.core.display.Latex object>"
      ]
     },
     "metadata": {},
     "output_type": "display_data"
    },
    {
     "data": {
      "text/latex": [
       "Target:N01_Logistic | Kernel:Uniform | $\\sigma$:1.8 | eff:0.2589 | $P_{jump}$:0.4793 | Exx2:0.8574 | $\\rho_1$:0.5725 | $\\rho_2$:0.3339 | $E_{0.05}$:0.2842 | $E_{0.25}$:0.288 | $E_{0.50}$:0.279 | Time:9.01"
      ],
      "text/plain": [
       "<IPython.core.display.Latex object>"
      ]
     },
     "metadata": {},
     "output_type": "display_data"
    },
    {
     "data": {
      "text/latex": [
       "Target:N01_Logistic | Kernel:Uniform | $\\sigma$:1.9 | eff:0.2701 | $P_{jump}$:0.4593 | Exx2:0.8673 | $\\rho_1$:0.5646 | $\\rho_2$:0.3243 | $E_{0.05}$:0.2911 | $E_{0.25}$:0.2827 | $E_{0.50}$:0.2712 | Time:8.78"
      ],
      "text/plain": [
       "<IPython.core.display.Latex object>"
      ]
     },
     "metadata": {},
     "output_type": "display_data"
    },
    {
     "data": {
      "text/latex": [
       "Target:N01_Logistic | Kernel:Uniform | $\\sigma$:2.0 | eff:0.2763 | $P_{jump}$:0.4413 | Exx2:0.8784 | $\\rho_1$:0.5614 | $\\rho_2$:0.3191 | $E_{0.05}$:0.2956 | $E_{0.25}$:0.2768 | $E_{0.50}$:0.2608 | Time:8.62"
      ],
      "text/plain": [
       "<IPython.core.display.Latex object>"
      ]
     },
     "metadata": {},
     "output_type": "display_data"
    },
    {
     "data": {
      "text/latex": [
       "Target:N01_Logistic | Kernel:Uniform | $\\sigma$:2.1 | eff:0.278 | $P_{jump}$:0.4231 | Exx2:0.8791 | $\\rho_1$:0.5585 | $\\rho_2$:0.3148 | $E_{0.05}$:0.2893 | $E_{0.25}$:0.2629 | $E_{0.50}$:0.2527 | Time:8.93"
      ],
      "text/plain": [
       "<IPython.core.display.Latex object>"
      ]
     },
     "metadata": {},
     "output_type": "display_data"
    },
    {
     "data": {
      "text/latex": [
       "Target:N01_Logistic | Kernel:Uniform | $\\sigma$:2.2 | eff:0.2748 | $P_{jump}$:0.4064 | Exx2:0.8754 | $\\rho_1$:0.559 | $\\rho_2$:0.3153 | $E_{0.05}$:0.2904 | $E_{0.25}$:0.2546 | $E_{0.50}$:0.2375 | Time:8.96"
      ],
      "text/plain": [
       "<IPython.core.display.Latex object>"
      ]
     },
     "metadata": {},
     "output_type": "display_data"
    },
    {
     "data": {
      "text/latex": [
       "Target:N01_Logistic | Kernel:Uniform | $\\sigma$:2.3 | eff:0.2701 | $P_{jump}$:0.3923 | Exx2:0.8794 | $\\rho_1$:0.5619 | $\\rho_2$:0.32 | $E_{0.05}$:0.2923 | $E_{0.25}$:0.2406 | $E_{0.50}$:0.227 | Time:8.94"
      ],
      "text/plain": [
       "<IPython.core.display.Latex object>"
      ]
     },
     "metadata": {},
     "output_type": "display_data"
    },
    {
     "data": {
      "text/latex": [
       "Target:N01_Logistic | Kernel:Uniform | $\\sigma$:2.4 | eff:0.2703 | $P_{jump}$:0.3766 | Exx2:0.8665 | $\\rho_1$:0.5664 | $\\rho_2$:0.3241 | $E_{0.05}$:0.2849 | $E_{0.25}$:0.2333 | $E_{0.50}$:0.2202 | Time:8.99"
      ],
      "text/plain": [
       "<IPython.core.display.Latex object>"
      ]
     },
     "metadata": {},
     "output_type": "display_data"
    },
    {
     "data": {
      "text/latex": [
       "Target:N01_Logistic | Kernel:Uniform | $\\sigma$:2.5 | eff:0.2649 | $P_{jump}$:0.3636 | Exx2:0.8604 | $\\rho_1$:0.5706 | $\\rho_2$:0.3292 | $E_{0.05}$:0.2838 | $E_{0.25}$:0.2248 | $E_{0.50}$:0.2108 | Time:8.71"
      ],
      "text/plain": [
       "<IPython.core.display.Latex object>"
      ]
     },
     "metadata": {},
     "output_type": "display_data"
    },
    {
     "data": {
      "text/latex": [
       "Target:N01_Logistic | Kernel:Uniform | $\\sigma$:2.6 | eff:0.261 | $P_{jump}$:0.3509 | Exx2:0.8519 | $\\rho_1$:0.5768 | $\\rho_2$:0.3375 | $E_{0.05}$:0.272 | $E_{0.25}$:0.2165 | $E_{0.50}$:0.2023 | Time:9.53"
      ],
      "text/plain": [
       "<IPython.core.display.Latex object>"
      ]
     },
     "metadata": {},
     "output_type": "display_data"
    },
    {
     "data": {
      "text/latex": [
       "Target:N01_Logistic | Kernel:Uniform | $\\sigma$:2.8 | eff:0.2451 | $P_{jump}$:0.3265 | Exx2:0.8124 | $\\rho_1$:0.5922 | $\\rho_2$:0.3558 | $E_{0.05}$:0.2591 | $E_{0.25}$:0.1982 | $E_{0.50}$:0.1848 | Time:9.56"
      ],
      "text/plain": [
       "<IPython.core.display.Latex object>"
      ]
     },
     "metadata": {},
     "output_type": "display_data"
    },
    {
     "data": {
      "text/latex": [
       "Target:N01_Logistic | Kernel:Uniform | $\\sigma$:3.0 | eff:0.2293 | $P_{jump}$:0.3048 | Exx2:0.7774 | $\\rho_1$:0.6098 | $\\rho_2$:0.3794 | $E_{0.05}$:0.2353 | $E_{0.25}$:0.1819 | $E_{0.50}$:0.1674 | Time:11.7"
      ],
      "text/plain": [
       "<IPython.core.display.Latex object>"
      ]
     },
     "metadata": {},
     "output_type": "display_data"
    },
    {
     "data": {
      "text/latex": [
       "Target:N01_Logistic | Kernel:Uniform | $\\sigma$:3.2 | eff:0.2161 | $P_{jump}$:0.2861 | Exx2:0.7392 | $\\rho_1$:0.6269 | $\\rho_2$:0.399 | $E_{0.05}$:0.2261 | $E_{0.25}$:0.1707 | $E_{0.50}$:0.1592 | Time:11.27"
      ],
      "text/plain": [
       "<IPython.core.display.Latex object>"
      ]
     },
     "metadata": {},
     "output_type": "display_data"
    },
    {
     "data": {
      "text/latex": [
       "Target:N01_Logistic | Kernel:Uniform | $\\sigma$:3.5 | eff:0.198 | $P_{jump}$:0.2627 | Exx2:0.6913 | $\\rho_1$:0.6547 | $\\rho_2$:0.434 | $E_{0.05}$:0.2009 | $E_{0.25}$:0.1542 | $E_{0.50}$:0.1437 | Time:11.15"
      ],
      "text/plain": [
       "<IPython.core.display.Latex object>"
      ]
     },
     "metadata": {},
     "output_type": "display_data"
    },
    {
     "data": {
      "text/latex": [
       "Target:N01_Logistic | Kernel:Uniform | $\\sigma$:4.0 | eff:0.1694 | $P_{jump}$:0.2297 | Exx2:0.6103 | $\\rho_1$:0.6944 | $\\rho_2$:0.4884 | $E_{0.05}$:0.1771 | $E_{0.25}$:0.1327 | $E_{0.50}$:0.1257 | Time:9.96"
      ],
      "text/plain": [
       "<IPython.core.display.Latex object>"
      ]
     },
     "metadata": {},
     "output_type": "display_data"
    },
    {
     "data": {
      "text/latex": [
       "Target:N01_Logistic | Kernel:Uniform | $\\sigma$:4.5 | eff:0.1498 | $P_{jump}$:0.2051 | Exx2:0.5531 | $\\rho_1$:0.7255 | $\\rho_2$:0.531 | $E_{0.05}$:0.1553 | $E_{0.25}$:0.1171 | $E_{0.50}$:0.1101 | Time:10.7"
      ],
      "text/plain": [
       "<IPython.core.display.Latex object>"
      ]
     },
     "metadata": {},
     "output_type": "display_data"
    },
    {
     "data": {
      "text/latex": [
       "Target:N01_Logistic | Kernel:Uniform | $\\sigma$:5.0 | eff:0.1316 | $P_{jump}$:0.1834 | Exx2:0.4918 | $\\rho_1$:0.7546 | $\\rho_2$:0.5731 | $E_{0.05}$:0.1342 | $E_{0.25}$:0.1041 | $E_{0.50}$:0.0947 | Time:11.27"
      ],
      "text/plain": [
       "<IPython.core.display.Latex object>"
      ]
     },
     "metadata": {},
     "output_type": "display_data"
    },
    {
     "data": {
      "text/latex": [
       "Target:N01_Logistic | Kernel:Uniform | $\\sigma$:6.0 | eff:0.1054 | $P_{jump}$:0.1527 | Exx2:0.4077 | $\\rho_1$:0.7958 | $\\rho_2$:0.6355 | $E_{0.05}$:0.1136 | $E_{0.25}$:0.084 | $E_{0.50}$:0.0778 | Time:12.08"
      ],
      "text/plain": [
       "<IPython.core.display.Latex object>"
      ]
     },
     "metadata": {},
     "output_type": "display_data"
    },
    {
     "data": {
      "text/latex": [
       "Target:N01_Logistic | Kernel:Uniform | $\\sigma$:7.0 | eff:0.089 | $P_{jump}$:0.1312 | Exx2:0.3487 | $\\rho_1$:0.8255 | $\\rho_2$:0.683 | $E_{0.05}$:0.0947 | $E_{0.25}$:0.0702 | $E_{0.50}$:0.0673 | Time:12.87"
      ],
      "text/plain": [
       "<IPython.core.display.Latex object>"
      ]
     },
     "metadata": {},
     "output_type": "display_data"
    },
    {
     "data": {
      "text/latex": [
       "Target:N01_Logistic | Kernel:Uniform | $\\sigma$:8.0 | eff:0.0784 | $P_{jump}$:0.115 | Exx2:0.3109 | $\\rho_1$:0.8454 | $\\rho_2$:0.716 | $E_{0.05}$:0.0817 | $E_{0.25}$:0.0622 | $E_{0.50}$:0.0577 | Time:13.41"
      ],
      "text/plain": [
       "<IPython.core.display.Latex object>"
      ]
     },
     "metadata": {},
     "output_type": "display_data"
    },
    {
     "data": {
      "text/latex": [
       "Target:N01_Logistic | Kernel:Uniform | $\\sigma$:10.0 | eff:0.0626 | $P_{jump}$:0.0921 | Exx2:0.2469 | $\\rho_1$:0.8767 | $\\rho_2$:0.7693 | $E_{0.05}$:0.0633 | $E_{0.25}$:0.0501 | $E_{0.50}$:0.0472 | Time:15.85"
      ],
      "text/plain": [
       "<IPython.core.display.Latex object>"
      ]
     },
     "metadata": {},
     "output_type": "display_data"
    },
    {
     "data": {
      "text/latex": [
       "Target:N01_Logistic | Kernel:Uniform | $\\sigma$:15.0 | eff:0.0407 | $P_{jump}$:0.061 | Exx2:0.1615 | $\\rho_1$:0.9182 | $\\rho_2$:0.8433 | $E_{0.05}$:0.0419 | $E_{0.25}$:0.0329 | $E_{0.50}$:0.0307 | Time:17.51"
      ],
      "text/plain": [
       "<IPython.core.display.Latex object>"
      ]
     },
     "metadata": {},
     "output_type": "display_data"
    },
    {
     "data": {
      "text/latex": [
       "Target:N01_Logistic | Kernel:Uniform | $\\sigma$:20.0 | eff:0.03 | $P_{jump}$:0.0462 | Exx2:0.1252 | $\\rho_1$:0.938 | $\\rho_2$:0.8798 | $E_{0.05}$:0.0318 | $E_{0.25}$:0.024 | $E_{0.50}$:0.0233 | Time:21.2"
      ],
      "text/plain": [
       "<IPython.core.display.Latex object>"
      ]
     },
     "metadata": {},
     "output_type": "display_data"
    },
    {
     "data": {
      "text/latex": [
       "Target:N01_Logistic | Kernel:Uniform | $\\sigma$:27.0 | eff:0.0223 | $P_{jump}$:0.0341 | Exx2:0.0934 | $\\rho_1$:0.9538 | $\\rho_2$:0.91 | $E_{0.05}$:0.0239 | $E_{0.25}$:0.017 | $E_{0.50}$:0.0163 | Time:27.56"
      ],
      "text/plain": [
       "<IPython.core.display.Latex object>"
      ]
     },
     "metadata": {},
     "output_type": "display_data"
    },
    {
     "data": {
      "text/latex": [
       "Target:N01_Logistic | Kernel:TransUniform | $\\sigma$:0.1 | eff:0.0457 | $P_{jump}$:0.8755 | Exx2:0.192 | $\\rho_1$:0.9046 | $\\rho_2$:0.8216 | $E_{0.05}$:0.1412 | $E_{0.25}$:0.0679 | $E_{0.50}$:0.0583 | Time:22.27"
      ],
      "text/plain": [
       "<IPython.core.display.Latex object>"
      ]
     },
     "metadata": {},
     "output_type": "display_data"
    },
    {
     "data": {
      "text/latex": [
       "Target:N01_Logistic | Kernel:TransUniform | $\\sigma$:0.3 | eff:0.2952 | $P_{jump}$:0.6931 | Exx2:0.9155 | $\\rho_1$:0.5421 | $\\rho_2$:0.2975 | $E_{0.05}$:0.5265 | $E_{0.25}$:0.3486 | $E_{0.50}$:0.338 | Time:17.49"
      ],
      "text/plain": [
       "<IPython.core.display.Latex object>"
      ]
     },
     "metadata": {},
     "output_type": "display_data"
    },
    {
     "data": {
      "text/latex": [
       "Target:N01_Logistic | Kernel:TransUniform | $\\sigma$:0.5 | eff:0.4979 | $P_{jump}$:0.6685 | Exx2:1.3743 | $\\rho_1$:0.3136 | $\\rho_2$:0.1132 | $E_{0.05}$:0.6881 | $E_{0.25}$:0.4846 | $E_{0.50}$:0.385 | Time:17.14"
      ],
      "text/plain": [
       "<IPython.core.display.Latex object>"
      ]
     },
     "metadata": {},
     "output_type": "display_data"
    },
    {
     "data": {
      "text/latex": [
       "Target:N01_Logistic | Kernel:TransUniform | $\\sigma$:0.7 | eff:0.7969 | $P_{jump}$:0.7221 | Exx2:1.7777 | $\\rho_1$:0.1104 | $\\rho_2$:0.0154 | $E_{0.05}$:0.6273 | $E_{0.25}$:0.5952 | $E_{0.50}$:0.6766 | Time:17.74"
      ],
      "text/plain": [
       "<IPython.core.display.Latex object>"
      ]
     },
     "metadata": {},
     "output_type": "display_data"
    },
    {
     "data": {
      "text/latex": [
       "Target:N01_Logistic | Kernel:TransUniform | $\\sigma$:0.8 | eff:0.8193 | $P_{jump}$:0.7156 | Exx2:1.8211 | $\\rho_1$:0.0898 | $\\rho_2$:0.015 | $E_{0.05}$:0.6721 | $E_{0.25}$:0.6258 | $E_{0.50}$:0.6259 | Time:17.37"
      ],
      "text/plain": [
       "<IPython.core.display.Latex object>"
      ]
     },
     "metadata": {},
     "output_type": "display_data"
    },
    {
     "data": {
      "text/latex": [
       "Target:N01_Logistic | Kernel:TransUniform | $\\sigma$:0.9 | eff:0.8247 | $P_{jump}$:0.6954 | Exx2:1.8281 | $\\rho_1$:0.0845 | $\\rho_2$:0.0169 | $E_{0.05}$:0.7054 | $E_{0.25}$:0.6174 | $E_{0.50}$:0.5705 | Time:17.66"
      ],
      "text/plain": [
       "<IPython.core.display.Latex object>"
      ]
     },
     "metadata": {},
     "output_type": "display_data"
    },
    {
     "data": {
      "text/latex": [
       "Target:N01_Logistic | Kernel:TransUniform | $\\sigma$:1.0 | eff:0.7769 | $P_{jump}$:0.6825 | Exx2:1.7741 | $\\rho_1$:0.1124 | $\\rho_2$:0.0192 | $E_{0.05}$:0.7346 | $E_{0.25}$:0.6043 | $E_{0.50}$:0.5748 | Time:17.74"
      ],
      "text/plain": [
       "<IPython.core.display.Latex object>"
      ]
     },
     "metadata": {},
     "output_type": "display_data"
    },
    {
     "data": {
      "text/latex": [
       "Target:N01_Logistic | Kernel:TransUniform | $\\sigma$:1.1 | eff:0.6924 | $P_{jump}$:0.688 | Exx2:1.6609 | $\\rho_1$:0.1699 | $\\rho_2$:0.0377 | $E_{0.05}$:0.6972 | $E_{0.25}$:0.5817 | $E_{0.50}$:0.5574 | Time:17.7"
      ],
      "text/plain": [
       "<IPython.core.display.Latex object>"
      ]
     },
     "metadata": {},
     "output_type": "display_data"
    },
    {
     "data": {
      "text/latex": [
       "Target:N01_Logistic | Kernel:TransUniform | $\\sigma$:1.3 | eff:0.5621 | $P_{jump}$:0.7127 | Exx2:1.4514 | $\\rho_1$:0.2738 | $\\rho_2$:0.0803 | $E_{0.05}$:0.6142 | $E_{0.25}$:0.518 | $E_{0.50}$:0.4941 | Time:17.63"
      ],
      "text/plain": [
       "<IPython.core.display.Latex object>"
      ]
     },
     "metadata": {},
     "output_type": "display_data"
    },
    {
     "data": {
      "text/latex": [
       "Target:N01_Logistic | Kernel:TransUniform | $\\sigma$:1.5 | eff:0.571 | $P_{jump}$:0.6936 | Exx2:1.4565 | $\\rho_1$:0.2691 | $\\rho_2$:0.0768 | $E_{0.05}$:0.6581 | $E_{0.25}$:0.5183 | $E_{0.50}$:0.4876 | Time:17.77"
      ],
      "text/plain": [
       "<IPython.core.display.Latex object>"
      ]
     },
     "metadata": {},
     "output_type": "display_data"
    },
    {
     "data": {
      "text/latex": [
       "Target:N01_Logistic | Kernel:TransUniform | $\\sigma$:1.7 | eff:0.6212 | $P_{jump}$:0.6938 | Exx2:1.5459 | $\\rho_1$:0.2255 | $\\rho_2$:0.0577 | $E_{0.05}$:0.6596 | $E_{0.25}$:0.5405 | $E_{0.50}$:0.5063 | Time:18.53"
      ],
      "text/plain": [
       "<IPython.core.display.Latex object>"
      ]
     },
     "metadata": {},
     "output_type": "display_data"
    },
    {
     "data": {
      "text/latex": [
       "Target:N01_Logistic | Kernel:TransUniform | $\\sigma$:1.8 | eff:0.6877 | $P_{jump}$:0.7052 | Exx2:1.6451 | $\\rho_1$:0.1799 | $\\rho_2$:0.0373 | $E_{0.05}$:0.6611 | $E_{0.25}$:0.5677 | $E_{0.50}$:0.5678 | Time:18.0"
      ],
      "text/plain": [
       "<IPython.core.display.Latex object>"
      ]
     },
     "metadata": {},
     "output_type": "display_data"
    },
    {
     "data": {
      "text/latex": [
       "Target:N01_Logistic | Kernel:TransUniform | $\\sigma$:1.9 | eff:0.7068 | $P_{jump}$:0.7072 | Exx2:1.6714 | $\\rho_1$:0.1638 | $\\rho_2$:0.0327 | $E_{0.05}$:0.6571 | $E_{0.25}$:0.5753 | $E_{0.50}$:0.5818 | Time:17.94"
      ],
      "text/plain": [
       "<IPython.core.display.Latex object>"
      ]
     },
     "metadata": {},
     "output_type": "display_data"
    },
    {
     "data": {
      "text/latex": [
       "Target:N01_Logistic | Kernel:TransUniform | $\\sigma$:2.0 | eff:0.7109 | $P_{jump}$:0.7038 | Exx2:1.6969 | $\\rho_1$:0.1518 | $\\rho_2$:0.0306 | $E_{0.05}$:0.6771 | $E_{0.25}$:0.5779 | $E_{0.50}$:0.557 | Time:18.06"
      ],
      "text/plain": [
       "<IPython.core.display.Latex object>"
      ]
     },
     "metadata": {},
     "output_type": "display_data"
    },
    {
     "data": {
      "text/latex": [
       "Target:N01_Logistic | Kernel:TransUniform | $\\sigma$:2.1 | eff:0.722 | $P_{jump}$:0.6954 | Exx2:1.6915 | $\\rho_1$:0.154 | $\\rho_2$:0.0306 | $E_{0.05}$:0.6888 | $E_{0.25}$:0.5832 | $E_{0.50}$:0.5494 | Time:18.03"
      ],
      "text/plain": [
       "<IPython.core.display.Latex object>"
      ]
     },
     "metadata": {},
     "output_type": "display_data"
    },
    {
     "data": {
      "text/latex": [
       "Target:N01_Logistic | Kernel:TransUniform | $\\sigma$:2.2 | eff:0.6901 | $P_{jump}$:0.6902 | Exx2:1.6514 | $\\rho_1$:0.1737 | $\\rho_2$:0.0372 | $E_{0.05}$:0.696 | $E_{0.25}$:0.5726 | $E_{0.50}$:0.5446 | Time:17.82"
      ],
      "text/plain": [
       "<IPython.core.display.Latex object>"
      ]
     },
     "metadata": {},
     "output_type": "display_data"
    },
    {
     "data": {
      "text/latex": [
       "Target:N01_Logistic | Kernel:TransUniform | $\\sigma$:2.3 | eff:0.6453 | $P_{jump}$:0.697 | Exx2:1.5938 | $\\rho_1$:0.2049 | $\\rho_2$:0.048 | $E_{0.05}$:0.663 | $E_{0.25}$:0.5524 | $E_{0.50}$:0.526 | Time:18.39"
      ],
      "text/plain": [
       "<IPython.core.display.Latex object>"
      ]
     },
     "metadata": {},
     "output_type": "display_data"
    },
    {
     "data": {
      "text/latex": [
       "Target:N01_Logistic | Kernel:TransUniform | $\\sigma$:2.4 | eff:0.6116 | $P_{jump}$:0.7061 | Exx2:1.5284 | $\\rho_1$:0.2347 | $\\rho_2$:0.0608 | $E_{0.05}$:0.6365 | $E_{0.25}$:0.5359 | $E_{0.50}$:0.515 | Time:18.01"
      ],
      "text/plain": [
       "<IPython.core.display.Latex object>"
      ]
     },
     "metadata": {},
     "output_type": "display_data"
    },
    {
     "data": {
      "text/latex": [
       "Target:N01_Logistic | Kernel:TransUniform | $\\sigma$:2.5 | eff:0.5963 | $P_{jump}$:0.7066 | Exx2:1.5068 | $\\rho_1$:0.2473 | $\\rho_2$:0.0662 | $E_{0.05}$:0.6303 | $E_{0.25}$:0.5381 | $E_{0.50}$:0.5146 | Time:18.23"
      ],
      "text/plain": [
       "<IPython.core.display.Latex object>"
      ]
     },
     "metadata": {},
     "output_type": "display_data"
    },
    {
     "data": {
      "text/latex": [
       "Target:N01_Logistic | Kernel:TransUniform | $\\sigma$:2.6 | eff:0.5989 | $P_{jump}$:0.7002 | Exx2:1.5113 | $\\rho_1$:0.2452 | $\\rho_2$:0.0646 | $E_{0.05}$:0.6541 | $E_{0.25}$:0.5351 | $E_{0.50}$:0.5136 | Time:18.09"
      ],
      "text/plain": [
       "<IPython.core.display.Latex object>"
      ]
     },
     "metadata": {},
     "output_type": "display_data"
    },
    {
     "data": {
      "text/latex": [
       "Target:N01_Logistic | Kernel:TransUniform | $\\sigma$:2.8 | eff:0.6167 | $P_{jump}$:0.6952 | Exx2:1.5452 | $\\rho_1$:0.2247 | $\\rho_2$:0.0568 | $E_{0.05}$:0.6752 | $E_{0.25}$:0.5374 | $E_{0.50}$:0.4956 | Time:18.35"
      ],
      "text/plain": [
       "<IPython.core.display.Latex object>"
      ]
     },
     "metadata": {},
     "output_type": "display_data"
    },
    {
     "data": {
      "text/latex": [
       "Target:N01_Logistic | Kernel:TransUniform | $\\sigma$:3.0 | eff:0.6744 | $P_{jump}$:0.7067 | Exx2:1.633 | $\\rho_1$:0.1825 | $\\rho_2$:0.0379 | $E_{0.05}$:0.6628 | $E_{0.25}$:0.5605 | $E_{0.50}$:0.5568 | Time:18.68"
      ],
      "text/plain": [
       "<IPython.core.display.Latex object>"
      ]
     },
     "metadata": {},
     "output_type": "display_data"
    },
    {
     "data": {
      "text/latex": [
       "Target:N01_Logistic | Kernel:TransUniform | $\\sigma$:3.2 | eff:0.6867 | $P_{jump}$:0.6976 | Exx2:1.6506 | $\\rho_1$:0.1743 | $\\rho_2$:0.0363 | $E_{0.05}$:0.6744 | $E_{0.25}$:0.5686 | $E_{0.50}$:0.539 | Time:18.22"
      ],
      "text/plain": [
       "<IPython.core.display.Latex object>"
      ]
     },
     "metadata": {},
     "output_type": "display_data"
    },
    {
     "data": {
      "text/latex": [
       "Target:N01_Logistic | Kernel:TransUniform | $\\sigma$:3.5 | eff:0.6201 | $P_{jump}$:0.6975 | Exx2:1.5583 | $\\rho_1$:0.2196 | $\\rho_2$:0.0533 | $E_{0.05}$:0.6474 | $E_{0.25}$:0.5385 | $E_{0.50}$:0.5123 | Time:17.97"
      ],
      "text/plain": [
       "<IPython.core.display.Latex object>"
      ]
     },
     "metadata": {},
     "output_type": "display_data"
    },
    {
     "data": {
      "text/latex": [
       "Target:N01_Logistic | Kernel:TransUniform | $\\sigma$:4.0 | eff:0.6355 | $P_{jump}$:0.6975 | Exx2:1.5733 | $\\rho_1$:0.2152 | $\\rho_2$:0.0512 | $E_{0.05}$:0.6591 | $E_{0.25}$:0.5521 | $E_{0.50}$:0.5218 | Time:18.13"
      ],
      "text/plain": [
       "<IPython.core.display.Latex object>"
      ]
     },
     "metadata": {},
     "output_type": "display_data"
    },
    {
     "data": {
      "text/latex": [
       "Target:N01_Logistic | Kernel:TransUniform | $\\sigma$:4.5 | eff:0.677 | $P_{jump}$:0.6974 | Exx2:1.6247 | $\\rho_1$:0.1875 | $\\rho_2$:0.0405 | $E_{0.05}$:0.6915 | $E_{0.25}$:0.5645 | $E_{0.50}$:0.5439 | Time:18.4"
      ],
      "text/plain": [
       "<IPython.core.display.Latex object>"
      ]
     },
     "metadata": {},
     "output_type": "display_data"
    },
    {
     "data": {
      "text/latex": [
       "Target:N01_Logistic | Kernel:TransUniform | $\\sigma$:5.0 | eff:0.622 | $P_{jump}$:0.6967 | Exx2:1.5503 | $\\rho_1$:0.2248 | $\\rho_2$:0.0574 | $E_{0.05}$:0.6685 | $E_{0.25}$:0.54 | $E_{0.50}$:0.5134 | Time:18.2"
      ],
      "text/plain": [
       "<IPython.core.display.Latex object>"
      ]
     },
     "metadata": {},
     "output_type": "display_data"
    },
    {
     "data": {
      "text/latex": [
       "Target:N01_Logistic | Kernel:TransUniform | $\\sigma$:6.0 | eff:0.6177 | $P_{jump}$:0.6975 | Exx2:1.5495 | $\\rho_1$:0.2237 | $\\rho_2$:0.0559 | $E_{0.05}$:0.6563 | $E_{0.25}$:0.5421 | $E_{0.50}$:0.5179 | Time:17.99"
      ],
      "text/plain": [
       "<IPython.core.display.Latex object>"
      ]
     },
     "metadata": {},
     "output_type": "display_data"
    },
    {
     "data": {
      "text/latex": [
       "Target:N01_Logistic | Kernel:TransUniform | $\\sigma$:7.0 | eff:0.631 | $P_{jump}$:0.6972 | Exx2:1.5586 | $\\rho_1$:0.2169 | $\\rho_2$:0.0534 | $E_{0.05}$:0.6471 | $E_{0.25}$:0.5444 | $E_{0.50}$:0.5211 | Time:19.42"
      ],
      "text/plain": [
       "<IPython.core.display.Latex object>"
      ]
     },
     "metadata": {},
     "output_type": "display_data"
    },
    {
     "data": {
      "text/latex": [
       "Target:N01_Logistic | Kernel:TransUniform | $\\sigma$:8.0 | eff:0.6527 | $P_{jump}$:0.6921 | Exx2:1.595 | $\\rho_1$:0.2058 | $\\rho_2$:0.0473 | $E_{0.05}$:0.6635 | $E_{0.25}$:0.5462 | $E_{0.50}$:0.5312 | Time:17.87"
      ],
      "text/plain": [
       "<IPython.core.display.Latex object>"
      ]
     },
     "metadata": {},
     "output_type": "display_data"
    },
    {
     "data": {
      "text/latex": [
       "Target:N01_Logistic | Kernel:TransBactrian | $\\sigma$:0.1 | eff:0.05 | $P_{jump}$:0.8534 | Exx2:0.2075 | $\\rho_1$:0.8964 | $\\rho_2$:0.8075 | $E_{0.05}$:0.1617 | $E_{0.25}$:0.077 | $E_{0.50}$:0.0647 | Time:21.59"
      ],
      "text/plain": [
       "<IPython.core.display.Latex object>"
      ]
     },
     "metadata": {},
     "output_type": "display_data"
    },
    {
     "data": {
      "text/latex": [
       "Target:N01_Logistic | Kernel:TransBactrian | $\\sigma$:0.3 | eff:0.337 | $P_{jump}$:0.6461 | Exx2:1.0297 | $\\rho_1$:0.4869 | $\\rho_2$:0.245 | $E_{0.05}$:0.6102 | $E_{0.25}$:0.4125 | $E_{0.50}$:0.4284 | Time:16.69"
      ],
      "text/plain": [
       "<IPython.core.display.Latex object>"
      ]
     },
     "metadata": {},
     "output_type": "display_data"
    },
    {
     "data": {
      "text/latex": [
       "Target:N01_Logistic | Kernel:TransBactrian | $\\sigma$:0.5 | eff:0.6443 | $P_{jump}$:0.5845 | Exx2:1.6337 | $\\rho_1$:0.1845 | $\\rho_2$:0.0546 | $E_{0.05}$:0.9507 | $E_{0.25}$:0.5288 | $E_{0.50}$:0.3558 | Time:17.55"
      ],
      "text/plain": [
       "<IPython.core.display.Latex object>"
      ]
     },
     "metadata": {},
     "output_type": "display_data"
    },
    {
     "data": {
      "text/latex": [
       "Target:N01_Logistic | Kernel:TransBactrian | $\\sigma$:0.7 | eff:0.9848 | $P_{jump}$:0.6607 | Exx2:2.0351 | $\\rho_1$:-0.0202 | $\\rho_2$:0.0193 | $E_{0.05}$:0.8233 | $E_{0.25}$:0.6627 | $E_{0.50}$:0.5352 | Time:17.63"
      ],
      "text/plain": [
       "<IPython.core.display.Latex object>"
      ]
     },
     "metadata": {},
     "output_type": "display_data"
    },
    {
     "data": {
      "text/latex": [
       "Target:N01_Logistic | Kernel:TransBactrian | $\\sigma$:0.8 | eff:1.1805 | $P_{jump}$:0.701 | Exx2:2.2027 | $\\rho_1$:-0.1003 | $\\rho_2$:0.0183 | $E_{0.05}$:0.7318 | $E_{0.25}$:0.7066 | $E_{0.50}$:0.715 | Time:17.51"
      ],
      "text/plain": [
       "<IPython.core.display.Latex object>"
      ]
     },
     "metadata": {},
     "output_type": "display_data"
    },
    {
     "data": {
      "text/latex": [
       "Target:N01_Logistic | Kernel:TransBactrian | $\\sigma$:0.9 | eff:1.3125 | $P_{jump}$:0.7213 | Exx2:2.2794 | $\\rho_1$:-0.1416 | $\\rho_2$:0.0248 | $E_{0.05}$:0.6771 | $E_{0.25}$:0.7165 | $E_{0.50}$:0.8214 | Time:17.57"
      ],
      "text/plain": [
       "<IPython.core.display.Latex object>"
      ]
     },
     "metadata": {},
     "output_type": "display_data"
    },
    {
     "data": {
      "text/latex": [
       "Target:N01_Logistic | Kernel:TransBactrian | $\\sigma$:1.0 | eff:1.3164 | $P_{jump}$:0.723 | Exx2:2.2806 | $\\rho_1$:-0.1433 | $\\rho_2$:0.025 | $E_{0.05}$:0.6701 | $E_{0.25}$:0.7225 | $E_{0.50}$:0.8496 | Time:18.07"
      ],
      "text/plain": [
       "<IPython.core.display.Latex object>"
      ]
     },
     "metadata": {},
     "output_type": "display_data"
    },
    {
     "data": {
      "text/latex": [
       "Target:N01_Logistic | Kernel:TransBactrian | $\\sigma$:1.1 | eff:1.237 | $P_{jump}$:0.7159 | Exx2:2.2345 | $\\rho_1$:-0.1145 | $\\rho_2$:0.0191 | $E_{0.05}$:0.6937 | $E_{0.25}$:0.7094 | $E_{0.50}$:0.7921 | Time:17.84"
      ],
      "text/plain": [
       "<IPython.core.display.Latex object>"
      ]
     },
     "metadata": {},
     "output_type": "display_data"
    },
    {
     "data": {
      "text/latex": [
       "Target:N01_Logistic | Kernel:TransBactrian | $\\sigma$:1.3 | eff:0.9634 | $P_{jump}$:0.7003 | Exx2:1.9813 | $\\rho_1$:0.01 | $\\rho_2$:0.0062 | $E_{0.05}$:0.7185 | $E_{0.25}$:0.6569 | $E_{0.50}$:0.6497 | Time:17.97"
      ],
      "text/plain": [
       "<IPython.core.display.Latex object>"
      ]
     },
     "metadata": {},
     "output_type": "display_data"
    },
    {
     "data": {
      "text/latex": [
       "Target:N01_Logistic | Kernel:TransBactrian | $\\sigma$:1.5 | eff:0.7083 | $P_{jump}$:0.695 | Exx2:1.6797 | $\\rho_1$:0.1597 | $\\rho_2$:0.0322 | $E_{0.05}$:0.6841 | $E_{0.25}$:0.574 | $E_{0.50}$:0.5497 | Time:18.52"
      ],
      "text/plain": [
       "<IPython.core.display.Latex object>"
      ]
     },
     "metadata": {},
     "output_type": "display_data"
    },
    {
     "data": {
      "text/latex": [
       "Target:N01_Logistic | Kernel:TransBactrian | $\\sigma$:1.7 | eff:0.5716 | $P_{jump}$:0.6982 | Exx2:1.4832 | $\\rho_1$:0.2596 | $\\rho_2$:0.0732 | $E_{0.05}$:0.6484 | $E_{0.25}$:0.5229 | $E_{0.50}$:0.4907 | Time:18.21"
      ],
      "text/plain": [
       "<IPython.core.display.Latex object>"
      ]
     },
     "metadata": {},
     "output_type": "display_data"
    },
    {
     "data": {
      "text/latex": [
       "Target:N01_Logistic | Kernel:TransBactrian | $\\sigma$:1.8 | eff:0.542 | $P_{jump}$:0.6987 | Exx2:1.4287 | $\\rho_1$:0.2838 | $\\rho_2$:0.0865 | $E_{0.05}$:0.632 | $E_{0.25}$:0.5045 | $E_{0.50}$:0.4849 | Time:18.0"
      ],
      "text/plain": [
       "<IPython.core.display.Latex object>"
      ]
     },
     "metadata": {},
     "output_type": "display_data"
    },
    {
     "data": {
      "text/latex": [
       "Target:N01_Logistic | Kernel:TransBactrian | $\\sigma$:1.9 | eff:0.539 | $P_{jump}$:0.6982 | Exx2:1.4082 | $\\rho_1$:0.2924 | $\\rho_2$:0.0925 | $E_{0.05}$:0.6392 | $E_{0.25}$:0.5099 | $E_{0.50}$:0.4742 | Time:17.84"
      ],
      "text/plain": [
       "<IPython.core.display.Latex object>"
      ]
     },
     "metadata": {},
     "output_type": "display_data"
    },
    {
     "data": {
      "text/latex": [
       "Target:N01_Logistic | Kernel:TransBactrian | $\\sigma$:2.0 | eff:0.54 | $P_{jump}$:0.6996 | Exx2:1.427 | $\\rho_1$:0.2882 | $\\rho_2$:0.0894 | $E_{0.05}$:0.6327 | $E_{0.25}$:0.5039 | $E_{0.50}$:0.4711 | Time:18.44"
      ],
      "text/plain": [
       "<IPython.core.display.Latex object>"
      ]
     },
     "metadata": {},
     "output_type": "display_data"
    },
    {
     "data": {
      "text/latex": [
       "Target:N01_Logistic | Kernel:TransBactrian | $\\sigma$:2.1 | eff:0.5578 | $P_{jump}$:0.6979 | Exx2:1.4455 | $\\rho_1$:0.2765 | $\\rho_2$:0.0823 | $E_{0.05}$:0.6332 | $E_{0.25}$:0.5088 | $E_{0.50}$:0.4833 | Time:18.44"
      ],
      "text/plain": [
       "<IPython.core.display.Latex object>"
      ]
     },
     "metadata": {},
     "output_type": "display_data"
    },
    {
     "data": {
      "text/latex": [
       "Target:N01_Logistic | Kernel:TransBactrian | $\\sigma$:2.2 | eff:0.5717 | $P_{jump}$:0.6977 | Exx2:1.4702 | $\\rho_1$:0.2641 | $\\rho_2$:0.0752 | $E_{0.05}$:0.6489 | $E_{0.25}$:0.5211 | $E_{0.50}$:0.4911 | Time:18.98"
      ],
      "text/plain": [
       "<IPython.core.display.Latex object>"
      ]
     },
     "metadata": {},
     "output_type": "display_data"
    },
    {
     "data": {
      "text/latex": [
       "Target:N01_Logistic | Kernel:TransBactrian | $\\sigma$:2.3 | eff:0.6034 | $P_{jump}$:0.6987 | Exx2:1.5109 | $\\rho_1$:0.2454 | $\\rho_2$:0.066 | $E_{0.05}$:0.6534 | $E_{0.25}$:0.5332 | $E_{0.50}$:0.5058 | Time:18.37"
      ],
      "text/plain": [
       "<IPython.core.display.Latex object>"
      ]
     },
     "metadata": {},
     "output_type": "display_data"
    },
    {
     "data": {
      "text/latex": [
       "Target:N01_Logistic | Kernel:TransBactrian | $\\sigma$:2.4 | eff:0.6168 | $P_{jump}$:0.7009 | Exx2:1.5432 | $\\rho_1$:0.2284 | $\\rho_2$:0.0576 | $E_{0.05}$:0.6702 | $E_{0.25}$:0.538 | $E_{0.50}$:0.5186 | Time:18.41"
      ],
      "text/plain": [
       "<IPython.core.display.Latex object>"
      ]
     },
     "metadata": {},
     "output_type": "display_data"
    },
    {
     "data": {
      "text/latex": [
       "Target:N01_Logistic | Kernel:TransBactrian | $\\sigma$:2.5 | eff:0.6237 | $P_{jump}$:0.6966 | Exx2:1.5542 | $\\rho_1$:0.2202 | $\\rho_2$:0.0547 | $E_{0.05}$:0.6535 | $E_{0.25}$:0.5446 | $E_{0.50}$:0.516 | Time:18.11"
      ],
      "text/plain": [
       "<IPython.core.display.Latex object>"
      ]
     },
     "metadata": {},
     "output_type": "display_data"
    },
    {
     "data": {
      "text/latex": [
       "Target:N01_Logistic | Kernel:TransBactrian | $\\sigma$:2.6 | eff:0.6499 | $P_{jump}$:0.6994 | Exx2:1.5832 | $\\rho_1$:0.2073 | $\\rho_2$:0.0499 | $E_{0.05}$:0.6585 | $E_{0.25}$:0.5518 | $E_{0.50}$:0.5323 | Time:18.25"
      ],
      "text/plain": [
       "<IPython.core.display.Latex object>"
      ]
     },
     "metadata": {},
     "output_type": "display_data"
    },
    {
     "data": {
      "text/latex": [
       "Target:N01_Logistic | Kernel:TransBactrian | $\\sigma$:2.8 | eff:0.6595 | $P_{jump}$:0.7012 | Exx2:1.6001 | $\\rho_1$:0.1987 | $\\rho_2$:0.044 | $E_{0.05}$:0.671 | $E_{0.25}$:0.5572 | $E_{0.50}$:0.5381 | Time:18.55"
      ],
      "text/plain": [
       "<IPython.core.display.Latex object>"
      ]
     },
     "metadata": {},
     "output_type": "display_data"
    },
    {
     "data": {
      "text/latex": [
       "Target:N01_Logistic | Kernel:TransBactrian | $\\sigma$:3.0 | eff:0.6523 | $P_{jump}$:0.6959 | Exx2:1.5988 | $\\rho_1$:0.2016 | $\\rho_2$:0.0462 | $E_{0.05}$:0.661 | $E_{0.25}$:0.5554 | $E_{0.50}$:0.5335 | Time:18.14"
      ],
      "text/plain": [
       "<IPython.core.display.Latex object>"
      ]
     },
     "metadata": {},
     "output_type": "display_data"
    },
    {
     "data": {
      "text/latex": [
       "Target:N01_Logistic | Kernel:TransBactrian | $\\sigma$:3.2 | eff:0.6509 | $P_{jump}$:0.6979 | Exx2:1.5951 | $\\rho_1$:0.2024 | $\\rho_2$:0.0475 | $E_{0.05}$:0.666 | $E_{0.25}$:0.5582 | $E_{0.50}$:0.5256 | Time:18.18"
      ],
      "text/plain": [
       "<IPython.core.display.Latex object>"
      ]
     },
     "metadata": {},
     "output_type": "display_data"
    },
    {
     "data": {
      "text/latex": [
       "Target:N01_Logistic | Kernel:TransBactrian | $\\sigma$:3.5 | eff:0.6504 | $P_{jump}$:0.7004 | Exx2:1.5929 | $\\rho_1$:0.2049 | $\\rho_2$:0.049 | $E_{0.05}$:0.6556 | $E_{0.25}$:0.5528 | $E_{0.50}$:0.5331 | Time:18.08"
      ],
      "text/plain": [
       "<IPython.core.display.Latex object>"
      ]
     },
     "metadata": {},
     "output_type": "display_data"
    },
    {
     "data": {
      "text/latex": [
       "Target:N01_Logistic | Kernel:TransBactrian | $\\sigma$:4.0 | eff:0.6416 | $P_{jump}$:0.6963 | Exx2:1.5823 | $\\rho_1$:0.2088 | $\\rho_2$:0.049 | $E_{0.05}$:0.6596 | $E_{0.25}$:0.5494 | $E_{0.50}$:0.5142 | Time:19.0"
      ],
      "text/plain": [
       "<IPython.core.display.Latex object>"
      ]
     },
     "metadata": {},
     "output_type": "display_data"
    },
    {
     "data": {
      "text/latex": [
       "Target:N01_Logistic | Kernel:TransBactrian | $\\sigma$:4.5 | eff:0.6559 | $P_{jump}$:0.7026 | Exx2:1.5902 | $\\rho_1$:0.2037 | $\\rho_2$:0.0454 | $E_{0.05}$:0.6707 | $E_{0.25}$:0.5595 | $E_{0.50}$:0.5398 | Time:18.35"
      ],
      "text/plain": [
       "<IPython.core.display.Latex object>"
      ]
     },
     "metadata": {},
     "output_type": "display_data"
    },
    {
     "data": {
      "text/latex": [
       "Target:N01_Logistic | Kernel:TransBactrian | $\\sigma$:5.0 | eff:0.6457 | $P_{jump}$:0.6991 | Exx2:1.5912 | $\\rho_1$:0.2055 | $\\rho_2$:0.0495 | $E_{0.05}$:0.6591 | $E_{0.25}$:0.5512 | $E_{0.50}$:0.5298 | Time:18.4"
      ],
      "text/plain": [
       "<IPython.core.display.Latex object>"
      ]
     },
     "metadata": {},
     "output_type": "display_data"
    },
    {
     "data": {
      "text/latex": [
       "Target:N01_Logistic | Kernel:TransBactrian | $\\sigma$:6.0 | eff:0.6518 | $P_{jump}$:0.7017 | Exx2:1.5959 | $\\rho_1$:0.2045 | $\\rho_2$:0.0461 | $E_{0.05}$:0.6715 | $E_{0.25}$:0.5569 | $E_{0.50}$:0.5311 | Time:18.47"
      ],
      "text/plain": [
       "<IPython.core.display.Latex object>"
      ]
     },
     "metadata": {},
     "output_type": "display_data"
    },
    {
     "data": {
      "text/latex": [
       "Target:N01_Logistic | Kernel:TransBactrian | $\\sigma$:7.0 | eff:0.6495 | $P_{jump}$:0.6979 | Exx2:1.5917 | $\\rho_1$:0.2074 | $\\rho_2$:0.0493 | $E_{0.05}$:0.6717 | $E_{0.25}$:0.5436 | $E_{0.50}$:0.5304 | Time:18.4"
      ],
      "text/plain": [
       "<IPython.core.display.Latex object>"
      ]
     },
     "metadata": {},
     "output_type": "display_data"
    },
    {
     "data": {
      "text/latex": [
       "Target:N01_Logistic | Kernel:TransBactrian | $\\sigma$:8.0 | eff:0.6374 | $P_{jump}$:0.6862 | Exx2:1.5623 | $\\rho_1$:0.2163 | $\\rho_2$:0.0526 | $E_{0.05}$:0.648 | $E_{0.25}$:0.54 | $E_{0.50}$:0.5156 | Time:18.18"
      ],
      "text/plain": [
       "<IPython.core.display.Latex object>"
      ]
     },
     "metadata": {},
     "output_type": "display_data"
    },
    {
     "data": {
      "text/latex": [
       "Target:N01_Logistic | Kernel:TransStrawHat | $\\sigma$:0.1 | eff:0.0502 | $P_{jump}$:0.8532 | Exx2:0.2073 | $\\rho_1$:0.8969 | $\\rho_2$:0.8088 | $E_{0.05}$:0.1601 | $E_{0.25}$:0.0749 | $E_{0.50}$:0.0639 | Time:22.38"
      ],
      "text/plain": [
       "<IPython.core.display.Latex object>"
      ]
     },
     "metadata": {},
     "output_type": "display_data"
    },
    {
     "data": {
      "text/latex": [
       "Target:N01_Logistic | Kernel:TransStrawHat | $\\sigma$:0.3 | eff:0.3371 | $P_{jump}$:0.6556 | Exx2:1.0492 | $\\rho_1$:0.4779 | $\\rho_2$:0.2407 | $E_{0.05}$:0.6496 | $E_{0.25}$:0.3954 | $E_{0.50}$:0.4459 | Time:17.12"
      ],
      "text/plain": [
       "<IPython.core.display.Latex object>"
      ]
     },
     "metadata": {},
     "output_type": "display_data"
    },
    {
     "data": {
      "text/latex": [
       "Target:N01_Logistic | Kernel:TransStrawHat | $\\sigma$:0.5 | eff:0.6366 | $P_{jump}$:0.5813 | Exx2:1.6886 | $\\rho_1$:0.1541 | $\\rho_2$:0.0627 | $E_{0.05}$:0.9971 | $E_{0.25}$:0.5027 | $E_{0.50}$:0.3037 | Time:17.16"
      ],
      "text/plain": [
       "<IPython.core.display.Latex object>"
      ]
     },
     "metadata": {},
     "output_type": "display_data"
    },
    {
     "data": {
      "text/latex": [
       "Target:N01_Logistic | Kernel:TransStrawHat | $\\sigma$:0.7 | eff:0.9907 | $P_{jump}$:0.666 | Exx2:2.0343 | $\\rho_1$:-0.0189 | $\\rho_2$:0.0193 | $E_{0.05}$:0.7779 | $E_{0.25}$:0.6789 | $E_{0.50}$:0.5201 | Time:17.58"
      ],
      "text/plain": [
       "<IPython.core.display.Latex object>"
      ]
     },
     "metadata": {},
     "output_type": "display_data"
    },
    {
     "data": {
      "text/latex": [
       "Target:N01_Logistic | Kernel:TransStrawHat | $\\sigma$:0.8 | eff:1.4997 | $P_{jump}$:0.7451 | Exx2:2.4025 | $\\rho_1$:-0.199 | $\\rho_2$:0.0412 | $E_{0.05}$:0.6706 | $E_{0.25}$:0.7354 | $E_{0.50}$:1.0138 | Time:17.73"
      ],
      "text/plain": [
       "<IPython.core.display.Latex object>"
      ]
     },
     "metadata": {},
     "output_type": "display_data"
    },
    {
     "data": {
      "text/latex": [
       "Target:N01_Logistic | Kernel:TransStrawHat | $\\sigma$:0.9 | eff:1.531 | $P_{jump}$:0.7658 | Exx2:2.4354 | $\\rho_1$:-0.2165 | $\\rho_2$:0.048 | $E_{0.05}$:0.5899 | $E_{0.25}$:0.7179 | $E_{0.50}$:1.1511 | Time:17.83"
      ],
      "text/plain": [
       "<IPython.core.display.Latex object>"
      ]
     },
     "metadata": {},
     "output_type": "display_data"
    },
    {
     "data": {
      "text/latex": [
       "Target:N01_Logistic | Kernel:TransStrawHat | $\\sigma$:1.0 | eff:1.4747 | $P_{jump}$:0.7476 | Exx2:2.3885 | $\\rho_1$:-0.198 | $\\rho_2$:0.044 | $E_{0.05}$:0.6343 | $E_{0.25}$:0.762 | $E_{0.50}$:0.9526 | Time:17.99"
      ],
      "text/plain": [
       "<IPython.core.display.Latex object>"
      ]
     },
     "metadata": {},
     "output_type": "display_data"
    },
    {
     "data": {
      "text/latex": [
       "Target:N01_Logistic | Kernel:TransStrawHat | $\\sigma$:1.1 | eff:1.3379 | $P_{jump}$:0.7144 | Exx2:2.3163 | $\\rho_1$:-0.1576 | $\\rho_2$:0.0345 | $E_{0.05}$:0.731 | $E_{0.25}$:0.7446 | $E_{0.50}$:0.7435 | Time:17.83"
      ],
      "text/plain": [
       "<IPython.core.display.Latex object>"
      ]
     },
     "metadata": {},
     "output_type": "display_data"
    },
    {
     "data": {
      "text/latex": [
       "Target:N01_Logistic | Kernel:TransStrawHat | $\\sigma$:1.3 | eff:0.9814 | $P_{jump}$:0.6639 | Exx2:2.0086 | $\\rho_1$:-0.0063 | $\\rho_2$:0.0101 | $E_{0.05}$:0.846 | $E_{0.25}$:0.6682 | $E_{0.50}$:0.609 | Time:18.39"
      ],
      "text/plain": [
       "<IPython.core.display.Latex object>"
      ]
     },
     "metadata": {},
     "output_type": "display_data"
    },
    {
     "data": {
      "text/latex": [
       "Target:N01_Logistic | Kernel:TransStrawHat | $\\sigma$:1.5 | eff:0.605 | $P_{jump}$:0.7018 | Exx2:1.5236 | $\\rho_1$:0.2375 | $\\rho_2$:0.0619 | $E_{0.05}$:0.6579 | $E_{0.25}$:0.5277 | $E_{0.50}$:0.4933 | Time:18.12"
      ],
      "text/plain": [
       "<IPython.core.display.Latex object>"
      ]
     },
     "metadata": {},
     "output_type": "display_data"
    },
    {
     "data": {
      "text/latex": [
       "Target:N01_Logistic | Kernel:TransStrawHat | $\\sigma$:1.7 | eff:0.4276 | $P_{jump}$:0.7219 | Exx2:1.209 | $\\rho_1$:0.3939 | $\\rho_2$:0.1597 | $E_{0.05}$:0.5432 | $E_{0.25}$:0.4455 | $E_{0.50}$:0.4255 | Time:18.96"
      ],
      "text/plain": [
       "<IPython.core.display.Latex object>"
      ]
     },
     "metadata": {},
     "output_type": "display_data"
    },
    {
     "data": {
      "text/latex": [
       "Target:N01_Logistic | Kernel:TransStrawHat | $\\sigma$:1.8 | eff:0.4212 | $P_{jump}$:0.7109 | Exx2:1.1941 | $\\rho_1$:0.4032 | $\\rho_2$:0.1669 | $E_{0.05}$:0.5745 | $E_{0.25}$:0.4328 | $E_{0.50}$:0.4372 | Time:18.75"
      ],
      "text/plain": [
       "<IPython.core.display.Latex object>"
      ]
     },
     "metadata": {},
     "output_type": "display_data"
    },
    {
     "data": {
      "text/latex": [
       "Target:N01_Logistic | Kernel:TransStrawHat | $\\sigma$:1.9 | eff:0.4406 | $P_{jump}$:0.6976 | Exx2:1.2325 | $\\rho_1$:0.3842 | $\\rho_2$:0.1512 | $E_{0.05}$:0.6123 | $E_{0.25}$:0.4495 | $E_{0.50}$:0.4275 | Time:18.11"
      ],
      "text/plain": [
       "<IPython.core.display.Latex object>"
      ]
     },
     "metadata": {},
     "output_type": "display_data"
    },
    {
     "data": {
      "text/latex": [
       "Target:N01_Logistic | Kernel:TransStrawHat | $\\sigma$:2.0 | eff:0.4638 | $P_{jump}$:0.6865 | Exx2:1.2952 | $\\rho_1$:0.3527 | $\\rho_2$:0.1333 | $E_{0.05}$:0.65 | $E_{0.25}$:0.4691 | $E_{0.50}$:0.3994 | Time:18.15"
      ],
      "text/plain": [
       "<IPython.core.display.Latex object>"
      ]
     },
     "metadata": {},
     "output_type": "display_data"
    },
    {
     "data": {
      "text/latex": [
       "Target:N01_Logistic | Kernel:TransStrawHat | $\\sigma$:2.1 | eff:0.4952 | $P_{jump}$:0.6816 | Exx2:1.3671 | $\\rho_1$:0.3168 | $\\rho_2$:0.1122 | $E_{0.05}$:0.6578 | $E_{0.25}$:0.4807 | $E_{0.50}$:0.4034 | Time:18.17"
      ],
      "text/plain": [
       "<IPython.core.display.Latex object>"
      ]
     },
     "metadata": {},
     "output_type": "display_data"
    },
    {
     "data": {
      "text/latex": [
       "Target:N01_Logistic | Kernel:TransStrawHat | $\\sigma$:2.2 | eff:0.5799 | $P_{jump}$:0.6957 | Exx2:1.4943 | $\\rho_1$:0.2535 | $\\rho_2$:0.0709 | $E_{0.05}$:0.6537 | $E_{0.25}$:0.52 | $E_{0.50}$:0.4851 | Time:18.71"
      ],
      "text/plain": [
       "<IPython.core.display.Latex object>"
      ]
     },
     "metadata": {},
     "output_type": "display_data"
    },
    {
     "data": {
      "text/latex": [
       "Target:N01_Logistic | Kernel:TransStrawHat | $\\sigma$:2.3 | eff:0.6986 | $P_{jump}$:0.7128 | Exx2:1.6605 | $\\rho_1$:0.1701 | $\\rho_2$:0.0327 | $E_{0.05}$:0.6442 | $E_{0.25}$:0.569 | $E_{0.50}$:0.5931 | Time:18.33"
      ],
      "text/plain": [
       "<IPython.core.display.Latex object>"
      ]
     },
     "metadata": {},
     "output_type": "display_data"
    },
    {
     "data": {
      "text/latex": [
       "Target:N01_Logistic | Kernel:TransStrawHat | $\\sigma$:2.4 | eff:0.7521 | $P_{jump}$:0.7163 | Exx2:1.7299 | $\\rho_1$:0.1348 | $\\rho_2$:0.022 | $E_{0.05}$:0.6386 | $E_{0.25}$:0.5917 | $E_{0.50}$:0.6246 | Time:17.91"
      ],
      "text/plain": [
       "<IPython.core.display.Latex object>"
      ]
     },
     "metadata": {},
     "output_type": "display_data"
    },
    {
     "data": {
      "text/latex": [
       "Target:N01_Logistic | Kernel:TransStrawHat | $\\sigma$:2.5 | eff:0.7783 | $P_{jump}$:0.7046 | Exx2:1.7686 | $\\rho_1$:0.1156 | $\\rho_2$:0.0208 | $E_{0.05}$:0.6588 | $E_{0.25}$:0.6102 | $E_{0.50}$:0.5937 | Time:18.45"
      ],
      "text/plain": [
       "<IPython.core.display.Latex object>"
      ]
     },
     "metadata": {},
     "output_type": "display_data"
    },
    {
     "data": {
      "text/latex": [
       "Target:N01_Logistic | Kernel:TransStrawHat | $\\sigma$:2.6 | eff:0.8094 | $P_{jump}$:0.6972 | Exx2:1.8182 | $\\rho_1$:0.095 | $\\rho_2$:0.0161 | $E_{0.05}$:0.7102 | $E_{0.25}$:0.6191 | $E_{0.50}$:0.5675 | Time:18.01"
      ],
      "text/plain": [
       "<IPython.core.display.Latex object>"
      ]
     },
     "metadata": {},
     "output_type": "display_data"
    },
    {
     "data": {
      "text/latex": [
       "Target:N01_Logistic | Kernel:TransStrawHat | $\\sigma$:2.8 | eff:0.7816 | $P_{jump}$:0.6858 | Exx2:1.7787 | $\\rho_1$:0.1111 | $\\rho_2$:0.021 | $E_{0.05}$:0.7288 | $E_{0.25}$:0.6091 | $E_{0.50}$:0.5831 | Time:17.96"
      ],
      "text/plain": [
       "<IPython.core.display.Latex object>"
      ]
     },
     "metadata": {},
     "output_type": "display_data"
    },
    {
     "data": {
      "text/latex": [
       "Target:N01_Logistic | Kernel:TransStrawHat | $\\sigma$:3.0 | eff:0.6444 | $P_{jump}$:0.7099 | Exx2:1.5903 | $\\rho_1$:0.2029 | $\\rho_2$:0.0462 | $E_{0.05}$:0.6444 | $E_{0.25}$:0.5499 | $E_{0.50}$:0.5199 | Time:18.73"
      ],
      "text/plain": [
       "<IPython.core.display.Latex object>"
      ]
     },
     "metadata": {},
     "output_type": "display_data"
    },
    {
     "data": {
      "text/latex": [
       "Target:N01_Logistic | Kernel:TransStrawHat | $\\sigma$:3.2 | eff:0.5668 | $P_{jump}$:0.7114 | Exx2:1.4565 | $\\rho_1$:0.2723 | $\\rho_2$:0.079 | $E_{0.05}$:0.6183 | $E_{0.25}$:0.5231 | $E_{0.50}$:0.5058 | Time:18.14"
      ],
      "text/plain": [
       "<IPython.core.display.Latex object>"
      ]
     },
     "metadata": {},
     "output_type": "display_data"
    },
    {
     "data": {
      "text/latex": [
       "Target:N01_Logistic | Kernel:TransStrawHat | $\\sigma$:3.5 | eff:0.5721 | $P_{jump}$:0.6907 | Exx2:1.4767 | $\\rho_1$:0.2609 | $\\rho_2$:0.0758 | $E_{0.05}$:0.6716 | $E_{0.25}$:0.5277 | $E_{0.50}$:0.4686 | Time:19.22"
      ],
      "text/plain": [
       "<IPython.core.display.Latex object>"
      ]
     },
     "metadata": {},
     "output_type": "display_data"
    },
    {
     "data": {
      "text/latex": [
       "Target:N01_Logistic | Kernel:TransStrawHat | $\\sigma$:4.0 | eff:0.711 | $P_{jump}$:0.7075 | Exx2:1.6829 | $\\rho_1$:0.158 | $\\rho_2$:0.0317 | $E_{0.05}$:0.6688 | $E_{0.25}$:0.5815 | $E_{0.50}$:0.56 | Time:18.21"
      ],
      "text/plain": [
       "<IPython.core.display.Latex object>"
      ]
     },
     "metadata": {},
     "output_type": "display_data"
    },
    {
     "data": {
      "text/latex": [
       "Target:N01_Logistic | Kernel:TransStrawHat | $\\sigma$:4.5 | eff:0.6304 | $P_{jump}$:0.7142 | Exx2:1.5692 | $\\rho_1$:0.2165 | $\\rho_2$:0.0534 | $E_{0.05}$:0.6603 | $E_{0.25}$:0.5492 | $E_{0.50}$:0.5205 | Time:18.19"
      ],
      "text/plain": [
       "<IPython.core.display.Latex object>"
      ]
     },
     "metadata": {},
     "output_type": "display_data"
    },
    {
     "data": {
      "text/latex": [
       "Target:N01_Logistic | Kernel:TransStrawHat | $\\sigma$:5.0 | eff:0.6048 | $P_{jump}$:0.6948 | Exx2:1.534 | $\\rho_1$:0.2339 | $\\rho_2$:0.0625 | $E_{0.05}$:0.6819 | $E_{0.25}$:0.544 | $E_{0.50}$:0.4954 | Time:18.48"
      ],
      "text/plain": [
       "<IPython.core.display.Latex object>"
      ]
     },
     "metadata": {},
     "output_type": "display_data"
    },
    {
     "data": {
      "text/latex": [
       "Target:N01_Logistic | Kernel:TransStrawHat | $\\sigma$:6.0 | eff:0.6329 | $P_{jump}$:0.7143 | Exx2:1.5563 | $\\rho_1$:0.2211 | $\\rho_2$:0.0518 | $E_{0.05}$:0.657 | $E_{0.25}$:0.5352 | $E_{0.50}$:0.5302 | Time:18.47"
      ],
      "text/plain": [
       "<IPython.core.display.Latex object>"
      ]
     },
     "metadata": {},
     "output_type": "display_data"
    },
    {
     "data": {
      "text/latex": [
       "Target:N01_Logistic | Kernel:TransStrawHat | $\\sigma$:7.0 | eff:0.7077 | $P_{jump}$:0.7032 | Exx2:1.6689 | $\\rho_1$:0.1658 | $\\rho_2$:0.0342 | $E_{0.05}$:0.6783 | $E_{0.25}$:0.5818 | $E_{0.50}$:0.5546 | Time:18.3"
      ],
      "text/plain": [
       "<IPython.core.display.Latex object>"
      ]
     },
     "metadata": {},
     "output_type": "display_data"
    },
    {
     "data": {
      "text/latex": [
       "Target:N01_Logistic | Kernel:TransStrawHat | $\\sigma$:8.0 | eff:0.6127 | $P_{jump}$:0.6934 | Exx2:1.5383 | $\\rho_1$:0.2307 | $\\rho_2$:0.061 | $E_{0.05}$:0.667 | $E_{0.25}$:0.5357 | $E_{0.50}$:0.4988 | Time:19.2"
      ],
      "text/plain": [
       "<IPython.core.display.Latex object>"
      ]
     },
     "metadata": {},
     "output_type": "display_data"
    },
    {
     "name": "stdout",
     "output_type": "stream",
     "text": [
      "总共用时: 4276.751987\n"
     ]
    }
   ],
   "source": [
    "#MCMC sampling implementation\n",
    "np.random.seed(121)\n",
    "begin_total = time.time()\n",
    "nround = int(10e5)\n",
    "burnin = int(2*10e4)\n",
    "size = len(range(-burnin,nround))\n",
    "sigmaset_baseline = np.array([0.1, 0.3, 0.5, 0.7, 0.8, 0.9, 1, 1.1, 1.3, 1.5, 1.7,\n",
    "                    1.8, 1.9, 2, 2.1, 2.2, 2.3, 2.4, 2.5, 2.6, 2.8,\n",
    "                    3.0, 3.2, 3.5, 4, 4.5, 5, 6, 7, 8])\n",
    "kernelset = ['Uniform','TransUniform','TransBactrian','TransStrawHat']\n",
    "targetset = {'N01_T2':'t2_CDF', 'N01_Logistic':'logistic_CDF'}\n",
    "# kernelset = ['Uniform']\n",
    "# targetset = {'N01_T2':'t2_CDF'}\n",
    "\n",
    "target_result = {}\n",
    "mu=0;std=1\n",
    "for target,transform in targetset.items():\n",
    "    eff_kernel = {}; Pjump_kernel = {}; Exx2_kernel = {}; Rho_kernel={}; Sample_kernel={}; Quantile_kernel={}\n",
    "    for kernel in kernelset:\n",
    "        Eff = []; Pjump = []; Exx2=[]; Rho=[]; Sample=[]; Quantile=[]\n",
    "        if 'Uniform' in kernel:\n",
    "            random_result = np.random.uniform(low=-np.sqrt(3), high=np.sqrt(3), size=size)\n",
    "        elif 'Bactrian' in kernel:\n",
    "            random_result = random_bactrian(size = size)\n",
    "        elif 'StrawHat' in kernel:\n",
    "            random_result = random_strawhat(size=size)\n",
    "        sigmaset = sigmaset_baseline if 'Trans' in kernel else (np.append(sigmaset_baseline,[10,15,20,27]))*std\n",
    "        for sigma in sigmaset:\n",
    "            begin_loop = time.time()\n",
    "            exx2 = 0; accept = 0; burn_in_result = []\n",
    "            x = np.random.uniform(low=mu,high=mu+1)\n",
    "            result = np.zeros(nround)\n",
    "            logpdf_old = logtargetpdf(x,target,mu=mu,sigma=std) - log_proposal_ratio(x,transform,True,kernel,mu=mu,sigma=std)\n",
    "            mu_hat, sigma_hat = mu,std\n",
    "            burnin_off=False\n",
    "            for j in range(-burnin,nround):\n",
    "                if (j==0):\n",
    "                    accept = 0; burnin_off = True\n",
    "                    mu_hat, sigma_hat = np.mean(burn_in_result), np.std(burn_in_result)\n",
    "                y = x if (not(('Trans' in kernel)&burnin_off)) else transform_x(x,transform,mu=mu_hat,sigma=sigma_hat)\n",
    "                ynew = y + random_result[j+burnin] * sigma\n",
    "                if ((('Trans' in kernel)&burnin_off) & (not (0 <= ynew <= 1))):\n",
    "                    ynew = reflect(ynew, xL=0, xU=1)\n",
    "                xnew = ynew if (not(('Trans' in kernel)&burnin_off)) else transform_inverse(ynew,transform,mu=mu_hat,sigma=sigma_hat)\n",
    "                logpdf_new = logtargetpdf(xnew,target,mu=mu,sigma=std) - log_proposal_ratio(xnew,transform,burnin_off,kernel,mu=mu_hat,sigma=sigma_hat)\n",
    "                pi_dif = logpdf_new - logpdf_old\n",
    "                if ((pi_dif>0) | (np.exp(pi_dif)>np.random.random())):\n",
    "                    x = xnew\n",
    "                    logpdf_old = logpdf_new\n",
    "                    accept += 1\n",
    "                \n",
    "                if (j<0):\n",
    "                    burn_in_result.append(x)\n",
    "                else:\n",
    "                    result[j] = x\n",
    "                    \n",
    "            eff = Eff_IntegratedCorrelationTime(result)\n",
    "            rho = [rho_k(result,i) for i in range(1,11)]\n",
    "            exx2 = sum(np.square(result[1:] - result[:-1]))\n",
    "            quantile = [Eff_quantile(result,i) for i in [0.05,0.25,0.5,0.75,0.95]]\n",
    "            Eff.append(eff)\n",
    "            Pjump.append(accept/nround)\n",
    "            Exx2.append(exx2/nround)\n",
    "            Rho.append(rho)\n",
    "            Sample.append(result.copy())\n",
    "            Quantile.append(quantile)\n",
    "            display(Latex('Target:{} | Kernel:{} | $\\sigma$:{} | eff:{} | $P_{{jump}}$:{} | Exx2:{} | $\\\\rho_1$:{} | $\\\\rho_2$:{} | $E_{{0.05}}$:{} | $E_{{0.25}}$:{} | $E_{{0.50}}$:{} | Time:{}'.format(\n",
    "                    target,kernel,sigma,round(eff,4),round(accept/nround,4),round(exx2/nround,4),round(rho[0],4),round(rho[1],4),\n",
    "                    round(quantile[0],4),round(quantile[1],4),round(quantile[2],4),round((time.time()-begin_loop),2))))\n",
    "        eff_kernel[kernel] = Eff\n",
    "        Pjump_kernel[kernel] = Pjump\n",
    "        Exx2_kernel[kernel] = Exx2\n",
    "        Rho_kernel[kernel] = Rho\n",
    "        Sample_kernel[kernel] = Sample\n",
    "        Quantile_kernel[kernel] = Quantile\n",
    "    target_result[target] = [eff_kernel,Pjump_kernel,Exx2_kernel,Rho_kernel,Sample_kernel,Quantile_kernel]\n",
    "print('总共用时: %f'% (time.time()-begin_total))"
   ]
  },
  {
   "cell_type": "code",
   "execution_count": 101,
   "metadata": {},
   "outputs": [],
   "source": [
    "sigmaset_baseline = np.array([0.1, 0.3, 0.5, 0.7, 0.8, 0.9, 1, 1.1, 1.3, 1.5, 1.7,\n",
    "                    1.8, 1.9, 2, 2.1, 2.2, 2.3, 2.4, 2.5, 2.6, 2.8,\n",
    "                    3.0, 3.2, 3.5, 4, 4.5, 5, 6, 7, 8])\n",
    "sigmaset_trans = sigmaset_baseline*np.sqrt(12)\n",
    "append = np.array([10,15,20,27])\n",
    "sigmaset_uniform = np.append(sigmaset_baseline,append)\n",
    "sigmaset = np.array([sigmaset_uniform,sigmaset_trans,sigmaset_trans,sigmaset_trans])"
   ]
  },
  {
   "cell_type": "markdown",
   "metadata": {},
   "source": [
    "### Optimize the Efficiency of 5% quantile"
   ]
  },
  {
   "cell_type": "code",
   "execution_count": 102,
   "metadata": {},
   "outputs": [
    {
     "name": "stdout",
     "output_type": "stream",
     "text": [
      "Kernel                    Sigma    Eff      Pjump    Exx2     rho1     rho2     E_5%     E_25%    E_50%   \n",
      "                                       N01_T2\n",
      "Uniform                   2.2      0.274    0.407    0.88     0.561    0.318    0.299    0.252    0.239   \n",
      "TransUniform              3.464    0.904    0.826    1.902    0.051    0.003    0.823    0.794    0.833   \n",
      "TransBactrian             1.732    0.776    0.806    1.766    0.116    0.02     1.014    0.84     0.642   \n",
      "TransStrawHat             1.732    0.843    0.802    1.853    0.073    0.015    1.003    0.967    0.586   \n",
      "                                       N01_Logistic\n",
      "Uniform                   2.0      0.276    0.441    0.878    0.561    0.319    0.296    0.277    0.261   \n",
      "TransUniform              3.464    0.777    0.683    1.774    0.112    0.019    0.735    0.604    0.575   \n",
      "TransBactrian             1.732    0.644    0.584    1.634    0.184    0.055    0.951    0.529    0.356   \n",
      "TransStrawHat             1.732    0.637    0.581    1.689    0.154    0.063    0.997    0.503    0.304   \n"
     ]
    }
   ],
   "source": [
    "name = ['Kernel' ,'Sigma', 'Eff', 'Pjump', 'Exx2', 'rho1', 'rho2', 'E_5%', 'E_25%', 'E_50%']\n",
    "print('{:<25} {:<8} {:<8} {:<8} {:<8} {:<8} {:<8} {:<8} {:<8} {:<8}'.format(*name))\n",
    "\n",
    "for target in targetset:\n",
    "    kernel_info = {}\n",
    "    print('                                      ',target)\n",
    "    for kernel in kernelset:\n",
    "        index = [np.argmax([target_result[target][5][j][i][0] for i in range(30)]) for j in kernelset]\n",
    "        index_need = index[np.where(np.array(kernelset)==kernel)[0][0]]\n",
    "        info = [target_result[target][i][kernel][index_need] for i in range(len(target_result[target]))]\n",
    "        rho1 = info[3][0]; rho2 = info[3][1]\n",
    "        E05 = info[5][0]; E25 = info[5][1]; E50 = info[5][2]\n",
    "        kernel_index = 0 if kernel == 'Uniform' else 1\n",
    "        kernel_info[kernel] = np.round(np.concatenate([[sigmaset[kernel_index][index_need]],info[0:3],[rho1,rho2],[E05,E25,E50]]),3)\n",
    "        kernel_info[kernel] = kernel_info[kernel].tolist()\n",
    "        kernel_info[kernel].insert(0,kernel)\n",
    "        print('{:<25} {:<8} {:<8} {:<8} {:<8} {:<8} {:<8} {:<8} {:<8} {:<8}'.format(*kernel_info[kernel]))"
   ]
  },
  {
   "cell_type": "markdown",
   "metadata": {},
   "source": [
    "### Optimize the Efficiency of 25% quantile"
   ]
  },
  {
   "cell_type": "code",
   "execution_count": 103,
   "metadata": {},
   "outputs": [
    {
     "name": "stdout",
     "output_type": "stream",
     "text": [
      "Kernel                    Sigma    Eff      Pjump    Exx2     rho1     rho2     E_5%     E_25%    E_50%   \n",
      "                                       N01_T2\n",
      "Uniform                   1.7      0.253    0.499    0.834    0.582    0.346    0.28     0.295    0.288   \n",
      "TransUniform              3.118    0.969    0.827    1.969    0.018    -0.001   0.786    0.83     0.839   \n",
      "TransBactrian             2.425    1.273    0.819    2.257    -0.127   0.016    0.882    0.981    0.931   \n",
      "TransStrawHat             3.811    1.671    0.832    2.507    -0.256   0.068    0.781    0.99     1.224   \n",
      "                                       N01_Logistic\n",
      "Uniform                   1.7      0.25     0.499    0.835    0.584    0.349    0.279    0.292    0.286   \n",
      "TransUniform              2.771    0.819    0.716    1.821    0.09     0.015    0.672    0.626    0.626   \n",
      "TransBactrian             3.464    1.316    0.723    2.281    -0.143   0.025    0.67     0.722    0.85    \n",
      "TransStrawHat             3.464    1.475    0.748    2.388    -0.198   0.044    0.634    0.762    0.953   \n"
     ]
    }
   ],
   "source": [
    "name = ['Kernel' ,'Sigma', 'Eff', 'Pjump', 'Exx2', 'rho1', 'rho2', 'E_5%', 'E_25%', 'E_50%']\n",
    "print('{:<25} {:<8} {:<8} {:<8} {:<8} {:<8} {:<8} {:<8} {:<8} {:<8}'.format(*name))\n",
    "\n",
    "for target in targetset:\n",
    "    kernel_info = {}\n",
    "    print('                                      ',target)\n",
    "    for kernel in kernelset:\n",
    "        index = [np.argmax([target_result[target][5][j][i][1] for i in range(30)]) for j in kernelset]\n",
    "        index_need = index[np.where(np.array(kernelset)==kernel)[0][0]]\n",
    "        info = [target_result[target][i][kernel][index_need] for i in range(len(target_result[target]))]\n",
    "        rho1 = info[3][0]; rho2 = info[3][1]\n",
    "        E05 = info[5][0]; E25 = info[5][1]; E50 = info[5][2]\n",
    "        kernel_index = 0 if kernel == 'Uniform' else 1\n",
    "        kernel_info[kernel] = np.round(np.concatenate([[sigmaset[kernel_index][index_need]],info[0:3],[rho1,rho2],[E05,E25,E50]]),3)\n",
    "        kernel_info[kernel] = kernel_info[kernel].tolist()\n",
    "        kernel_info[kernel].insert(0,kernel)\n",
    "        print('{:<25} {:<8} {:<8} {:<8} {:<8} {:<8} {:<8} {:<8} {:<8} {:<8}'.format(*kernel_info[kernel]))"
   ]
  },
  {
   "cell_type": "markdown",
   "metadata": {},
   "source": [
    "### Optimize the Efficiency of 50% quantile"
   ]
  },
  {
   "cell_type": "code",
   "execution_count": 104,
   "metadata": {},
   "outputs": [
    {
     "name": "stdout",
     "output_type": "stream",
     "text": [
      "Kernel                    Sigma    Eff      Pjump    Exx2     rho1     rho2     E_5%     E_25%    E_50%   \n",
      "                                       N01_T2\n",
      "Uniform                   1.5      0.229    0.544    0.777    0.611    0.382    0.266    0.291    0.295   \n",
      "TransUniform              2.425    0.883    0.838    1.873    0.062    0.005    0.718    0.744    0.907   \n",
      "TransBactrian             3.118    1.609    0.838    2.472    -0.237   0.062    0.769    0.933    1.38    \n",
      "TransStrawHat             3.118    1.677    0.849    2.537    -0.272   0.095    0.666    0.833    1.736   \n",
      "                                       N01_Logistic\n",
      "Uniform                   1.5      0.225    0.543    0.773    0.613    0.385    0.263    0.286    0.293   \n",
      "TransUniform              2.425    0.797    0.722    1.778    0.11     0.015    0.627    0.595    0.677   \n",
      "TransBactrian             3.464    1.316    0.723    2.281    -0.143   0.025    0.67     0.722    0.85    \n",
      "TransStrawHat             3.118    1.531    0.766    2.435    -0.217   0.048    0.59     0.718    1.151   \n"
     ]
    }
   ],
   "source": [
    "name = ['Kernel' ,'Sigma', 'Eff', 'Pjump', 'Exx2', 'rho1', 'rho2', 'E_5%', 'E_25%', 'E_50%']\n",
    "print('{:<25} {:<8} {:<8} {:<8} {:<8} {:<8} {:<8} {:<8} {:<8} {:<8}'.format(*name))\n",
    "\n",
    "for target in targetset:\n",
    "    kernel_info = {}\n",
    "    print('                                      ',target)\n",
    "    for kernel in kernelset:\n",
    "        index = [np.argmax([target_result[target][5][j][i][2] for i in range(30)]) for j in kernelset]\n",
    "        index_need = index[np.where(np.array(kernelset)==kernel)[0][0]]\n",
    "        info = [target_result[target][i][kernel][index_need] for i in range(len(target_result[target]))]\n",
    "        rho1 = info[3][0]; rho2 = info[3][1]\n",
    "        E05 = info[5][0]; E25 = info[5][1]; E50 = info[5][2]\n",
    "        kernel_index = 0 if kernel == 'Uniform' else 1\n",
    "        kernel_info[kernel] = np.round(np.concatenate([[sigmaset[kernel_index][index_need]],info[0:3],[rho1,rho2],[E05,E25,E50]]),3)\n",
    "        kernel_info[kernel] = kernel_info[kernel].tolist()\n",
    "        kernel_info[kernel].insert(0,kernel)\n",
    "        print('{:<25} {:<8} {:<8} {:<8} {:<8} {:<8} {:<8} {:<8} {:<8} {:<8}'.format(*kernel_info[kernel]))"
   ]
  },
  {
   "cell_type": "markdown",
   "metadata": {},
   "source": [
    "### Optimize the Efficiency of mean value"
   ]
  },
  {
   "cell_type": "code",
   "execution_count": 105,
   "metadata": {},
   "outputs": [
    {
     "name": "stdout",
     "output_type": "stream",
     "text": [
      "Kernel                    Sigma    Eff      Pjump    Exx2     rho1     rho2     E_5%     E_25%    E_50%   \n",
      "                                       N01_T2\n",
      "Uniform                   2.1      0.277    0.423    0.878    0.558    0.316    0.298    0.266    0.251   \n",
      "TransUniform              3.118    0.969    0.827    1.969    0.018    -0.001   0.786    0.83     0.839   \n",
      "TransBactrian             3.118    1.609    0.838    2.472    -0.237   0.062    0.769    0.933    1.38    \n",
      "TransStrawHat             3.464    1.749    0.84     2.565    -0.282   0.092    0.724    0.868    1.522   \n",
      "                                       N01_Logistic\n",
      "Uniform                   2.1      0.278    0.423    0.879    0.559    0.315    0.289    0.263    0.253   \n",
      "TransUniform              3.118    0.825    0.695    1.828    0.084    0.017    0.705    0.617    0.57    \n",
      "TransBactrian             3.464    1.316    0.723    2.281    -0.143   0.025    0.67     0.722    0.85    \n",
      "TransStrawHat             3.118    1.531    0.766    2.435    -0.217   0.048    0.59     0.718    1.151   \n"
     ]
    }
   ],
   "source": [
    "name = ['Kernel' ,'Sigma', 'Eff', 'Pjump', 'Exx2', 'rho1', 'rho2', 'E_5%', 'E_25%', 'E_50%']\n",
    "print('{:<25} {:<8} {:<8} {:<8} {:<8} {:<8} {:<8} {:<8} {:<8} {:<8}'.format(*name))\n",
    "\n",
    "for target in targetset:\n",
    "    kernel_info = {}\n",
    "    print('                                      ',target)\n",
    "    for kernel in kernelset:\n",
    "        index = [np.argmax(target_result[target][0][i]) for i in kernelset]\n",
    "        index_need = index[np.where(np.array(kernelset)==kernel)[0][0]]\n",
    "        info = [target_result[target][i][kernel][index_need] for i in range(len(target_result[target]))]\n",
    "        rho1 = info[3][0]; rho2 = info[3][1]\n",
    "        E05 = info[5][0]; E25 = info[5][1]; E50 = info[5][2]\n",
    "        kernel_index = 0 if kernel == 'Uniform' else 1\n",
    "        kernel_info[kernel] = np.round(np.concatenate([[sigmaset[kernel_index][index_need]],info[0:3],[rho1,rho2],[E05,E25,E50]]),3)\n",
    "        kernel_info[kernel] = kernel_info[kernel].tolist()\n",
    "        kernel_info[kernel].insert(0,kernel)\n",
    "        print('{:<25} {:<8} {:<8} {:<8} {:<8} {:<8} {:<8} {:<8} {:<8} {:<8}'.format(*kernel_info[kernel]))"
   ]
  },
  {
   "cell_type": "code",
   "execution_count": 80,
   "metadata": {},
   "outputs": [
    {
     "data": {
      "image/png": "[encoded data removed]",
      "text/plain": [
       "<Figure size 432x288 with 1 Axes>"
      ]
     },
     "metadata": {
      "needs_background": "light"
     },
     "output_type": "display_data"
    }
   ],
   "source": [
    "marker = ['+','o','H','D','*','4','>','p','P']\n",
    "color = ['red','Blue','c','Orange','m','Black','green','Brown']\n",
    "[plt.plot(sigmaset[i],target_result['N01_T2'][0][kernelset[i]],marker=marker[i],color=color[i],label=kernelset[i]) for i in range(4)]\n",
    "plt.legend()\n",
    "plt.xlabel('$\\sigma$', fontsize=10)\n",
    "plt.ylabel('Efficiency', fontsize=10)\n",
    "plt.savefig('Eff_for_N01_T2.eps', format='eps', dpi=1000)\n",
    "plt.show()"
   ]
  },
  {
   "cell_type": "code",
   "execution_count": 81,
   "metadata": {
    "scrolled": true
   },
   "outputs": [
    {
     "data": {
      "image/png": "[encoded data removed]",
      "text/plain": [
       "<Figure size 432x288 with 1 Axes>"
      ]
     },
     "metadata": {
      "needs_background": "light"
     },
     "output_type": "display_data"
    }
   ],
   "source": [
    "marker = ['+','o','H','D','*','4','>','p','P']\n",
    "color = ['red','Blue','c','Orange','m','Black','green','Brown']\n",
    "[plt.plot(sigmaset[i],target_result['N01_Logistic'][0][kernelset[i]],marker=marker[i],color=color[i],label=kernelset[i]) for i in range(4)]\n",
    "plt.legend()\n",
    "plt.xlabel('$\\sigma$', fontsize=10)\n",
    "plt.ylabel('Efficiency', fontsize=10)\n",
    "plt.savefig('Eff_of_N01_logistic.eps', format='eps', dpi=1000)\n",
    "plt.show()"
   ]
  },
  {
   "cell_type": "code",
   "execution_count": 82,
   "metadata": {},
   "outputs": [
    {
     "data": {
      "image/png": "[encoded data removed]",
      "text/plain": [
       "<Figure size 432x288 with 1 Axes>"
      ]
     },
     "metadata": {
      "needs_background": "light"
     },
     "output_type": "display_data"
    }
   ],
   "source": [
    "index = [np.argmax(target_result['N01_T2'][0][i]) for i in kernelset]\n",
    "marker = ['+','o','H','D','*','4','>','p','P']\n",
    "color = ['red','Blue','c','Orange','m','Black','green','Brown']\n",
    "for j in range(4):\n",
    "    rho50 = [rho_k(target_result['N01_Logistic'][4][kernelset[j]][index[j]],i) for i in range(1,21)]\n",
    "    plt.plot(range(1,21),rho50,marker=marker[j],color=color[j],label=kernelset[j])\n",
    "# plt.ylim(-0.2,0.2)\n",
    "plt.legend()\n",
    "plt.xticks(range(1, 21))\n",
    "plt.xlabel('Lag k', fontsize=10)\n",
    "plt.ylabel('Autocorrelation', fontsize=10)\n",
    "plt.savefig('rho_of_N01_logistic.eps', format='eps', dpi=1000)\n",
    "plt.show()"
   ]
  },
  {
   "cell_type": "code",
   "execution_count": 83,
   "metadata": {},
   "outputs": [
    {
     "data": {
      "image/png": "[encoded data removed]",
      "text/plain": [
       "<Figure size 432x288 with 1 Axes>"
      ]
     },
     "metadata": {
      "needs_background": "light"
     },
     "output_type": "display_data"
    }
   ],
   "source": [
    "index = [np.argmax(target_result['N01_T2'][0][i]) for i in kernelset]\n",
    "marker = ['+','o','H','D','*','4','>','p','P']\n",
    "color = ['red','Blue','c','Orange','m','Black','green','Brown']\n",
    "for j in range(4):\n",
    "    rho50 = [rho_k(target_result['N01_T2'][4][kernelset[j]][index[j]],i) for i in range(1,21)]\n",
    "    plt.plot(range(1,21),rho50,marker=marker[j],color=color[j],label=kernelset[j])\n",
    "# plt.ylim(-0.2,0.2)\n",
    "plt.legend()\n",
    "plt.xticks(range(1, 21))\n",
    "plt.xlabel('Lag k', fontsize=10)\n",
    "plt.ylabel('Autocorrelation', fontsize=10)\n",
    "plt.savefig('rho_of_N01_T2.eps', format='eps', dpi=1000)\n",
    "plt.show()"
   ]
  },
  {
   "cell_type": "code",
   "execution_count": 84,
   "metadata": {
    "scrolled": true
   },
   "outputs": [
    {
     "data": {
      "image/png": "[encoded data removed]",
      "text/plain": [
       "<Figure size 432x288 with 1 Axes>"
      ]
     },
     "metadata": {
      "needs_background": "light"
     },
     "output_type": "display_data"
    }
   ],
   "source": [
    "plt.plot(target_result['N01_T2'][4]['Uniform'][16])\n",
    "# plt.xlim(700000,705000)\n",
    "plt.xlim(750000,1000000)\n",
    "plt.savefig('MCMC_uniform.eps', format='eps', dpi=1000)\n",
    "plt.show()"
   ]
  },
  {
   "cell_type": "code",
   "execution_count": 85,
   "metadata": {},
   "outputs": [
    {
     "data": {
      "image/png": "[encoded data removed]",
      "text/plain": [
       "<Figure size 432x288 with 1 Axes>"
      ]
     },
     "metadata": {
      "needs_background": "light"
     },
     "output_type": "display_data"
    }
   ],
   "source": [
    "plt.plot(target_result['N01_T2'][4]['TransUniform'][5])\n",
    "# plt.xlim(700000,705000)\n",
    "plt.savefig('MCMC_TransUniform.eps', format='eps', dpi=1000)\n",
    "plt.xlim(750000,1000000)\n",
    "plt.show()"
   ]
  },
  {
   "cell_type": "code",
   "execution_count": 86,
   "metadata": {},
   "outputs": [
    {
     "data": {
      "image/png": "[encoded data removed]",
      "text/plain": [
       "<Figure size 432x288 with 1 Axes>"
      ]
     },
     "metadata": {
      "needs_background": "light"
     },
     "output_type": "display_data"
    }
   ],
   "source": [
    "indexofquantile = 0\n",
    "kernel = 'N01_T2'\n",
    "marker = ['+','o','H','D','*','4','>','p','P']\n",
    "color = ['red','Blue','c','Orange','m','Black','green','Brown']\n",
    "for j in range(4):\n",
    "    rg = 34 if j ==0 else 30\n",
    "    result = [target_result[kernel][5][kernelset[j]][i][indexofquantile] for i in range(rg)]\n",
    "    plt.plot(sigmaset[j],result,marker=marker[j],color=color[j],label=kernelset[j])\n",
    "plt.legend()\n",
    "plt.savefig('5quantile.eps', format='eps', dpi=1000)\n",
    "plt.show()"
   ]
  },
  {
   "cell_type": "code",
   "execution_count": 87,
   "metadata": {},
   "outputs": [
    {
     "data": {
      "image/png": "[encoded data removed]",
      "text/plain": [
       "<Figure size 432x288 with 1 Axes>"
      ]
     },
     "metadata": {
      "needs_background": "light"
     },
     "output_type": "display_data"
    }
   ],
   "source": [
    "indexofquantile = 1\n",
    "kernel = 'N01_T2'\n",
    "marker = ['+','o','H','D','*','4','>','p','P']\n",
    "color = ['red','Blue','c','Orange','m','Black','green','Brown']\n",
    "for j in range(4):\n",
    "    rg = 34 if j ==0 else 30\n",
    "    result = [target_result[kernel][5][kernelset[j]][i][indexofquantile] for i in range(rg)]\n",
    "    plt.plot(sigmaset[j],result,marker=marker[j],color=color[j],label=kernelset[j])\n",
    "plt.legend()\n",
    "plt.savefig('25quantile.eps', format='eps', dpi=1000)\n",
    "plt.show()"
   ]
  },
  {
   "cell_type": "code",
   "execution_count": 88,
   "metadata": {},
   "outputs": [
    {
     "data": {
      "image/png": "[encoded data removed]",
      "text/plain": [
       "<Figure size 432x288 with 1 Axes>"
      ]
     },
     "metadata": {
      "needs_background": "light"
     },
     "output_type": "display_data"
    }
   ],
   "source": [
    "indexofquantile = 2\n",
    "kernel = 'N01_T2'\n",
    "marker = ['+','o','H','D','*','4','>','p','P']\n",
    "color = ['red','Blue','c','Orange','m','Black','green','Brown']\n",
    "for j in range(4):\n",
    "    rg = 34 if j ==0 else 30\n",
    "    result = [target_result[kernel][5][kernelset[j]][i][indexofquantile] for i in range(rg)]\n",
    "    plt.plot(sigmaset[j],result,marker=marker[j],color=color[j],label=kernelset[j])\n",
    "plt.legend()\n",
    "plt.savefig('50quantile.eps', format='eps', dpi=1000)\n",
    "plt.show()"
   ]
  },
  {
   "cell_type": "code",
   "execution_count": 16,
   "metadata": {},
   "outputs": [],
   "source": [
    "np.save('transform_standard_target_with_Burnin_append_uniform.npy',target_result)"
   ]
  }
 ],
 "metadata": {
  "kernelspec": {
   "display_name": "Python 3",
   "language": "python",
   "name": "python3"
  },
  "language_info": {
   "codemirror_mode": {
    "name": "ipython",
    "version": 3
   },
   "file_extension": ".py",
   "mimetype": "text/x-python",
   "name": "python",
   "nbconvert_exporter": "python",
   "pygments_lexer": "ipython3",
   "version": "3.7.3"
  }
 },
 "nbformat": 4,
 "nbformat_minor": 2
}
