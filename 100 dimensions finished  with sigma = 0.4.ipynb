{
 "cells": [
  {
   "cell_type": "code",
   "execution_count": 1,
   "metadata": {},
   "outputs": [],
   "source": [
    "from tools import *\n",
    "import matplotlib.pyplot as plt\n",
    "import numpy as np\n",
    "import scipy.stats\n",
    "from scipy.stats import multivariate_normal\n",
    "import pandas as pd\n",
    "import seaborn as sns\n",
    "from scipy.linalg import fractional_matrix_power\n",
    "from scipy.stats import wishart\n",
    "import sys\n",
    "import time\n",
    "\n",
    "def logpdfTarget (x):\n",
    "#     lnp = multivariate_normal.logpdf(x, mean=np.zeros(len(x)), cov=cov);\n",
    "#     lnp = multivariate_normal.logpdf(x, mean=np.zeros(len(x)), cov=np.eye(len(x)));\n",
    "    lnp = -(1/2) * (x.T).dot(x)\n",
    "    return(lnp)"
   ]
  },
  {
   "cell_type": "code",
   "execution_count": 3,
   "metadata": {},
   "outputs": [
    {
     "data": {
      "text/plain": [
       "1494.5"
      ]
     },
     "execution_count": 3,
     "metadata": {},
     "output_type": "execute_result"
    }
   ],
   "source": [
    "d = 100\n",
    "Sigma_minus1 = wishart.rvs(df=d,scale=np.eye(d))\n",
    "cov = np.linalg.inv(Sigma_minus1)\n",
    "# cov = np.array([1,0.9,0.9,1]).reshape(2,2)\n",
    "Sigma_neg = fractional_matrix_power(cov,-0.5)\n",
    "Sigma_pos = fractional_matrix_power(cov,0.5)\n",
    "# print(cov)\n",
    "sum(sum(cov>0.99))/2"
   ]
  },
  {
   "cell_type": "code",
   "execution_count": 4,
   "metadata": {},
   "outputs": [
    {
     "name": "stdout",
     "output_type": "stream",
     "text": [
      "进度中 0.0 / 20.0  用时:  6.8213770389556885\n",
      "进度中 1.0 / 20.0  用时:  22.586766004562378\n",
      "进度中 2.0 / 20.0  用时:  38.32308077812195\n",
      "进度中 3.0 / 20.0  用时:  54.08154082298279\n",
      "进度中 4.0 / 20.0  用时:  70.98573207855225\n",
      "进度中 5.0 / 20.0  用时:  88.21825790405273\n",
      "进度中 6.0 / 20.0  用时:  104.05316877365112\n",
      "进度中 7.0 / 20.0  用时:  119.8367748260498\n",
      "进度中 8.0 / 20.0  用时:  135.94103503227234\n",
      "进度中 9.0 / 20.0  用时:  151.82762789726257\n",
      "进度中 10.0 / 20.0  用时:  167.89234566688538\n",
      "进度中 11.0 / 20.0  用时:  183.6867048740387\n",
      "进度中 12.0 / 20.0  用时:  199.44661498069763\n",
      "进度中 13.0 / 20.0  用时:  215.20353293418884\n",
      "进度中 14.0 / 20.0  用时:  230.9012689590454\n",
      "进度中 15.0 / 20.0  用时:  246.68698287010193\n",
      "进度中 16.0 / 20.0  用时:  262.4232029914856\n",
      "进度中 17.0 / 20.0  用时:  278.23330783843994\n",
      "进度中 18.0 / 20.0  用时:  293.9580841064453\n",
      "进度中 19.0 / 20.0  用时:  309.69118189811707\n",
      "sigma:  [ 4.21782627  1.51408905  2.51654133  6.7711047   7.4004617   1.22788115\n",
      "  4.13545404  2.31440682  3.33973013  5.46037644  0.40270045 12.68605557\n",
      "  2.29298075  1.9242765   3.55521436 14.60645223  2.02808847  1.67634369\n",
      "  0.56534477  1.48697354  1.32928914  2.81119589  2.7855315   0.78497127\n",
      "  4.45180495  9.55145624  3.07862651 18.57361387  5.04268233  2.3020231\n",
      " 12.23493117  0.9932222   0.29286878  7.73100362  1.02405402  5.38861821\n",
      "  3.11044423  0.36106293  1.68116786  1.05385235  4.49569215  0.70066711\n",
      "  0.85045891  1.68513574  8.64156289  3.08293546  3.79076956  0.36434404\n",
      "  7.38380058  3.08142646 10.5254975   0.64253958  0.901211    3.27525077\n",
      "  2.96581966  0.79654068  1.46655774  0.81121409  2.61123343  4.44775856\n",
      "  1.57527719  4.90697292  5.60204349  0.24749292  5.35840283  2.6630517\n",
      "  0.56363521  2.72967568  3.78899659  2.33909152  1.47340526  1.62181101\n",
      "  1.27683301  1.56029798  0.55303544 13.12067869  1.37519174  4.71076388\n",
      "  1.07753157  0.38934993  3.35491157  7.59420537  2.91469948  4.10452605\n",
      "  3.28227645  3.68352199  1.96740009  2.46597188  1.67867547  1.60165355\n",
      "  0.69122155  6.39566977  0.76234555  2.29025577  1.356136    0.21157738\n",
      "  5.64866314  4.4943161   2.44460272  1.52770568] eff:  3.0891432290520826 Pjump 0.862574\n",
      "协方差矩阵: \n",
      " [[ 4.20459585 -1.3507445  -3.03710965 ...  4.04294516  3.0024671\n",
      "   1.62267801]\n",
      " [-1.3507445   1.51540788  1.07068746 ... -1.27925579 -0.72480232\n",
      "  -0.08261287]\n",
      " [-3.03710965  1.07068746  2.50213331 ... -2.81448189 -2.22658153\n",
      "  -0.80838824]\n",
      " ...\n",
      " [ 4.04294516 -1.27925579 -2.81448189 ...  4.49079755  2.90009357\n",
      "   1.92355656]\n",
      " [ 3.0024671  -0.72480232 -2.22658153 ...  2.90009357  2.43639769\n",
      "   1.22218286]\n",
      " [ 1.62267801 -0.08261287 -0.80838824 ...  1.92355656  1.22218286\n",
      "   1.52871612]]\n",
      "总共用时: 327.365534\n"
     ]
    }
   ],
   "source": [
    "nround = int(5*10e4)\n",
    "burnin = int(10e3)\n",
    "x = np.random.random(d) - 0.5\n",
    "y = np.zeros(nround*d).reshape(nround,d)\n",
    "accept = np.zeros(d)\n",
    "sigma = np.diag(cov)\n",
    "mu_star = 0\n",
    "kernel = 'MirrorU'\n",
    "time_begin = time.time()\n",
    "random_result = (np.random.random(size = len(range(-burnin,nround))*d)-0.5) * np.sqrt(12)\n",
    "\n",
    "for j in range(-burnin,nround):\n",
    "    if (j==0):\n",
    "        count = 0; accept = np.zeros(d);\n",
    "    if (j % 25000 == 0):\n",
    "        print ('进度中',j/25000,'/',nround/25000,' 用时: ', time.time()-time_begin)\n",
    "    for i in range(d):\n",
    "        initial = x.copy()\n",
    "        pi_old = logpdfTarget(initial)\n",
    "        if (kernel == 'Uniform'):\n",
    "            initial[i] += (np.random.random()-0.5) * np.sqrt(12) * sigma    #Uniform \n",
    "        elif (kernel == 'Gaussian'):\n",
    "            initial[i] += np.random.normal() * sigma                        #Gaussian\n",
    "        elif (kernel == 'MirrorU'):\n",
    "            NewCenter = 2 * mu_star - initial[i]\n",
    "#             initial[i] = NewCenter + (np.random.random()-0.5) * np.sqrt(12) * sigma   #Mirror Uniform\n",
    "            initial[i] = NewCenter + random_result[(j+burnin)*d+i] * 0.4   #Mirror Uniform\n",
    "        else:\n",
    "            sys.exit('No such kernel exists')\n",
    "        pi_new = logpdfTarget(initial)\n",
    "        pi_dif = pi_new - pi_old\n",
    "        if ((pi_dif>0) | (np.exp(pi_dif)>np.random.random())):\n",
    "            x = initial\n",
    "            accept[i] += 1\n",
    "    if (j>=0):\n",
    "        y[j,:] = np.dot(Sigma_pos, x)\n",
    "\n",
    "eff = Eff_IntegratedCorrelationTime(y[:,0])\n",
    "print('sigma: ',sigma,'eff: ',eff, 'Pjump', accept[0]/nround)\n",
    "# print(np.cov(y[:,0],y[:,1]))\n",
    "print('协方差矩阵: \\n',np.cov(np.vstack([y[:,i] for i in range(d)])))\n",
    "print('总共用时: %f'% (time.time()-time_begin))"
   ]
  }
 ],
 "metadata": {
  "kernelspec": {
   "display_name": "Python 3",
   "language": "python",
   "name": "python3"
  },
  "language_info": {
   "codemirror_mode": {
    "name": "ipython",
    "version": 3
   },
   "file_extension": ".py",
   "mimetype": "text/x-python",
   "name": "python",
   "nbconvert_exporter": "python",
   "pygments_lexer": "ipython3",
   "version": "3.6.8"
  }
 },
 "nbformat": 4,
 "nbformat_minor": 2
}
